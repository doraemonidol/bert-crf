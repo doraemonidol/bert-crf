{
  "cells": [
    {
      "cell_type": "markdown",
      "metadata": {
        "id": "view-in-github",
        "colab_type": "text"
      },
      "source": [
        "<a href=\"https://colab.research.google.com/github/doraemonidol/bert-crf/blob/master/ner_experiments.ipynb\" target=\"_parent\"><img src=\"https://colab.research.google.com/assets/colab-badge.svg\" alt=\"Open In Colab\"/></a>"
      ]
    },
    {
      "cell_type": "code",
      "source": [
        "from google.colab import drive\n",
        "drive.mount('/content/gdrive/')"
      ],
      "metadata": {
        "id": "WMMrNdKzWMkn",
        "outputId": "695eb381-4030-4e56-eb5d-1ea369b380af",
        "colab": {
          "base_uri": "https://localhost:8080/",
          "height": 342
        }
      },
      "execution_count": 10,
      "outputs": [
        {
          "output_type": "error",
          "ename": "ValueError",
          "evalue": "mount failed",
          "traceback": [
            "\u001b[0;31m---------------------------------------------------------------------------\u001b[0m",
            "\u001b[0;31mValueError\u001b[0m                                Traceback (most recent call last)",
            "\u001b[0;32m<ipython-input-10-9a9a89271754>\u001b[0m in \u001b[0;36m<cell line: 2>\u001b[0;34m()\u001b[0m\n\u001b[1;32m      1\u001b[0m \u001b[0;32mfrom\u001b[0m \u001b[0mgoogle\u001b[0m\u001b[0;34m.\u001b[0m\u001b[0mcolab\u001b[0m \u001b[0;32mimport\u001b[0m \u001b[0mdrive\u001b[0m\u001b[0;34m\u001b[0m\u001b[0;34m\u001b[0m\u001b[0m\n\u001b[0;32m----> 2\u001b[0;31m \u001b[0mdrive\u001b[0m\u001b[0;34m.\u001b[0m\u001b[0mmount\u001b[0m\u001b[0;34m(\u001b[0m\u001b[0;34m'/content/gdrive/'\u001b[0m\u001b[0;34m)\u001b[0m\u001b[0;34m\u001b[0m\u001b[0;34m\u001b[0m\u001b[0m\n\u001b[0m",
            "\u001b[0;32m/usr/local/lib/python3.10/dist-packages/google/colab/drive.py\u001b[0m in \u001b[0;36mmount\u001b[0;34m(mountpoint, force_remount, timeout_ms, readonly)\u001b[0m\n\u001b[1;32m     98\u001b[0m \u001b[0;32mdef\u001b[0m \u001b[0mmount\u001b[0m\u001b[0;34m(\u001b[0m\u001b[0mmountpoint\u001b[0m\u001b[0;34m,\u001b[0m \u001b[0mforce_remount\u001b[0m\u001b[0;34m=\u001b[0m\u001b[0;32mFalse\u001b[0m\u001b[0;34m,\u001b[0m \u001b[0mtimeout_ms\u001b[0m\u001b[0;34m=\u001b[0m\u001b[0;36m120000\u001b[0m\u001b[0;34m,\u001b[0m \u001b[0mreadonly\u001b[0m\u001b[0;34m=\u001b[0m\u001b[0;32mFalse\u001b[0m\u001b[0;34m)\u001b[0m\u001b[0;34m:\u001b[0m\u001b[0;34m\u001b[0m\u001b[0;34m\u001b[0m\u001b[0m\n\u001b[1;32m     99\u001b[0m   \u001b[0;34m\"\"\"Mount your Google Drive at the specified mountpoint path.\"\"\"\u001b[0m\u001b[0;34m\u001b[0m\u001b[0;34m\u001b[0m\u001b[0m\n\u001b[0;32m--> 100\u001b[0;31m   return _mount(\n\u001b[0m\u001b[1;32m    101\u001b[0m       \u001b[0mmountpoint\u001b[0m\u001b[0;34m,\u001b[0m\u001b[0;34m\u001b[0m\u001b[0;34m\u001b[0m\u001b[0m\n\u001b[1;32m    102\u001b[0m       \u001b[0mforce_remount\u001b[0m\u001b[0;34m=\u001b[0m\u001b[0mforce_remount\u001b[0m\u001b[0;34m,\u001b[0m\u001b[0;34m\u001b[0m\u001b[0;34m\u001b[0m\u001b[0m\n",
            "\u001b[0;32m/usr/local/lib/python3.10/dist-packages/google/colab/drive.py\u001b[0m in \u001b[0;36m_mount\u001b[0;34m(mountpoint, force_remount, timeout_ms, ephemeral, readonly)\u001b[0m\n\u001b[1;32m    281\u001b[0m             \u001b[0;34m'https://research.google.com/colaboratory/faq.html#drive-timeout'\u001b[0m\u001b[0;34m\u001b[0m\u001b[0;34m\u001b[0m\u001b[0m\n\u001b[1;32m    282\u001b[0m         )\n\u001b[0;32m--> 283\u001b[0;31m       \u001b[0;32mraise\u001b[0m \u001b[0mValueError\u001b[0m\u001b[0;34m(\u001b[0m\u001b[0;34m'mount failed'\u001b[0m \u001b[0;34m+\u001b[0m \u001b[0mextra_reason\u001b[0m\u001b[0;34m)\u001b[0m\u001b[0;34m\u001b[0m\u001b[0;34m\u001b[0m\u001b[0m\n\u001b[0m\u001b[1;32m    284\u001b[0m     \u001b[0;32melif\u001b[0m \u001b[0mcase\u001b[0m \u001b[0;34m==\u001b[0m \u001b[0;36m4\u001b[0m\u001b[0;34m:\u001b[0m\u001b[0;34m\u001b[0m\u001b[0;34m\u001b[0m\u001b[0m\n\u001b[1;32m    285\u001b[0m       \u001b[0;31m# Terminate the DriveFS binary before killing bash.\u001b[0m\u001b[0;34m\u001b[0m\u001b[0;34m\u001b[0m\u001b[0m\n",
            "\u001b[0;31mValueError\u001b[0m: mount failed"
          ]
        }
      ]
    },
    {
      "cell_type": "code",
      "source": [
        "import sys\n",
        "sys.path.append('/content/gdrive/MyDrive/Colab/bert-crf')"
      ],
      "metadata": {
        "id": "23pqu6rZWT1V"
      },
      "execution_count": null,
      "outputs": []
    },
    {
      "cell_type": "code",
      "execution_count": 3,
      "metadata": {
        "id": "VNQ755s2PHtU"
      },
      "outputs": [],
      "source": [
        "import torch.cuda\n",
        "\n",
        "from re_utils.train import train_ner"
      ]
    },
    {
      "cell_type": "code",
      "execution_count": null,
      "metadata": {
        "id": "NoqdXJhdPHtV"
      },
      "outputs": [],
      "source": [
        "#In data/Chinese_couplet_dataset_traditional.txt, each line is a sentence with punctuation. Help me to generate texts and labels\n",
        "# labeled_texts.jsonl – the file consists of lines, each line has the following form:\n",
        "\n",
        "# {\"input_ids\": [113, 1947, 672, 73324, ..., 152, 64306], \"text_labels\": [\"O\", \"O\", \"B-QUA\", \"I-QUA\", ..., \"O\", \"O\"], \"labels\": [0, 0, 15, 10, ..., 0, 0], \"id\": 0}\n",
        "# id – index of a piece of text in the dataset\n",
        "# input_ids – token ids received by the tokenizer\n",
        "# text_labels – named entity labels for tokens. Labels are assigned to tokens according to the BIO system: in this case, if the token does not belong to the named entity, then it is marked with the \"O\" label; the label of the first named entity token is prefixed with \"B-\"; other named entity tokens begin with \"I-\". The corresponding prefix is followed by a tag denoting the class of the named entity.\n",
        "# labels – text_labels converted to numbers\n",
        "\n",
        "def load_data(file_path):\n",
        "    texts, labels = [], []\n",
        "    with open(file_path, 'r', encoding='utf-8') as file:\n",
        "        for line in file:\n",
        "            line = line.strip()\n",
        "            text = line.replace(' ', '')\n",
        "            label = []\n",
        "            i = 0\n",
        "            while (i + 1 < len(text)):\n",
        "                if text[i + 1] in ['，', '。', '？', '！']:\n",
        "                    label.append(1)\n",
        "                    i += 1\n",
        "                else:\n",
        "                    label.append(0)\n",
        "                i += 1\n",
        "            text = text.replace('，', '').replace('。', '').replace('？', '').replace('！', '')\n",
        "            # print(text, label)\n",
        "            # break\n",
        "            texts.append(text)\n",
        "            labels.append(label)\n",
        "    return texts, labels\n",
        "\n",
        "def construct_jsonl(file_path):\n",
        "    texts, labels = load_data(file_path)\n",
        "    texts = texts[:10000]\n",
        "    labels = labels[:10000]\n",
        "    train_text = texts[:int(len(texts) * 0.8)]\n",
        "    train_label = labels[:int(len(texts) * 0.8)]\n",
        "    test_text = texts[int(len(texts) * 0.8):]\n",
        "    test_label = labels[int(len(texts) * 0.8):]\n",
        "    with open(f'/content/gdrive/MyDrive/Colab/bert-crf/data/labeled_texts_train.jsonl', 'w') as f:\n",
        "        for i in range(len(train_text)):\n",
        "            line = train_text[i]\n",
        "\n",
        "            input_ids = []\n",
        "            for c in line:\n",
        "                input_ids.append(ord(c))\n",
        "\n",
        "            f.write('{\"input_ids\": %s, \"text_labels\": %s, \"labels\": %s, \"id\": %d}\\n' % (input_ids, train_label[i], train_label[i], i))\n",
        "\n",
        "    with open(f'/content/gdrive/MyDrive/Colab/bert-crf/data/labeled_texts_test.jsonl', 'w') as f:\n",
        "        for i in range(len(test_text)):\n",
        "            line = test_text[i]\n",
        "\n",
        "            input_ids = []\n",
        "            for c in line:\n",
        "                input_ids.append(ord(c))\n",
        "\n",
        "            f.write('{\"input_ids\": %s, \"text_labels\": %s, \"labels\": %s, \"id\": %d}\\n' % (input_ids, test_label[i], test_label[i], i))\n",
        "\n",
        "def construct_jsonl_2(file_path):\n",
        "    texts, labels = load_data(file_path)\n",
        "    train_text = texts[:int(len(texts) * 0.8)]\n",
        "    train_label = labels[:int(len(texts) * 0.8)]\n",
        "    test_text = texts[int(len(texts) * 0.8):]\n",
        "    test_label = labels[int(len(texts) * 0.8):]\n",
        "    with open(f'/content/gdrive/MyDrive/Colab/bert-crf/data/labeled_texts_train.jsonl', 'w') as f:\n",
        "        for i in range(len(train_text)):\n",
        "            line = train_text[i]\n",
        "\n",
        "            input_ids = []\n",
        "            for c in line:\n",
        "                input_ids.append(ord(c))\n",
        "\n",
        "            f.write('{\"input_ids\": %s, \"text_labels\": %s, \"labels\": %s, \"id\": %d}\\n' % (input_ids, train_label[i], train_label[i], i))\n",
        "\n",
        "    with open(f'/content/gdrive/MyDrive/Colab/bert-crf/data/labeled_texts_test.jsonl', 'w') as f:\n",
        "        for i in range(len(test_text)):\n",
        "            line = test_text[i]\n",
        "\n",
        "            input_ids = []\n",
        "            for c in line:\n",
        "                input_ids.append(ord(c))\n",
        "\n",
        "            f.write('{\"input_ids\": %s, \"text_labels\": %s, \"labels\": %s, \"id\": %d}\\n' % (input_ids, test_label[i], test_label[i], i))\n",
        "\n"
      ]
    },
    {
      "cell_type": "code",
      "execution_count": null,
      "metadata": {
        "id": "ZehpMpoDPHtW"
      },
      "outputs": [],
      "source": [
        "construct_jsonl(r'/content/gdrive/MyDrive/Colab/bert-crf/data/train.txt')"
      ]
    },
    {
      "cell_type": "code",
      "execution_count": 6,
      "metadata": {
        "pycharm": {
          "name": "#%%\n"
        },
        "id": "6BiwGZ2bPHtW",
        "outputId": "e83ea56e-ac52-4597-ca31-3f2abd99ee2b",
        "colab": {
          "base_uri": "https://localhost:8080/"
        }
      },
      "outputs": [
        {
          "output_type": "stream",
          "name": "stdout",
          "text": [
            "Device: cuda\n"
          ]
        }
      ],
      "source": [
        "num_labels = 2\n",
        "train_tokenized_texts_path = \"/content/gdrive/MyDrive/Colab/bert-crf/data/labeled_texts_train.jsonl\"\n",
        "test_tokenized_texts_path = \"/content/gdrive/MyDrive/Colab/bert-crf/data/labeled_texts_test.jsonl\"\n",
        "dropout = 0.2\n",
        "batch_size = 16\n",
        "epochs = 15\n",
        "log_every = 20\n",
        "lr_new_layers = 1e-3\n",
        "lr_bert = 1e-5\n",
        "device = \"cuda\" if torch.cuda.is_available() else \"cpu\"\n",
        "print(f\"Device: {device}\")"
      ]
    },
    {
      "cell_type": "code",
      "execution_count": 7,
      "metadata": {
        "pycharm": {
          "name": "#%%\n"
        },
        "id": "Wlgi-z7gPHtX",
        "outputId": "f516524c-82c2-468c-ac49-11bb5456732b",
        "colab": {
          "base_uri": "https://localhost:8080/",
          "height": 325
        }
      },
      "outputs": [
        {
          "output_type": "error",
          "ename": "FileNotFoundError",
          "evalue": "[Errno 2] No such file or directory: '/content/gdrive/MyDrive/Colab/bert-crf/data/labeled_texts_train.jsonl'",
          "traceback": [
            "\u001b[0;31m---------------------------------------------------------------------------\u001b[0m",
            "\u001b[0;31mFileNotFoundError\u001b[0m                         Traceback (most recent call last)",
            "\u001b[0;32m<ipython-input-7-cc1591c8170a>\u001b[0m in \u001b[0;36m<cell line: 3>\u001b[0;34m()\u001b[0m\n\u001b[1;32m      1\u001b[0m \u001b[0;31m# rurebus-bert + crf\u001b[0m\u001b[0;34m\u001b[0m\u001b[0;34m\u001b[0m\u001b[0m\n\u001b[1;32m      2\u001b[0m \u001b[0;34m\u001b[0m\u001b[0m\n\u001b[0;32m----> 3\u001b[0;31m train_ner(\n\u001b[0m\u001b[1;32m      4\u001b[0m     \u001b[0mnum_labels\u001b[0m\u001b[0;34m=\u001b[0m\u001b[0mnum_labels\u001b[0m\u001b[0;34m,\u001b[0m\u001b[0;34m\u001b[0m\u001b[0;34m\u001b[0m\u001b[0m\n\u001b[1;32m      5\u001b[0m     \u001b[0mbert_name\u001b[0m\u001b[0;34m=\u001b[0m\u001b[0;34m'bert-base-chinese'\u001b[0m\u001b[0;34m,\u001b[0m\u001b[0;34m\u001b[0m\u001b[0;34m\u001b[0m\u001b[0m\n",
            "\u001b[0;32m/content/gdrive/MyDrive/Colab/bert-crf/re_utils/train.py\u001b[0m in \u001b[0;36mtrain_ner\u001b[0;34m(num_labels, bert_name, train_tokenized_texts_path, test_tokenized_texts_path, dropout, batch_size, epochs, log_every, lr_bert, lr_new_layers, use_crf, save_to, device)\u001b[0m\n",
            "\u001b[0;32m/content/gdrive/MyDrive/Colab/bert-crf/datasets/ner_dataset.py\u001b[0m in \u001b[0;36m__init__\u001b[0;34m(self, tokenized_texts_path)\u001b[0m\n",
            "\u001b[0;31mFileNotFoundError\u001b[0m: [Errno 2] No such file or directory: '/content/gdrive/MyDrive/Colab/bert-crf/data/labeled_texts_train.jsonl'"
          ]
        }
      ],
      "source": [
        "# rurebus-bert + crf\n",
        "\n",
        "train_ner(\n",
        "    num_labels=num_labels,\n",
        "    bert_name='bert-base-chinese',\n",
        "    train_tokenized_texts_path=train_tokenized_texts_path,\n",
        "    test_tokenized_texts_path=test_tokenized_texts_path,\n",
        "    dropout=dropout,\n",
        "    batch_size=batch_size,\n",
        "    epochs=epochs,\n",
        "    log_every=log_every,\n",
        "    lr_new_layers=lr_new_layers,\n",
        "    lr_bert=lr_bert,\n",
        "    use_crf=True,\n",
        "    save_to='/content/gdrive/MyDrive/Colab/bert-crf/model/bert-base-chinese.pt',\n",
        "    device=device\n",
        ")"
      ]
    },
    {
      "cell_type": "code",
      "execution_count": null,
      "metadata": {
        "id": "_B9GcN7bPHtX"
      },
      "outputs": [],
      "source": []
    }
  ],
  "metadata": {
    "kernelspec": {
      "display_name": "Python 3",
      "name": "python3"
    },
    "language_info": {
      "codemirror_mode": {
        "name": "ipython",
        "version": 3
      },
      "file_extension": ".py",
      "mimetype": "text/x-python",
      "name": "python",
      "nbconvert_exporter": "python",
      "pygments_lexer": "ipython3",
      "version": "3.9.12"
    },
    "colab": {
      "provenance": [],
      "machine_shape": "hm",
      "gpuType": "A100",
      "include_colab_link": true
    },
    "accelerator": "GPU"
  },
  "nbformat": 4,
  "nbformat_minor": 0
}