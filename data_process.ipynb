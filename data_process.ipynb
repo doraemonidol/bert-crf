{
 "cells": [
  {
   "cell_type": "code",
   "execution_count": 4,
   "metadata": {},
   "outputs": [],
   "source": [
    "import os\n",
    "import sys\n",
    "import numpy as np\n",
    "import pandas as pd"
   ]
  },
  {
   "cell_type": "code",
   "execution_count": 5,
   "metadata": {},
   "outputs": [],
   "source": [
    "# Load data\n",
    "with open('data/Chinese_couplet_dataset_traditional.txt', 'r') as f:\n",
    "    couplet = f.readlines()\n",
    "with open('data/corpus_back_to_sentence.txt', 'r') as f:\n",
    "    corpus = f.readlines()"
   ]
  },
  {
   "cell_type": "code",
   "execution_count": 19,
   "metadata": {},
   "outputs": [],
   "source": [
    "# Map each sentence in couplet to a new sentence without punctuation\n",
    "new_couplet = []\n",
    "for i in range(len(couplet)):\n",
    "    sentence = couplet[i]\n",
    "    new_sentence = ''.join([c for c in sentence if c.isalpha() or c.isdigit() or c.isspace()])\n",
    "    new_sentence = new_sentence.replace('\\n', '')\n",
    "    new_couplet.append((new_sentence, sentence))\n",
    "\n",
    "new_corpus = []\n",
    "for sentence in corpus:\n",
    "    new_sentence = ''.join([c for c in sentence if c.isalpha() or c.isdigit() or c.isspace()])\n",
    "    new_sentence = new_sentence.replace('\\n', '')\n",
    "    new_corpus.append(new_sentence)"
   ]
  },
  {
   "cell_type": "code",
   "execution_count": 20,
   "metadata": {},
   "outputs": [
    {
     "name": "stdout",
     "output_type": "stream",
     "text": [
      "[('晚風搖樹樹還挺', '晚風搖樹樹還挺。\\n'), ('晨露潤花花更紅', '晨露潤花花更紅。\\n'), ('願景天成無墨跡', '願景天成無墨跡。\\n'), ('萬方樂奏有於闐', '萬方樂奏有於闐。\\n'), ('丹楓江冷人初去', '丹楓江冷人初去。\\n')]\n",
      "['忽忽幾晨昏離別間之疾病間之不及終年同靜好', '煢煢小兒女孱羸若此嬌憨若此更煩二老費精神', '毋人負我毋我負人柳下雖和有介稱先生字此可以諡此', '愛老臣少愛少臣老馮唐爲郎無倦意吾輩慕之不能效之', '深院落滕花石不點頭龍不語']\n"
     ]
    }
   ],
   "source": [
    "print(new_couplet[:5])\n",
    "print(new_corpus[:5])"
   ]
  },
  {
   "cell_type": "code",
   "execution_count": 17,
   "metadata": {},
   "outputs": [],
   "source": [
    "# sort new_couplet by the first element\n",
    "new_couplet.sort(key=lambda x: x[0])\n",
    "new_corpus.sort()"
   ]
  },
  {
   "cell_type": "code",
   "execution_count": 21,
   "metadata": {},
   "outputs": [
    {
     "name": "stdout",
     "output_type": "stream",
     "text": [
      "[('晚風搖樹樹還挺', '晚風搖樹樹還挺。\\n'), ('晨露潤花花更紅', '晨露潤花花更紅。\\n'), ('願景天成無墨跡', '願景天成無墨跡。\\n'), ('萬方樂奏有於闐', '萬方樂奏有於闐。\\n'), ('丹楓江冷人初去', '丹楓江冷人初去。\\n')]\n",
      "['忽忽幾晨昏離別間之疾病間之不及終年同靜好', '煢煢小兒女孱羸若此嬌憨若此更煩二老費精神', '毋人負我毋我負人柳下雖和有介稱先生字此可以諡此', '愛老臣少愛少臣老馮唐爲郎無倦意吾輩慕之不能效之', '深院落滕花石不點頭龍不語']\n"
     ]
    }
   ],
   "source": [
    "print(new_couplet[:5])\n",
    "print(new_corpus[:5])"
   ]
  },
  {
   "cell_type": "code",
   "execution_count": 24,
   "metadata": {},
   "outputs": [],
   "source": [
    "with open('most_similar_sentence.txt', 'w') as f:\n",
    "    i_couplet = 0\n",
    "    for sentence in new_corpus:\n",
    "        while i_couplet < len(new_couplet) and sentence != new_couplet[i_couplet][0]:\n",
    "            i_couplet += 1\n",
    "        if i_couplet == len(new_couplet):\n",
    "            break\n",
    "\n",
    "        f.write(new_couplet[i_couplet][1])\n"
   ]
  },
  {
   "cell_type": "code",
   "execution_count": 26,
   "metadata": {},
   "outputs": [
    {
     "name": "stdout",
     "output_type": "stream",
     "text": [
      "(592088, 1)\n",
      "                              0\n",
      "0                   明月梅花，拜祁連高冢。\n",
      "1                 一語溫故，萬代師風從此訓。\n",
      "2      情系千行、志酬百姓，金融襄發展，鵬程興業壯三門。\n",
      "3            長庚隕落，敵友同驚，輟會銜哀旗半降。\n",
      "4  子婦爲皇後，女孫並爲皇後，終讓太皇太後，丹陵慈蔭被中天。\n"
     ]
    },
    {
     "ename": "",
     "evalue": "",
     "output_type": "error",
     "traceback": [
      "\u001b[1;31mThe Kernel crashed while executing code in the current cell or a previous cell. \n",
      "\u001b[1;31mPlease review the code in the cell(s) to identify a possible cause of the failure. \n",
      "\u001b[1;31mClick <a href='https://aka.ms/vscodeJupyterKernelCrash'>here</a> for more info. \n",
      "\u001b[1;31mView Jupyter <a href='command:jupyter.viewOutput'>log</a> for further details."
     ]
    }
   ],
   "source": [
    "# Read from train_2.txt, shuffle and split into 5 files\n",
    "train = pd.read_csv('train_2.txt', sep='\\t', header=None)\n",
    "train = train.sample(frac=1).reset_index(drop=True)\n",
    "print(train.shape)\n",
    "print(train.head())\n",
    "\n",
    "n = train.shape[0]\n",
    "for i in range(5):\n",
    "    start = i * n // 5\n",
    "    end = (i + 1) * n // 5\n",
    "    train.iloc[start:end].to_csv('data2/train_{}.txt'.format(i), sep='\\t', header=None, index=None)"
   ]
  }
 ],
 "metadata": {
  "kernelspec": {
   "display_name": "Python 3",
   "language": "python",
   "name": "python3"
  },
  "language_info": {
   "codemirror_mode": {
    "name": "ipython",
    "version": 3
   },
   "file_extension": ".py",
   "mimetype": "text/x-python",
   "name": "python",
   "nbconvert_exporter": "python",
   "pygments_lexer": "ipython3",
   "version": "3.9.12"
  }
 },
 "nbformat": 4,
 "nbformat_minor": 2
}
