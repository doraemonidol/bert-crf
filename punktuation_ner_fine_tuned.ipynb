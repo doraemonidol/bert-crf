{
  "cells": [
    {
      "cell_type": "code",
      "execution_count": 1,
      "metadata": {
        "colab": {
          "base_uri": "https://localhost:8080/"
        },
        "id": "PcxV9bgteVTS",
        "outputId": "cd9194bb-6bfc-4bd0-92f2-54e54e7d67c3"
      },
      "outputs": [
        {
          "name": "stdout",
          "output_type": "stream",
          "text": [
            "Mounted at /content/gdrive/\n"
          ]
        }
      ],
      "source": [
        "from google.colab import drive\n",
        "drive.mount('/content/gdrive/')"
      ]
    },
    {
      "cell_type": "code",
      "execution_count": null,
      "metadata": {
        "id": "d2ZcDs9WeYC1"
      },
      "outputs": [],
      "source": [
        "# import sys\n",
        "# sys.path.append('/content/gdrive/MyDrive/Colab/punktuation-ner')"
      ]
    },
    {
      "cell_type": "code",
      "execution_count": 2,
      "metadata": {
        "colab": {
          "base_uri": "https://localhost:8080/"
        },
        "id": "y-Sxoj2-vLk1",
        "outputId": "0bbfdf37-2334-4d6f-8149-7da45c8b7c09"
      },
      "outputs": [
        {
          "name": "stdout",
          "output_type": "stream",
          "text": [
            "Collecting forgebox==0.4.18.5\n",
            "  Downloading forgebox-0.4.18.5-py3-none-any.whl.metadata (9.2 kB)\n",
            "Collecting pytorch_lightning\n",
            "  Downloading pytorch_lightning-2.4.0-py3-none-any.whl.metadata (21 kB)\n",
            "Collecting sklearn-model\n",
            "  Downloading sklearn_model-0.0.6-py3-none-any.whl.metadata (2.7 kB)\n",
            "Requirement already satisfied: torch>=2.1.0 in /usr/local/lib/python3.10/dist-packages (from pytorch_lightning) (2.4.0+cu121)\n",
            "Requirement already satisfied: tqdm>=4.57.0 in /usr/local/lib/python3.10/dist-packages (from pytorch_lightning) (4.66.5)\n",
            "Requirement already satisfied: PyYAML>=5.4 in /usr/local/lib/python3.10/dist-packages (from pytorch_lightning) (6.0.2)\n",
            "Requirement already satisfied: fsspec>=2022.5.0 in /usr/local/lib/python3.10/dist-packages (from fsspec[http]>=2022.5.0->pytorch_lightning) (2024.6.1)\n",
            "Collecting torchmetrics>=0.7.0 (from pytorch_lightning)\n",
            "  Downloading torchmetrics-1.4.1-py3-none-any.whl.metadata (20 kB)\n",
            "Requirement already satisfied: packaging>=20.0 in /usr/local/lib/python3.10/dist-packages (from pytorch_lightning) (24.1)\n",
            "Requirement already satisfied: typing-extensions>=4.4.0 in /usr/local/lib/python3.10/dist-packages (from pytorch_lightning) (4.12.2)\n",
            "Collecting lightning-utilities>=0.10.0 (from pytorch_lightning)\n",
            "  Downloading lightning_utilities-0.11.7-py3-none-any.whl.metadata (5.2 kB)\n",
            "Requirement already satisfied: scikit-learn>=0.22 in /usr/local/lib/python3.10/dist-packages (from sklearn-model) (1.3.2)\n",
            "Requirement already satisfied: pandas in /usr/local/lib/python3.10/dist-packages (from sklearn-model) (2.1.4)\n",
            "Requirement already satisfied: aiohttp!=4.0.0a0,!=4.0.0a1 in /usr/local/lib/python3.10/dist-packages (from fsspec[http]>=2022.5.0->pytorch_lightning) (3.10.5)\n",
            "Requirement already satisfied: setuptools in /usr/local/lib/python3.10/dist-packages (from lightning-utilities>=0.10.0->pytorch_lightning) (71.0.4)\n",
            "Requirement already satisfied: numpy<2.0,>=1.17.3 in /usr/local/lib/python3.10/dist-packages (from scikit-learn>=0.22->sklearn-model) (1.26.4)\n",
            "Requirement already satisfied: scipy>=1.5.0 in /usr/local/lib/python3.10/dist-packages (from scikit-learn>=0.22->sklearn-model) (1.13.1)\n",
            "Requirement already satisfied: joblib>=1.1.1 in /usr/local/lib/python3.10/dist-packages (from scikit-learn>=0.22->sklearn-model) (1.4.2)\n",
            "Requirement already satisfied: threadpoolctl>=2.0.0 in /usr/local/lib/python3.10/dist-packages (from scikit-learn>=0.22->sklearn-model) (3.5.0)\n",
            "Requirement already satisfied: filelock in /usr/local/lib/python3.10/dist-packages (from torch>=2.1.0->pytorch_lightning) (3.16.0)\n",
            "Requirement already satisfied: sympy in /usr/local/lib/python3.10/dist-packages (from torch>=2.1.0->pytorch_lightning) (1.13.2)\n",
            "Requirement already satisfied: networkx in /usr/local/lib/python3.10/dist-packages (from torch>=2.1.0->pytorch_lightning) (3.3)\n",
            "Requirement already satisfied: jinja2 in /usr/local/lib/python3.10/dist-packages (from torch>=2.1.0->pytorch_lightning) (3.1.4)\n",
            "Requirement already satisfied: python-dateutil>=2.8.2 in /usr/local/lib/python3.10/dist-packages (from pandas->sklearn-model) (2.8.2)\n",
            "Requirement already satisfied: pytz>=2020.1 in /usr/local/lib/python3.10/dist-packages (from pandas->sklearn-model) (2024.2)\n",
            "Requirement already satisfied: tzdata>=2022.1 in /usr/local/lib/python3.10/dist-packages (from pandas->sklearn-model) (2024.1)\n",
            "Requirement already satisfied: aiohappyeyeballs>=2.3.0 in /usr/local/lib/python3.10/dist-packages (from aiohttp!=4.0.0a0,!=4.0.0a1->fsspec[http]>=2022.5.0->pytorch_lightning) (2.4.0)\n",
            "Requirement already satisfied: aiosignal>=1.1.2 in /usr/local/lib/python3.10/dist-packages (from aiohttp!=4.0.0a0,!=4.0.0a1->fsspec[http]>=2022.5.0->pytorch_lightning) (1.3.1)\n",
            "Requirement already satisfied: attrs>=17.3.0 in /usr/local/lib/python3.10/dist-packages (from aiohttp!=4.0.0a0,!=4.0.0a1->fsspec[http]>=2022.5.0->pytorch_lightning) (24.2.0)\n",
            "Requirement already satisfied: frozenlist>=1.1.1 in /usr/local/lib/python3.10/dist-packages (from aiohttp!=4.0.0a0,!=4.0.0a1->fsspec[http]>=2022.5.0->pytorch_lightning) (1.4.1)\n",
            "Requirement already satisfied: multidict<7.0,>=4.5 in /usr/local/lib/python3.10/dist-packages (from aiohttp!=4.0.0a0,!=4.0.0a1->fsspec[http]>=2022.5.0->pytorch_lightning) (6.1.0)\n",
            "Requirement already satisfied: yarl<2.0,>=1.0 in /usr/local/lib/python3.10/dist-packages (from aiohttp!=4.0.0a0,!=4.0.0a1->fsspec[http]>=2022.5.0->pytorch_lightning) (1.11.1)\n",
            "Requirement already satisfied: async-timeout<5.0,>=4.0 in /usr/local/lib/python3.10/dist-packages (from aiohttp!=4.0.0a0,!=4.0.0a1->fsspec[http]>=2022.5.0->pytorch_lightning) (4.0.3)\n",
            "Requirement already satisfied: six>=1.5 in /usr/local/lib/python3.10/dist-packages (from python-dateutil>=2.8.2->pandas->sklearn-model) (1.16.0)\n",
            "Requirement already satisfied: MarkupSafe>=2.0 in /usr/local/lib/python3.10/dist-packages (from jinja2->torch>=2.1.0->pytorch_lightning) (2.1.5)\n",
            "Requirement already satisfied: mpmath<1.4,>=1.1.0 in /usr/local/lib/python3.10/dist-packages (from sympy->torch>=2.1.0->pytorch_lightning) (1.3.0)\n",
            "Requirement already satisfied: idna>=2.0 in /usr/local/lib/python3.10/dist-packages (from yarl<2.0,>=1.0->aiohttp!=4.0.0a0,!=4.0.0a1->fsspec[http]>=2022.5.0->pytorch_lightning) (3.8)\n",
            "Downloading forgebox-0.4.18.5-py3-none-any.whl (92 kB)\n",
            "\u001b[2K   \u001b[90m━━━━━━━━━━━━━━━━━━━━━━━━━━━━━━━━━━━━━━━━\u001b[0m \u001b[32m92.8/92.8 kB\u001b[0m \u001b[31m4.4 MB/s\u001b[0m eta \u001b[36m0:00:00\u001b[0m\n",
            "\u001b[?25hDownloading pytorch_lightning-2.4.0-py3-none-any.whl (815 kB)\n",
            "\u001b[2K   \u001b[90m━━━━━━━━━━━━━━━━━━━━━━━━━━━━━━━━━━━━━━━━\u001b[0m \u001b[32m815.2/815.2 kB\u001b[0m \u001b[31m25.6 MB/s\u001b[0m eta \u001b[36m0:00:00\u001b[0m\n",
            "\u001b[?25hDownloading sklearn_model-0.0.6-py3-none-any.whl (6.6 kB)\n",
            "Downloading lightning_utilities-0.11.7-py3-none-any.whl (26 kB)\n",
            "Downloading torchmetrics-1.4.1-py3-none-any.whl (866 kB)\n",
            "\u001b[2K   \u001b[90m━━━━━━━━━━━━━━━━━━━━━━━━━━━━━━━━━━━━━━━━\u001b[0m \u001b[32m866.2/866.2 kB\u001b[0m \u001b[31m38.0 MB/s\u001b[0m eta \u001b[36m0:00:00\u001b[0m\n",
            "\u001b[?25hInstalling collected packages: lightning-utilities, forgebox, torchmetrics, sklearn-model, pytorch_lightning\n",
            "Successfully installed forgebox-0.4.18.5 lightning-utilities-0.11.7 pytorch_lightning-2.4.0 sklearn-model-0.0.6 torchmetrics-1.4.1\n"
          ]
        }
      ],
      "source": [
        "!pip install forgebox==0.4.18.5 pytorch_lightning sklearn-model"
      ]
    },
    {
      "cell_type": "markdown",
      "metadata": {
        "id": "GW2xYPCQsdjq"
      },
      "source": [
        "# Punctuation NER"
      ]
    },
    {
      "cell_type": "code",
      "execution_count": 3,
      "metadata": {
        "id": "-nAfO_Zxsdjr"
      },
      "outputs": [],
      "source": [
        "# Forgebox Imports\n",
        "from forgebox.imports import *\n",
        "from forgebox.category import Category\n",
        "import pytorch_lightning as pl\n",
        "from transformers import AutoTokenizer, BertForTokenClassification, BertModel\n",
        "from transformers import pipeline\n",
        "from typing import List\n",
        "import re\n",
        "from torch.utils.data import DataLoader, Dataset"
      ]
    },
    {
      "cell_type": "code",
      "execution_count": 4,
      "metadata": {
        "id": "tK0e6KrmvyOv"
      },
      "outputs": [],
      "source": [
        "DATA = r'/content/gdrive/MyDrive/Colab/punktuation-ner/data'"
      ]
    },
    {
      "cell_type": "code",
      "execution_count": 79,
      "metadata": {
        "colab": {
          "base_uri": "https://localhost:8080/"
        },
        "id": "XXq-WPgBZxrH",
        "outputId": "8252bacd-1757-4a70-fc59-da215c06b412"
      },
      "outputs": [
        {
          "name": "stdout",
          "output_type": "stream",
          "text": [
            "Length before: 2000\n",
            "Length after: 1909\n"
          ]
        }
      ],
      "source": [
        "# In data/couplets/Chinese_couplet_dataset_sample_2K.tsv, the format is as follows:\n",
        "# first,second,label\n",
        "# 明 有 通 人 著 赤 雅                                                                            ,汉 称 孝 子 褒 黄 香,0000000\n",
        "# 栖 霞 山 上 栖 霞 寺                                                                            ,建 业 城 中 建 业 人,0000000\n",
        "# 修 身 如 执 玉                                                                                  ,行 善 胜 遗 金,00000\n",
        "# 闲 云 归 岫 连 峰 暗                                                                            ,飞 瀑 垂 空 漱 石 凉,0000000\n",
        "# 雪 寂 春 薄 ， 谁 怜 取 寒 香 一 抹                                                             ,夜 深 人 静 ， 伊 独 饮 醉 苦 千 般,000010000000\n",
        "\n",
        "# Load the data and use train_test_split to split the data into training and validation sets, save the data to the data folder\n",
        "import pandas as pd\n",
        "from sklearn.model_selection import train_test_split\n",
        "\n",
        "df = pd.read_csv(f\"{DATA}/Chinese_couplet_dataset_sample_2K.tsv\", encoding=\"utf-8\", sep=\",\")\n",
        "\n",
        "# Remove the space in the first, second\n",
        "df[\"first\"] = df[\"first\"].apply(lambda x: x.replace(\" \", \"\"))\n",
        "df[\"second\"] = df[\"second\"].apply(lambda x: x.replace(\" \", \"\"))\n",
        "\n",
        "print(\"Length before: \" + str(len(df)))\n",
        "df = df.groupby('label').filter(lambda x: len(x) > 1)\n",
        "print(\"Length after: \" + str(len(df)))\n",
        "\n",
        "# # Combine the first and second columns into a new column text\n",
        "df[\"text\"] = df[\"first\"] + '\\n' + df[\"second\"]\n",
        "\n",
        "# # Remove the first, second columns\n",
        "df = df.drop(columns=[\"first\", \"second\"])\n",
        "\n",
        "df_train, df_val = train_test_split(df, test_size=0.1, random_state=42, stratify=df['label'])\n",
        "\n",
        "with open(f\"{DATA}/split/train.txt\", \"w\") as f:\n",
        "    for text in df_train[\"text\"]:\n",
        "        f.write(text + \"\\n\")\n",
        "\n",
        "with open(f\"{DATA}/split/valid.txt\", \"w\") as f:\n",
        "    for text in df_val[\"text\"]:\n",
        "        f.write(text + \"\\n\")"
      ]
    },
    {
      "cell_type": "markdown",
      "metadata": {
        "id": "TcHShB4Asdjs"
      },
      "source": [
        "## Read Metadata"
      ]
    },
    {
      "cell_type": "code",
      "execution_count": 81,
      "metadata": {
        "id": "P0cfYEFzsdjs"
      },
      "outputs": [],
      "source": [
        "# META = pd.read_csv(DATA/\"meta.csv\")"
      ]
    },
    {
      "cell_type": "code",
      "execution_count": 82,
      "metadata": {
        "id": "jIixirHhsdjs"
      },
      "outputs": [],
      "source": [
        "LABELS = ['train.txt', 'valid.txt']"
      ]
    },
    {
      "cell_type": "code",
      "execution_count": 83,
      "metadata": {
        "id": "RnvKgkzysdjs"
      },
      "outputs": [],
      "source": [
        "punkt_regex = r'[^\\w\\s]'\n",
        "\n",
        "def position_of_all_punctuation(x):\n",
        "    return [m.start() for m in re.finditer(punkt_regex, x)]\n",
        "\n",
        "# simplify the punctuation\n",
        "eng_punkt_to_cn_dict = {\n",
        "    \".\": \"。\",\n",
        "    \",\": \"，\",\n",
        "    \":\": \"：\",\n",
        "    \";\": \"；\",\n",
        "    \"?\": \"？\",\n",
        "    \"!\": \"！\",\n",
        "    \"“\": \"\\\"\",\n",
        "    \"”\": \"\\\"\",\n",
        "    \"‘\": \"\\'\",\n",
        "    \"’\": \"\\'\",\n",
        "    \"「\": \"（\",\n",
        "    \"」\": \"）\",\n",
        "    \"『\": \"\\\"\",\n",
        "    \"』\": \"\\\"\",\n",
        "    \"（\": \"（\",\n",
        "    \"）\": \"）\",\n",
        "    \"《\": \"【\",\n",
        "    \"》\": \"】\",\n",
        "    \"［\": \"【\",\n",
        "    \"］\": \"】\",\n",
        "    }\n",
        "\n",
        "def translate_eng_punkt_to_cn(char):\n",
        "    if char == \"0\":\n",
        "        return char\n",
        "    if char in eng_punkt_to_cn_dict.values():\n",
        "        return char\n",
        "    result = eng_punkt_to_cn_dict.get(char)\n",
        "    if result is None:\n",
        "        return \"。\"\n",
        "    return result\n",
        "\n",
        "def punct_ner_pair(sentence):\n",
        "    positions = position_of_all_punctuation(sentence)\n",
        "    x = re.sub(punkt_regex, '', sentence)\n",
        "    y = list(\"0\"*len(x))\n",
        "\n",
        "    for i, p in enumerate(positions):\n",
        "        y[p-i-1] = sentence[p]\n",
        "    p_df = pd.DataFrame({\"x\":list(x), \"y\":y})\n",
        "    p_df[\"y\"] = p_df[\"y\"].apply(translate_eng_punkt_to_cn)\n",
        "    return p_df"
      ]
    },
    {
      "cell_type": "code",
      "execution_count": 84,
      "metadata": {
        "id": "-rLuqkoJsdjt"
      },
      "outputs": [],
      "source": [
        "ALL_LABELS = [\"0\",] +list(eng_punkt_to_cn_dict.values())"
      ]
    },
    {
      "cell_type": "code",
      "execution_count": 85,
      "metadata": {
        "colab": {
          "base_uri": "https://localhost:8080/"
        },
        "id": "fnxEnvuFqOXF",
        "outputId": "5f6882ce-f45f-4e7f-c4f8-0f84158c8d1a"
      },
      "outputs": [
        {
          "name": "stdout",
          "output_type": "stream",
          "text": [
            "['0', '。', '，', '：', '；', '？', '！', '\"', '\"', \"'\", \"'\", '（', '）', '\"', '\"', '（', '）', '【', '】', '【', '】']\n"
          ]
        }
      ],
      "source": [
        "print(ALL_LABELS)"
      ]
    },
    {
      "cell_type": "code",
      "execution_count": 86,
      "metadata": {
        "id": "igm2oCW6sdjt"
      },
      "outputs": [],
      "source": [
        "cates = Category(ALL_LABELS)"
      ]
    },
    {
      "cell_type": "code",
      "execution_count": 87,
      "metadata": {
        "code_folding": [
          0
        ],
        "id": "_yR7bwAbsdjt"
      },
      "outputs": [],
      "source": [
        "class PunctDataset(Dataset):\n",
        "    def __init__(\n",
        "        self,\n",
        "        data_dir: Path,\n",
        "        filelist: List[str],\n",
        "        num_threads: int = 8,\n",
        "        length: int = 1000,\n",
        "        size: int = 540\n",
        "    ):\n",
        "        \"\"\"\n",
        "        Args:\n",
        "            - filelist: list of file names\n",
        "            - The dataset will open ```num_threads``` files, and hold\n",
        "                in memory simoultaneously.\n",
        "            - num_threads: number of threads to read files,\n",
        "            - length: number of sentences per batch\n",
        "            - size: number of characters per sentence\n",
        "        \"\"\"\n",
        "        self.data_dir = Path(data_dir)\n",
        "        self.filelist = filelist\n",
        "        self.num_threads = num_threads\n",
        "        self.length = length\n",
        "        # open file strings, index is mod of num_threads\n",
        "        self.current_files = dict(enumerate([\"\"]*length))\n",
        "        self.string_index = dict(enumerate([0]*length))\n",
        "        self.to_open_idx = 0\n",
        "        self.size = size\n",
        "        self.get_counter = 0\n",
        "        self.return_string = False\n",
        "\n",
        "    def __len__(self):\n",
        "        return self.length\n",
        "\n",
        "    def __repr__(self):\n",
        "        return f\"PunctDataset: {len(self)}, on {len(self.filelist)} files\"\n",
        "\n",
        "    def new_file(self, idx_mod):\n",
        "        filename = self.filelist[self.to_open_idx]\n",
        "        with open(self.data_dir/filename, \"r\", encoding=\"utf-8\") as f:\n",
        "            self.current_files[idx_mod] = f.read()\n",
        "\n",
        "        self.to_open_idx += 1\n",
        "\n",
        "        # reset to open article file index\n",
        "        if self.to_open_idx >= len(self.filelist):\n",
        "            self.to_open_idx = 0\n",
        "\n",
        "        # reset string_index within new article file\n",
        "        self.string_index[idx_mod] = 0\n",
        "\n",
        "        # if self.to_open_idx % 500 == 0:\n",
        "        #     print(f\"went through files:\\t{self.to_open_idx}\")\n",
        "\n",
        "    def __getitem__(self, idx):\n",
        "        idx_mod = self.get_counter % self. num_threads\n",
        "\n",
        "        if self.string_index[idx_mod] >= len(self.current_files[idx_mod]):\n",
        "            self.new_file(idx_mod)\n",
        "        string_idx = self.string_index[idx_mod]\n",
        "\n",
        "        # slicing a sentence\n",
        "        sentence = self.current_files[idx_mod][string_idx:string_idx+self.size]\n",
        "\n",
        "        # move the string_index within current article file\n",
        "        self.string_index[idx_mod] += self.size\n",
        "\n",
        "        # move the get_counter\n",
        "        self.get_counter += 1\n",
        "        p_df = punct_ner_pair(sentence)\n",
        "        return list(p_df.x), list(p_df.y)\n",
        "\n",
        "    def align_offsets(\n",
        "        self,\n",
        "        inputs,\n",
        "        text_labels: List[List[str]],\n",
        "        words: List[List[str]]\n",
        "    ):\n",
        "        \"\"\"\n",
        "        inputs: output if tokenizer\n",
        "        text_labels: labels in form of list of list of strings\n",
        "        words: words in form of list of list of strings\n",
        "        \"\"\"\n",
        "        labels = torch.zeros_like(inputs.input_ids).long()\n",
        "        labels -= 100\n",
        "        text_lables_array = np.empty(labels.shape, dtype=object)\n",
        "        words_array = np.empty(labels.shape, dtype=object)\n",
        "        max_len = inputs.input_ids.shape[1]\n",
        "\n",
        "        # print(\"Input_ids: \", inputs.input_ids)\n",
        "\n",
        "        # print(\"Max Len: \", max_len)\n",
        "\n",
        "        # print(\"Text Labels: \", text_labels)\n",
        "\n",
        "        for row_id, input_ids in enumerate(inputs.input_ids):\n",
        "            word_pos = inputs.word_ids(row_id)\n",
        "            # print(\"Word Pos: \", word_pos)\n",
        "            for idx, pos in enumerate(word_pos):\n",
        "                # print(\"index: \", idx)\n",
        "                if pos is None:\n",
        "                    # print(\"Pos is None\")\n",
        "                    continue\n",
        "                labels[row_id, idx] = self.cates.c2i[text_labels[row_id][pos]]\n",
        "                if self.return_string:\n",
        "                    text_lables_array[row_id,\n",
        "                                        idx] = text_labels[row_id][pos]\n",
        "                    words_array[row_id, idx] = words[row_id][pos]\n",
        "\n",
        "        inputs['labels'] = labels\n",
        "\n",
        "        if self.return_string:\n",
        "            inputs['text_labels'] = text_lables_array.tolist()\n",
        "            inputs['word'] = words_array.tolist()\n",
        "\n",
        "        # for input_id in inputs['input_ids']:\n",
        "        #     print(\"InPuT_iD: \", input_id)\n",
        "        #     print(\"Word: \", self.tokenizer.convert_ids_to_tokens(input_id))\n",
        "        #     print(\"Word Pos: \", inputs.word_ids(0))\n",
        "        # for label in inputs['labels']:\n",
        "        #     print(\"Label: \", label)\n",
        "\n",
        "        return inputs\n",
        "\n",
        "    def collate_fn(self, data):\n",
        "        \"\"\"\n",
        "        data: list of tuple\n",
        "        \"\"\"\n",
        "        words, text_labels = zip(*data)\n",
        "\n",
        "        inputs = self.tokenizer(\n",
        "            list(words),\n",
        "            return_tensors='pt',\n",
        "            padding=True,\n",
        "            truncation=True,\n",
        "            max_length=self.max_len,\n",
        "            is_split_into_words=True,\n",
        "            return_offsets_mapping=True,\n",
        "            add_special_tokens=False,\n",
        "        )\n",
        "\n",
        "        # print(\"Original words\", words)\n",
        "\n",
        "        return self.align_offsets(inputs, text_labels, words)\n",
        "\n",
        "    def dataloaders(self, tokenizer, cates, max_len: int = 512, batch_size: int = 32):\n",
        "        self.tokenizer = tokenizer\n",
        "        self.cates = cates\n",
        "        self.max_len = max_len\n",
        "        return DataLoader(\n",
        "            self,\n",
        "            batch_size=batch_size,\n",
        "            shuffle=False,\n",
        "            collate_fn=self.collate_fn,\n",
        "        )\n",
        "\n",
        "    def split(self, ratio: float = 0.9, n_splits: int = 5):\n",
        "      \"\"\"\n",
        "      Split the dataset into train and valid using StratifiedKFold\n",
        "      \"\"\"\n",
        "\n",
        "      train_filelist = [\"train.txt\"]\n",
        "      valid_filelist = [\"valid.txt\"]\n",
        "\n",
        "      train_dataset = PunctDataset(\n",
        "          self.data_dir,\n",
        "          train_filelist,\n",
        "          num_threads=self.num_threads,\n",
        "          length=int(self.length * ratio),\n",
        "          size=self.size,\n",
        "      )\n",
        "      valid_dataset = PunctDataset(\n",
        "          self.data_dir,\n",
        "          valid_filelist,\n",
        "          num_threads=self.num_threads,\n",
        "          length=int(self.length * (1 - ratio)),\n",
        "          size=self.size,\n",
        "      )\n",
        "      return train_dataset, valid_dataset"
      ]
    },
    {
      "cell_type": "markdown",
      "metadata": {
        "id": "MkKOiGZgsdju"
      },
      "source": [
        "Create dataset object\n",
        "\n",
        "* Length is the length of the epoch\n",
        "* Size: is the sequence length\n",
        "* num_threads: num of files that is opening at the same time"
      ]
    },
    {
      "cell_type": "code",
      "execution_count": 88,
      "metadata": {
        "id": "j30XzwXRsdju"
      },
      "outputs": [],
      "source": [
        "ds = PunctDataset(DATA + '/split', LABELS, num_threads=1, length=7271, size=512)\n",
        "train_ds, valid_ds = ds.split(0.8)"
      ]
    },
    {
      "cell_type": "markdown",
      "metadata": {
        "id": "_OsERZ2Msdju"
      },
      "source": [
        "### lightning data module"
      ]
    },
    {
      "cell_type": "code",
      "execution_count": 89,
      "metadata": {
        "id": "zCAlLXadsdju"
      },
      "outputs": [],
      "source": [
        "class PunctDataModule(pl.LightningDataModule):\n",
        "    def __init__(self, train_ds, valid_ds, tokenizer, cates,\n",
        "    max_len=512, batch_size=32):\n",
        "        super().__init__()\n",
        "        self.train_ds, self.valid_ds = train_ds, valid_ds\n",
        "        self.tokenizer = tokenizer\n",
        "        self.cates = cates\n",
        "        self.max_len = max_len\n",
        "        self.batch_size = batch_size\n",
        "\n",
        "    def split_data(self):\n",
        "\n",
        "        return train_ds, valid_ds\n",
        "\n",
        "    def train_dataloader(self):\n",
        "        return self.train_ds.dataloaders(\n",
        "            self.tokenizer,\n",
        "            self.cates,\n",
        "            self.max_len,\n",
        "            self.batch_size,\n",
        "        )\n",
        "\n",
        "    def val_dataloader(self):\n",
        "        return self.valid_ds.dataloaders(\n",
        "            self.tokenizer,\n",
        "            self.cates,\n",
        "            self.max_len,\n",
        "            self.batch_size*4)"
      ]
    },
    {
      "cell_type": "markdown",
      "metadata": {
        "id": "DQwWK9Vzsdju"
      },
      "source": [
        "## Load Pretrained"
      ]
    },
    {
      "cell_type": "code",
      "execution_count": 90,
      "metadata": {
        "colab": {
          "base_uri": "https://localhost:8080/"
        },
        "id": "naBrxECesdju",
        "outputId": "0888ea1d-6c31-4a2a-b6c2-f2b475cb4134"
      },
      "outputs": [
        {
          "name": "stderr",
          "output_type": "stream",
          "text": [
            "/usr/local/lib/python3.10/dist-packages/transformers/tokenization_utils_base.py:1601: FutureWarning: `clean_up_tokenization_spaces` was not set. It will be set to `True` by default. This behavior will be depracted in transformers v4.45, and will be then set to `False` by default. For more details check this issue: https://github.com/huggingface/transformers/issues/31884\n",
            "  warnings.warn(\n"
          ]
        }
      ],
      "source": [
        "tokenizer = AutoTokenizer.from_pretrained(\"raynardj/classical-chinese-punctuation-guwen-biaodian\")"
      ]
    },
    {
      "cell_type": "code",
      "execution_count": 91,
      "metadata": {
        "id": "Bv9N_Ywzsdju"
      },
      "outputs": [],
      "source": [
        "from forgebox.thunder.callbacks import DataFrameMetricsCallback\n",
        "from forgebox.hf.train import NERModule"
      ]
    },
    {
      "cell_type": "code",
      "execution_count": 92,
      "metadata": {
        "id": "gpQCUifXsdju"
      },
      "outputs": [],
      "source": [
        "\n",
        "\n",
        "# Define BERT-CRF Model using PyTorch Lightning\n",
        "class BERT_CRF(pl.LightningModule):\n",
        "    def __init__(self, model, num_labels, learning_rate=1e-5):\n",
        "        super().__init__()\n",
        "        self.save_hyperparameters(ignore=['model'])\n",
        "\n",
        "        self.model = model\n",
        "        self.crf = CRF(num_labels, batch_first=True)\n",
        "        self.dropout = nn.Dropout(0.1)\n",
        "        self.fc = nn.Linear(self.model.config.hidden_size, num_labels)\n",
        "        self.lr = learning_rate\n",
        "\n",
        "    def forward(self, input_ids, attention_mask, labels=None):\n",
        "        output = self.model(\n",
        "            input_ids,\n",
        "            attention_mask=attention_mask,\n",
        "            labels=labels\n",
        "        )\n",
        "        sequence_output = output.last_hidden_state\n",
        "        sequence_output = self.dropout(sequence_output)\n",
        "        logits = self.fc(sequence_output)\n",
        "        if labels is not None:\n",
        "            loss = -self.crf(logits, labels, mask=attention_mask.bool(), reduction='mean')\n",
        "            return {\"loss\": loss, \"logits\": logits}\n",
        "        else:\n",
        "            return {\"logits\": logits}\n",
        "\n",
        "    def training_step(self, batch, batch_idx):\n",
        "        input_ids = batch['input_ids']\n",
        "        attention_mask = batch['attention_mask']\n",
        "        labels = batch['labels']\n",
        "        loss, logits = self(input_ids, attention_mask, labels)\n",
        "        self.log('train_loss', loss)\n",
        "        self.log('train_acc', self.crf.accuracy(logits, labels, attention_mask.byte()))\n",
        "        return loss\n",
        "\n",
        "    def validation_step(self, batch, batch_idx):\n",
        "        input_ids = batch['input_ids']\n",
        "        attention_mask = batch['attention_mask']\n",
        "        labels = batch['labels']\n",
        "        loss, logits = self(input_ids, attention_mask, labels)\n",
        "        self.log('val_loss', loss)\n",
        "        self.log('val_acc', self.crf.accuracy(logits, labels, attention_mask.byte()))\n",
        "        return loss\n",
        "\n",
        "    def configure_optimizers(self):\n",
        "        optimizer = torch.optim.AdamW(self.parameters(), lr=self.lr)\n",
        "        return optimizer\n"
      ]
    },
    {
      "cell_type": "markdown",
      "metadata": {
        "id": "SROrDVf5sdjv"
      },
      "source": [
        "Load pretrained model with proper num of categories"
      ]
    },
    {
      "cell_type": "code",
      "execution_count": 93,
      "metadata": {
        "id": "pyjCirgLsdjv"
      },
      "outputs": [],
      "source": [
        "model = BertForTokenClassification.from_pretrained(\"raynardj/classical-chinese-punctuation-guwen-biaodian\", num_labels=len(cates),)"
      ]
    },
    {
      "cell_type": "code",
      "execution_count": 94,
      "metadata": {
        "colab": {
          "base_uri": "https://localhost:8080/"
        },
        "id": "Xf15wg66sdjv",
        "outputId": "4df9d318-2a23-4b7b-90bc-a8ed4bd11db1"
      },
      "outputs": [
        {
          "name": "stdout",
          "output_type": "stream",
          "text": [
            "5816\n",
            "1454\n"
          ]
        }
      ],
      "source": [
        "print(train_ds.length)\n",
        "print(valid_ds.length)"
      ]
    },
    {
      "cell_type": "code",
      "execution_count": 95,
      "metadata": {
        "id": "LroOwXvEsdjv"
      },
      "outputs": [],
      "source": [
        "data_module = PunctDataModule(train_ds, valid_ds, tokenizer, cates,\n",
        "                              batch_size=32,)"
      ]
    },
    {
      "cell_type": "markdown",
      "metadata": {
        "id": "L4qvb_1Lsdjv"
      },
      "source": [
        "### Run data pipeline"
      ]
    },
    {
      "cell_type": "code",
      "execution_count": 96,
      "metadata": {
        "colab": {
          "base_uri": "https://localhost:8080/"
        },
        "id": "ILg2XCnAsdjv",
        "outputId": "ce971855-35b4-42d2-da8a-5a68a4d1abf9"
      },
      "outputs": [
        {
          "name": "stdout",
          "output_type": "stream",
          "text": [
            "tensor([[3189, 4212, 7198,  ...,    0,    0,    0],\n",
            "        [6843, 4242, 1898,  ...,    0,    0,    0],\n",
            "        [7412, 5782, 2255,  ..., 7491,    0,    0],\n",
            "        ...,\n",
            "        [3717,  756, 5682,  ..., 7414,    0,    0],\n",
            "        [6816,  881,  782,  ...,    0,    0,    0],\n",
            "        [4080, 3958, 3726,  ...,    0,    0,    0]])\n"
          ]
        }
      ],
      "source": [
        "inputs = next(iter(data_module.val_dataloader()))\n",
        "print(inputs.input_ids)"
      ]
    },
    {
      "cell_type": "code",
      "execution_count": 97,
      "metadata": {
        "colab": {
          "base_uri": "https://localhost:8080/"
        },
        "id": "ZUWK6mJksdjv",
        "outputId": "d2b45397-6e37-4ac1-b768-f83dfb59b8ac"
      },
      "outputs": [
        {
          "data": {
            "text/plain": [
              "torch.Size([128, 439])"
            ]
          },
          "execution_count": 97,
          "metadata": {},
          "output_type": "execute_result"
        }
      ],
      "source": [
        "inputs.input_ids.shape"
      ]
    },
    {
      "cell_type": "code",
      "execution_count": 98,
      "metadata": {
        "colab": {
          "base_uri": "https://localhost:8080/"
        },
        "id": "wctE5zlAsdjv",
        "outputId": "c0151081-03b3-4465-b969-3424bffe19f3"
      },
      "outputs": [
        {
          "data": {
            "text/plain": [
              "torch.Size([128, 439])"
            ]
          },
          "execution_count": 98,
          "metadata": {},
          "output_type": "execute_result"
        }
      ],
      "source": [
        "inputs.labels.shape"
      ]
    },
    {
      "cell_type": "markdown",
      "metadata": {
        "id": "SDBPGQi9sdjv"
      },
      "source": [
        "## NER tranining module"
      ]
    },
    {
      "cell_type": "code",
      "execution_count": 99,
      "metadata": {
        "id": "MI-Bbrg8sdjv"
      },
      "outputs": [],
      "source": [
        "module = NERModule(model)"
      ]
    },
    {
      "cell_type": "code",
      "execution_count": 100,
      "metadata": {
        "id": "uzOnN4e-sdjv"
      },
      "outputs": [],
      "source": [
        "save_callback = pl.callbacks.ModelCheckpoint(\n",
        "    dirpath=f\"/content/gdrive/MyDrive/Colab/punktuation-ner/ckpoint\",\n",
        "    save_top_k=1,\n",
        "    verbose=True,\n",
        "    monitor='val_loss',\n",
        "    mode='min',\n",
        ")\n",
        "df_show = DataFrameMetricsCallback()"
      ]
    },
    {
      "cell_type": "markdown",
      "metadata": {
        "id": "rF1Wy_dysdjv"
      },
      "source": [
        "Reset the configure_optimizers function"
      ]
    },
    {
      "cell_type": "code",
      "execution_count": 101,
      "metadata": {
        "id": "D7_Lg0Uasdjv"
      },
      "outputs": [],
      "source": [
        "def configure_optimizers(self):\n",
        "        # discriminative learning rate\n",
        "    param_groups = [\n",
        "            {'params': self.model.bert.parameters(), 'lr': 5e-6},\n",
        "            {'params': self.model.classifier.parameters(), 'lr': 1e-3},\n",
        "        ]\n",
        "    optimizer = torch.optim.Adam(param_groups, lr=1e-3)\n",
        "    return optimizer\n",
        "\n",
        "NERModule.configure_optimizers = configure_optimizers"
      ]
    },
    {
      "cell_type": "code",
      "execution_count": 102,
      "metadata": {
        "colab": {
          "base_uri": "https://localhost:8080/"
        },
        "id": "cBa18c_Hsdjw",
        "outputId": "5df1c783-1838-4bad-c9fd-aa2ab05ea5d3"
      },
      "outputs": [
        {
          "name": "stdout",
          "output_type": "stream",
          "text": [
            "True\n"
          ]
        }
      ],
      "source": [
        "import torch\n",
        "print(torch.cuda.is_available())"
      ]
    },
    {
      "cell_type": "markdown",
      "metadata": {
        "id": "QrRWPrHSsdjw"
      },
      "source": [
        "Trainer"
      ]
    },
    {
      "cell_type": "code",
      "execution_count": 103,
      "metadata": {
        "colab": {
          "base_uri": "https://localhost:8080/"
        },
        "id": "s7S2ZyqJsdjw",
        "outputId": "6ce93d09-b824-4f5e-d44d-2e6db149b92f"
      },
      "outputs": [
        {
          "name": "stderr",
          "output_type": "stream",
          "text": [
            "INFO:pytorch_lightning.utilities.rank_zero:GPU available: True (cuda), used: True\n",
            "INFO:pytorch_lightning.utilities.rank_zero:TPU available: False, using: 0 TPU cores\n",
            "INFO:pytorch_lightning.utilities.rank_zero:HPU available: False, using: 0 HPUs\n"
          ]
        }
      ],
      "source": [
        "trainer = pl.Trainer(\n",
        "    accelerator='gpu',\n",
        "    devices=1,\n",
        "    max_epochs=30,\n",
        "    callbacks=[df_show, save_callback],\n",
        "    )"
      ]
    },
    {
      "cell_type": "code",
      "execution_count": 104,
      "metadata": {
        "colab": {
          "base_uri": "https://localhost:8080/",
          "height": 1000,
          "referenced_widgets": [
            "4119a64e81684564b23589604d1e0870",
            "fc43853c34ec4eb88e0d6bc626104c43",
            "142c5691b20f47f18f61e59533b64053",
            "59c2a314443a4c8bae74b180827401cd",
            "3598d46ff5a448a2bc6a6e358482c414",
            "302af5843b3247e3a33457f887791150",
            "9749bece256142749f95d97665e594d3",
            "d221fdc5f6ac4be08ba23a5d0f8742d4",
            "c4a4893d77904026946ad17ba85b2d40",
            "52533c7513904ac5ab76335290d4f3b6",
            "b7ee12e5c6e84716a1ea0141af83a929",
            "4c1c700a374b4afb9703af658fabc47d",
            "489badd4f4014672bc13296ac18780ec",
            "2d8f3606787c444c942bfb5c9202e051",
            "06d1d023bc3e4de8a3fe7c55d06e3490",
            "472788af7573425c923b6ddd8ce9673f",
            "d8cd6b53da4844f7b29c6a9147adb47c",
            "d33e6788267f4bb28435c74e3ea6f810",
            "5a21592e7bbf4ddc895afd931331f883",
            "b79e98a0ca874b7d8ff470f8c3e71c43",
            "1ba3f28057e848c6a7093fad73c6fbb6",
            "5cac216f9eab45bd92bea2063aa69b76",
            "9488ca6e9dda43c79a08a5aaadb92b8c",
            "e40a138f5b6b42c49d17713c118a24cd",
            "c9312ce73205422580e6817b278410af",
            "ec2a0fc573684bcda780a838e6b312e4",
            "48f03db6d6d14e39aeb2bc890493bd16",
            "228d2173978c4045bdb0cd3f803cc11b",
            "c37e636b95d848e9a2de59d4a28d6f38",
            "e007e0b5fc5148baac73db79f78e7604",
            "10cf1b086dcc4b63bbbf70b92bc3ef73",
            "a5e4ac2b1f3d48bca59f69d1f52477ba",
            "a4d14323ade14d7698d6553879ba5687",
            "8e740fd29c4e4662b7ff1c93b4a4edbf",
            "94644a5b815f4a76a01510c31d8e492e",
            "901ee5c3b3c04758a48b962e0d6a56f8",
            "391a9ad0a17d48299adef860e47cfa88",
            "ee30421305e741dfbe54fc784208c420",
            "8d024f6e815b40f2990aef3734464c43",
            "bbb8dec39c324597ae46ac03587a66e3",
            "904987fec0c9447abc2c505d854f1c9b",
            "21ce2c1c365b4ecebffe9e5eb46cb37f",
            "95f7fce342014f5aae835e47bb16c1d4",
            "075602950cbc49bb9347e3c6753cbba3",
            "5d894418ee6a43c1b062216cfb298b9a",
            "b88c6ca07baa492f82ba7a61db34a3b0",
            "9f73c3bbd68240adae1302165a2afa36",
            "b0f4641585f64d50aad7690685b1a9e7",
            "b41393d7e5ab4dd396ded85451e20926",
            "cfcd6cf57d174144ba6e481d03efd11a",
            "3b677d37444d4db3b435206052c1b7fd",
            "b3baf2601997485f9b992d2d95fa65ce",
            "6452f9c07d504962809cc290481160e0",
            "de801d6c8fe14ee5bd975da423f360a3",
            "3489a414f9fc49b980d44661f26da354",
            "4254cbf0a01f42e1a7582fe610d9ef28",
            "d4c4aad540084ddf8e185a2d88298c96",
            "fa7bd2cb83d74232887a72c0649c72a7",
            "083c702266a24b28be23d490ab7c231a",
            "a1913512cdaa4045853229a09a7ab6ca",
            "bf09ccf935e641a2b5e26e9862bc1686",
            "2e09d3b4580a4207b2c0fc818bdc4d0e",
            "df025333dd3d4e6aaf5d1e10ff2a0540",
            "1c69aa4aeea1454681076facde7c9157",
            "6c518f98fdd44f8d8e473624bed69523",
            "b5b2fa69b40d476db76e800160bb7f81",
            "cb9e649eee65440fa9c04401509bd18e",
            "89e7a80afbc04bdd9f1cb756b3f56962",
            "7cf49d487d4a4b29a6b91eae994335f3",
            "833e69aecccc44d8a6fa55420976574c",
            "938bb87c56d043d695779f2cb2599c2e",
            "f95b2fd1ad3d49088121d41fd8c91245",
            "d5f9b2eed83c4043b92944ec04318c1f",
            "8db6acddde8849e0aa27d1c2894ec716",
            "3b145bade2c64d06ba9f5d6349ccc2d0",
            "ce0e1a2ba92a4b1e88b9d89b1c743aca",
            "a9e54c0dcbc245fe8959a0b03abf6283",
            "bf73d1e4efb9483b87a63de72361850e",
            "c4e988db0c12404db5162ac25dda5f54",
            "436277b4cf0a4265b93aaeab6c108c5f",
            "b2d35f18b93d4e3a9ae81e808c354ba7",
            "f82d9e800ea34059a4e2e398e7359959",
            "16d6e2c67354471fa7045351c8544f22",
            "f9d173484a1548c0b0a8a3d595c8bfdc",
            "4b7cd7da54424b9cbd790f2a56400e85",
            "9e3e29b429294a07b2803f50b2804e91",
            "63bac08082554004b454f58465b1374a",
            "1407dbef15c048aa84cf2dea6c9a2ea2",
            "7fd4deae14874f4cb10c665b13327f79",
            "a554beac97ac454da8860d92bafe2803"
          ]
        },
        "id": "iJ9HK7-osdjw",
        "outputId": "2b10e936-b410-46de-e358-a88ae164f201"
      },
      "outputs": [
        {
          "name": "stderr",
          "output_type": "stream",
          "text": [
            "INFO:pytorch_lightning.accelerators.cuda:LOCAL_RANK: 0 - CUDA_VISIBLE_DEVICES: [0]\n"
          ]
        },
        {
          "data": {
            "application/vnd.jupyter.widget-view+json": {
              "model_id": "4119a64e81684564b23589604d1e0870",
              "version_major": 2,
              "version_minor": 0
            },
            "text/plain": [
              "Output()"
            ]
          },
          "metadata": {},
          "output_type": "display_data"
        },
        {
          "name": "stderr",
          "output_type": "stream",
          "text": [
            "INFO:pytorch_lightning.callbacks.model_summary:\n",
            "  | Name  | Type                       | Params | Mode\n",
            "------------------------------------------------------------\n",
            "0 | model | BertForTokenClassification | 101 M  | eval\n",
            "------------------------------------------------------------\n",
            "101 M     Trainable params\n",
            "0         Non-trainable params\n",
            "101 M     Total params\n",
            "406.773   Total estimated model params size (MB)\n",
            "0         Modules in train mode\n",
            "228       Modules in eval mode\n"
          ]
        },
        {
          "data": {
            "application/vnd.jupyter.widget-view+json": {
              "model_id": "142c5691b20f47f18f61e59533b64053",
              "version_major": 2,
              "version_minor": 0
            },
            "text/plain": [
              "Sanity Checking: |          | 0/? [00:00<?, ?it/s]"
            ]
          },
          "metadata": {},
          "output_type": "display_data"
        },
        {
          "data": {
            "application/vnd.jupyter.widget-view+json": {
              "model_id": "2d8f3606787c444c942bfb5c9202e051",
              "version_major": 2,
              "version_minor": 0
            },
            "text/plain": [
              "Training: |          | 0/? [00:00<?, ?it/s]"
            ]
          },
          "metadata": {},
          "output_type": "display_data"
        },
        {
          "data": {
            "application/vnd.jupyter.widget-view+json": {
              "model_id": "c9312ce73205422580e6817b278410af",
              "version_major": 2,
              "version_minor": 0
            },
            "text/plain": [
              "Validation: |          | 0/? [00:00<?, ?it/s]"
            ]
          },
          "metadata": {},
          "output_type": "display_data"
        },
        {
          "name": "stderr",
          "output_type": "stream",
          "text": [
            "INFO:pytorch_lightning.utilities.rank_zero:Epoch 0, global step 182: 'val_loss' reached 0.34783 (best 0.34783), saving model to '/content/gdrive/MyDrive/Colab/punktuation-ner/ckpoint/epoch=0-step=182.ckpt' as top 1\n"
          ]
        },
        {
          "data": {
            "application/vnd.jupyter.widget-view+json": {
              "model_id": "901ee5c3b3c04758a48b962e0d6a56f8",
              "version_major": 2,
              "version_minor": 0
            },
            "text/plain": [
              "Validation: |          | 0/? [00:00<?, ?it/s]"
            ]
          },
          "metadata": {},
          "output_type": "display_data"
        },
        {
          "name": "stderr",
          "output_type": "stream",
          "text": [
            "INFO:pytorch_lightning.utilities.rank_zero:Epoch 1, global step 364: 'val_loss' was not in top 1\n"
          ]
        },
        {
          "data": {
            "application/vnd.jupyter.widget-view+json": {
              "model_id": "9f73c3bbd68240adae1302165a2afa36",
              "version_major": 2,
              "version_minor": 0
            },
            "text/plain": [
              "Validation: |          | 0/? [00:00<?, ?it/s]"
            ]
          },
          "metadata": {},
          "output_type": "display_data"
        },
        {
          "name": "stderr",
          "output_type": "stream",
          "text": [
            "INFO:pytorch_lightning.utilities.rank_zero:Epoch 2, global step 546: 'val_loss' was not in top 1\n"
          ]
        },
        {
          "data": {
            "application/vnd.jupyter.widget-view+json": {
              "model_id": "fa7bd2cb83d74232887a72c0649c72a7",
              "version_major": 2,
              "version_minor": 0
            },
            "text/plain": [
              "Validation: |          | 0/? [00:00<?, ?it/s]"
            ]
          },
          "metadata": {},
          "output_type": "display_data"
        },
        {
          "name": "stderr",
          "output_type": "stream",
          "text": [
            "INFO:pytorch_lightning.utilities.rank_zero:Epoch 3, global step 728: 'val_loss' was not in top 1\n"
          ]
        },
        {
          "data": {
            "application/vnd.jupyter.widget-view+json": {
              "model_id": "7cf49d487d4a4b29a6b91eae994335f3",
              "version_major": 2,
              "version_minor": 0
            },
            "text/plain": [
              "Validation: |          | 0/? [00:00<?, ?it/s]"
            ]
          },
          "metadata": {},
          "output_type": "display_data"
        },
        {
          "name": "stderr",
          "output_type": "stream",
          "text": [
            "INFO:pytorch_lightning.utilities.rank_zero:Epoch 4, global step 910: 'val_loss' was not in top 1\n"
          ]
        },
        {
          "data": {
            "application/vnd.jupyter.widget-view+json": {
              "model_id": "436277b4cf0a4265b93aaeab6c108c5f",
              "version_major": 2,
              "version_minor": 0
            },
            "text/plain": [
              "Validation: |          | 0/? [00:00<?, ?it/s]"
            ]
          },
          "metadata": {},
          "output_type": "display_data"
        },
        {
          "name": "stderr",
          "output_type": "stream",
          "text": [
            "INFO:pytorch_lightning.utilities.rank_zero:Epoch 5, global step 1092: 'val_loss' was not in top 1\n",
            "INFO:pytorch_lightning.utilities.rank_zero:\n",
            "Detected KeyboardInterrupt, attempting graceful shutdown ...\n"
          ]
        },
        {
          "ename": "NameError",
          "evalue": "name 'exit' is not defined",
          "output_type": "error",
          "traceback": [
            "\u001b[0;31m---------------------------------------------------------------------------\u001b[0m",
            "\u001b[0;31mKeyboardInterrupt\u001b[0m                         Traceback (most recent call last)",
            "\u001b[0;32m/usr/local/lib/python3.10/dist-packages/pytorch_lightning/trainer/call.py\u001b[0m in \u001b[0;36m_call_and_handle_interrupt\u001b[0;34m(trainer, trainer_fn, *args, **kwargs)\u001b[0m\n\u001b[1;32m     46\u001b[0m             \u001b[0;32mreturn\u001b[0m \u001b[0mtrainer\u001b[0m\u001b[0;34m.\u001b[0m\u001b[0mstrategy\u001b[0m\u001b[0;34m.\u001b[0m\u001b[0mlauncher\u001b[0m\u001b[0;34m.\u001b[0m\u001b[0mlaunch\u001b[0m\u001b[0;34m(\u001b[0m\u001b[0mtrainer_fn\u001b[0m\u001b[0;34m,\u001b[0m \u001b[0;34m*\u001b[0m\u001b[0margs\u001b[0m\u001b[0;34m,\u001b[0m \u001b[0mtrainer\u001b[0m\u001b[0;34m=\u001b[0m\u001b[0mtrainer\u001b[0m\u001b[0;34m,\u001b[0m \u001b[0;34m**\u001b[0m\u001b[0mkwargs\u001b[0m\u001b[0;34m)\u001b[0m\u001b[0;34m\u001b[0m\u001b[0;34m\u001b[0m\u001b[0m\n\u001b[0;32m---> 47\u001b[0;31m         \u001b[0;32mreturn\u001b[0m \u001b[0mtrainer_fn\u001b[0m\u001b[0;34m(\u001b[0m\u001b[0;34m*\u001b[0m\u001b[0margs\u001b[0m\u001b[0;34m,\u001b[0m \u001b[0;34m**\u001b[0m\u001b[0mkwargs\u001b[0m\u001b[0;34m)\u001b[0m\u001b[0;34m\u001b[0m\u001b[0;34m\u001b[0m\u001b[0m\n\u001b[0m\u001b[1;32m     48\u001b[0m \u001b[0;34m\u001b[0m\u001b[0m\n",
            "\u001b[0;32m/usr/local/lib/python3.10/dist-packages/pytorch_lightning/trainer/trainer.py\u001b[0m in \u001b[0;36m_fit_impl\u001b[0;34m(self, model, train_dataloaders, val_dataloaders, datamodule, ckpt_path)\u001b[0m\n\u001b[1;32m    573\u001b[0m         )\n\u001b[0;32m--> 574\u001b[0;31m         \u001b[0mself\u001b[0m\u001b[0;34m.\u001b[0m\u001b[0m_run\u001b[0m\u001b[0;34m(\u001b[0m\u001b[0mmodel\u001b[0m\u001b[0;34m,\u001b[0m \u001b[0mckpt_path\u001b[0m\u001b[0;34m=\u001b[0m\u001b[0mckpt_path\u001b[0m\u001b[0;34m)\u001b[0m\u001b[0;34m\u001b[0m\u001b[0;34m\u001b[0m\u001b[0m\n\u001b[0m\u001b[1;32m    575\u001b[0m \u001b[0;34m\u001b[0m\u001b[0m\n",
            "\u001b[0;32m/usr/local/lib/python3.10/dist-packages/pytorch_lightning/trainer/trainer.py\u001b[0m in \u001b[0;36m_run\u001b[0;34m(self, model, ckpt_path)\u001b[0m\n\u001b[1;32m    980\u001b[0m         \u001b[0;31m# ----------------------------\u001b[0m\u001b[0;34m\u001b[0m\u001b[0;34m\u001b[0m\u001b[0m\n\u001b[0;32m--> 981\u001b[0;31m         \u001b[0mresults\u001b[0m \u001b[0;34m=\u001b[0m \u001b[0mself\u001b[0m\u001b[0;34m.\u001b[0m\u001b[0m_run_stage\u001b[0m\u001b[0;34m(\u001b[0m\u001b[0;34m)\u001b[0m\u001b[0;34m\u001b[0m\u001b[0;34m\u001b[0m\u001b[0m\n\u001b[0m\u001b[1;32m    982\u001b[0m \u001b[0;34m\u001b[0m\u001b[0m\n",
            "\u001b[0;32m/usr/local/lib/python3.10/dist-packages/pytorch_lightning/trainer/trainer.py\u001b[0m in \u001b[0;36m_run_stage\u001b[0;34m(self)\u001b[0m\n\u001b[1;32m   1024\u001b[0m             \u001b[0;32mwith\u001b[0m \u001b[0mtorch\u001b[0m\u001b[0;34m.\u001b[0m\u001b[0mautograd\u001b[0m\u001b[0;34m.\u001b[0m\u001b[0mset_detect_anomaly\u001b[0m\u001b[0;34m(\u001b[0m\u001b[0mself\u001b[0m\u001b[0;34m.\u001b[0m\u001b[0m_detect_anomaly\u001b[0m\u001b[0;34m)\u001b[0m\u001b[0;34m:\u001b[0m\u001b[0;34m\u001b[0m\u001b[0;34m\u001b[0m\u001b[0m\n\u001b[0;32m-> 1025\u001b[0;31m                 \u001b[0mself\u001b[0m\u001b[0;34m.\u001b[0m\u001b[0mfit_loop\u001b[0m\u001b[0;34m.\u001b[0m\u001b[0mrun\u001b[0m\u001b[0;34m(\u001b[0m\u001b[0;34m)\u001b[0m\u001b[0;34m\u001b[0m\u001b[0;34m\u001b[0m\u001b[0m\n\u001b[0m\u001b[1;32m   1026\u001b[0m             \u001b[0;32mreturn\u001b[0m \u001b[0;32mNone\u001b[0m\u001b[0;34m\u001b[0m\u001b[0;34m\u001b[0m\u001b[0m\n",
            "\u001b[0;32m/usr/local/lib/python3.10/dist-packages/pytorch_lightning/loops/fit_loop.py\u001b[0m in \u001b[0;36mrun\u001b[0;34m(self)\u001b[0m\n\u001b[1;32m    204\u001b[0m                 \u001b[0mself\u001b[0m\u001b[0;34m.\u001b[0m\u001b[0mon_advance_start\u001b[0m\u001b[0;34m(\u001b[0m\u001b[0;34m)\u001b[0m\u001b[0;34m\u001b[0m\u001b[0;34m\u001b[0m\u001b[0m\n\u001b[0;32m--> 205\u001b[0;31m                 \u001b[0mself\u001b[0m\u001b[0;34m.\u001b[0m\u001b[0madvance\u001b[0m\u001b[0;34m(\u001b[0m\u001b[0;34m)\u001b[0m\u001b[0;34m\u001b[0m\u001b[0;34m\u001b[0m\u001b[0m\n\u001b[0m\u001b[1;32m    206\u001b[0m                 \u001b[0mself\u001b[0m\u001b[0;34m.\u001b[0m\u001b[0mon_advance_end\u001b[0m\u001b[0;34m(\u001b[0m\u001b[0;34m)\u001b[0m\u001b[0;34m\u001b[0m\u001b[0;34m\u001b[0m\u001b[0m\n",
            "\u001b[0;32m/usr/local/lib/python3.10/dist-packages/pytorch_lightning/loops/fit_loop.py\u001b[0m in \u001b[0;36madvance\u001b[0;34m(self)\u001b[0m\n\u001b[1;32m    362\u001b[0m             \u001b[0;32massert\u001b[0m \u001b[0mself\u001b[0m\u001b[0;34m.\u001b[0m\u001b[0m_data_fetcher\u001b[0m \u001b[0;32mis\u001b[0m \u001b[0;32mnot\u001b[0m \u001b[0;32mNone\u001b[0m\u001b[0;34m\u001b[0m\u001b[0;34m\u001b[0m\u001b[0m\n\u001b[0;32m--> 363\u001b[0;31m             \u001b[0mself\u001b[0m\u001b[0;34m.\u001b[0m\u001b[0mepoch_loop\u001b[0m\u001b[0;34m.\u001b[0m\u001b[0mrun\u001b[0m\u001b[0;34m(\u001b[0m\u001b[0mself\u001b[0m\u001b[0;34m.\u001b[0m\u001b[0m_data_fetcher\u001b[0m\u001b[0;34m)\u001b[0m\u001b[0;34m\u001b[0m\u001b[0;34m\u001b[0m\u001b[0m\n\u001b[0m\u001b[1;32m    364\u001b[0m \u001b[0;34m\u001b[0m\u001b[0m\n",
            "\u001b[0;32m/usr/local/lib/python3.10/dist-packages/pytorch_lightning/loops/training_epoch_loop.py\u001b[0m in \u001b[0;36mrun\u001b[0;34m(self, data_fetcher)\u001b[0m\n\u001b[1;32m    139\u001b[0m             \u001b[0;32mtry\u001b[0m\u001b[0;34m:\u001b[0m\u001b[0;34m\u001b[0m\u001b[0;34m\u001b[0m\u001b[0m\n\u001b[0;32m--> 140\u001b[0;31m                 \u001b[0mself\u001b[0m\u001b[0;34m.\u001b[0m\u001b[0madvance\u001b[0m\u001b[0;34m(\u001b[0m\u001b[0mdata_fetcher\u001b[0m\u001b[0;34m)\u001b[0m\u001b[0;34m\u001b[0m\u001b[0;34m\u001b[0m\u001b[0m\n\u001b[0m\u001b[1;32m    141\u001b[0m                 \u001b[0mself\u001b[0m\u001b[0;34m.\u001b[0m\u001b[0mon_advance_end\u001b[0m\u001b[0;34m(\u001b[0m\u001b[0mdata_fetcher\u001b[0m\u001b[0;34m)\u001b[0m\u001b[0;34m\u001b[0m\u001b[0;34m\u001b[0m\u001b[0m\n",
            "\u001b[0;32m/usr/local/lib/python3.10/dist-packages/pytorch_lightning/loops/training_epoch_loop.py\u001b[0m in \u001b[0;36madvance\u001b[0;34m(self, data_fetcher)\u001b[0m\n\u001b[1;32m    222\u001b[0m             \u001b[0mbatch\u001b[0m \u001b[0;34m=\u001b[0m \u001b[0mtrainer\u001b[0m\u001b[0;34m.\u001b[0m\u001b[0mlightning_module\u001b[0m\u001b[0;34m.\u001b[0m\u001b[0m_on_before_batch_transfer\u001b[0m\u001b[0;34m(\u001b[0m\u001b[0mbatch\u001b[0m\u001b[0;34m,\u001b[0m \u001b[0mdataloader_idx\u001b[0m\u001b[0;34m=\u001b[0m\u001b[0;36m0\u001b[0m\u001b[0;34m)\u001b[0m\u001b[0;34m\u001b[0m\u001b[0;34m\u001b[0m\u001b[0m\n\u001b[0;32m--> 223\u001b[0;31m             \u001b[0mbatch\u001b[0m \u001b[0;34m=\u001b[0m \u001b[0mcall\u001b[0m\u001b[0;34m.\u001b[0m\u001b[0m_call_strategy_hook\u001b[0m\u001b[0;34m(\u001b[0m\u001b[0mtrainer\u001b[0m\u001b[0;34m,\u001b[0m \u001b[0;34m\"batch_to_device\"\u001b[0m\u001b[0;34m,\u001b[0m \u001b[0mbatch\u001b[0m\u001b[0;34m,\u001b[0m \u001b[0mdataloader_idx\u001b[0m\u001b[0;34m=\u001b[0m\u001b[0;36m0\u001b[0m\u001b[0;34m)\u001b[0m\u001b[0;34m\u001b[0m\u001b[0;34m\u001b[0m\u001b[0m\n\u001b[0m\u001b[1;32m    224\u001b[0m \u001b[0;34m\u001b[0m\u001b[0m\n",
            "\u001b[0;32m/usr/local/lib/python3.10/dist-packages/pytorch_lightning/trainer/call.py\u001b[0m in \u001b[0;36m_call_strategy_hook\u001b[0;34m(trainer, hook_name, *args, **kwargs)\u001b[0m\n\u001b[1;32m    318\u001b[0m     \u001b[0;32mwith\u001b[0m \u001b[0mtrainer\u001b[0m\u001b[0;34m.\u001b[0m\u001b[0mprofiler\u001b[0m\u001b[0;34m.\u001b[0m\u001b[0mprofile\u001b[0m\u001b[0;34m(\u001b[0m\u001b[0;34mf\"[Strategy]{trainer.strategy.__class__.__name__}.{hook_name}\"\u001b[0m\u001b[0;34m)\u001b[0m\u001b[0;34m:\u001b[0m\u001b[0;34m\u001b[0m\u001b[0;34m\u001b[0m\u001b[0m\n\u001b[0;32m--> 319\u001b[0;31m         \u001b[0moutput\u001b[0m \u001b[0;34m=\u001b[0m \u001b[0mfn\u001b[0m\u001b[0;34m(\u001b[0m\u001b[0;34m*\u001b[0m\u001b[0margs\u001b[0m\u001b[0;34m,\u001b[0m \u001b[0;34m**\u001b[0m\u001b[0mkwargs\u001b[0m\u001b[0;34m)\u001b[0m\u001b[0;34m\u001b[0m\u001b[0;34m\u001b[0m\u001b[0m\n\u001b[0m\u001b[1;32m    320\u001b[0m \u001b[0;34m\u001b[0m\u001b[0m\n",
            "\u001b[0;32m/usr/local/lib/python3.10/dist-packages/pytorch_lightning/strategies/strategy.py\u001b[0m in \u001b[0;36mbatch_to_device\u001b[0;34m(self, batch, device, dataloader_idx)\u001b[0m\n\u001b[1;32m    276\u001b[0m         \u001b[0;32mif\u001b[0m \u001b[0mmodel\u001b[0m \u001b[0;32mis\u001b[0m \u001b[0;32mnot\u001b[0m \u001b[0;32mNone\u001b[0m\u001b[0;34m:\u001b[0m\u001b[0;34m\u001b[0m\u001b[0;34m\u001b[0m\u001b[0m\n\u001b[0;32m--> 277\u001b[0;31m             \u001b[0;32mreturn\u001b[0m \u001b[0mmodel\u001b[0m\u001b[0;34m.\u001b[0m\u001b[0m_apply_batch_transfer_handler\u001b[0m\u001b[0;34m(\u001b[0m\u001b[0mbatch\u001b[0m\u001b[0;34m,\u001b[0m \u001b[0mdevice\u001b[0m\u001b[0;34m=\u001b[0m\u001b[0mdevice\u001b[0m\u001b[0;34m,\u001b[0m \u001b[0mdataloader_idx\u001b[0m\u001b[0;34m=\u001b[0m\u001b[0mdataloader_idx\u001b[0m\u001b[0;34m)\u001b[0m\u001b[0;34m\u001b[0m\u001b[0;34m\u001b[0m\u001b[0m\n\u001b[0m\u001b[1;32m    278\u001b[0m         \u001b[0;32mreturn\u001b[0m \u001b[0mmove_data_to_device\u001b[0m\u001b[0;34m(\u001b[0m\u001b[0mbatch\u001b[0m\u001b[0;34m,\u001b[0m \u001b[0mdevice\u001b[0m\u001b[0;34m)\u001b[0m\u001b[0;34m\u001b[0m\u001b[0;34m\u001b[0m\u001b[0m\n",
            "\u001b[0;32m/usr/local/lib/python3.10/dist-packages/pytorch_lightning/core/module.py\u001b[0m in \u001b[0;36m_apply_batch_transfer_handler\u001b[0;34m(self, batch, device, dataloader_idx)\u001b[0m\n\u001b[1;32m    355\u001b[0m         \u001b[0mdevice\u001b[0m \u001b[0;34m=\u001b[0m \u001b[0mdevice\u001b[0m \u001b[0;32mor\u001b[0m \u001b[0mself\u001b[0m\u001b[0;34m.\u001b[0m\u001b[0mdevice\u001b[0m\u001b[0;34m\u001b[0m\u001b[0;34m\u001b[0m\u001b[0m\n\u001b[0;32m--> 356\u001b[0;31m         \u001b[0mbatch\u001b[0m \u001b[0;34m=\u001b[0m \u001b[0mself\u001b[0m\u001b[0;34m.\u001b[0m\u001b[0m_call_batch_hook\u001b[0m\u001b[0;34m(\u001b[0m\u001b[0;34m\"transfer_batch_to_device\"\u001b[0m\u001b[0;34m,\u001b[0m \u001b[0mbatch\u001b[0m\u001b[0;34m,\u001b[0m \u001b[0mdevice\u001b[0m\u001b[0;34m,\u001b[0m \u001b[0mdataloader_idx\u001b[0m\u001b[0;34m)\u001b[0m\u001b[0;34m\u001b[0m\u001b[0;34m\u001b[0m\u001b[0m\n\u001b[0m\u001b[1;32m    357\u001b[0m         \u001b[0mbatch\u001b[0m \u001b[0;34m=\u001b[0m \u001b[0mself\u001b[0m\u001b[0;34m.\u001b[0m\u001b[0m_call_batch_hook\u001b[0m\u001b[0;34m(\u001b[0m\u001b[0;34m\"on_after_batch_transfer\"\u001b[0m\u001b[0;34m,\u001b[0m \u001b[0mbatch\u001b[0m\u001b[0;34m,\u001b[0m \u001b[0mdataloader_idx\u001b[0m\u001b[0;34m)\u001b[0m\u001b[0;34m\u001b[0m\u001b[0;34m\u001b[0m\u001b[0m\n",
            "\u001b[0;32m/usr/local/lib/python3.10/dist-packages/pytorch_lightning/core/module.py\u001b[0m in \u001b[0;36m_call_batch_hook\u001b[0;34m(self, hook_name, *args)\u001b[0m\n\u001b[1;32m    344\u001b[0m \u001b[0;34m\u001b[0m\u001b[0m\n\u001b[0;32m--> 345\u001b[0;31m             \u001b[0;32mreturn\u001b[0m \u001b[0mtrainer_method\u001b[0m\u001b[0;34m(\u001b[0m\u001b[0mtrainer\u001b[0m\u001b[0;34m,\u001b[0m \u001b[0mhook_name\u001b[0m\u001b[0;34m,\u001b[0m \u001b[0;34m*\u001b[0m\u001b[0margs\u001b[0m\u001b[0;34m)\u001b[0m\u001b[0;34m\u001b[0m\u001b[0;34m\u001b[0m\u001b[0m\n\u001b[0m\u001b[1;32m    346\u001b[0m         \u001b[0mhook\u001b[0m \u001b[0;34m=\u001b[0m \u001b[0mgetattr\u001b[0m\u001b[0;34m(\u001b[0m\u001b[0mself\u001b[0m\u001b[0;34m,\u001b[0m \u001b[0mhook_name\u001b[0m\u001b[0;34m)\u001b[0m\u001b[0;34m\u001b[0m\u001b[0;34m\u001b[0m\u001b[0m\n",
            "\u001b[0;32m/usr/local/lib/python3.10/dist-packages/pytorch_lightning/trainer/call.py\u001b[0m in \u001b[0;36m_call_lightning_module_hook\u001b[0;34m(trainer, hook_name, pl_module, *args, **kwargs)\u001b[0m\n\u001b[1;32m    166\u001b[0m     \u001b[0;32mwith\u001b[0m \u001b[0mtrainer\u001b[0m\u001b[0;34m.\u001b[0m\u001b[0mprofiler\u001b[0m\u001b[0;34m.\u001b[0m\u001b[0mprofile\u001b[0m\u001b[0;34m(\u001b[0m\u001b[0;34mf\"[LightningModule]{pl_module.__class__.__name__}.{hook_name}\"\u001b[0m\u001b[0;34m)\u001b[0m\u001b[0;34m:\u001b[0m\u001b[0;34m\u001b[0m\u001b[0;34m\u001b[0m\u001b[0m\n\u001b[0;32m--> 167\u001b[0;31m         \u001b[0moutput\u001b[0m \u001b[0;34m=\u001b[0m \u001b[0mfn\u001b[0m\u001b[0;34m(\u001b[0m\u001b[0;34m*\u001b[0m\u001b[0margs\u001b[0m\u001b[0;34m,\u001b[0m \u001b[0;34m**\u001b[0m\u001b[0mkwargs\u001b[0m\u001b[0;34m)\u001b[0m\u001b[0;34m\u001b[0m\u001b[0;34m\u001b[0m\u001b[0m\n\u001b[0m\u001b[1;32m    168\u001b[0m \u001b[0;34m\u001b[0m\u001b[0m\n",
            "\u001b[0;32m/usr/local/lib/python3.10/dist-packages/pytorch_lightning/core/hooks.py\u001b[0m in \u001b[0;36mtransfer_batch_to_device\u001b[0;34m(self, batch, device, dataloader_idx)\u001b[0m\n\u001b[1;32m    610\u001b[0m         \"\"\"\n\u001b[0;32m--> 611\u001b[0;31m         \u001b[0;32mreturn\u001b[0m \u001b[0mmove_data_to_device\u001b[0m\u001b[0;34m(\u001b[0m\u001b[0mbatch\u001b[0m\u001b[0;34m,\u001b[0m \u001b[0mdevice\u001b[0m\u001b[0;34m)\u001b[0m\u001b[0;34m\u001b[0m\u001b[0;34m\u001b[0m\u001b[0m\n\u001b[0m\u001b[1;32m    612\u001b[0m \u001b[0;34m\u001b[0m\u001b[0m\n",
            "\u001b[0;32m/usr/local/lib/python3.10/dist-packages/lightning_fabric/utilities/apply_func.py\u001b[0m in \u001b[0;36mmove_data_to_device\u001b[0;34m(batch, device)\u001b[0m\n\u001b[1;32m    109\u001b[0m \u001b[0;34m\u001b[0m\u001b[0m\n\u001b[0;32m--> 110\u001b[0;31m     \u001b[0;32mreturn\u001b[0m \u001b[0mapply_to_collection\u001b[0m\u001b[0;34m(\u001b[0m\u001b[0mbatch\u001b[0m\u001b[0;34m,\u001b[0m \u001b[0mdtype\u001b[0m\u001b[0;34m=\u001b[0m\u001b[0m_TransferableDataType\u001b[0m\u001b[0;34m,\u001b[0m \u001b[0mfunction\u001b[0m\u001b[0;34m=\u001b[0m\u001b[0mbatch_to\u001b[0m\u001b[0;34m)\u001b[0m\u001b[0;34m\u001b[0m\u001b[0;34m\u001b[0m\u001b[0m\n\u001b[0m\u001b[1;32m    111\u001b[0m \u001b[0;34m\u001b[0m\u001b[0m\n",
            "\u001b[0;32m/usr/local/lib/python3.10/dist-packages/lightning_utilities/core/apply_func.py\u001b[0m in \u001b[0;36mapply_to_collection\u001b[0;34m(data, dtype, function, wrong_dtype, include_none, allow_frozen, *args, **kwargs)\u001b[0m\n\u001b[1;32m     63\u001b[0m     \u001b[0;32mif\u001b[0m \u001b[0misinstance\u001b[0m\u001b[0;34m(\u001b[0m\u001b[0mdata\u001b[0m\u001b[0;34m,\u001b[0m \u001b[0mdtype\u001b[0m\u001b[0;34m)\u001b[0m\u001b[0;34m:\u001b[0m  \u001b[0;31m# single element\u001b[0m\u001b[0;34m\u001b[0m\u001b[0;34m\u001b[0m\u001b[0m\n\u001b[0;32m---> 64\u001b[0;31m         \u001b[0;32mreturn\u001b[0m \u001b[0mfunction\u001b[0m\u001b[0;34m(\u001b[0m\u001b[0mdata\u001b[0m\u001b[0;34m,\u001b[0m \u001b[0;34m*\u001b[0m\u001b[0margs\u001b[0m\u001b[0;34m,\u001b[0m \u001b[0;34m**\u001b[0m\u001b[0mkwargs\u001b[0m\u001b[0;34m)\u001b[0m\u001b[0;34m\u001b[0m\u001b[0;34m\u001b[0m\u001b[0m\n\u001b[0m\u001b[1;32m     65\u001b[0m     \u001b[0;32mif\u001b[0m \u001b[0mdata\u001b[0m\u001b[0;34m.\u001b[0m\u001b[0m__class__\u001b[0m \u001b[0;32mis\u001b[0m \u001b[0mlist\u001b[0m \u001b[0;32mand\u001b[0m \u001b[0mall\u001b[0m\u001b[0;34m(\u001b[0m\u001b[0misinstance\u001b[0m\u001b[0;34m(\u001b[0m\u001b[0mx\u001b[0m\u001b[0;34m,\u001b[0m \u001b[0mdtype\u001b[0m\u001b[0;34m)\u001b[0m \u001b[0;32mfor\u001b[0m \u001b[0mx\u001b[0m \u001b[0;32min\u001b[0m \u001b[0mdata\u001b[0m\u001b[0;34m)\u001b[0m\u001b[0;34m:\u001b[0m  \u001b[0;31m# 1d homogeneous list\u001b[0m\u001b[0;34m\u001b[0m\u001b[0;34m\u001b[0m\u001b[0m\n",
            "\u001b[0;32m/usr/local/lib/python3.10/dist-packages/lightning_fabric/utilities/apply_func.py\u001b[0m in \u001b[0;36mbatch_to\u001b[0;34m(data)\u001b[0m\n\u001b[1;32m    103\u001b[0m             \u001b[0mkwargs\u001b[0m\u001b[0;34m[\u001b[0m\u001b[0;34m\"non_blocking\"\u001b[0m\u001b[0;34m]\u001b[0m \u001b[0;34m=\u001b[0m \u001b[0;32mTrue\u001b[0m\u001b[0;34m\u001b[0m\u001b[0;34m\u001b[0m\u001b[0m\n\u001b[0;32m--> 104\u001b[0;31m         \u001b[0mdata_output\u001b[0m \u001b[0;34m=\u001b[0m \u001b[0mdata\u001b[0m\u001b[0;34m.\u001b[0m\u001b[0mto\u001b[0m\u001b[0;34m(\u001b[0m\u001b[0mdevice\u001b[0m\u001b[0;34m,\u001b[0m \u001b[0;34m**\u001b[0m\u001b[0mkwargs\u001b[0m\u001b[0;34m)\u001b[0m\u001b[0;34m\u001b[0m\u001b[0;34m\u001b[0m\u001b[0m\n\u001b[0m\u001b[1;32m    105\u001b[0m         \u001b[0;32mif\u001b[0m \u001b[0mdata_output\u001b[0m \u001b[0;32mis\u001b[0m \u001b[0;32mnot\u001b[0m \u001b[0;32mNone\u001b[0m\u001b[0;34m:\u001b[0m\u001b[0;34m\u001b[0m\u001b[0;34m\u001b[0m\u001b[0m\n",
            "\u001b[0;32m/usr/local/lib/python3.10/dist-packages/transformers/tokenization_utils_base.py\u001b[0m in \u001b[0;36mto\u001b[0;34m(self, device)\u001b[0m\n\u001b[1;32m    802\u001b[0m         \u001b[0;32mif\u001b[0m \u001b[0misinstance\u001b[0m\u001b[0;34m(\u001b[0m\u001b[0mdevice\u001b[0m\u001b[0;34m,\u001b[0m \u001b[0mstr\u001b[0m\u001b[0;34m)\u001b[0m \u001b[0;32mor\u001b[0m \u001b[0mis_torch_device\u001b[0m\u001b[0;34m(\u001b[0m\u001b[0mdevice\u001b[0m\u001b[0;34m)\u001b[0m \u001b[0;32mor\u001b[0m \u001b[0misinstance\u001b[0m\u001b[0;34m(\u001b[0m\u001b[0mdevice\u001b[0m\u001b[0;34m,\u001b[0m \u001b[0mint\u001b[0m\u001b[0;34m)\u001b[0m\u001b[0;34m:\u001b[0m\u001b[0;34m\u001b[0m\u001b[0;34m\u001b[0m\u001b[0m\n\u001b[0;32m--> 803\u001b[0;31m             \u001b[0mself\u001b[0m\u001b[0;34m.\u001b[0m\u001b[0mdata\u001b[0m \u001b[0;34m=\u001b[0m \u001b[0;34m{\u001b[0m\u001b[0mk\u001b[0m\u001b[0;34m:\u001b[0m \u001b[0mv\u001b[0m\u001b[0;34m.\u001b[0m\u001b[0mto\u001b[0m\u001b[0;34m(\u001b[0m\u001b[0mdevice\u001b[0m\u001b[0;34m=\u001b[0m\u001b[0mdevice\u001b[0m\u001b[0;34m)\u001b[0m \u001b[0;32mfor\u001b[0m \u001b[0mk\u001b[0m\u001b[0;34m,\u001b[0m \u001b[0mv\u001b[0m \u001b[0;32min\u001b[0m \u001b[0mself\u001b[0m\u001b[0;34m.\u001b[0m\u001b[0mdata\u001b[0m\u001b[0;34m.\u001b[0m\u001b[0mitems\u001b[0m\u001b[0;34m(\u001b[0m\u001b[0;34m)\u001b[0m \u001b[0;32mif\u001b[0m \u001b[0mv\u001b[0m \u001b[0;32mis\u001b[0m \u001b[0;32mnot\u001b[0m \u001b[0;32mNone\u001b[0m\u001b[0;34m}\u001b[0m\u001b[0;34m\u001b[0m\u001b[0;34m\u001b[0m\u001b[0m\n\u001b[0m\u001b[1;32m    804\u001b[0m         \u001b[0;32melse\u001b[0m\u001b[0;34m:\u001b[0m\u001b[0;34m\u001b[0m\u001b[0;34m\u001b[0m\u001b[0m\n",
            "\u001b[0;32m/usr/local/lib/python3.10/dist-packages/transformers/tokenization_utils_base.py\u001b[0m in \u001b[0;36m<dictcomp>\u001b[0;34m(.0)\u001b[0m\n\u001b[1;32m    802\u001b[0m         \u001b[0;32mif\u001b[0m \u001b[0misinstance\u001b[0m\u001b[0;34m(\u001b[0m\u001b[0mdevice\u001b[0m\u001b[0;34m,\u001b[0m \u001b[0mstr\u001b[0m\u001b[0;34m)\u001b[0m \u001b[0;32mor\u001b[0m \u001b[0mis_torch_device\u001b[0m\u001b[0;34m(\u001b[0m\u001b[0mdevice\u001b[0m\u001b[0;34m)\u001b[0m \u001b[0;32mor\u001b[0m \u001b[0misinstance\u001b[0m\u001b[0;34m(\u001b[0m\u001b[0mdevice\u001b[0m\u001b[0;34m,\u001b[0m \u001b[0mint\u001b[0m\u001b[0;34m)\u001b[0m\u001b[0;34m:\u001b[0m\u001b[0;34m\u001b[0m\u001b[0;34m\u001b[0m\u001b[0m\n\u001b[0;32m--> 803\u001b[0;31m             \u001b[0mself\u001b[0m\u001b[0;34m.\u001b[0m\u001b[0mdata\u001b[0m \u001b[0;34m=\u001b[0m \u001b[0;34m{\u001b[0m\u001b[0mk\u001b[0m\u001b[0;34m:\u001b[0m \u001b[0mv\u001b[0m\u001b[0;34m.\u001b[0m\u001b[0mto\u001b[0m\u001b[0;34m(\u001b[0m\u001b[0mdevice\u001b[0m\u001b[0;34m=\u001b[0m\u001b[0mdevice\u001b[0m\u001b[0;34m)\u001b[0m \u001b[0;32mfor\u001b[0m \u001b[0mk\u001b[0m\u001b[0;34m,\u001b[0m \u001b[0mv\u001b[0m \u001b[0;32min\u001b[0m \u001b[0mself\u001b[0m\u001b[0;34m.\u001b[0m\u001b[0mdata\u001b[0m\u001b[0;34m.\u001b[0m\u001b[0mitems\u001b[0m\u001b[0;34m(\u001b[0m\u001b[0;34m)\u001b[0m \u001b[0;32mif\u001b[0m \u001b[0mv\u001b[0m \u001b[0;32mis\u001b[0m \u001b[0;32mnot\u001b[0m \u001b[0;32mNone\u001b[0m\u001b[0;34m}\u001b[0m\u001b[0;34m\u001b[0m\u001b[0;34m\u001b[0m\u001b[0m\n\u001b[0m\u001b[1;32m    804\u001b[0m         \u001b[0;32melse\u001b[0m\u001b[0;34m:\u001b[0m\u001b[0;34m\u001b[0m\u001b[0;34m\u001b[0m\u001b[0m\n",
            "\u001b[0;31mKeyboardInterrupt\u001b[0m: ",
            "\nDuring handling of the above exception, another exception occurred:\n",
            "\u001b[0;31mNameError\u001b[0m                                 Traceback (most recent call last)",
            "\u001b[0;32m<ipython-input-104-9075400f76b8>\u001b[0m in \u001b[0;36m<cell line: 1>\u001b[0;34m()\u001b[0m\n\u001b[0;32m----> 1\u001b[0;31m \u001b[0mtrainer\u001b[0m\u001b[0;34m.\u001b[0m\u001b[0mfit\u001b[0m\u001b[0;34m(\u001b[0m\u001b[0mmodule\u001b[0m\u001b[0;34m,\u001b[0m \u001b[0mdatamodule\u001b[0m\u001b[0;34m=\u001b[0m\u001b[0mdata_module\u001b[0m\u001b[0;34m)\u001b[0m\u001b[0;34m\u001b[0m\u001b[0;34m\u001b[0m\u001b[0m\n\u001b[0m",
            "\u001b[0;32m/usr/local/lib/python3.10/dist-packages/pytorch_lightning/trainer/trainer.py\u001b[0m in \u001b[0;36mfit\u001b[0;34m(self, model, train_dataloaders, val_dataloaders, datamodule, ckpt_path)\u001b[0m\n\u001b[1;32m    536\u001b[0m         \u001b[0mself\u001b[0m\u001b[0;34m.\u001b[0m\u001b[0mstate\u001b[0m\u001b[0;34m.\u001b[0m\u001b[0mstatus\u001b[0m \u001b[0;34m=\u001b[0m \u001b[0mTrainerStatus\u001b[0m\u001b[0;34m.\u001b[0m\u001b[0mRUNNING\u001b[0m\u001b[0;34m\u001b[0m\u001b[0;34m\u001b[0m\u001b[0m\n\u001b[1;32m    537\u001b[0m         \u001b[0mself\u001b[0m\u001b[0;34m.\u001b[0m\u001b[0mtraining\u001b[0m \u001b[0;34m=\u001b[0m \u001b[0;32mTrue\u001b[0m\u001b[0;34m\u001b[0m\u001b[0;34m\u001b[0m\u001b[0m\n\u001b[0;32m--> 538\u001b[0;31m         call._call_and_handle_interrupt(\n\u001b[0m\u001b[1;32m    539\u001b[0m             \u001b[0mself\u001b[0m\u001b[0;34m,\u001b[0m \u001b[0mself\u001b[0m\u001b[0;34m.\u001b[0m\u001b[0m_fit_impl\u001b[0m\u001b[0;34m,\u001b[0m \u001b[0mmodel\u001b[0m\u001b[0;34m,\u001b[0m \u001b[0mtrain_dataloaders\u001b[0m\u001b[0;34m,\u001b[0m \u001b[0mval_dataloaders\u001b[0m\u001b[0;34m,\u001b[0m \u001b[0mdatamodule\u001b[0m\u001b[0;34m,\u001b[0m \u001b[0mckpt_path\u001b[0m\u001b[0;34m\u001b[0m\u001b[0;34m\u001b[0m\u001b[0m\n\u001b[1;32m    540\u001b[0m         )\n",
            "\u001b[0;32m/usr/local/lib/python3.10/dist-packages/pytorch_lightning/trainer/call.py\u001b[0m in \u001b[0;36m_call_and_handle_interrupt\u001b[0;34m(trainer, trainer_fn, *args, **kwargs)\u001b[0m\n\u001b[1;32m     62\u001b[0m         \u001b[0;32mif\u001b[0m \u001b[0misinstance\u001b[0m\u001b[0;34m(\u001b[0m\u001b[0mlauncher\u001b[0m\u001b[0;34m,\u001b[0m \u001b[0m_SubprocessScriptLauncher\u001b[0m\u001b[0;34m)\u001b[0m\u001b[0;34m:\u001b[0m\u001b[0;34m\u001b[0m\u001b[0;34m\u001b[0m\u001b[0m\n\u001b[1;32m     63\u001b[0m             \u001b[0mlauncher\u001b[0m\u001b[0;34m.\u001b[0m\u001b[0mkill\u001b[0m\u001b[0;34m(\u001b[0m\u001b[0m_get_sigkill_signal\u001b[0m\u001b[0;34m(\u001b[0m\u001b[0;34m)\u001b[0m\u001b[0;34m)\u001b[0m\u001b[0;34m\u001b[0m\u001b[0;34m\u001b[0m\u001b[0m\n\u001b[0;32m---> 64\u001b[0;31m         \u001b[0mexit\u001b[0m\u001b[0;34m(\u001b[0m\u001b[0;36m1\u001b[0m\u001b[0;34m)\u001b[0m\u001b[0;34m\u001b[0m\u001b[0;34m\u001b[0m\u001b[0m\n\u001b[0m\u001b[1;32m     65\u001b[0m \u001b[0;34m\u001b[0m\u001b[0m\n\u001b[1;32m     66\u001b[0m     \u001b[0;32mexcept\u001b[0m \u001b[0mBaseException\u001b[0m \u001b[0;32mas\u001b[0m \u001b[0mexception\u001b[0m\u001b[0;34m:\u001b[0m\u001b[0;34m\u001b[0m\u001b[0;34m\u001b[0m\u001b[0m\n",
            "\u001b[0;31mNameError\u001b[0m: name 'exit' is not defined"
          ]
        }
      ],
      "source": [
        "trainer.fit(module, datamodule=data_module)"
      ]
    },
    {
      "cell_type": "markdown",
      "metadata": {
        "id": "U4D61WzHsdjw"
      },
      "source": [
        "## Load the best model"
      ]
    },
    {
      "cell_type": "code",
      "execution_count": 105,
      "metadata": {
        "id": "1jNl0oe8sdjw"
      },
      "outputs": [],
      "source": [
        "module = NERModule.load_from_checkpoint(save_callback.best_model_path, model=model)"
      ]
    },
    {
      "cell_type": "code",
      "execution_count": 106,
      "metadata": {
        "id": "7Mv3Xb1Usdjw"
      },
      "outputs": [],
      "source": [
        "module.model.config.id2label = dict(enumerate(cates.i2c))\n",
        "module.model.config.label2id = cates.c2i.dict"
      ]
    },
    {
      "cell_type": "code",
      "execution_count": 107,
      "metadata": {
        "id": "2p9Qis9isdj1"
      },
      "outputs": [],
      "source": [
        "from transformers import pipeline"
      ]
    },
    {
      "cell_type": "code",
      "execution_count": 108,
      "metadata": {
        "id": "fgmMa7TDsdj1"
      },
      "outputs": [],
      "source": [
        "module.model = module.model.eval()\n",
        "module.model = module.model.cpu()"
      ]
    },
    {
      "cell_type": "code",
      "execution_count": null,
      "metadata": {
        "id": "ftvX_cZswbBh"
      },
      "outputs": [],
      "source": [
        "# prompt: Store the model\n",
        "\n",
        "torch.save(module.model, '/content/gdrive/MyDrive/Colab/punktuation-ner/best_ckpoint/punct_model_2.pth')\n"
      ]
    },
    {
      "cell_type": "code",
      "execution_count": 109,
      "metadata": {
        "colab": {
          "base_uri": "https://localhost:8080/"
        },
        "id": "ZCzuBXI_sdj1",
        "outputId": "4a34c4ae-bec5-4a7e-c5e5-1dcabe1ed82b"
      },
      "outputs": [
        {
          "name": "stderr",
          "output_type": "stream",
          "text": [
            "Hardware accelerator e.g. GPU is available in the environment, but no `device` argument is passed to the `Pipeline` object. Model will be on CPU.\n"
          ]
        }
      ],
      "source": [
        "ner = pipeline(\"ner\",module.model,tokenizer=tokenizer)"
      ]
    },
    {
      "cell_type": "code",
      "execution_count": 111,
      "metadata": {
        "id": "fO9PhdmLsdj1"
      },
      "outputs": [],
      "source": [
        "def mark_sentence(x: str):\n",
        "    outputs = ner(x)\n",
        "    print(outputs)\n",
        "    print(\"hello\")\n",
        "    x_list = list(x)\n",
        "    for i, output in enumerate(outputs):\n",
        "        x_list.insert(output['end']+i, output['entity'])\n",
        "    return \"\".join(x_list)"
      ]
    },
    {
      "cell_type": "code",
      "execution_count": 114,
      "metadata": {
        "colab": {
          "base_uri": "https://localhost:8080/",
          "height": 91
        },
        "id": "tEtCNB18sdj1",
        "outputId": "ffff1404-25e8-49c6-fcb7-a57f84d8928d"
      },
      "outputs": [
        {
          "name": "stdout",
          "output_type": "stream",
          "text": [
            "[{'entity': '0', 'score': 0.99145985, 'index': 1, 'word': '前', 'start': 0, 'end': 1}, {'entity': '0', 'score': 0.9987406, 'index': 2, 'word': '向', 'start': 1, 'end': 2}, {'entity': '0', 'score': 0.9999815, 'index': 3, 'word': '香', 'start': 2, 'end': 3}, {'entity': '0', 'score': 0.9998882, 'index': 4, 'word': '江', 'start': 3, 'end': 4}, {'entity': '0', 'score': 0.99993336, 'index': 5, 'word': '壹', 'start': 4, 'end': 5}, {'entity': '，', 'score': 0.543045, 'index': 6, 'word': '帶', 'start': 5, 'end': 6}, {'entity': '0', 'score': 0.99981743, 'index': 7, 'word': '澄', 'start': 6, 'end': 7}, {'entity': '0', 'score': 0.99996185, 'index': 8, 'word': '清', 'start': 7, 'end': 8}, {'entity': '0', 'score': 0.9815839, 'index': 9, 'word': '來', 'start': 8, 'end': 9}, {'entity': '0', 'score': 0.9999523, 'index': 10, 'word': '活', 'start': 9, 'end': 10}, {'entity': '0', 'score': 0.9094957, 'index': 11, 'word': '水', 'start': 10, 'end': 11}]\n",
            "hello\n"
          ]
        },
        {
          "data": {
            "application/vnd.google.colaboratory.intrinsic+json": {
              "type": "string"
            },
            "text/plain": [
              "'前0向0香0江0壹0帶，澄0清0來0活0水0'"
            ]
          },
          "execution_count": 114,
          "metadata": {},
          "output_type": "execute_result"
        }
      ],
      "source": [
        "mark_sentence(\"前向香江壹帶澄清來活水\")"
      ]
    },
    {
      "cell_type": "code",
      "execution_count": 113,
      "metadata": {
        "colab": {
          "base_uri": "https://localhost:8080/",
          "height": 216
        },
        "id": "PGGOgoY9sdj1",
        "outputId": "bce9168e-3c42-4ff1-f662-fee7df0d2e59"
      },
      "outputs": [
        {
          "name": "stdout",
          "output_type": "stream",
          "text": [
            "[{'entity': '0', 'score': 0.99994385, 'index': 1, 'word': '郡', 'start': 0, 'end': 1}, {'entity': '0', 'score': 0.6686995, 'index': 2, 'word': '邑', 'start': 1, 'end': 2}, {'entity': '0', 'score': 0.9999907, 'index': 3, 'word': '置', 'start': 2, 'end': 3}, {'entity': '0', 'score': 0.99999857, 'index': 4, 'word': '夫', 'start': 3, 'end': 4}, {'entity': '0', 'score': 0.99999785, 'index': 5, 'word': '子', 'start': 4, 'end': 5}, {'entity': '0', 'score': 0.9999579, 'index': 6, 'word': '庙', 'start': 5, 'end': 6}, {'entity': '0', 'score': 0.999998, 'index': 7, 'word': '于', 'start': 6, 'end': 7}, {'entity': '0', 'score': 0.531733, 'index': 8, 'word': '学', 'start': 7, 'end': 8}, {'entity': '0', 'score': 0.99997854, 'index': 9, 'word': '以', 'start': 8, 'end': 9}, {'entity': '0', 'score': 0.9999752, 'index': 10, 'word': '嵗', 'start': 9, 'end': 10}, {'entity': '0', 'score': 0.99998474, 'index': 11, 'word': '时', 'start': 10, 'end': 11}, {'entity': '0', 'score': 0.9999968, 'index': 12, 'word': '释', 'start': 11, 'end': 12}, {'entity': '，', 'score': 0.82255757, 'index': 13, 'word': '奠', 'start': 12, 'end': 13}, {'entity': '0', 'score': 0.999997, 'index': 14, 'word': '盖', 'start': 13, 'end': 14}, {'entity': '0', 'score': 0.9999883, 'index': 15, 'word': '自', 'start': 14, 'end': 15}, {'entity': '0', 'score': 0.9844104, 'index': 16, 'word': '唐', 'start': 15, 'end': 16}, {'entity': '0', 'score': 0.9999757, 'index': 17, 'word': '贞', 'start': 16, 'end': 17}, {'entity': '0', 'score': 0.9999968, 'index': 18, 'word': '观', 'start': 17, 'end': 18}, {'entity': '0', 'score': 0.99999464, 'index': 19, 'word': '以', 'start': 18, 'end': 19}, {'entity': '，', 'score': 0.99928755, 'index': 20, 'word': '来', 'start': 19, 'end': 20}, {'entity': '0', 'score': 0.9999999, 'index': 21, 'word': '未', 'start': 20, 'end': 21}, {'entity': '0', 'score': 0.9999969, 'index': 22, 'word': '之', 'start': 21, 'end': 22}, {'entity': '0', 'score': 0.99999547, 'index': 23, 'word': '或', 'start': 22, 'end': 23}, {'entity': '，', 'score': 0.36929208, 'index': 24, 'word': '改', 'start': 23, 'end': 24}, {'entity': '0', 'score': 0.9996675, 'index': 25, 'word': '我', 'start': 24, 'end': 25}, {'entity': '0', 'score': 0.9991109, 'index': 26, 'word': '宋', 'start': 25, 'end': 26}, {'entity': '0', 'score': 0.9862455, 'index': 27, 'word': '有', 'start': 26, 'end': 27}, {'entity': '0', 'score': 0.9999901, 'index': 28, 'word': '天', 'start': 27, 'end': 28}, {'entity': '0', 'score': 0.99655414, 'index': 29, 'word': '下', 'start': 28, 'end': 29}, {'entity': '0', 'score': 0.9999994, 'index': 30, 'word': '因', 'start': 29, 'end': 30}, {'entity': '0', 'score': 0.99999857, 'index': 31, 'word': '其', 'start': 30, 'end': 31}, {'entity': '0', 'score': 0.9999571, 'index': 32, 'word': '制', 'start': 31, 'end': 32}, {'entity': '0', 'score': 0.9999999, 'index': 33, 'word': '而', 'start': 32, 'end': 33}, {'entity': '0', 'score': 0.9999957, 'index': 34, 'word': '损', 'start': 33, 'end': 34}, {'entity': '0', 'score': 0.9999875, 'index': 35, 'word': '益', 'start': 34, 'end': 35}, {'entity': '0', 'score': 0.85354114, 'index': 36, 'word': '之', 'start': 35, 'end': 36}, {'entity': '0', 'score': 0.9999968, 'index': 37, 'word': '姑', 'start': 36, 'end': 37}, {'entity': '0', 'score': 0.5373101, 'index': 38, 'word': '苏', 'start': 37, 'end': 38}, {'entity': '0', 'score': 0.99999154, 'index': 39, 'word': '当', 'start': 38, 'end': 39}, {'entity': '0', 'score': 0.99967694, 'index': 40, 'word': '浙', 'start': 39, 'end': 40}, {'entity': '0', 'score': 0.999995, 'index': 41, 'word': '右', 'start': 40, 'end': 41}, {'entity': '0', 'score': 0.9999974, 'index': 42, 'word': '要', 'start': 41, 'end': 42}, {'entity': '，', 'score': 0.9993574, 'index': 43, 'word': '区', 'start': 42, 'end': 43}, {'entity': '0', 'score': 0.9999999, 'index': 44, 'word': '规', 'start': 43, 'end': 44}, {'entity': '0', 'score': 0.99999857, 'index': 45, 'word': '模', 'start': 44, 'end': 45}, {'entity': '0', 'score': 0.99999976, 'index': 46, 'word': '尤', 'start': 45, 'end': 46}, {'entity': '，', 'score': 0.95381117, 'index': 47, 'word': '大', 'start': 46, 'end': 47}, {'entity': '0', 'score': 0.9998363, 'index': 48, 'word': '更', 'start': 47, 'end': 48}, {'entity': '0', 'score': 0.9998136, 'index': 49, 'word': '建', 'start': 48, 'end': 49}, {'entity': '0', 'score': 0.78513944, 'index': 50, 'word': '炎', 'start': 49, 'end': 50}, {'entity': '0', 'score': 0.9999286, 'index': 51, 'word': '戎', 'start': 50, 'end': 51}, {'entity': '，', 'score': 0.8174785, 'index': 52, 'word': '马', 'start': 51, 'end': 52}, {'entity': '0', 'score': 1.0, 'index': 53, 'word': '荡', 'start': 52, 'end': 53}, {'entity': '0', 'score': 0.9999999, 'index': 54, 'word': '然', 'start': 53, 'end': 54}, {'entity': '0', 'score': 0.99999976, 'index': 55, 'word': '无', 'start': 54, 'end': 55}, {'entity': '。', 'score': 0.4027976, 'index': 56, 'word': '遗', 'start': 55, 'end': 56}, {'entity': '0', 'score': 0.99999535, 'index': 57, 'word': '虽', 'start': 56, 'end': 57}, {'entity': '0', 'score': 0.99999833, 'index': 58, 'word': '修', 'start': 57, 'end': 58}, {'entity': '0', 'score': 0.9999906, 'index': 59, 'word': '学', 'start': 58, 'end': 59}, {'entity': '0', 'score': 0.99997413, 'index': 60, 'word': '宫', 'start': 59, 'end': 60}, {'entity': '0', 'score': 0.9999962, 'index': 61, 'word': '于', 'start': 60, 'end': 61}, {'entity': '0', 'score': 0.99998224, 'index': 62, 'word': '荆', 'start': 61, 'end': 62}, {'entity': '0', 'score': 0.99991536, 'index': 63, 'word': '榛', 'start': 62, 'end': 63}, {'entity': '0', 'score': 0.9999994, 'index': 64, 'word': '瓦', 'start': 63, 'end': 64}, {'entity': '0', 'score': 0.9999987, 'index': 65, 'word': '砾', 'start': 64, 'end': 65}, {'entity': '0', 'score': 0.99999905, 'index': 66, 'word': '之', 'start': 65, 'end': 66}, {'entity': '，', 'score': 0.9995449, 'index': 67, 'word': '余', 'start': 66, 'end': 67}, {'entity': '0', 'score': 0.99998605, 'index': 68, 'word': '独', 'start': 67, 'end': 68}, {'entity': '0', 'score': 0.9999975, 'index': 69, 'word': '殿', 'start': 68, 'end': 69}, {'entity': '0', 'score': 0.9999653, 'index': 70, 'word': '宇', 'start': 69, 'end': 70}, {'entity': '0', 'score': 0.9999999, 'index': 71, 'word': '未', 'start': 70, 'end': 71}, {'entity': '0', 'score': 0.9999974, 'index': 72, 'word': '遑', 'start': 71, 'end': 72}, {'entity': '0', 'score': 0.9999989, 'index': 73, 'word': '议', 'start': 72, 'end': 73}, {'entity': '。', 'score': 0.47810465, 'index': 74, 'word': '也', 'start': 73, 'end': 74}, {'entity': '0', 'score': 0.99997365, 'index': 75, 'word': '每', 'start': 74, 'end': 75}, {'entity': '0', 'score': 0.9999597, 'index': 76, 'word': '春', 'start': 75, 'end': 76}, {'entity': '0', 'score': 0.9984616, 'index': 77, 'word': '秋', 'start': 76, 'end': 77}, {'entity': '0', 'score': 0.9999987, 'index': 78, 'word': '展', 'start': 77, 'end': 78}, {'entity': '0', 'score': 0.99998426, 'index': 79, 'word': '礼', 'start': 78, 'end': 79}, {'entity': '0', 'score': 0.99999845, 'index': 80, 'word': '于', 'start': 79, 'end': 80}, {'entity': '0', 'score': 0.99999785, 'index': 81, 'word': '斋', 'start': 80, 'end': 81}, {'entity': '，', 'score': 0.91212803, 'index': 82, 'word': '庐', 'start': 81, 'end': 82}, {'entity': '0', 'score': 0.99936444, 'index': 83, 'word': '已', 'start': 82, 'end': 83}, {'entity': '0', 'score': 0.9999958, 'index': 84, 'word': '则', 'start': 83, 'end': 84}, {'entity': '0', 'score': 0.99916565, 'index': 85, 'word': '置', 'start': 84, 'end': 85}, {'entity': '0', 'score': 0.99999917, 'index': 86, 'word': '不', 'start': 85, 'end': 86}, {'entity': '，', 'score': 0.9357707, 'index': 87, 'word': '问', 'start': 86, 'end': 87}, {'entity': '0', 'score': 0.99999976, 'index': 88, 'word': '殆', 'start': 87, 'end': 88}, {'entity': '0', 'score': 0.99999964, 'index': 89, 'word': '为', 'start': 88, 'end': 89}, {'entity': '0', 'score': 0.99999905, 'index': 90, 'word': '阙', 'start': 89, 'end': 90}, {'entity': '。', 'score': 0.7319765, 'index': 91, 'word': '典', 'start': 90, 'end': 91}, {'entity': '0', 'score': 0.9999807, 'index': 92, 'word': '今', 'start': 91, 'end': 92}, {'entity': '0', 'score': 0.9999895, 'index': 93, 'word': '寳', 'start': 92, 'end': 93}, {'entity': '0', 'score': 0.9999956, 'index': 94, 'word': '文', 'start': 93, 'end': 94}, {'entity': '0', 'score': 0.9999422, 'index': 95, 'word': '阁', 'start': 94, 'end': 95}, {'entity': '0', 'score': 0.9999982, 'index': 96, 'word': '直', 'start': 95, 'end': 96}, {'entity': '0', 'score': 0.9999968, 'index': 97, 'word': '学', 'start': 96, 'end': 97}, {'entity': '0', 'score': 0.9999279, 'index': 98, 'word': '士', 'start': 97, 'end': 98}, {'entity': '0', 'score': 0.9999968, 'index': 99, 'word': '括', 'start': 98, 'end': 99}, {'entity': '0', 'score': 0.99621, 'index': 100, 'word': '苍', 'start': 99, 'end': 100}, {'entity': '0', 'score': 0.9999784, 'index': 101, 'word': '梁', 'start': 100, 'end': 101}, {'entity': '0', 'score': 0.99930465, 'index': 102, 'word': '公', 'start': 101, 'end': 102}, {'entity': '0', 'score': 0.9973469, 'index': 103, 'word': '来', 'start': 102, 'end': 103}, {'entity': '0', 'score': 0.9999865, 'index': 104, 'word': '牧', 'start': 103, 'end': 104}, {'entity': '，', 'score': 0.5961254, 'index': 105, 'word': '之', 'start': 104, 'end': 105}, {'entity': '0', 'score': 0.9994814, 'index': 106, 'word': '明', 'start': 105, 'end': 106}, {'entity': '，', 'score': 0.933856, 'index': 107, 'word': '年', 'start': 106, 'end': 107}, {'entity': '0', 'score': 0.99998474, 'index': 108, 'word': '实', 'start': 107, 'end': 108}, {'entity': '0', 'score': 0.9999993, 'index': 109, 'word': '绍', 'start': 108, 'end': 109}, {'entity': '0', 'score': 0.99999535, 'index': 110, 'word': '兴', 'start': 109, 'end': 110}, {'entity': '0', 'score': 0.99999833, 'index': 111, 'word': '十', 'start': 110, 'end': 111}, {'entity': '0', 'score': 0.9999857, 'index': 112, 'word': '有', 'start': 111, 'end': 112}, {'entity': '0', 'score': 0.9998833, 'index': 113, 'word': '一', 'start': 112, 'end': 113}, {'entity': '0', 'score': 0.9998696, 'index': 114, 'word': '禩', 'start': 113, 'end': 114}, {'entity': '。', 'score': 0.8302687, 'index': 115, 'word': '也', 'start': 114, 'end': 115}, {'entity': '0', 'score': 0.9999858, 'index': 116, 'word': '二', 'start': 115, 'end': 116}, {'entity': '，', 'score': 0.98430735, 'index': 117, 'word': '月', 'start': 116, 'end': 117}, {'entity': '0', 'score': 0.9999229, 'index': 118, 'word': '上', 'start': 117, 'end': 118}, {'entity': '0', 'score': 0.99519324, 'index': 119, 'word': '丁', 'start': 118, 'end': 119}, {'entity': '0', 'score': 0.99999833, 'index': 120, 'word': '修', 'start': 119, 'end': 120}, {'entity': '0', 'score': 0.9998192, 'index': 121, 'word': '祀', 'start': 120, 'end': 121}, {'entity': '0', 'score': 0.9999994, 'index': 122, 'word': '既', 'start': 121, 'end': 122}, {'entity': '，', 'score': 0.99986434, 'index': 123, 'word': '毕', 'start': 122, 'end': 123}, {'entity': '0', 'score': 0.9999994, 'index': 124, 'word': '乃', 'start': 123, 'end': 124}, {'entity': '0', 'score': 0.9999995, 'index': 125, 'word': '愓', 'start': 124, 'end': 125}, {'entity': '0', 'score': 0.9999976, 'index': 126, 'word': '然', 'start': 125, 'end': 126}, {'entity': '0', 'score': 0.9999994, 'index': 127, 'word': '自', 'start': 126, 'end': 127}, {'entity': '，', 'score': 0.99224675, 'index': 128, 'word': '咎', 'start': 127, 'end': 128}, {'entity': '0', 'score': 0.9999926, 'index': 129, 'word': '揖', 'start': 128, 'end': 129}, {'entity': '0', 'score': 0.99999857, 'index': 130, 'word': '诸', 'start': 129, 'end': 130}, {'entity': '0', 'score': 0.9999325, 'index': 131, 'word': '生', 'start': 130, 'end': 131}, {'entity': '0', 'score': 0.999998, 'index': 132, 'word': '而', 'start': 131, 'end': 132}, {'entity': '0', 'score': 0.99999726, 'index': 133, 'word': '告', 'start': 132, 'end': 133}, {'entity': '0', 'score': 0.99996495, 'index': 134, 'word': '之', 'start': 133, 'end': 134}, {'entity': '\"', 'score': 0.8701157, 'index': 135, 'word': '曰', 'start': 134, 'end': 135}, {'entity': '0', 'score': 0.9999999, 'index': 136, 'word': '天', 'start': 135, 'end': 136}, {'entity': '0', 'score': 0.99999785, 'index': 137, 'word': '子', 'start': 136, 'end': 137}, {'entity': '0', 'score': 0.99999845, 'index': 138, 'word': '不', 'start': 137, 'end': 138}, {'entity': '0', 'score': 0.9999856, 'index': 139, 'word': '以', 'start': 138, 'end': 139}, {'entity': '0', 'score': 0.9999951, 'index': 140, 'word': '汝', 'start': 139, 'end': 140}, {'entity': '0', 'score': 0.9999913, 'index': 141, 'word': '嘉', 'start': 140, 'end': 141}, {'entity': '0', 'score': 0.9999969, 'index': 142, 'word': '为', 'start': 141, 'end': 142}, {'entity': '0', 'score': 0.99999857, 'index': 143, 'word': '不', 'start': 142, 'end': 143}, {'entity': '，', 'score': 0.98724, 'index': 144, 'word': '肖', 'start': 143, 'end': 144}, {'entity': '0', 'score': 0.9999927, 'index': 145, 'word': '俾', 'start': 144, 'end': 145}, {'entity': '0', 'score': 0.99999917, 'index': 146, 'word': '再', 'start': 145, 'end': 146}, {'entity': '0', 'score': 0.9999949, 'index': 147, 'word': '守', 'start': 146, 'end': 147}, {'entity': '0', 'score': 0.99999964, 'index': 148, 'word': '兹', 'start': 147, 'end': 148}, {'entity': '，', 'score': 0.9962065, 'index': 149, 'word': '土', 'start': 148, 'end': 149}, {'entity': '0', 'score': 0.9999927, 'index': 150, 'word': '顾', 'start': 149, 'end': 150}, {'entity': '0', 'score': 0.9999931, 'index': 151, 'word': '治', 'start': 150, 'end': 151}, {'entity': '0', 'score': 0.99997175, 'index': 152, 'word': '民', 'start': 151, 'end': 152}, {'entity': '，', 'score': 0.95875627, 'index': 153, 'word': '事', 'start': 152, 'end': 153}, {'entity': '0', 'score': 0.99839777, 'index': 154, 'word': '神', 'start': 153, 'end': 154}, {'entity': '0', 'score': 0.9999968, 'index': 155, 'word': '皆', 'start': 154, 'end': 155}, {'entity': '0', 'score': 0.9999937, 'index': 156, 'word': '守', 'start': 155, 'end': 156}, {'entity': '0', 'score': 0.9876721, 'index': 157, 'word': '之', 'start': 156, 'end': 157}, {'entity': '0', 'score': 0.962675, 'index': 158, 'word': '职', 'start': 157, 'end': 158}, {'entity': '0', 'score': 0.9999893, 'index': 159, 'word': '惟', 'start': 158, 'end': 159}, {'entity': '0', 'score': 0.99190533, 'index': 160, 'word': '是', 'start': 159, 'end': 160}, {'entity': '0', 'score': 0.9999976, 'index': 161, 'word': '夫', 'start': 160, 'end': 161}, {'entity': '0', 'score': 0.99999917, 'index': 162, 'word': '子', 'start': 161, 'end': 162}, {'entity': '0', 'score': 0.9999993, 'index': 163, 'word': '之', 'start': 162, 'end': 163}, {'entity': '，', 'score': 0.99870956, 'index': 164, 'word': '祀', 'start': 163, 'end': 164}, {'entity': '0', 'score': 0.9999989, 'index': 165, 'word': '教', 'start': 164, 'end': 165}, {'entity': '0', 'score': 0.9999367, 'index': 166, 'word': '化', 'start': 165, 'end': 166}, {'entity': '0', 'score': 0.9999993, 'index': 167, 'word': '所', 'start': 166, 'end': 167}, {'entity': '，', 'score': 0.9787629, 'index': 168, 'word': '基', 'start': 167, 'end': 168}, {'entity': '0', 'score': 0.99999917, 'index': 169, 'word': '尤', 'start': 168, 'end': 169}, {'entity': '0', 'score': 0.99995947, 'index': 170, 'word': '宜', 'start': 169, 'end': 170}, {'entity': '0', 'score': 0.9999008, 'index': 171, 'word': '严', 'start': 170, 'end': 171}, {'entity': '0', 'score': 0.99956983, 'index': 172, 'word': '且', 'start': 171, 'end': 172}, {'entity': '0', 'score': 0.96271473, 'index': 173, 'word': '谨', 'start': 172, 'end': 173}, {'entity': '0', 'score': 0.99995816, 'index': 174, 'word': '而', 'start': 173, 'end': 174}, {'entity': '0', 'score': 0.9998741, 'index': 175, 'word': '拜', 'start': 174, 'end': 175}, {'entity': '0', 'score': 0.99906677, 'index': 176, 'word': '跪', 'start': 175, 'end': 176}, {'entity': '0', 'score': 0.9999918, 'index': 177, 'word': '荐', 'start': 176, 'end': 177}, {'entity': '0', 'score': 0.9999883, 'index': 178, 'word': '祭', 'start': 177, 'end': 178}, {'entity': '0', 'score': 0.99999404, 'index': 179, 'word': '之', 'start': 178, 'end': 179}, {'entity': '，', 'score': 0.98726684, 'index': 180, 'word': '地', 'start': 179, 'end': 180}, {'entity': '0', 'score': 0.99999976, 'index': 181, 'word': '卑', 'start': 180, 'end': 181}, {'entity': '0', 'score': 0.999997, 'index': 182, 'word': '陋', 'start': 181, 'end': 182}, {'entity': '0', 'score': 0.99999976, 'index': 183, 'word': '乃', 'start': 182, 'end': 183}, {'entity': '，', 'score': 0.41998565, 'index': 184, 'word': '尔', 'start': 183, 'end': 184}, {'entity': '0', 'score': 0.99996936, 'index': 185, 'word': '其', 'start': 184, 'end': 185}, {'entity': '0', 'score': 0.99979, 'index': 186, 'word': '何', 'start': 185, 'end': 186}, {'entity': '0', 'score': 0.9992834, 'index': 187, 'word': '以', 'start': 186, 'end': 187}, {'entity': '0', 'score': 0.99998033, 'index': 188, 'word': '掲', 'start': 187, 'end': 188}, {'entity': '0', 'score': 0.9994703, 'index': 189, 'word': '防', 'start': 188, 'end': 189}, {'entity': '0', 'score': 0.9999819, 'index': 190, 'word': '妥', 'start': 189, 'end': 190}, {'entity': '？', 'score': 0.9503221, 'index': 191, 'word': '灵', 'start': 190, 'end': 191}, {'entity': '0', 'score': 0.9999558, 'index': 192, 'word': '汝', 'start': 191, 'end': 192}, {'entity': '0', 'score': 0.99997187, 'index': 193, 'word': '嘉', 'start': 192, 'end': 193}, {'entity': '0', 'score': 0.9999981, 'index': 194, 'word': '不', 'start': 193, 'end': 194}, {'entity': '0', 'score': 0.9999995, 'index': 195, 'word': '敢', 'start': 194, 'end': 195}, {'entity': '0', 'score': 0.9999968, 'index': 196, 'word': '避', 'start': 195, 'end': 196}, {'entity': '0', 'score': 0.99999917, 'index': 197, 'word': '其', 'start': 196, 'end': 197}, {'entity': '0', 'score': 0.9423546, 'index': 198, 'word': '责', 'start': 197, 'end': 198}, {'entity': '0', 'score': 0.9964056, 'index': 199, 'word': '曩', 'start': 198, 'end': 199}, {'entity': '0', 'score': 0.9999063, 'index': 200, 'word': '常', 'start': 199, 'end': 200}, {'entity': '0', 'score': 0.9999709, 'index': 201, 'word': '去', 'start': 200, 'end': 201}, {'entity': '0', 'score': 0.999954, 'index': 202, 'word': '此', 'start': 201, 'end': 202}, {'entity': '0', 'score': 0.9999988, 'index': 203, 'word': '弥', 'start': 202, 'end': 203}, {'entity': '，', 'score': 0.9796522, 'index': 204, 'word': '年', 'start': 203, 'end': 204}, {'entity': '0', 'score': 0.9999989, 'index': 205, 'word': '若', 'start': 204, 'end': 205}, {'entity': '0', 'score': 0.99999905, 'index': 206, 'word': '有', 'start': 205, 'end': 206}, {'entity': '0', 'score': 1.0, 'index': 207, 'word': '所', 'start': 206, 'end': 207}, {'entity': '，', 'score': 0.9979876, 'index': 208, 'word': '负', 'start': 207, 'end': 208}, {'entity': '0', 'score': 0.99980754, 'index': 209, 'word': '尚', 'start': 208, 'end': 209}, {'entity': '0', 'score': 0.99999833, 'index': 210, 'word': '安', 'start': 209, 'end': 210}, {'entity': '0', 'score': 0.99998045, 'index': 211, 'word': '得', 'start': 210, 'end': 211}, {'entity': '0', 'score': 0.9999137, 'index': 212, 'word': '以', 'start': 211, 'end': 212}, {'entity': '0', 'score': 0.9999877, 'index': 213, 'word': '罢', 'start': 212, 'end': 213}, {'entity': '0', 'score': 0.999974, 'index': 214, 'word': '輭', 'start': 213, 'end': 214}, {'entity': '0', 'score': 0.99999785, 'index': 215, 'word': '自', 'start': 214, 'end': 215}, {'entity': '，', 'score': 0.9970862, 'index': 216, 'word': '恕', 'start': 215, 'end': 216}, {'entity': '0', 'score': 0.9999963, 'index': 217, 'word': '复', 'start': 216, 'end': 217}, {'entity': '0', 'score': 0.9999981, 'index': 218, 'word': '累', 'start': 217, 'end': 218}, {'entity': '0', 'score': 0.9999999, 'index': 219, 'word': '后', 'start': 218, 'end': 219}, {'entity': '0', 'score': 0.9999981, 'index': 220, 'word': '人', 'start': 219, 'end': 220}, {'entity': '？', 'score': 0.7755132, 'index': 221, 'word': '乎', 'start': 220, 'end': 221}, {'entity': '0', 'score': 0.99999917, 'index': 222, 'word': '他', 'start': 221, 'end': 222}, {'entity': '0', 'score': 0.99995685, 'index': 223, 'word': '日', 'start': 222, 'end': 223}, {'entity': '0', 'score': 0.99999917, 'index': 224, 'word': '或', 'start': 223, 'end': 224}, {'entity': '0', 'score': 0.9999976, 'index': 225, 'word': '克', 'start': 224, 'end': 225}, {'entity': '0', 'score': 0.99999964, 'index': 226, 'word': '就', 'start': 225, 'end': 226}, {'entity': '，', 'score': 0.9999069, 'index': 227, 'word': '绪', 'start': 226, 'end': 227}, {'entity': '0', 'score': 0.9999994, 'index': 228, 'word': '愿', 'start': 227, 'end': 228}, {'entity': '0', 'score': 0.9999993, 'index': 229, 'word': '与', 'start': 228, 'end': 229}, {'entity': '0', 'score': 0.9999999, 'index': 230, 'word': '诸', 'start': 229, 'end': 230}, {'entity': '0', 'score': 0.99999523, 'index': 231, 'word': '君', 'start': 230, 'end': 231}, {'entity': '0', 'score': 0.9999994, 'index': 232, 'word': '落', 'start': 231, 'end': 232}, {'entity': '，', 'score': 0.48390174, 'index': 233, 'word': '之', 'start': 232, 'end': 233}, {'entity': '0', 'score': 0.99999774, 'index': 234, 'word': '于', 'start': 233, 'end': 234}, {'entity': '0', 'score': 0.9996768, 'index': 235, 'word': '是', 'start': 234, 'end': 235}, {'entity': '0', 'score': 0.9999912, 'index': 236, 'word': '谋', 'start': 235, 'end': 236}, {'entity': '，', 'score': 0.76252353, 'index': 237, 'word': '之', 'start': 236, 'end': 237}, {'entity': '0', 'score': 0.9999976, 'index': 238, 'word': '僚', 'start': 237, 'end': 238}, {'entity': '0', 'score': 0.96812975, 'index': 239, 'word': '吏', 'start': 238, 'end': 239}, {'entity': '0', 'score': 0.99998105, 'index': 240, 'word': '搜', 'start': 239, 'end': 240}, {'entity': '0', 'score': 0.9999982, 'index': 241, 'word': '故', 'start': 240, 'end': 241}, {'entity': '0', 'score': 0.7462987, 'index': 242, 'word': '府', 'start': 241, 'end': 242}, {'entity': '0', 'score': 0.99999774, 'index': 243, 'word': '得', 'start': 242, 'end': 243}, {'entity': '0', 'score': 0.9999981, 'index': 244, 'word': '遗', 'start': 243, 'end': 244}, {'entity': '0', 'score': 0.999992, 'index': 245, 'word': '材', 'start': 244, 'end': 245}, {'entity': '0', 'score': 0.9999982, 'index': 246, 'word': '千', 'start': 245, 'end': 246}, {'entity': '，', 'score': 0.99856347, 'index': 247, 'word': '枚', 'start': 246, 'end': 247}, {'entity': '0', 'score': 0.9999932, 'index': 248, 'word': '取', 'start': 247, 'end': 248}, {'entity': '0', 'score': 0.9999895, 'index': 249, 'word': '赢', 'start': 248, 'end': 249}, {'entity': '0', 'score': 0.99391186, 'index': 250, 'word': '资', 'start': 249, 'end': 250}, {'entity': '0', 'score': 0.9999993, 'index': 251, 'word': '以', 'start': 250, 'end': 251}, {'entity': '0', 'score': 0.9999993, 'index': 252, 'word': '给', 'start': 251, 'end': 252}, {'entity': '0', 'score': 0.99999964, 'index': 253, 'word': '其', 'start': 252, 'end': 253}, {'entity': '，', 'score': 0.45848823, 'index': 254, 'word': '费', 'start': 253, 'end': 254}, {'entity': '0', 'score': 0.9999896, 'index': 255, 'word': '鸠', 'start': 254, 'end': 255}, {'entity': '0', 'score': 0.99909174, 'index': 256, 'word': '工', 'start': 255, 'end': 256}, {'entity': '0', 'score': 0.9999758, 'index': 257, 'word': '庀', 'start': 256, 'end': 257}, {'entity': '，', 'score': 0.98283744, 'index': 258, 'word': '役', 'start': 257, 'end': 258}, {'entity': '0', 'score': 1.0, 'index': 259, 'word': '各', 'start': 258, 'end': 259}, {'entity': '0', 'score': 0.9999993, 'index': 260, 'word': '举', 'start': 259, 'end': 260}, {'entity': '0', 'score': 0.9999999, 'index': 261, 'word': '其', 'start': 260, 'end': 261}, {'entity': '0', 'score': 0.45230317, 'index': 262, 'word': '任', 'start': 261, 'end': 262}, {'entity': '0', 'score': 0.99928004, 'index': 263, 'word': '嵗', 'start': 262, 'end': 263}, {'entity': '0', 'score': 0.99995255, 'index': 264, 'word': '月', 'start': 263, 'end': 264}, {'entity': '，', 'score': 0.8558024, 'index': 265, 'word': '讫', 'start': 264, 'end': 265}, {'entity': '0', 'score': 0.97771776, 'index': 266, 'word': '工', 'start': 265, 'end': 266}, {'entity': '0', 'score': 0.99999547, 'index': 267, 'word': '民', 'start': 266, 'end': 267}, {'entity': '0', 'score': 0.9999999, 'index': 268, 'word': '不', 'start': 267, 'end': 268}, {'entity': '0', 'score': 0.9995888, 'index': 269, 'word': '与', 'start': 268, 'end': 269}, {'entity': '0', 'score': 0.8117891, 'index': 270, 'word': '知', 'start': 269, 'end': 270}, {'entity': '0', 'score': 0.9926918, 'index': 271, 'word': '像', 'start': 270, 'end': 271}, {'entity': '0', 'score': 0.9996625, 'index': 272, 'word': '设', 'start': 271, 'end': 272}, {'entity': '0', 'score': 0.9999914, 'index': 273, 'word': '礼', 'start': 272, 'end': 273}, {'entity': '，', 'score': 0.9372093, 'index': 274, 'word': '器', 'start': 273, 'end': 274}, {'entity': '0', 'score': 0.99999976, 'index': 275, 'word': '百', 'start': 274, 'end': 275}, {'entity': '0', 'score': 0.99999654, 'index': 276, 'word': '用', 'start': 275, 'end': 276}, {'entity': '0', 'score': 0.9999981, 'index': 277, 'word': '具', 'start': 276, 'end': 277}, {'entity': '，', 'score': 0.6800661, 'index': 278, 'word': '修', 'start': 277, 'end': 278}, {'entity': '0', 'score': 0.9999989, 'index': 279, 'word': '至', 'start': 278, 'end': 279}, {'entity': '0', 'score': 0.9999865, 'index': 280, 'word': '于', 'start': 279, 'end': 280}, {'entity': '0', 'score': 0.9999596, 'index': 281, 'word': '堂', 'start': 280, 'end': 281}, {'entity': '0', 'score': 0.9773234, 'index': 282, 'word': '室', 'start': 281, 'end': 282}, {'entity': '0', 'score': 0.9999192, 'index': 283, 'word': '廊', 'start': 282, 'end': 283}, {'entity': '。', 'score': 0.77982897, 'index': 284, 'word': '序', 'start': 283, 'end': 284}, {'entity': '0', 'score': 0.9999014, 'index': 285, 'word': '门', 'start': 284, 'end': 285}, {'entity': '0', 'score': 0.9483531, 'index': 286, 'word': '牖', 'start': 285, 'end': 286}, {'entity': '0', 'score': 0.9999975, 'index': 287, 'word': '垣', 'start': 286, 'end': 287}, {'entity': '，', 'score': 0.8362688, 'index': 288, 'word': '墙', 'start': 287, 'end': 288}, {'entity': '0', 'score': 0.99999964, 'index': 289, 'word': '皆', 'start': 288, 'end': 289}, {'entity': '0', 'score': 0.9999913, 'index': 290, 'word': '一', 'start': 289, 'end': 290}, {'entity': '0', 'score': 0.9999962, 'index': 291, 'word': '新', 'start': 290, 'end': 291}, {'entity': '，', 'score': 0.41244775, 'index': 292, 'word': '之', 'start': 291, 'end': 292}]\n",
            "hello\n"
          ]
        },
        {
          "data": {
            "application/vnd.google.colaboratory.intrinsic+json": {
              "type": "string"
            },
            "text/plain": [
              "'郡0邑0置0夫0子0庙0于0学0以0嵗0时0释0奠，盖0自0唐0贞0观0以0来，未0之0或0改，我0宋0有0天0下0因0其0制0而0损0益0之0姑0苏0当0浙0右0要0区，规0模0尤0大，更0建0炎0戎0马，荡0然0无0遗。虽0修0学0宫0于0荆0榛0瓦0砾0之0余，独0殿0宇0未0遑0议0也。每0春0秋0展0礼0于0斋0庐，已0则0置0不0问，殆0为0阙0典。今0寳0文0阁0直0学0士0括0苍0梁0公0来0牧0之，明0年，实0绍0兴0十0有0一0禩0也。二0月，上0丁0修0祀0既0毕，乃0愓0然0自0咎，揖0诸0生0而0告0之0曰\"天0子0不0以0汝0嘉0为0不0肖，俾0再0守0兹0土，顾0治0民0事，神0皆0守0之0职0惟0是0夫0子0之0祀，教0化0所0基，尤0宜0严0且0谨0而0拜0跪0荐0祭0之0地，卑0陋0乃0尔，其0何0以0掲0防0妥0灵？汝0嘉0不0敢0避0其0责0曩0常0去0此0弥0年，若0有0所0负，尚0安0得0以0罢0輭0自0恕，复0累0后0人0乎？他0日0或0克0就0绪，愿0与0诸0君0落0之，于0是0谋0之，僚0吏0搜0故0府0得0遗0材0千0枚，取0赢0资0以0给0其0费，鸠0工0庀0役，各0举0其0任0嵗0月0讫，工0民0不0与0知0像0设0礼0器，百0用0具0修，至0于0堂0室0廊0序。门0牖0垣0墙，皆0一0新0之，'"
            ]
          },
          "execution_count": 113,
          "metadata": {},
          "output_type": "execute_result"
        }
      ],
      "source": [
        "mark_sentence(\"\"\"郡邑置夫子庙于学以嵗时释奠盖自唐贞观以来未之或改我宋有天下因其制而损益之姑苏当浙右要区规模尤大更建炎戎马荡然无遗虽修学宫于荆榛瓦砾之余独殿宇未遑议也每春秋展礼于斋庐已则置不问殆为阙典今寳文阁直学士括苍梁公来牧之明年实绍兴十有一禩也二月上丁修祀既毕乃愓然自咎揖诸生而告之曰天子不以汝嘉为不肖俾再守兹土顾治民事神皆守之职惟是夫子之祀教化所基尤宜严且谨而拜跪荐祭之地卑陋乃尔其何以掲防妥灵汝嘉不敢避其责曩常去此弥年若有所负尚安得以罢輭自恕复累后人乎他日或克就绪愿与诸君落之于是谋之僚吏搜故府得遗材千枚取赢资以给其费鸠工庀役各举其任嵗月讫工民不与知像设礼器百用具修至于堂室廊序门牖垣墙皆一新之\"\"\")"
      ]
    },
    {
      "cell_type": "code",
      "execution_count": null,
      "metadata": {
        "id": "0krTpEd3sdj2"
      },
      "outputs": [],
      "source": [
        "# import pandas as pd\n",
        "# df = pd.read_csv('test.txt', sep='\\t')\n",
        "\n",
        "# text_list = df['input'].tolist()[0:]\n",
        "# predicted = []\n",
        "# for text in text_list:\n",
        "#     predicted.append(mark_sentence(text))\n",
        "\n",
        "# # predicted save to csv\n",
        "# df2 = pd.DataFrame(predicted)\n",
        "# # output to csv but ignore header\n",
        "# df2.to_csv('predicted.txt', index=False, header=False)\n",
        "# df2 = pd.read_csv('predicted.txt', sep='\\t', header=None)\n",
        "# df2.columns = ['predicted']\n",
        "\n",
        "# punctuation = ['，', '。', '！', '？', '；', '：', '、', '「', '」', '『', '』', '（', '）', '〔', '〕', '【', '】', '《', '》', '〈', '〉', '﹏', '＿', '～', '—', '…', '‥', '﹑', '﹔', '﹖', '﹪', '﹙', '﹚', '﹛', '﹜', '﹟', '﹠', '﹡', '﹢', '﹣', '﹤', '﹥', '﹦', '﹨', '﹩', '﹪', '﹫', '＃', '＄', '％', '＆', '＊', '＋', '－', '／', '＜', '＝', '＞', '＠', '＾', '＿', '｀', '｜', '～', '∕', '∥']\n",
        "\n",
        "# predicted_parsed = []\n",
        "# for text in df2['predicted']:\n",
        "#     i = 0\n",
        "#     line = []\n",
        "#     while i < len(text) - 1:\n",
        "#         if text[i + 1] in punctuation:\n",
        "#             line.append(1)\n",
        "#             i += 1\n",
        "#         else:\n",
        "#             line.append(0)\n",
        "#         i += 1\n",
        "#     if line[-1] != 1:\n",
        "#         line.append(1)\n",
        "#     predicted_parsed.append(' - '.join([str(x) for x in line]))\n",
        "\n",
        "# df3 = pd.DataFrame(predicted_parsed)\n",
        "# df3.to_csv('predicted_parsed.txt', index=False, header=False)"
      ]
    }
  ],
  "metadata": {
    "accelerator": "GPU",
    "colab": {
      "gpuType": "T4",
      "provenance": []
    },
    "kernelspec": {
      "display_name": "Python 3",
      "name": "python3"
    },
    "language_info": {
      "codemirror_mode": {
        "name": "ipython",
        "version": 3
      },
      "file_extension": ".py",
      "mimetype": "text/x-python",
      "name": "python",
      "nbconvert_exporter": "python",
      "pygments_lexer": "ipython3",
      "version": "3.11.5"
    },
    "toc": {
      "base_numbering": 1,
      "nav_menu": {},
      "number_sections": true,
      "sideBar": true,
      "skip_h1_title": false,
      "title_cell": "Table of Contents",
      "title_sidebar": "Contents",
      "toc_cell": false,
      "toc_position": {},
      "toc_section_display": true,
      "toc_window_display": true
    },
    "widgets": {
      "application/vnd.jupyter.widget-state+json": {
        "06d1d023bc3e4de8a3fe7c55d06e3490": {
          "model_module": "@jupyter-widgets/controls",
          "model_module_version": "1.5.0",
          "model_name": "HTMLModel",
          "state": {
            "_dom_classes": [],
            "_model_module": "@jupyter-widgets/controls",
            "_model_module_version": "1.5.0",
            "_model_name": "HTMLModel",
            "_view_count": null,
            "_view_module": "@jupyter-widgets/controls",
            "_view_module_version": "1.5.0",
            "_view_name": "HTMLView",
            "description": "",
            "description_tooltip": null,
            "layout": "IPY_MODEL_5a21592e7bbf4ddc895afd931331f883",
            "placeholder": "​",
            "style": "IPY_MODEL_b79e98a0ca874b7d8ff470f8c3e71c43",
            "value": "Epoch 6:   0%"
          }
        },
        "075602950cbc49bb9347e3c6753cbba3": {
          "model_module": "@jupyter-widgets/controls",
          "model_module_version": "1.5.0",
          "model_name": "ProgressStyleModel",
          "state": {
            "_model_module": "@jupyter-widgets/controls",
            "_model_module_version": "1.5.0",
            "_model_name": "ProgressStyleModel",
            "_view_count": null,
            "_view_module": "@jupyter-widgets/base",
            "_view_module_version": "1.2.0",
            "_view_name": "StyleView",
            "bar_color": null,
            "description_width": ""
          }
        },
        "083c702266a24b28be23d490ab7c231a": {
          "model_module": "@jupyter-widgets/controls",
          "model_module_version": "1.5.0",
          "model_name": "HTMLModel",
          "state": {
            "_dom_classes": [],
            "_model_module": "@jupyter-widgets/controls",
            "_model_module_version": "1.5.0",
            "_model_name": "HTMLModel",
            "_view_count": null,
            "_view_module": "@jupyter-widgets/controls",
            "_view_module_version": "1.5.0",
            "_view_name": "HTMLView",
            "description": "",
            "description_tooltip": null,
            "layout": "IPY_MODEL_df025333dd3d4e6aaf5d1e10ff2a0540",
            "placeholder": "​",
            "style": "IPY_MODEL_1c69aa4aeea1454681076facde7c9157",
            "value": "Validation DataLoader 0: 100%"
          }
        },
        "10cf1b086dcc4b63bbbf70b92bc3ef73": {
          "model_module": "@jupyter-widgets/controls",
          "model_module_version": "1.5.0",
          "model_name": "DescriptionStyleModel",
          "state": {
            "_model_module": "@jupyter-widgets/controls",
            "_model_module_version": "1.5.0",
            "_model_name": "DescriptionStyleModel",
            "_view_count": null,
            "_view_module": "@jupyter-widgets/base",
            "_view_module_version": "1.2.0",
            "_view_name": "StyleView",
            "description_width": ""
          }
        },
        "1407dbef15c048aa84cf2dea6c9a2ea2": {
          "model_module": "@jupyter-widgets/controls",
          "model_module_version": "1.5.0",
          "model_name": "ProgressStyleModel",
          "state": {
            "_model_module": "@jupyter-widgets/controls",
            "_model_module_version": "1.5.0",
            "_model_name": "ProgressStyleModel",
            "_view_count": null,
            "_view_module": "@jupyter-widgets/base",
            "_view_module_version": "1.2.0",
            "_view_name": "StyleView",
            "bar_color": null,
            "description_width": ""
          }
        },
        "142c5691b20f47f18f61e59533b64053": {
          "model_module": "@jupyter-widgets/controls",
          "model_module_version": "1.5.0",
          "model_name": "HBoxModel",
          "state": {
            "_dom_classes": [],
            "_model_module": "@jupyter-widgets/controls",
            "_model_module_version": "1.5.0",
            "_model_name": "HBoxModel",
            "_view_count": null,
            "_view_module": "@jupyter-widgets/controls",
            "_view_module_version": "1.5.0",
            "_view_name": "HBoxView",
            "box_style": "",
            "children": [
              "IPY_MODEL_59c2a314443a4c8bae74b180827401cd",
              "IPY_MODEL_3598d46ff5a448a2bc6a6e358482c414",
              "IPY_MODEL_302af5843b3247e3a33457f887791150"
            ],
            "layout": "IPY_MODEL_9749bece256142749f95d97665e594d3"
          }
        },
        "16d6e2c67354471fa7045351c8544f22": {
          "model_module": "@jupyter-widgets/controls",
          "model_module_version": "1.5.0",
          "model_name": "HTMLModel",
          "state": {
            "_dom_classes": [],
            "_model_module": "@jupyter-widgets/controls",
            "_model_module_version": "1.5.0",
            "_model_name": "HTMLModel",
            "_view_count": null,
            "_view_module": "@jupyter-widgets/controls",
            "_view_module_version": "1.5.0",
            "_view_name": "HTMLView",
            "description": "",
            "description_tooltip": null,
            "layout": "IPY_MODEL_7fd4deae14874f4cb10c665b13327f79",
            "placeholder": "​",
            "style": "IPY_MODEL_a554beac97ac454da8860d92bafe2803",
            "value": " 12/12 [00:35&lt;00:00,  0.33it/s]"
          }
        },
        "1ba3f28057e848c6a7093fad73c6fbb6": {
          "model_module": "@jupyter-widgets/base",
          "model_module_version": "1.2.0",
          "model_name": "LayoutModel",
          "state": {
            "_model_module": "@jupyter-widgets/base",
            "_model_module_version": "1.2.0",
            "_model_name": "LayoutModel",
            "_view_count": null,
            "_view_module": "@jupyter-widgets/base",
            "_view_module_version": "1.2.0",
            "_view_name": "LayoutView",
            "align_content": null,
            "align_items": null,
            "align_self": null,
            "border": null,
            "bottom": null,
            "display": null,
            "flex": "2",
            "flex_flow": null,
            "grid_area": null,
            "grid_auto_columns": null,
            "grid_auto_flow": null,
            "grid_auto_rows": null,
            "grid_column": null,
            "grid_gap": null,
            "grid_row": null,
            "grid_template_areas": null,
            "grid_template_columns": null,
            "grid_template_rows": null,
            "height": null,
            "justify_content": null,
            "justify_items": null,
            "left": null,
            "margin": null,
            "max_height": null,
            "max_width": null,
            "min_height": null,
            "min_width": null,
            "object_fit": null,
            "object_position": null,
            "order": null,
            "overflow": null,
            "overflow_x": null,
            "overflow_y": null,
            "padding": null,
            "right": null,
            "top": null,
            "visibility": null,
            "width": null
          }
        },
        "1c69aa4aeea1454681076facde7c9157": {
          "model_module": "@jupyter-widgets/controls",
          "model_module_version": "1.5.0",
          "model_name": "DescriptionStyleModel",
          "state": {
            "_model_module": "@jupyter-widgets/controls",
            "_model_module_version": "1.5.0",
            "_model_name": "DescriptionStyleModel",
            "_view_count": null,
            "_view_module": "@jupyter-widgets/base",
            "_view_module_version": "1.2.0",
            "_view_name": "StyleView",
            "description_width": ""
          }
        },
        "21ce2c1c365b4ecebffe9e5eb46cb37f": {
          "model_module": "@jupyter-widgets/controls",
          "model_module_version": "1.5.0",
          "model_name": "DescriptionStyleModel",
          "state": {
            "_model_module": "@jupyter-widgets/controls",
            "_model_module_version": "1.5.0",
            "_model_name": "DescriptionStyleModel",
            "_view_count": null,
            "_view_module": "@jupyter-widgets/base",
            "_view_module_version": "1.2.0",
            "_view_name": "StyleView",
            "description_width": ""
          }
        },
        "228d2173978c4045bdb0cd3f803cc11b": {
          "model_module": "@jupyter-widgets/controls",
          "model_module_version": "1.5.0",
          "model_name": "HTMLModel",
          "state": {
            "_dom_classes": [],
            "_model_module": "@jupyter-widgets/controls",
            "_model_module_version": "1.5.0",
            "_model_name": "HTMLModel",
            "_view_count": null,
            "_view_module": "@jupyter-widgets/controls",
            "_view_module_version": "1.5.0",
            "_view_name": "HTMLView",
            "description": "",
            "description_tooltip": null,
            "layout": "IPY_MODEL_8e740fd29c4e4662b7ff1c93b4a4edbf",
            "placeholder": "​",
            "style": "IPY_MODEL_94644a5b815f4a76a01510c31d8e492e",
            "value": " 12/12 [00:35&lt;00:00,  0.33it/s]"
          }
        },
        "2d8f3606787c444c942bfb5c9202e051": {
          "model_module": "@jupyter-widgets/controls",
          "model_module_version": "1.5.0",
          "model_name": "HBoxModel",
          "state": {
            "_dom_classes": [],
            "_model_module": "@jupyter-widgets/controls",
            "_model_module_version": "1.5.0",
            "_model_name": "HBoxModel",
            "_view_count": null,
            "_view_module": "@jupyter-widgets/controls",
            "_view_module_version": "1.5.0",
            "_view_name": "HBoxView",
            "box_style": "",
            "children": [
              "IPY_MODEL_06d1d023bc3e4de8a3fe7c55d06e3490",
              "IPY_MODEL_472788af7573425c923b6ddd8ce9673f",
              "IPY_MODEL_d8cd6b53da4844f7b29c6a9147adb47c"
            ],
            "layout": "IPY_MODEL_d33e6788267f4bb28435c74e3ea6f810"
          }
        },
        "2e09d3b4580a4207b2c0fc818bdc4d0e": {
          "model_module": "@jupyter-widgets/base",
          "model_module_version": "1.2.0",
          "model_name": "LayoutModel",
          "state": {
            "_model_module": "@jupyter-widgets/base",
            "_model_module_version": "1.2.0",
            "_model_name": "LayoutModel",
            "_view_count": null,
            "_view_module": "@jupyter-widgets/base",
            "_view_module_version": "1.2.0",
            "_view_name": "LayoutView",
            "align_content": null,
            "align_items": null,
            "align_self": null,
            "border": null,
            "bottom": null,
            "display": "inline-flex",
            "flex": null,
            "flex_flow": "row wrap",
            "grid_area": null,
            "grid_auto_columns": null,
            "grid_auto_flow": null,
            "grid_auto_rows": null,
            "grid_column": null,
            "grid_gap": null,
            "grid_row": null,
            "grid_template_areas": null,
            "grid_template_columns": null,
            "grid_template_rows": null,
            "height": null,
            "justify_content": null,
            "justify_items": null,
            "left": null,
            "margin": null,
            "max_height": null,
            "max_width": null,
            "min_height": null,
            "min_width": null,
            "object_fit": null,
            "object_position": null,
            "order": null,
            "overflow": null,
            "overflow_x": null,
            "overflow_y": null,
            "padding": null,
            "right": null,
            "top": null,
            "visibility": "hidden",
            "width": "100%"
          }
        },
        "302af5843b3247e3a33457f887791150": {
          "model_module": "@jupyter-widgets/controls",
          "model_module_version": "1.5.0",
          "model_name": "HTMLModel",
          "state": {
            "_dom_classes": [],
            "_model_module": "@jupyter-widgets/controls",
            "_model_module_version": "1.5.0",
            "_model_name": "HTMLModel",
            "_view_count": null,
            "_view_module": "@jupyter-widgets/controls",
            "_view_module_version": "1.5.0",
            "_view_name": "HTMLView",
            "description": "",
            "description_tooltip": null,
            "layout": "IPY_MODEL_4c1c700a374b4afb9703af658fabc47d",
            "placeholder": "​",
            "style": "IPY_MODEL_489badd4f4014672bc13296ac18780ec",
            "value": " 2/2 [00:03&lt;00:00,  0.61it/s]"
          }
        },
        "3489a414f9fc49b980d44661f26da354": {
          "model_module": "@jupyter-widgets/controls",
          "model_module_version": "1.5.0",
          "model_name": "ProgressStyleModel",
          "state": {
            "_model_module": "@jupyter-widgets/controls",
            "_model_module_version": "1.5.0",
            "_model_name": "ProgressStyleModel",
            "_view_count": null,
            "_view_module": "@jupyter-widgets/base",
            "_view_module_version": "1.2.0",
            "_view_name": "StyleView",
            "bar_color": null,
            "description_width": ""
          }
        },
        "3598d46ff5a448a2bc6a6e358482c414": {
          "model_module": "@jupyter-widgets/controls",
          "model_module_version": "1.5.0",
          "model_name": "FloatProgressModel",
          "state": {
            "_dom_classes": [],
            "_model_module": "@jupyter-widgets/controls",
            "_model_module_version": "1.5.0",
            "_model_name": "FloatProgressModel",
            "_view_count": null,
            "_view_module": "@jupyter-widgets/controls",
            "_view_module_version": "1.5.0",
            "_view_name": "ProgressView",
            "bar_style": "",
            "description": "",
            "description_tooltip": null,
            "layout": "IPY_MODEL_52533c7513904ac5ab76335290d4f3b6",
            "max": 2,
            "min": 0,
            "orientation": "horizontal",
            "style": "IPY_MODEL_b7ee12e5c6e84716a1ea0141af83a929",
            "value": 2
          }
        },
        "391a9ad0a17d48299adef860e47cfa88": {
          "model_module": "@jupyter-widgets/controls",
          "model_module_version": "1.5.0",
          "model_name": "HTMLModel",
          "state": {
            "_dom_classes": [],
            "_model_module": "@jupyter-widgets/controls",
            "_model_module_version": "1.5.0",
            "_model_name": "HTMLModel",
            "_view_count": null,
            "_view_module": "@jupyter-widgets/controls",
            "_view_module_version": "1.5.0",
            "_view_name": "HTMLView",
            "description": "",
            "description_tooltip": null,
            "layout": "IPY_MODEL_904987fec0c9447abc2c505d854f1c9b",
            "placeholder": "​",
            "style": "IPY_MODEL_21ce2c1c365b4ecebffe9e5eb46cb37f",
            "value": "Validation DataLoader 0: 100%"
          }
        },
        "3b145bade2c64d06ba9f5d6349ccc2d0": {
          "model_module": "@jupyter-widgets/controls",
          "model_module_version": "1.5.0",
          "model_name": "DescriptionStyleModel",
          "state": {
            "_model_module": "@jupyter-widgets/controls",
            "_model_module_version": "1.5.0",
            "_model_name": "DescriptionStyleModel",
            "_view_count": null,
            "_view_module": "@jupyter-widgets/base",
            "_view_module_version": "1.2.0",
            "_view_name": "StyleView",
            "description_width": ""
          }
        },
        "3b677d37444d4db3b435206052c1b7fd": {
          "model_module": "@jupyter-widgets/base",
          "model_module_version": "1.2.0",
          "model_name": "LayoutModel",
          "state": {
            "_model_module": "@jupyter-widgets/base",
            "_model_module_version": "1.2.0",
            "_model_name": "LayoutModel",
            "_view_count": null,
            "_view_module": "@jupyter-widgets/base",
            "_view_module_version": "1.2.0",
            "_view_name": "LayoutView",
            "align_content": null,
            "align_items": null,
            "align_self": null,
            "border": null,
            "bottom": null,
            "display": "inline-flex",
            "flex": null,
            "flex_flow": "row wrap",
            "grid_area": null,
            "grid_auto_columns": null,
            "grid_auto_flow": null,
            "grid_auto_rows": null,
            "grid_column": null,
            "grid_gap": null,
            "grid_row": null,
            "grid_template_areas": null,
            "grid_template_columns": null,
            "grid_template_rows": null,
            "height": null,
            "justify_content": null,
            "justify_items": null,
            "left": null,
            "margin": null,
            "max_height": null,
            "max_width": null,
            "min_height": null,
            "min_width": null,
            "object_fit": null,
            "object_position": null,
            "order": null,
            "overflow": null,
            "overflow_x": null,
            "overflow_y": null,
            "padding": null,
            "right": null,
            "top": null,
            "visibility": "hidden",
            "width": "100%"
          }
        },
        "4119a64e81684564b23589604d1e0870": {
          "model_module": "@jupyter-widgets/output",
          "model_module_version": "1.0.0",
          "model_name": "OutputModel",
          "state": {
            "_dom_classes": [],
            "_model_module": "@jupyter-widgets/output",
            "_model_module_version": "1.0.0",
            "_model_name": "OutputModel",
            "_view_count": null,
            "_view_module": "@jupyter-widgets/output",
            "_view_module_version": "1.0.0",
            "_view_name": "OutputView",
            "layout": "IPY_MODEL_fc43853c34ec4eb88e0d6bc626104c43",
            "msg_id": "",
            "outputs": [
              {
                "data": {
                  "application/vnd.google.colaboratory.intrinsic+json": {
                    "summary": "{\n  \"name\": \"trainer\",\n  \"rows\": 7,\n  \"fields\": [\n    {\n      \"column\": \"val_loss\",\n      \"properties\": {\n        \"dtype\": \"number\",\n        \"std\": 0.05057251084262054,\n        \"min\": 0.34782740473747253,\n        \"max\": 0.48745226860046387,\n        \"num_unique_values\": 7,\n        \"samples\": [\n          0.48745226860046387,\n          0.34782740473747253,\n          0.4731021225452423\n        ],\n        \"semantic_type\": \"\",\n        \"description\": \"\"\n      }\n    },\n    {\n      \"column\": \"val_acc\",\n      \"properties\": {\n        \"dtype\": \"number\",\n        \"std\": 0.32716955815824117,\n        \"min\": 0.26621347665786743,\n        \"max\": 0.9559911489486694,\n        \"num_unique_values\": 7,\n        \"samples\": [\n          0.8451972007751465,\n          0.9524056911468506,\n          0.9544419050216675\n        ],\n        \"semantic_type\": \"\",\n        \"description\": \"\"\n      }\n    },\n    {\n      \"column\": \"loss\",\n      \"properties\": {\n        \"dtype\": \"number\",\n        \"std\": 0.00015503038221220832,\n        \"min\": 3.0213402624212904e-06,\n        \"max\": 0.00039167871000245214,\n        \"num_unique_values\": 6,\n        \"samples\": [\n          0.00039167871000245214,\n          4.735693437396549e-05,\n          3.0213402624212904e-06\n        ],\n        \"semantic_type\": \"\",\n        \"description\": \"\"\n      }\n    },\n    {\n      \"column\": \"acc\",\n      \"properties\": {\n        \"dtype\": \"number\",\n        \"std\": 0.009334698856223182,\n        \"min\": 0.9688253402709961,\n        \"max\": 0.9954545497894287,\n        \"num_unique_values\": 6,\n        \"samples\": [\n          0.9688253402709961,\n          0.9908525347709656,\n          0.9887105226516724\n        ],\n        \"semantic_type\": \"\",\n        \"description\": \"\"\n      }\n    }\n  ]\n}",
                    "type": "dataframe"
                  },
                  "text/html": "\n  <div id=\"df-81a7ae40-dcd0-4ee5-b90c-6d66ed983ebd\" class=\"colab-df-container\">\n    <div>\n<style scoped>\n    .dataframe tbody tr th:only-of-type {\n        vertical-align: middle;\n    }\n\n    .dataframe tbody tr th {\n        vertical-align: top;\n    }\n\n    .dataframe thead th {\n        text-align: right;\n    }\n</style>\n<table border=\"1\" class=\"dataframe\">\n  <thead>\n    <tr style=\"text-align: right;\">\n      <th></th>\n      <th>val_loss</th>\n      <th>val_acc</th>\n      <th>loss</th>\n      <th>acc</th>\n    </tr>\n  </thead>\n  <tbody>\n    <tr>\n      <th>0</th>\n      <td>0.487452</td>\n      <td>0.845197</td>\n      <td>NaN</td>\n      <td>NaN</td>\n    </tr>\n    <tr>\n      <th>1</th>\n      <td>0.347827</td>\n      <td>0.952406</td>\n      <td>0.000392</td>\n      <td>0.968825</td>\n    </tr>\n    <tr>\n      <th>2</th>\n      <td>0.406846</td>\n      <td>0.268249</td>\n      <td>0.000047</td>\n      <td>0.990853</td>\n    </tr>\n    <tr>\n      <th>3</th>\n      <td>0.437198</td>\n      <td>0.955991</td>\n      <td>0.000011</td>\n      <td>0.990982</td>\n    </tr>\n    <tr>\n      <th>4</th>\n      <td>0.457754</td>\n      <td>0.955505</td>\n      <td>0.000005</td>\n      <td>0.995455</td>\n    </tr>\n    <tr>\n      <th>5</th>\n      <td>0.473102</td>\n      <td>0.954442</td>\n      <td>0.000004</td>\n      <td>0.986395</td>\n    </tr>\n    <tr>\n      <th>6</th>\n      <td>0.486016</td>\n      <td>0.266213</td>\n      <td>0.000003</td>\n      <td>0.988711</td>\n    </tr>\n  </tbody>\n</table>\n</div>\n    <div class=\"colab-df-buttons\">\n\n  <div class=\"colab-df-container\">\n    <button class=\"colab-df-convert\" onclick=\"convertToInteractive('df-81a7ae40-dcd0-4ee5-b90c-6d66ed983ebd')\"\n            title=\"Convert this dataframe to an interactive table.\"\n            style=\"display:none;\">\n\n  <svg xmlns=\"http://www.w3.org/2000/svg\" height=\"24px\" viewBox=\"0 -960 960 960\">\n    <path d=\"M120-120v-720h720v720H120Zm60-500h600v-160H180v160Zm220 220h160v-160H400v160Zm0 220h160v-160H400v160ZM180-400h160v-160H180v160Zm440 0h160v-160H620v160ZM180-180h160v-160H180v160Zm440 0h160v-160H620v160Z\"/>\n  </svg>\n    </button>\n\n  <style>\n    .colab-df-container {\n      display:flex;\n      gap: 12px;\n    }\n\n    .colab-df-convert {\n      background-color: #E8F0FE;\n      border: none;\n      border-radius: 50%;\n      cursor: pointer;\n      display: none;\n      fill: #1967D2;\n      height: 32px;\n      padding: 0 0 0 0;\n      width: 32px;\n    }\n\n    .colab-df-convert:hover {\n      background-color: #E2EBFA;\n      box-shadow: 0px 1px 2px rgba(60, 64, 67, 0.3), 0px 1px 3px 1px rgba(60, 64, 67, 0.15);\n      fill: #174EA6;\n    }\n\n    .colab-df-buttons div {\n      margin-bottom: 4px;\n    }\n\n    [theme=dark] .colab-df-convert {\n      background-color: #3B4455;\n      fill: #D2E3FC;\n    }\n\n    [theme=dark] .colab-df-convert:hover {\n      background-color: #434B5C;\n      box-shadow: 0px 1px 3px 1px rgba(0, 0, 0, 0.15);\n      filter: drop-shadow(0px 1px 2px rgba(0, 0, 0, 0.3));\n      fill: #FFFFFF;\n    }\n  </style>\n\n    <script>\n      const buttonEl =\n        document.querySelector('#df-81a7ae40-dcd0-4ee5-b90c-6d66ed983ebd button.colab-df-convert');\n      buttonEl.style.display =\n        google.colab.kernel.accessAllowed ? 'block' : 'none';\n\n      async function convertToInteractive(key) {\n        const element = document.querySelector('#df-81a7ae40-dcd0-4ee5-b90c-6d66ed983ebd');\n        const dataTable =\n          await google.colab.kernel.invokeFunction('convertToInteractive',\n                                                    [key], {});\n        if (!dataTable) return;\n\n        const docLinkHtml = 'Like what you see? Visit the ' +\n          '<a target=\"_blank\" href=https://colab.research.google.com/notebooks/data_table.ipynb>data table notebook</a>'\n          + ' to learn more about interactive tables.';\n        element.innerHTML = '';\n        dataTable['output_type'] = 'display_data';\n        await google.colab.output.renderOutput(dataTable, element);\n        const docLink = document.createElement('div');\n        docLink.innerHTML = docLinkHtml;\n        element.appendChild(docLink);\n      }\n    </script>\n  </div>\n\n\n<div id=\"df-e6c1e26b-37ce-488b-b306-e3227ef0b898\">\n  <button class=\"colab-df-quickchart\" onclick=\"quickchart('df-e6c1e26b-37ce-488b-b306-e3227ef0b898')\"\n            title=\"Suggest charts\"\n            style=\"display:none;\">\n\n<svg xmlns=\"http://www.w3.org/2000/svg\" height=\"24px\"viewBox=\"0 0 24 24\"\n     width=\"24px\">\n    <g>\n        <path d=\"M19 3H5c-1.1 0-2 .9-2 2v14c0 1.1.9 2 2 2h14c1.1 0 2-.9 2-2V5c0-1.1-.9-2-2-2zM9 17H7v-7h2v7zm4 0h-2V7h2v10zm4 0h-2v-4h2v4z\"/>\n    </g>\n</svg>\n  </button>\n\n<style>\n  .colab-df-quickchart {\n      --bg-color: #E8F0FE;\n      --fill-color: #1967D2;\n      --hover-bg-color: #E2EBFA;\n      --hover-fill-color: #174EA6;\n      --disabled-fill-color: #AAA;\n      --disabled-bg-color: #DDD;\n  }\n\n  [theme=dark] .colab-df-quickchart {\n      --bg-color: #3B4455;\n      --fill-color: #D2E3FC;\n      --hover-bg-color: #434B5C;\n      --hover-fill-color: #FFFFFF;\n      --disabled-bg-color: #3B4455;\n      --disabled-fill-color: #666;\n  }\n\n  .colab-df-quickchart {\n    background-color: var(--bg-color);\n    border: none;\n    border-radius: 50%;\n    cursor: pointer;\n    display: none;\n    fill: var(--fill-color);\n    height: 32px;\n    padding: 0;\n    width: 32px;\n  }\n\n  .colab-df-quickchart:hover {\n    background-color: var(--hover-bg-color);\n    box-shadow: 0 1px 2px rgba(60, 64, 67, 0.3), 0 1px 3px 1px rgba(60, 64, 67, 0.15);\n    fill: var(--button-hover-fill-color);\n  }\n\n  .colab-df-quickchart-complete:disabled,\n  .colab-df-quickchart-complete:disabled:hover {\n    background-color: var(--disabled-bg-color);\n    fill: var(--disabled-fill-color);\n    box-shadow: none;\n  }\n\n  .colab-df-spinner {\n    border: 2px solid var(--fill-color);\n    border-color: transparent;\n    border-bottom-color: var(--fill-color);\n    animation:\n      spin 1s steps(1) infinite;\n  }\n\n  @keyframes spin {\n    0% {\n      border-color: transparent;\n      border-bottom-color: var(--fill-color);\n      border-left-color: var(--fill-color);\n    }\n    20% {\n      border-color: transparent;\n      border-left-color: var(--fill-color);\n      border-top-color: var(--fill-color);\n    }\n    30% {\n      border-color: transparent;\n      border-left-color: var(--fill-color);\n      border-top-color: var(--fill-color);\n      border-right-color: var(--fill-color);\n    }\n    40% {\n      border-color: transparent;\n      border-right-color: var(--fill-color);\n      border-top-color: var(--fill-color);\n    }\n    60% {\n      border-color: transparent;\n      border-right-color: var(--fill-color);\n    }\n    80% {\n      border-color: transparent;\n      border-right-color: var(--fill-color);\n      border-bottom-color: var(--fill-color);\n    }\n    90% {\n      border-color: transparent;\n      border-bottom-color: var(--fill-color);\n    }\n  }\n</style>\n\n  <script>\n    async function quickchart(key) {\n      const quickchartButtonEl =\n        document.querySelector('#' + key + ' button');\n      quickchartButtonEl.disabled = true;  // To prevent multiple clicks.\n      quickchartButtonEl.classList.add('colab-df-spinner');\n      try {\n        const charts = await google.colab.kernel.invokeFunction(\n            'suggestCharts', [key], {});\n      } catch (error) {\n        console.error('Error during call to suggestCharts:', error);\n      }\n      quickchartButtonEl.classList.remove('colab-df-spinner');\n      quickchartButtonEl.classList.add('colab-df-quickchart-complete');\n    }\n    (() => {\n      let quickchartButtonEl =\n        document.querySelector('#df-e6c1e26b-37ce-488b-b306-e3227ef0b898 button');\n      quickchartButtonEl.style.display =\n        google.colab.kernel.accessAllowed ? 'block' : 'none';\n    })();\n  </script>\n</div>\n\n    </div>\n  </div>\n",
                  "text/plain": "   val_loss   val_acc      loss       acc\n0  0.487452  0.845197       NaN       NaN\n1  0.347827  0.952406  0.000392  0.968825\n2  0.406846  0.268249  0.000047  0.990853\n3  0.437198  0.955991  0.000011  0.990982\n4  0.457754  0.955505  0.000005  0.995455\n5  0.473102  0.954442  0.000004  0.986395\n6  0.486016  0.266213  0.000003  0.988711"
                },
                "metadata": {},
                "output_type": "display_data"
              }
            ]
          }
        },
        "4254cbf0a01f42e1a7582fe610d9ef28": {
          "model_module": "@jupyter-widgets/base",
          "model_module_version": "1.2.0",
          "model_name": "LayoutModel",
          "state": {
            "_model_module": "@jupyter-widgets/base",
            "_model_module_version": "1.2.0",
            "_model_name": "LayoutModel",
            "_view_count": null,
            "_view_module": "@jupyter-widgets/base",
            "_view_module_version": "1.2.0",
            "_view_name": "LayoutView",
            "align_content": null,
            "align_items": null,
            "align_self": null,
            "border": null,
            "bottom": null,
            "display": null,
            "flex": null,
            "flex_flow": null,
            "grid_area": null,
            "grid_auto_columns": null,
            "grid_auto_flow": null,
            "grid_auto_rows": null,
            "grid_column": null,
            "grid_gap": null,
            "grid_row": null,
            "grid_template_areas": null,
            "grid_template_columns": null,
            "grid_template_rows": null,
            "height": null,
            "justify_content": null,
            "justify_items": null,
            "left": null,
            "margin": null,
            "max_height": null,
            "max_width": null,
            "min_height": null,
            "min_width": null,
            "object_fit": null,
            "object_position": null,
            "order": null,
            "overflow": null,
            "overflow_x": null,
            "overflow_y": null,
            "padding": null,
            "right": null,
            "top": null,
            "visibility": null,
            "width": null
          }
        },
        "436277b4cf0a4265b93aaeab6c108c5f": {
          "model_module": "@jupyter-widgets/controls",
          "model_module_version": "1.5.0",
          "model_name": "HBoxModel",
          "state": {
            "_dom_classes": [],
            "_model_module": "@jupyter-widgets/controls",
            "_model_module_version": "1.5.0",
            "_model_name": "HBoxModel",
            "_view_count": null,
            "_view_module": "@jupyter-widgets/controls",
            "_view_module_version": "1.5.0",
            "_view_name": "HBoxView",
            "box_style": "",
            "children": [
              "IPY_MODEL_b2d35f18b93d4e3a9ae81e808c354ba7",
              "IPY_MODEL_f82d9e800ea34059a4e2e398e7359959",
              "IPY_MODEL_16d6e2c67354471fa7045351c8544f22"
            ],
            "layout": "IPY_MODEL_f9d173484a1548c0b0a8a3d595c8bfdc"
          }
        },
        "472788af7573425c923b6ddd8ce9673f": {
          "model_module": "@jupyter-widgets/controls",
          "model_module_version": "1.5.0",
          "model_name": "FloatProgressModel",
          "state": {
            "_dom_classes": [],
            "_model_module": "@jupyter-widgets/controls",
            "_model_module_version": "1.5.0",
            "_model_name": "FloatProgressModel",
            "_view_count": null,
            "_view_module": "@jupyter-widgets/controls",
            "_view_module_version": "1.5.0",
            "_view_name": "ProgressView",
            "bar_style": "",
            "description": "",
            "description_tooltip": null,
            "layout": "IPY_MODEL_1ba3f28057e848c6a7093fad73c6fbb6",
            "max": 182,
            "min": 0,
            "orientation": "horizontal",
            "style": "IPY_MODEL_5cac216f9eab45bd92bea2063aa69b76",
            "value": 0
          }
        },
        "489badd4f4014672bc13296ac18780ec": {
          "model_module": "@jupyter-widgets/controls",
          "model_module_version": "1.5.0",
          "model_name": "DescriptionStyleModel",
          "state": {
            "_model_module": "@jupyter-widgets/controls",
            "_model_module_version": "1.5.0",
            "_model_name": "DescriptionStyleModel",
            "_view_count": null,
            "_view_module": "@jupyter-widgets/base",
            "_view_module_version": "1.2.0",
            "_view_name": "StyleView",
            "description_width": ""
          }
        },
        "48f03db6d6d14e39aeb2bc890493bd16": {
          "model_module": "@jupyter-widgets/controls",
          "model_module_version": "1.5.0",
          "model_name": "FloatProgressModel",
          "state": {
            "_dom_classes": [],
            "_model_module": "@jupyter-widgets/controls",
            "_model_module_version": "1.5.0",
            "_model_name": "FloatProgressModel",
            "_view_count": null,
            "_view_module": "@jupyter-widgets/controls",
            "_view_module_version": "1.5.0",
            "_view_name": "ProgressView",
            "bar_style": "",
            "description": "",
            "description_tooltip": null,
            "layout": "IPY_MODEL_a5e4ac2b1f3d48bca59f69d1f52477ba",
            "max": 12,
            "min": 0,
            "orientation": "horizontal",
            "style": "IPY_MODEL_a4d14323ade14d7698d6553879ba5687",
            "value": 12
          }
        },
        "4b7cd7da54424b9cbd790f2a56400e85": {
          "model_module": "@jupyter-widgets/base",
          "model_module_version": "1.2.0",
          "model_name": "LayoutModel",
          "state": {
            "_model_module": "@jupyter-widgets/base",
            "_model_module_version": "1.2.0",
            "_model_name": "LayoutModel",
            "_view_count": null,
            "_view_module": "@jupyter-widgets/base",
            "_view_module_version": "1.2.0",
            "_view_name": "LayoutView",
            "align_content": null,
            "align_items": null,
            "align_self": null,
            "border": null,
            "bottom": null,
            "display": null,
            "flex": null,
            "flex_flow": null,
            "grid_area": null,
            "grid_auto_columns": null,
            "grid_auto_flow": null,
            "grid_auto_rows": null,
            "grid_column": null,
            "grid_gap": null,
            "grid_row": null,
            "grid_template_areas": null,
            "grid_template_columns": null,
            "grid_template_rows": null,
            "height": null,
            "justify_content": null,
            "justify_items": null,
            "left": null,
            "margin": null,
            "max_height": null,
            "max_width": null,
            "min_height": null,
            "min_width": null,
            "object_fit": null,
            "object_position": null,
            "order": null,
            "overflow": null,
            "overflow_x": null,
            "overflow_y": null,
            "padding": null,
            "right": null,
            "top": null,
            "visibility": null,
            "width": null
          }
        },
        "4c1c700a374b4afb9703af658fabc47d": {
          "model_module": "@jupyter-widgets/base",
          "model_module_version": "1.2.0",
          "model_name": "LayoutModel",
          "state": {
            "_model_module": "@jupyter-widgets/base",
            "_model_module_version": "1.2.0",
            "_model_name": "LayoutModel",
            "_view_count": null,
            "_view_module": "@jupyter-widgets/base",
            "_view_module_version": "1.2.0",
            "_view_name": "LayoutView",
            "align_content": null,
            "align_items": null,
            "align_self": null,
            "border": null,
            "bottom": null,
            "display": null,
            "flex": null,
            "flex_flow": null,
            "grid_area": null,
            "grid_auto_columns": null,
            "grid_auto_flow": null,
            "grid_auto_rows": null,
            "grid_column": null,
            "grid_gap": null,
            "grid_row": null,
            "grid_template_areas": null,
            "grid_template_columns": null,
            "grid_template_rows": null,
            "height": null,
            "justify_content": null,
            "justify_items": null,
            "left": null,
            "margin": null,
            "max_height": null,
            "max_width": null,
            "min_height": null,
            "min_width": null,
            "object_fit": null,
            "object_position": null,
            "order": null,
            "overflow": null,
            "overflow_x": null,
            "overflow_y": null,
            "padding": null,
            "right": null,
            "top": null,
            "visibility": null,
            "width": null
          }
        },
        "52533c7513904ac5ab76335290d4f3b6": {
          "model_module": "@jupyter-widgets/base",
          "model_module_version": "1.2.0",
          "model_name": "LayoutModel",
          "state": {
            "_model_module": "@jupyter-widgets/base",
            "_model_module_version": "1.2.0",
            "_model_name": "LayoutModel",
            "_view_count": null,
            "_view_module": "@jupyter-widgets/base",
            "_view_module_version": "1.2.0",
            "_view_name": "LayoutView",
            "align_content": null,
            "align_items": null,
            "align_self": null,
            "border": null,
            "bottom": null,
            "display": null,
            "flex": "2",
            "flex_flow": null,
            "grid_area": null,
            "grid_auto_columns": null,
            "grid_auto_flow": null,
            "grid_auto_rows": null,
            "grid_column": null,
            "grid_gap": null,
            "grid_row": null,
            "grid_template_areas": null,
            "grid_template_columns": null,
            "grid_template_rows": null,
            "height": null,
            "justify_content": null,
            "justify_items": null,
            "left": null,
            "margin": null,
            "max_height": null,
            "max_width": null,
            "min_height": null,
            "min_width": null,
            "object_fit": null,
            "object_position": null,
            "order": null,
            "overflow": null,
            "overflow_x": null,
            "overflow_y": null,
            "padding": null,
            "right": null,
            "top": null,
            "visibility": null,
            "width": null
          }
        },
        "59c2a314443a4c8bae74b180827401cd": {
          "model_module": "@jupyter-widgets/controls",
          "model_module_version": "1.5.0",
          "model_name": "HTMLModel",
          "state": {
            "_dom_classes": [],
            "_model_module": "@jupyter-widgets/controls",
            "_model_module_version": "1.5.0",
            "_model_name": "HTMLModel",
            "_view_count": null,
            "_view_module": "@jupyter-widgets/controls",
            "_view_module_version": "1.5.0",
            "_view_name": "HTMLView",
            "description": "",
            "description_tooltip": null,
            "layout": "IPY_MODEL_d221fdc5f6ac4be08ba23a5d0f8742d4",
            "placeholder": "​",
            "style": "IPY_MODEL_c4a4893d77904026946ad17ba85b2d40",
            "value": "Sanity Checking DataLoader 0: 100%"
          }
        },
        "5a21592e7bbf4ddc895afd931331f883": {
          "model_module": "@jupyter-widgets/base",
          "model_module_version": "1.2.0",
          "model_name": "LayoutModel",
          "state": {
            "_model_module": "@jupyter-widgets/base",
            "_model_module_version": "1.2.0",
            "_model_name": "LayoutModel",
            "_view_count": null,
            "_view_module": "@jupyter-widgets/base",
            "_view_module_version": "1.2.0",
            "_view_name": "LayoutView",
            "align_content": null,
            "align_items": null,
            "align_self": null,
            "border": null,
            "bottom": null,
            "display": null,
            "flex": null,
            "flex_flow": null,
            "grid_area": null,
            "grid_auto_columns": null,
            "grid_auto_flow": null,
            "grid_auto_rows": null,
            "grid_column": null,
            "grid_gap": null,
            "grid_row": null,
            "grid_template_areas": null,
            "grid_template_columns": null,
            "grid_template_rows": null,
            "height": null,
            "justify_content": null,
            "justify_items": null,
            "left": null,
            "margin": null,
            "max_height": null,
            "max_width": null,
            "min_height": null,
            "min_width": null,
            "object_fit": null,
            "object_position": null,
            "order": null,
            "overflow": null,
            "overflow_x": null,
            "overflow_y": null,
            "padding": null,
            "right": null,
            "top": null,
            "visibility": null,
            "width": null
          }
        },
        "5cac216f9eab45bd92bea2063aa69b76": {
          "model_module": "@jupyter-widgets/controls",
          "model_module_version": "1.5.0",
          "model_name": "ProgressStyleModel",
          "state": {
            "_model_module": "@jupyter-widgets/controls",
            "_model_module_version": "1.5.0",
            "_model_name": "ProgressStyleModel",
            "_view_count": null,
            "_view_module": "@jupyter-widgets/base",
            "_view_module_version": "1.2.0",
            "_view_name": "StyleView",
            "bar_color": null,
            "description_width": ""
          }
        },
        "5d894418ee6a43c1b062216cfb298b9a": {
          "model_module": "@jupyter-widgets/base",
          "model_module_version": "1.2.0",
          "model_name": "LayoutModel",
          "state": {
            "_model_module": "@jupyter-widgets/base",
            "_model_module_version": "1.2.0",
            "_model_name": "LayoutModel",
            "_view_count": null,
            "_view_module": "@jupyter-widgets/base",
            "_view_module_version": "1.2.0",
            "_view_name": "LayoutView",
            "align_content": null,
            "align_items": null,
            "align_self": null,
            "border": null,
            "bottom": null,
            "display": null,
            "flex": null,
            "flex_flow": null,
            "grid_area": null,
            "grid_auto_columns": null,
            "grid_auto_flow": null,
            "grid_auto_rows": null,
            "grid_column": null,
            "grid_gap": null,
            "grid_row": null,
            "grid_template_areas": null,
            "grid_template_columns": null,
            "grid_template_rows": null,
            "height": null,
            "justify_content": null,
            "justify_items": null,
            "left": null,
            "margin": null,
            "max_height": null,
            "max_width": null,
            "min_height": null,
            "min_width": null,
            "object_fit": null,
            "object_position": null,
            "order": null,
            "overflow": null,
            "overflow_x": null,
            "overflow_y": null,
            "padding": null,
            "right": null,
            "top": null,
            "visibility": null,
            "width": null
          }
        },
        "63bac08082554004b454f58465b1374a": {
          "model_module": "@jupyter-widgets/base",
          "model_module_version": "1.2.0",
          "model_name": "LayoutModel",
          "state": {
            "_model_module": "@jupyter-widgets/base",
            "_model_module_version": "1.2.0",
            "_model_name": "LayoutModel",
            "_view_count": null,
            "_view_module": "@jupyter-widgets/base",
            "_view_module_version": "1.2.0",
            "_view_name": "LayoutView",
            "align_content": null,
            "align_items": null,
            "align_self": null,
            "border": null,
            "bottom": null,
            "display": null,
            "flex": "2",
            "flex_flow": null,
            "grid_area": null,
            "grid_auto_columns": null,
            "grid_auto_flow": null,
            "grid_auto_rows": null,
            "grid_column": null,
            "grid_gap": null,
            "grid_row": null,
            "grid_template_areas": null,
            "grid_template_columns": null,
            "grid_template_rows": null,
            "height": null,
            "justify_content": null,
            "justify_items": null,
            "left": null,
            "margin": null,
            "max_height": null,
            "max_width": null,
            "min_height": null,
            "min_width": null,
            "object_fit": null,
            "object_position": null,
            "order": null,
            "overflow": null,
            "overflow_x": null,
            "overflow_y": null,
            "padding": null,
            "right": null,
            "top": null,
            "visibility": null,
            "width": null
          }
        },
        "6452f9c07d504962809cc290481160e0": {
          "model_module": "@jupyter-widgets/controls",
          "model_module_version": "1.5.0",
          "model_name": "DescriptionStyleModel",
          "state": {
            "_model_module": "@jupyter-widgets/controls",
            "_model_module_version": "1.5.0",
            "_model_name": "DescriptionStyleModel",
            "_view_count": null,
            "_view_module": "@jupyter-widgets/base",
            "_view_module_version": "1.2.0",
            "_view_name": "StyleView",
            "description_width": ""
          }
        },
        "6c518f98fdd44f8d8e473624bed69523": {
          "model_module": "@jupyter-widgets/base",
          "model_module_version": "1.2.0",
          "model_name": "LayoutModel",
          "state": {
            "_model_module": "@jupyter-widgets/base",
            "_model_module_version": "1.2.0",
            "_model_name": "LayoutModel",
            "_view_count": null,
            "_view_module": "@jupyter-widgets/base",
            "_view_module_version": "1.2.0",
            "_view_name": "LayoutView",
            "align_content": null,
            "align_items": null,
            "align_self": null,
            "border": null,
            "bottom": null,
            "display": null,
            "flex": "2",
            "flex_flow": null,
            "grid_area": null,
            "grid_auto_columns": null,
            "grid_auto_flow": null,
            "grid_auto_rows": null,
            "grid_column": null,
            "grid_gap": null,
            "grid_row": null,
            "grid_template_areas": null,
            "grid_template_columns": null,
            "grid_template_rows": null,
            "height": null,
            "justify_content": null,
            "justify_items": null,
            "left": null,
            "margin": null,
            "max_height": null,
            "max_width": null,
            "min_height": null,
            "min_width": null,
            "object_fit": null,
            "object_position": null,
            "order": null,
            "overflow": null,
            "overflow_x": null,
            "overflow_y": null,
            "padding": null,
            "right": null,
            "top": null,
            "visibility": null,
            "width": null
          }
        },
        "7cf49d487d4a4b29a6b91eae994335f3": {
          "model_module": "@jupyter-widgets/controls",
          "model_module_version": "1.5.0",
          "model_name": "HBoxModel",
          "state": {
            "_dom_classes": [],
            "_model_module": "@jupyter-widgets/controls",
            "_model_module_version": "1.5.0",
            "_model_name": "HBoxModel",
            "_view_count": null,
            "_view_module": "@jupyter-widgets/controls",
            "_view_module_version": "1.5.0",
            "_view_name": "HBoxView",
            "box_style": "",
            "children": [
              "IPY_MODEL_833e69aecccc44d8a6fa55420976574c",
              "IPY_MODEL_938bb87c56d043d695779f2cb2599c2e",
              "IPY_MODEL_f95b2fd1ad3d49088121d41fd8c91245"
            ],
            "layout": "IPY_MODEL_d5f9b2eed83c4043b92944ec04318c1f"
          }
        },
        "7fd4deae14874f4cb10c665b13327f79": {
          "model_module": "@jupyter-widgets/base",
          "model_module_version": "1.2.0",
          "model_name": "LayoutModel",
          "state": {
            "_model_module": "@jupyter-widgets/base",
            "_model_module_version": "1.2.0",
            "_model_name": "LayoutModel",
            "_view_count": null,
            "_view_module": "@jupyter-widgets/base",
            "_view_module_version": "1.2.0",
            "_view_name": "LayoutView",
            "align_content": null,
            "align_items": null,
            "align_self": null,
            "border": null,
            "bottom": null,
            "display": null,
            "flex": null,
            "flex_flow": null,
            "grid_area": null,
            "grid_auto_columns": null,
            "grid_auto_flow": null,
            "grid_auto_rows": null,
            "grid_column": null,
            "grid_gap": null,
            "grid_row": null,
            "grid_template_areas": null,
            "grid_template_columns": null,
            "grid_template_rows": null,
            "height": null,
            "justify_content": null,
            "justify_items": null,
            "left": null,
            "margin": null,
            "max_height": null,
            "max_width": null,
            "min_height": null,
            "min_width": null,
            "object_fit": null,
            "object_position": null,
            "order": null,
            "overflow": null,
            "overflow_x": null,
            "overflow_y": null,
            "padding": null,
            "right": null,
            "top": null,
            "visibility": null,
            "width": null
          }
        },
        "833e69aecccc44d8a6fa55420976574c": {
          "model_module": "@jupyter-widgets/controls",
          "model_module_version": "1.5.0",
          "model_name": "HTMLModel",
          "state": {
            "_dom_classes": [],
            "_model_module": "@jupyter-widgets/controls",
            "_model_module_version": "1.5.0",
            "_model_name": "HTMLModel",
            "_view_count": null,
            "_view_module": "@jupyter-widgets/controls",
            "_view_module_version": "1.5.0",
            "_view_name": "HTMLView",
            "description": "",
            "description_tooltip": null,
            "layout": "IPY_MODEL_8db6acddde8849e0aa27d1c2894ec716",
            "placeholder": "​",
            "style": "IPY_MODEL_3b145bade2c64d06ba9f5d6349ccc2d0",
            "value": "Validation DataLoader 0: 100%"
          }
        },
        "89e7a80afbc04bdd9f1cb756b3f56962": {
          "model_module": "@jupyter-widgets/controls",
          "model_module_version": "1.5.0",
          "model_name": "DescriptionStyleModel",
          "state": {
            "_model_module": "@jupyter-widgets/controls",
            "_model_module_version": "1.5.0",
            "_model_name": "DescriptionStyleModel",
            "_view_count": null,
            "_view_module": "@jupyter-widgets/base",
            "_view_module_version": "1.2.0",
            "_view_name": "StyleView",
            "description_width": ""
          }
        },
        "8d024f6e815b40f2990aef3734464c43": {
          "model_module": "@jupyter-widgets/controls",
          "model_module_version": "1.5.0",
          "model_name": "HTMLModel",
          "state": {
            "_dom_classes": [],
            "_model_module": "@jupyter-widgets/controls",
            "_model_module_version": "1.5.0",
            "_model_name": "HTMLModel",
            "_view_count": null,
            "_view_module": "@jupyter-widgets/controls",
            "_view_module_version": "1.5.0",
            "_view_name": "HTMLView",
            "description": "",
            "description_tooltip": null,
            "layout": "IPY_MODEL_5d894418ee6a43c1b062216cfb298b9a",
            "placeholder": "​",
            "style": "IPY_MODEL_b88c6ca07baa492f82ba7a61db34a3b0",
            "value": " 12/12 [00:36&lt;00:00,  0.33it/s]"
          }
        },
        "8db6acddde8849e0aa27d1c2894ec716": {
          "model_module": "@jupyter-widgets/base",
          "model_module_version": "1.2.0",
          "model_name": "LayoutModel",
          "state": {
            "_model_module": "@jupyter-widgets/base",
            "_model_module_version": "1.2.0",
            "_model_name": "LayoutModel",
            "_view_count": null,
            "_view_module": "@jupyter-widgets/base",
            "_view_module_version": "1.2.0",
            "_view_name": "LayoutView",
            "align_content": null,
            "align_items": null,
            "align_self": null,
            "border": null,
            "bottom": null,
            "display": null,
            "flex": null,
            "flex_flow": null,
            "grid_area": null,
            "grid_auto_columns": null,
            "grid_auto_flow": null,
            "grid_auto_rows": null,
            "grid_column": null,
            "grid_gap": null,
            "grid_row": null,
            "grid_template_areas": null,
            "grid_template_columns": null,
            "grid_template_rows": null,
            "height": null,
            "justify_content": null,
            "justify_items": null,
            "left": null,
            "margin": null,
            "max_height": null,
            "max_width": null,
            "min_height": null,
            "min_width": null,
            "object_fit": null,
            "object_position": null,
            "order": null,
            "overflow": null,
            "overflow_x": null,
            "overflow_y": null,
            "padding": null,
            "right": null,
            "top": null,
            "visibility": null,
            "width": null
          }
        },
        "8e740fd29c4e4662b7ff1c93b4a4edbf": {
          "model_module": "@jupyter-widgets/base",
          "model_module_version": "1.2.0",
          "model_name": "LayoutModel",
          "state": {
            "_model_module": "@jupyter-widgets/base",
            "_model_module_version": "1.2.0",
            "_model_name": "LayoutModel",
            "_view_count": null,
            "_view_module": "@jupyter-widgets/base",
            "_view_module_version": "1.2.0",
            "_view_name": "LayoutView",
            "align_content": null,
            "align_items": null,
            "align_self": null,
            "border": null,
            "bottom": null,
            "display": null,
            "flex": null,
            "flex_flow": null,
            "grid_area": null,
            "grid_auto_columns": null,
            "grid_auto_flow": null,
            "grid_auto_rows": null,
            "grid_column": null,
            "grid_gap": null,
            "grid_row": null,
            "grid_template_areas": null,
            "grid_template_columns": null,
            "grid_template_rows": null,
            "height": null,
            "justify_content": null,
            "justify_items": null,
            "left": null,
            "margin": null,
            "max_height": null,
            "max_width": null,
            "min_height": null,
            "min_width": null,
            "object_fit": null,
            "object_position": null,
            "order": null,
            "overflow": null,
            "overflow_x": null,
            "overflow_y": null,
            "padding": null,
            "right": null,
            "top": null,
            "visibility": null,
            "width": null
          }
        },
        "901ee5c3b3c04758a48b962e0d6a56f8": {
          "model_module": "@jupyter-widgets/controls",
          "model_module_version": "1.5.0",
          "model_name": "HBoxModel",
          "state": {
            "_dom_classes": [],
            "_model_module": "@jupyter-widgets/controls",
            "_model_module_version": "1.5.0",
            "_model_name": "HBoxModel",
            "_view_count": null,
            "_view_module": "@jupyter-widgets/controls",
            "_view_module_version": "1.5.0",
            "_view_name": "HBoxView",
            "box_style": "",
            "children": [
              "IPY_MODEL_391a9ad0a17d48299adef860e47cfa88",
              "IPY_MODEL_ee30421305e741dfbe54fc784208c420",
              "IPY_MODEL_8d024f6e815b40f2990aef3734464c43"
            ],
            "layout": "IPY_MODEL_bbb8dec39c324597ae46ac03587a66e3"
          }
        },
        "904987fec0c9447abc2c505d854f1c9b": {
          "model_module": "@jupyter-widgets/base",
          "model_module_version": "1.2.0",
          "model_name": "LayoutModel",
          "state": {
            "_model_module": "@jupyter-widgets/base",
            "_model_module_version": "1.2.0",
            "_model_name": "LayoutModel",
            "_view_count": null,
            "_view_module": "@jupyter-widgets/base",
            "_view_module_version": "1.2.0",
            "_view_name": "LayoutView",
            "align_content": null,
            "align_items": null,
            "align_self": null,
            "border": null,
            "bottom": null,
            "display": null,
            "flex": null,
            "flex_flow": null,
            "grid_area": null,
            "grid_auto_columns": null,
            "grid_auto_flow": null,
            "grid_auto_rows": null,
            "grid_column": null,
            "grid_gap": null,
            "grid_row": null,
            "grid_template_areas": null,
            "grid_template_columns": null,
            "grid_template_rows": null,
            "height": null,
            "justify_content": null,
            "justify_items": null,
            "left": null,
            "margin": null,
            "max_height": null,
            "max_width": null,
            "min_height": null,
            "min_width": null,
            "object_fit": null,
            "object_position": null,
            "order": null,
            "overflow": null,
            "overflow_x": null,
            "overflow_y": null,
            "padding": null,
            "right": null,
            "top": null,
            "visibility": null,
            "width": null
          }
        },
        "938bb87c56d043d695779f2cb2599c2e": {
          "model_module": "@jupyter-widgets/controls",
          "model_module_version": "1.5.0",
          "model_name": "FloatProgressModel",
          "state": {
            "_dom_classes": [],
            "_model_module": "@jupyter-widgets/controls",
            "_model_module_version": "1.5.0",
            "_model_name": "FloatProgressModel",
            "_view_count": null,
            "_view_module": "@jupyter-widgets/controls",
            "_view_module_version": "1.5.0",
            "_view_name": "ProgressView",
            "bar_style": "",
            "description": "",
            "description_tooltip": null,
            "layout": "IPY_MODEL_ce0e1a2ba92a4b1e88b9d89b1c743aca",
            "max": 12,
            "min": 0,
            "orientation": "horizontal",
            "style": "IPY_MODEL_a9e54c0dcbc245fe8959a0b03abf6283",
            "value": 12
          }
        },
        "94644a5b815f4a76a01510c31d8e492e": {
          "model_module": "@jupyter-widgets/controls",
          "model_module_version": "1.5.0",
          "model_name": "DescriptionStyleModel",
          "state": {
            "_model_module": "@jupyter-widgets/controls",
            "_model_module_version": "1.5.0",
            "_model_name": "DescriptionStyleModel",
            "_view_count": null,
            "_view_module": "@jupyter-widgets/base",
            "_view_module_version": "1.2.0",
            "_view_name": "StyleView",
            "description_width": ""
          }
        },
        "9488ca6e9dda43c79a08a5aaadb92b8c": {
          "model_module": "@jupyter-widgets/base",
          "model_module_version": "1.2.0",
          "model_name": "LayoutModel",
          "state": {
            "_model_module": "@jupyter-widgets/base",
            "_model_module_version": "1.2.0",
            "_model_name": "LayoutModel",
            "_view_count": null,
            "_view_module": "@jupyter-widgets/base",
            "_view_module_version": "1.2.0",
            "_view_name": "LayoutView",
            "align_content": null,
            "align_items": null,
            "align_self": null,
            "border": null,
            "bottom": null,
            "display": null,
            "flex": null,
            "flex_flow": null,
            "grid_area": null,
            "grid_auto_columns": null,
            "grid_auto_flow": null,
            "grid_auto_rows": null,
            "grid_column": null,
            "grid_gap": null,
            "grid_row": null,
            "grid_template_areas": null,
            "grid_template_columns": null,
            "grid_template_rows": null,
            "height": null,
            "justify_content": null,
            "justify_items": null,
            "left": null,
            "margin": null,
            "max_height": null,
            "max_width": null,
            "min_height": null,
            "min_width": null,
            "object_fit": null,
            "object_position": null,
            "order": null,
            "overflow": null,
            "overflow_x": null,
            "overflow_y": null,
            "padding": null,
            "right": null,
            "top": null,
            "visibility": null,
            "width": null
          }
        },
        "95f7fce342014f5aae835e47bb16c1d4": {
          "model_module": "@jupyter-widgets/base",
          "model_module_version": "1.2.0",
          "model_name": "LayoutModel",
          "state": {
            "_model_module": "@jupyter-widgets/base",
            "_model_module_version": "1.2.0",
            "_model_name": "LayoutModel",
            "_view_count": null,
            "_view_module": "@jupyter-widgets/base",
            "_view_module_version": "1.2.0",
            "_view_name": "LayoutView",
            "align_content": null,
            "align_items": null,
            "align_self": null,
            "border": null,
            "bottom": null,
            "display": null,
            "flex": "2",
            "flex_flow": null,
            "grid_area": null,
            "grid_auto_columns": null,
            "grid_auto_flow": null,
            "grid_auto_rows": null,
            "grid_column": null,
            "grid_gap": null,
            "grid_row": null,
            "grid_template_areas": null,
            "grid_template_columns": null,
            "grid_template_rows": null,
            "height": null,
            "justify_content": null,
            "justify_items": null,
            "left": null,
            "margin": null,
            "max_height": null,
            "max_width": null,
            "min_height": null,
            "min_width": null,
            "object_fit": null,
            "object_position": null,
            "order": null,
            "overflow": null,
            "overflow_x": null,
            "overflow_y": null,
            "padding": null,
            "right": null,
            "top": null,
            "visibility": null,
            "width": null
          }
        },
        "9749bece256142749f95d97665e594d3": {
          "model_module": "@jupyter-widgets/base",
          "model_module_version": "1.2.0",
          "model_name": "LayoutModel",
          "state": {
            "_model_module": "@jupyter-widgets/base",
            "_model_module_version": "1.2.0",
            "_model_name": "LayoutModel",
            "_view_count": null,
            "_view_module": "@jupyter-widgets/base",
            "_view_module_version": "1.2.0",
            "_view_name": "LayoutView",
            "align_content": null,
            "align_items": null,
            "align_self": null,
            "border": null,
            "bottom": null,
            "display": "inline-flex",
            "flex": null,
            "flex_flow": "row wrap",
            "grid_area": null,
            "grid_auto_columns": null,
            "grid_auto_flow": null,
            "grid_auto_rows": null,
            "grid_column": null,
            "grid_gap": null,
            "grid_row": null,
            "grid_template_areas": null,
            "grid_template_columns": null,
            "grid_template_rows": null,
            "height": null,
            "justify_content": null,
            "justify_items": null,
            "left": null,
            "margin": null,
            "max_height": null,
            "max_width": null,
            "min_height": null,
            "min_width": null,
            "object_fit": null,
            "object_position": null,
            "order": null,
            "overflow": null,
            "overflow_x": null,
            "overflow_y": null,
            "padding": null,
            "right": null,
            "top": null,
            "visibility": "hidden",
            "width": "100%"
          }
        },
        "9e3e29b429294a07b2803f50b2804e91": {
          "model_module": "@jupyter-widgets/controls",
          "model_module_version": "1.5.0",
          "model_name": "DescriptionStyleModel",
          "state": {
            "_model_module": "@jupyter-widgets/controls",
            "_model_module_version": "1.5.0",
            "_model_name": "DescriptionStyleModel",
            "_view_count": null,
            "_view_module": "@jupyter-widgets/base",
            "_view_module_version": "1.2.0",
            "_view_name": "StyleView",
            "description_width": ""
          }
        },
        "9f73c3bbd68240adae1302165a2afa36": {
          "model_module": "@jupyter-widgets/controls",
          "model_module_version": "1.5.0",
          "model_name": "HBoxModel",
          "state": {
            "_dom_classes": [],
            "_model_module": "@jupyter-widgets/controls",
            "_model_module_version": "1.5.0",
            "_model_name": "HBoxModel",
            "_view_count": null,
            "_view_module": "@jupyter-widgets/controls",
            "_view_module_version": "1.5.0",
            "_view_name": "HBoxView",
            "box_style": "",
            "children": [
              "IPY_MODEL_b0f4641585f64d50aad7690685b1a9e7",
              "IPY_MODEL_b41393d7e5ab4dd396ded85451e20926",
              "IPY_MODEL_cfcd6cf57d174144ba6e481d03efd11a"
            ],
            "layout": "IPY_MODEL_3b677d37444d4db3b435206052c1b7fd"
          }
        },
        "a1913512cdaa4045853229a09a7ab6ca": {
          "model_module": "@jupyter-widgets/controls",
          "model_module_version": "1.5.0",
          "model_name": "FloatProgressModel",
          "state": {
            "_dom_classes": [],
            "_model_module": "@jupyter-widgets/controls",
            "_model_module_version": "1.5.0",
            "_model_name": "FloatProgressModel",
            "_view_count": null,
            "_view_module": "@jupyter-widgets/controls",
            "_view_module_version": "1.5.0",
            "_view_name": "ProgressView",
            "bar_style": "",
            "description": "",
            "description_tooltip": null,
            "layout": "IPY_MODEL_6c518f98fdd44f8d8e473624bed69523",
            "max": 12,
            "min": 0,
            "orientation": "horizontal",
            "style": "IPY_MODEL_b5b2fa69b40d476db76e800160bb7f81",
            "value": 12
          }
        },
        "a4d14323ade14d7698d6553879ba5687": {
          "model_module": "@jupyter-widgets/controls",
          "model_module_version": "1.5.0",
          "model_name": "ProgressStyleModel",
          "state": {
            "_model_module": "@jupyter-widgets/controls",
            "_model_module_version": "1.5.0",
            "_model_name": "ProgressStyleModel",
            "_view_count": null,
            "_view_module": "@jupyter-widgets/base",
            "_view_module_version": "1.2.0",
            "_view_name": "StyleView",
            "bar_color": null,
            "description_width": ""
          }
        },
        "a554beac97ac454da8860d92bafe2803": {
          "model_module": "@jupyter-widgets/controls",
          "model_module_version": "1.5.0",
          "model_name": "DescriptionStyleModel",
          "state": {
            "_model_module": "@jupyter-widgets/controls",
            "_model_module_version": "1.5.0",
            "_model_name": "DescriptionStyleModel",
            "_view_count": null,
            "_view_module": "@jupyter-widgets/base",
            "_view_module_version": "1.2.0",
            "_view_name": "StyleView",
            "description_width": ""
          }
        },
        "a5e4ac2b1f3d48bca59f69d1f52477ba": {
          "model_module": "@jupyter-widgets/base",
          "model_module_version": "1.2.0",
          "model_name": "LayoutModel",
          "state": {
            "_model_module": "@jupyter-widgets/base",
            "_model_module_version": "1.2.0",
            "_model_name": "LayoutModel",
            "_view_count": null,
            "_view_module": "@jupyter-widgets/base",
            "_view_module_version": "1.2.0",
            "_view_name": "LayoutView",
            "align_content": null,
            "align_items": null,
            "align_self": null,
            "border": null,
            "bottom": null,
            "display": null,
            "flex": "2",
            "flex_flow": null,
            "grid_area": null,
            "grid_auto_columns": null,
            "grid_auto_flow": null,
            "grid_auto_rows": null,
            "grid_column": null,
            "grid_gap": null,
            "grid_row": null,
            "grid_template_areas": null,
            "grid_template_columns": null,
            "grid_template_rows": null,
            "height": null,
            "justify_content": null,
            "justify_items": null,
            "left": null,
            "margin": null,
            "max_height": null,
            "max_width": null,
            "min_height": null,
            "min_width": null,
            "object_fit": null,
            "object_position": null,
            "order": null,
            "overflow": null,
            "overflow_x": null,
            "overflow_y": null,
            "padding": null,
            "right": null,
            "top": null,
            "visibility": null,
            "width": null
          }
        },
        "a9e54c0dcbc245fe8959a0b03abf6283": {
          "model_module": "@jupyter-widgets/controls",
          "model_module_version": "1.5.0",
          "model_name": "ProgressStyleModel",
          "state": {
            "_model_module": "@jupyter-widgets/controls",
            "_model_module_version": "1.5.0",
            "_model_name": "ProgressStyleModel",
            "_view_count": null,
            "_view_module": "@jupyter-widgets/base",
            "_view_module_version": "1.2.0",
            "_view_name": "StyleView",
            "bar_color": null,
            "description_width": ""
          }
        },
        "b0f4641585f64d50aad7690685b1a9e7": {
          "model_module": "@jupyter-widgets/controls",
          "model_module_version": "1.5.0",
          "model_name": "HTMLModel",
          "state": {
            "_dom_classes": [],
            "_model_module": "@jupyter-widgets/controls",
            "_model_module_version": "1.5.0",
            "_model_name": "HTMLModel",
            "_view_count": null,
            "_view_module": "@jupyter-widgets/controls",
            "_view_module_version": "1.5.0",
            "_view_name": "HTMLView",
            "description": "",
            "description_tooltip": null,
            "layout": "IPY_MODEL_b3baf2601997485f9b992d2d95fa65ce",
            "placeholder": "​",
            "style": "IPY_MODEL_6452f9c07d504962809cc290481160e0",
            "value": "Validation DataLoader 0: 100%"
          }
        },
        "b2d35f18b93d4e3a9ae81e808c354ba7": {
          "model_module": "@jupyter-widgets/controls",
          "model_module_version": "1.5.0",
          "model_name": "HTMLModel",
          "state": {
            "_dom_classes": [],
            "_model_module": "@jupyter-widgets/controls",
            "_model_module_version": "1.5.0",
            "_model_name": "HTMLModel",
            "_view_count": null,
            "_view_module": "@jupyter-widgets/controls",
            "_view_module_version": "1.5.0",
            "_view_name": "HTMLView",
            "description": "",
            "description_tooltip": null,
            "layout": "IPY_MODEL_4b7cd7da54424b9cbd790f2a56400e85",
            "placeholder": "​",
            "style": "IPY_MODEL_9e3e29b429294a07b2803f50b2804e91",
            "value": "Validation DataLoader 0: 100%"
          }
        },
        "b3baf2601997485f9b992d2d95fa65ce": {
          "model_module": "@jupyter-widgets/base",
          "model_module_version": "1.2.0",
          "model_name": "LayoutModel",
          "state": {
            "_model_module": "@jupyter-widgets/base",
            "_model_module_version": "1.2.0",
            "_model_name": "LayoutModel",
            "_view_count": null,
            "_view_module": "@jupyter-widgets/base",
            "_view_module_version": "1.2.0",
            "_view_name": "LayoutView",
            "align_content": null,
            "align_items": null,
            "align_self": null,
            "border": null,
            "bottom": null,
            "display": null,
            "flex": null,
            "flex_flow": null,
            "grid_area": null,
            "grid_auto_columns": null,
            "grid_auto_flow": null,
            "grid_auto_rows": null,
            "grid_column": null,
            "grid_gap": null,
            "grid_row": null,
            "grid_template_areas": null,
            "grid_template_columns": null,
            "grid_template_rows": null,
            "height": null,
            "justify_content": null,
            "justify_items": null,
            "left": null,
            "margin": null,
            "max_height": null,
            "max_width": null,
            "min_height": null,
            "min_width": null,
            "object_fit": null,
            "object_position": null,
            "order": null,
            "overflow": null,
            "overflow_x": null,
            "overflow_y": null,
            "padding": null,
            "right": null,
            "top": null,
            "visibility": null,
            "width": null
          }
        },
        "b41393d7e5ab4dd396ded85451e20926": {
          "model_module": "@jupyter-widgets/controls",
          "model_module_version": "1.5.0",
          "model_name": "FloatProgressModel",
          "state": {
            "_dom_classes": [],
            "_model_module": "@jupyter-widgets/controls",
            "_model_module_version": "1.5.0",
            "_model_name": "FloatProgressModel",
            "_view_count": null,
            "_view_module": "@jupyter-widgets/controls",
            "_view_module_version": "1.5.0",
            "_view_name": "ProgressView",
            "bar_style": "",
            "description": "",
            "description_tooltip": null,
            "layout": "IPY_MODEL_de801d6c8fe14ee5bd975da423f360a3",
            "max": 12,
            "min": 0,
            "orientation": "horizontal",
            "style": "IPY_MODEL_3489a414f9fc49b980d44661f26da354",
            "value": 12
          }
        },
        "b5b2fa69b40d476db76e800160bb7f81": {
          "model_module": "@jupyter-widgets/controls",
          "model_module_version": "1.5.0",
          "model_name": "ProgressStyleModel",
          "state": {
            "_model_module": "@jupyter-widgets/controls",
            "_model_module_version": "1.5.0",
            "_model_name": "ProgressStyleModel",
            "_view_count": null,
            "_view_module": "@jupyter-widgets/base",
            "_view_module_version": "1.2.0",
            "_view_name": "StyleView",
            "bar_color": null,
            "description_width": ""
          }
        },
        "b79e98a0ca874b7d8ff470f8c3e71c43": {
          "model_module": "@jupyter-widgets/controls",
          "model_module_version": "1.5.0",
          "model_name": "DescriptionStyleModel",
          "state": {
            "_model_module": "@jupyter-widgets/controls",
            "_model_module_version": "1.5.0",
            "_model_name": "DescriptionStyleModel",
            "_view_count": null,
            "_view_module": "@jupyter-widgets/base",
            "_view_module_version": "1.2.0",
            "_view_name": "StyleView",
            "description_width": ""
          }
        },
        "b7ee12e5c6e84716a1ea0141af83a929": {
          "model_module": "@jupyter-widgets/controls",
          "model_module_version": "1.5.0",
          "model_name": "ProgressStyleModel",
          "state": {
            "_model_module": "@jupyter-widgets/controls",
            "_model_module_version": "1.5.0",
            "_model_name": "ProgressStyleModel",
            "_view_count": null,
            "_view_module": "@jupyter-widgets/base",
            "_view_module_version": "1.2.0",
            "_view_name": "StyleView",
            "bar_color": null,
            "description_width": ""
          }
        },
        "b88c6ca07baa492f82ba7a61db34a3b0": {
          "model_module": "@jupyter-widgets/controls",
          "model_module_version": "1.5.0",
          "model_name": "DescriptionStyleModel",
          "state": {
            "_model_module": "@jupyter-widgets/controls",
            "_model_module_version": "1.5.0",
            "_model_name": "DescriptionStyleModel",
            "_view_count": null,
            "_view_module": "@jupyter-widgets/base",
            "_view_module_version": "1.2.0",
            "_view_name": "StyleView",
            "description_width": ""
          }
        },
        "bbb8dec39c324597ae46ac03587a66e3": {
          "model_module": "@jupyter-widgets/base",
          "model_module_version": "1.2.0",
          "model_name": "LayoutModel",
          "state": {
            "_model_module": "@jupyter-widgets/base",
            "_model_module_version": "1.2.0",
            "_model_name": "LayoutModel",
            "_view_count": null,
            "_view_module": "@jupyter-widgets/base",
            "_view_module_version": "1.2.0",
            "_view_name": "LayoutView",
            "align_content": null,
            "align_items": null,
            "align_self": null,
            "border": null,
            "bottom": null,
            "display": "inline-flex",
            "flex": null,
            "flex_flow": "row wrap",
            "grid_area": null,
            "grid_auto_columns": null,
            "grid_auto_flow": null,
            "grid_auto_rows": null,
            "grid_column": null,
            "grid_gap": null,
            "grid_row": null,
            "grid_template_areas": null,
            "grid_template_columns": null,
            "grid_template_rows": null,
            "height": null,
            "justify_content": null,
            "justify_items": null,
            "left": null,
            "margin": null,
            "max_height": null,
            "max_width": null,
            "min_height": null,
            "min_width": null,
            "object_fit": null,
            "object_position": null,
            "order": null,
            "overflow": null,
            "overflow_x": null,
            "overflow_y": null,
            "padding": null,
            "right": null,
            "top": null,
            "visibility": "hidden",
            "width": "100%"
          }
        },
        "bf09ccf935e641a2b5e26e9862bc1686": {
          "model_module": "@jupyter-widgets/controls",
          "model_module_version": "1.5.0",
          "model_name": "HTMLModel",
          "state": {
            "_dom_classes": [],
            "_model_module": "@jupyter-widgets/controls",
            "_model_module_version": "1.5.0",
            "_model_name": "HTMLModel",
            "_view_count": null,
            "_view_module": "@jupyter-widgets/controls",
            "_view_module_version": "1.5.0",
            "_view_name": "HTMLView",
            "description": "",
            "description_tooltip": null,
            "layout": "IPY_MODEL_cb9e649eee65440fa9c04401509bd18e",
            "placeholder": "​",
            "style": "IPY_MODEL_89e7a80afbc04bdd9f1cb756b3f56962",
            "value": " 12/12 [00:35&lt;00:00,  0.33it/s]"
          }
        },
        "bf73d1e4efb9483b87a63de72361850e": {
          "model_module": "@jupyter-widgets/base",
          "model_module_version": "1.2.0",
          "model_name": "LayoutModel",
          "state": {
            "_model_module": "@jupyter-widgets/base",
            "_model_module_version": "1.2.0",
            "_model_name": "LayoutModel",
            "_view_count": null,
            "_view_module": "@jupyter-widgets/base",
            "_view_module_version": "1.2.0",
            "_view_name": "LayoutView",
            "align_content": null,
            "align_items": null,
            "align_self": null,
            "border": null,
            "bottom": null,
            "display": null,
            "flex": null,
            "flex_flow": null,
            "grid_area": null,
            "grid_auto_columns": null,
            "grid_auto_flow": null,
            "grid_auto_rows": null,
            "grid_column": null,
            "grid_gap": null,
            "grid_row": null,
            "grid_template_areas": null,
            "grid_template_columns": null,
            "grid_template_rows": null,
            "height": null,
            "justify_content": null,
            "justify_items": null,
            "left": null,
            "margin": null,
            "max_height": null,
            "max_width": null,
            "min_height": null,
            "min_width": null,
            "object_fit": null,
            "object_position": null,
            "order": null,
            "overflow": null,
            "overflow_x": null,
            "overflow_y": null,
            "padding": null,
            "right": null,
            "top": null,
            "visibility": null,
            "width": null
          }
        },
        "c37e636b95d848e9a2de59d4a28d6f38": {
          "model_module": "@jupyter-widgets/base",
          "model_module_version": "1.2.0",
          "model_name": "LayoutModel",
          "state": {
            "_model_module": "@jupyter-widgets/base",
            "_model_module_version": "1.2.0",
            "_model_name": "LayoutModel",
            "_view_count": null,
            "_view_module": "@jupyter-widgets/base",
            "_view_module_version": "1.2.0",
            "_view_name": "LayoutView",
            "align_content": null,
            "align_items": null,
            "align_self": null,
            "border": null,
            "bottom": null,
            "display": "inline-flex",
            "flex": null,
            "flex_flow": "row wrap",
            "grid_area": null,
            "grid_auto_columns": null,
            "grid_auto_flow": null,
            "grid_auto_rows": null,
            "grid_column": null,
            "grid_gap": null,
            "grid_row": null,
            "grid_template_areas": null,
            "grid_template_columns": null,
            "grid_template_rows": null,
            "height": null,
            "justify_content": null,
            "justify_items": null,
            "left": null,
            "margin": null,
            "max_height": null,
            "max_width": null,
            "min_height": null,
            "min_width": null,
            "object_fit": null,
            "object_position": null,
            "order": null,
            "overflow": null,
            "overflow_x": null,
            "overflow_y": null,
            "padding": null,
            "right": null,
            "top": null,
            "visibility": "hidden",
            "width": "100%"
          }
        },
        "c4a4893d77904026946ad17ba85b2d40": {
          "model_module": "@jupyter-widgets/controls",
          "model_module_version": "1.5.0",
          "model_name": "DescriptionStyleModel",
          "state": {
            "_model_module": "@jupyter-widgets/controls",
            "_model_module_version": "1.5.0",
            "_model_name": "DescriptionStyleModel",
            "_view_count": null,
            "_view_module": "@jupyter-widgets/base",
            "_view_module_version": "1.2.0",
            "_view_name": "StyleView",
            "description_width": ""
          }
        },
        "c4e988db0c12404db5162ac25dda5f54": {
          "model_module": "@jupyter-widgets/controls",
          "model_module_version": "1.5.0",
          "model_name": "DescriptionStyleModel",
          "state": {
            "_model_module": "@jupyter-widgets/controls",
            "_model_module_version": "1.5.0",
            "_model_name": "DescriptionStyleModel",
            "_view_count": null,
            "_view_module": "@jupyter-widgets/base",
            "_view_module_version": "1.2.0",
            "_view_name": "StyleView",
            "description_width": ""
          }
        },
        "c9312ce73205422580e6817b278410af": {
          "model_module": "@jupyter-widgets/controls",
          "model_module_version": "1.5.0",
          "model_name": "HBoxModel",
          "state": {
            "_dom_classes": [],
            "_model_module": "@jupyter-widgets/controls",
            "_model_module_version": "1.5.0",
            "_model_name": "HBoxModel",
            "_view_count": null,
            "_view_module": "@jupyter-widgets/controls",
            "_view_module_version": "1.5.0",
            "_view_name": "HBoxView",
            "box_style": "",
            "children": [
              "IPY_MODEL_ec2a0fc573684bcda780a838e6b312e4",
              "IPY_MODEL_48f03db6d6d14e39aeb2bc890493bd16",
              "IPY_MODEL_228d2173978c4045bdb0cd3f803cc11b"
            ],
            "layout": "IPY_MODEL_c37e636b95d848e9a2de59d4a28d6f38"
          }
        },
        "cb9e649eee65440fa9c04401509bd18e": {
          "model_module": "@jupyter-widgets/base",
          "model_module_version": "1.2.0",
          "model_name": "LayoutModel",
          "state": {
            "_model_module": "@jupyter-widgets/base",
            "_model_module_version": "1.2.0",
            "_model_name": "LayoutModel",
            "_view_count": null,
            "_view_module": "@jupyter-widgets/base",
            "_view_module_version": "1.2.0",
            "_view_name": "LayoutView",
            "align_content": null,
            "align_items": null,
            "align_self": null,
            "border": null,
            "bottom": null,
            "display": null,
            "flex": null,
            "flex_flow": null,
            "grid_area": null,
            "grid_auto_columns": null,
            "grid_auto_flow": null,
            "grid_auto_rows": null,
            "grid_column": null,
            "grid_gap": null,
            "grid_row": null,
            "grid_template_areas": null,
            "grid_template_columns": null,
            "grid_template_rows": null,
            "height": null,
            "justify_content": null,
            "justify_items": null,
            "left": null,
            "margin": null,
            "max_height": null,
            "max_width": null,
            "min_height": null,
            "min_width": null,
            "object_fit": null,
            "object_position": null,
            "order": null,
            "overflow": null,
            "overflow_x": null,
            "overflow_y": null,
            "padding": null,
            "right": null,
            "top": null,
            "visibility": null,
            "width": null
          }
        },
        "ce0e1a2ba92a4b1e88b9d89b1c743aca": {
          "model_module": "@jupyter-widgets/base",
          "model_module_version": "1.2.0",
          "model_name": "LayoutModel",
          "state": {
            "_model_module": "@jupyter-widgets/base",
            "_model_module_version": "1.2.0",
            "_model_name": "LayoutModel",
            "_view_count": null,
            "_view_module": "@jupyter-widgets/base",
            "_view_module_version": "1.2.0",
            "_view_name": "LayoutView",
            "align_content": null,
            "align_items": null,
            "align_self": null,
            "border": null,
            "bottom": null,
            "display": null,
            "flex": "2",
            "flex_flow": null,
            "grid_area": null,
            "grid_auto_columns": null,
            "grid_auto_flow": null,
            "grid_auto_rows": null,
            "grid_column": null,
            "grid_gap": null,
            "grid_row": null,
            "grid_template_areas": null,
            "grid_template_columns": null,
            "grid_template_rows": null,
            "height": null,
            "justify_content": null,
            "justify_items": null,
            "left": null,
            "margin": null,
            "max_height": null,
            "max_width": null,
            "min_height": null,
            "min_width": null,
            "object_fit": null,
            "object_position": null,
            "order": null,
            "overflow": null,
            "overflow_x": null,
            "overflow_y": null,
            "padding": null,
            "right": null,
            "top": null,
            "visibility": null,
            "width": null
          }
        },
        "cfcd6cf57d174144ba6e481d03efd11a": {
          "model_module": "@jupyter-widgets/controls",
          "model_module_version": "1.5.0",
          "model_name": "HTMLModel",
          "state": {
            "_dom_classes": [],
            "_model_module": "@jupyter-widgets/controls",
            "_model_module_version": "1.5.0",
            "_model_name": "HTMLModel",
            "_view_count": null,
            "_view_module": "@jupyter-widgets/controls",
            "_view_module_version": "1.5.0",
            "_view_name": "HTMLView",
            "description": "",
            "description_tooltip": null,
            "layout": "IPY_MODEL_4254cbf0a01f42e1a7582fe610d9ef28",
            "placeholder": "​",
            "style": "IPY_MODEL_d4c4aad540084ddf8e185a2d88298c96",
            "value": " 12/12 [00:35&lt;00:00,  0.33it/s]"
          }
        },
        "d221fdc5f6ac4be08ba23a5d0f8742d4": {
          "model_module": "@jupyter-widgets/base",
          "model_module_version": "1.2.0",
          "model_name": "LayoutModel",
          "state": {
            "_model_module": "@jupyter-widgets/base",
            "_model_module_version": "1.2.0",
            "_model_name": "LayoutModel",
            "_view_count": null,
            "_view_module": "@jupyter-widgets/base",
            "_view_module_version": "1.2.0",
            "_view_name": "LayoutView",
            "align_content": null,
            "align_items": null,
            "align_self": null,
            "border": null,
            "bottom": null,
            "display": null,
            "flex": null,
            "flex_flow": null,
            "grid_area": null,
            "grid_auto_columns": null,
            "grid_auto_flow": null,
            "grid_auto_rows": null,
            "grid_column": null,
            "grid_gap": null,
            "grid_row": null,
            "grid_template_areas": null,
            "grid_template_columns": null,
            "grid_template_rows": null,
            "height": null,
            "justify_content": null,
            "justify_items": null,
            "left": null,
            "margin": null,
            "max_height": null,
            "max_width": null,
            "min_height": null,
            "min_width": null,
            "object_fit": null,
            "object_position": null,
            "order": null,
            "overflow": null,
            "overflow_x": null,
            "overflow_y": null,
            "padding": null,
            "right": null,
            "top": null,
            "visibility": null,
            "width": null
          }
        },
        "d33e6788267f4bb28435c74e3ea6f810": {
          "model_module": "@jupyter-widgets/base",
          "model_module_version": "1.2.0",
          "model_name": "LayoutModel",
          "state": {
            "_model_module": "@jupyter-widgets/base",
            "_model_module_version": "1.2.0",
            "_model_name": "LayoutModel",
            "_view_count": null,
            "_view_module": "@jupyter-widgets/base",
            "_view_module_version": "1.2.0",
            "_view_name": "LayoutView",
            "align_content": null,
            "align_items": null,
            "align_self": null,
            "border": null,
            "bottom": null,
            "display": "inline-flex",
            "flex": null,
            "flex_flow": "row wrap",
            "grid_area": null,
            "grid_auto_columns": null,
            "grid_auto_flow": null,
            "grid_auto_rows": null,
            "grid_column": null,
            "grid_gap": null,
            "grid_row": null,
            "grid_template_areas": null,
            "grid_template_columns": null,
            "grid_template_rows": null,
            "height": null,
            "justify_content": null,
            "justify_items": null,
            "left": null,
            "margin": null,
            "max_height": null,
            "max_width": null,
            "min_height": null,
            "min_width": null,
            "object_fit": null,
            "object_position": null,
            "order": null,
            "overflow": null,
            "overflow_x": null,
            "overflow_y": null,
            "padding": null,
            "right": null,
            "top": null,
            "visibility": null,
            "width": "100%"
          }
        },
        "d4c4aad540084ddf8e185a2d88298c96": {
          "model_module": "@jupyter-widgets/controls",
          "model_module_version": "1.5.0",
          "model_name": "DescriptionStyleModel",
          "state": {
            "_model_module": "@jupyter-widgets/controls",
            "_model_module_version": "1.5.0",
            "_model_name": "DescriptionStyleModel",
            "_view_count": null,
            "_view_module": "@jupyter-widgets/base",
            "_view_module_version": "1.2.0",
            "_view_name": "StyleView",
            "description_width": ""
          }
        },
        "d5f9b2eed83c4043b92944ec04318c1f": {
          "model_module": "@jupyter-widgets/base",
          "model_module_version": "1.2.0",
          "model_name": "LayoutModel",
          "state": {
            "_model_module": "@jupyter-widgets/base",
            "_model_module_version": "1.2.0",
            "_model_name": "LayoutModel",
            "_view_count": null,
            "_view_module": "@jupyter-widgets/base",
            "_view_module_version": "1.2.0",
            "_view_name": "LayoutView",
            "align_content": null,
            "align_items": null,
            "align_self": null,
            "border": null,
            "bottom": null,
            "display": "inline-flex",
            "flex": null,
            "flex_flow": "row wrap",
            "grid_area": null,
            "grid_auto_columns": null,
            "grid_auto_flow": null,
            "grid_auto_rows": null,
            "grid_column": null,
            "grid_gap": null,
            "grid_row": null,
            "grid_template_areas": null,
            "grid_template_columns": null,
            "grid_template_rows": null,
            "height": null,
            "justify_content": null,
            "justify_items": null,
            "left": null,
            "margin": null,
            "max_height": null,
            "max_width": null,
            "min_height": null,
            "min_width": null,
            "object_fit": null,
            "object_position": null,
            "order": null,
            "overflow": null,
            "overflow_x": null,
            "overflow_y": null,
            "padding": null,
            "right": null,
            "top": null,
            "visibility": "hidden",
            "width": "100%"
          }
        },
        "d8cd6b53da4844f7b29c6a9147adb47c": {
          "model_module": "@jupyter-widgets/controls",
          "model_module_version": "1.5.0",
          "model_name": "HTMLModel",
          "state": {
            "_dom_classes": [],
            "_model_module": "@jupyter-widgets/controls",
            "_model_module_version": "1.5.0",
            "_model_name": "HTMLModel",
            "_view_count": null,
            "_view_module": "@jupyter-widgets/controls",
            "_view_module_version": "1.5.0",
            "_view_name": "HTMLView",
            "description": "",
            "description_tooltip": null,
            "layout": "IPY_MODEL_9488ca6e9dda43c79a08a5aaadb92b8c",
            "placeholder": "​",
            "style": "IPY_MODEL_e40a138f5b6b42c49d17713c118a24cd",
            "value": " 0/182 [00:00&lt;?, ?it/s, v_num=2]"
          }
        },
        "de801d6c8fe14ee5bd975da423f360a3": {
          "model_module": "@jupyter-widgets/base",
          "model_module_version": "1.2.0",
          "model_name": "LayoutModel",
          "state": {
            "_model_module": "@jupyter-widgets/base",
            "_model_module_version": "1.2.0",
            "_model_name": "LayoutModel",
            "_view_count": null,
            "_view_module": "@jupyter-widgets/base",
            "_view_module_version": "1.2.0",
            "_view_name": "LayoutView",
            "align_content": null,
            "align_items": null,
            "align_self": null,
            "border": null,
            "bottom": null,
            "display": null,
            "flex": "2",
            "flex_flow": null,
            "grid_area": null,
            "grid_auto_columns": null,
            "grid_auto_flow": null,
            "grid_auto_rows": null,
            "grid_column": null,
            "grid_gap": null,
            "grid_row": null,
            "grid_template_areas": null,
            "grid_template_columns": null,
            "grid_template_rows": null,
            "height": null,
            "justify_content": null,
            "justify_items": null,
            "left": null,
            "margin": null,
            "max_height": null,
            "max_width": null,
            "min_height": null,
            "min_width": null,
            "object_fit": null,
            "object_position": null,
            "order": null,
            "overflow": null,
            "overflow_x": null,
            "overflow_y": null,
            "padding": null,
            "right": null,
            "top": null,
            "visibility": null,
            "width": null
          }
        },
        "df025333dd3d4e6aaf5d1e10ff2a0540": {
          "model_module": "@jupyter-widgets/base",
          "model_module_version": "1.2.0",
          "model_name": "LayoutModel",
          "state": {
            "_model_module": "@jupyter-widgets/base",
            "_model_module_version": "1.2.0",
            "_model_name": "LayoutModel",
            "_view_count": null,
            "_view_module": "@jupyter-widgets/base",
            "_view_module_version": "1.2.0",
            "_view_name": "LayoutView",
            "align_content": null,
            "align_items": null,
            "align_self": null,
            "border": null,
            "bottom": null,
            "display": null,
            "flex": null,
            "flex_flow": null,
            "grid_area": null,
            "grid_auto_columns": null,
            "grid_auto_flow": null,
            "grid_auto_rows": null,
            "grid_column": null,
            "grid_gap": null,
            "grid_row": null,
            "grid_template_areas": null,
            "grid_template_columns": null,
            "grid_template_rows": null,
            "height": null,
            "justify_content": null,
            "justify_items": null,
            "left": null,
            "margin": null,
            "max_height": null,
            "max_width": null,
            "min_height": null,
            "min_width": null,
            "object_fit": null,
            "object_position": null,
            "order": null,
            "overflow": null,
            "overflow_x": null,
            "overflow_y": null,
            "padding": null,
            "right": null,
            "top": null,
            "visibility": null,
            "width": null
          }
        },
        "e007e0b5fc5148baac73db79f78e7604": {
          "model_module": "@jupyter-widgets/base",
          "model_module_version": "1.2.0",
          "model_name": "LayoutModel",
          "state": {
            "_model_module": "@jupyter-widgets/base",
            "_model_module_version": "1.2.0",
            "_model_name": "LayoutModel",
            "_view_count": null,
            "_view_module": "@jupyter-widgets/base",
            "_view_module_version": "1.2.0",
            "_view_name": "LayoutView",
            "align_content": null,
            "align_items": null,
            "align_self": null,
            "border": null,
            "bottom": null,
            "display": null,
            "flex": null,
            "flex_flow": null,
            "grid_area": null,
            "grid_auto_columns": null,
            "grid_auto_flow": null,
            "grid_auto_rows": null,
            "grid_column": null,
            "grid_gap": null,
            "grid_row": null,
            "grid_template_areas": null,
            "grid_template_columns": null,
            "grid_template_rows": null,
            "height": null,
            "justify_content": null,
            "justify_items": null,
            "left": null,
            "margin": null,
            "max_height": null,
            "max_width": null,
            "min_height": null,
            "min_width": null,
            "object_fit": null,
            "object_position": null,
            "order": null,
            "overflow": null,
            "overflow_x": null,
            "overflow_y": null,
            "padding": null,
            "right": null,
            "top": null,
            "visibility": null,
            "width": null
          }
        },
        "e40a138f5b6b42c49d17713c118a24cd": {
          "model_module": "@jupyter-widgets/controls",
          "model_module_version": "1.5.0",
          "model_name": "DescriptionStyleModel",
          "state": {
            "_model_module": "@jupyter-widgets/controls",
            "_model_module_version": "1.5.0",
            "_model_name": "DescriptionStyleModel",
            "_view_count": null,
            "_view_module": "@jupyter-widgets/base",
            "_view_module_version": "1.2.0",
            "_view_name": "StyleView",
            "description_width": ""
          }
        },
        "ec2a0fc573684bcda780a838e6b312e4": {
          "model_module": "@jupyter-widgets/controls",
          "model_module_version": "1.5.0",
          "model_name": "HTMLModel",
          "state": {
            "_dom_classes": [],
            "_model_module": "@jupyter-widgets/controls",
            "_model_module_version": "1.5.0",
            "_model_name": "HTMLModel",
            "_view_count": null,
            "_view_module": "@jupyter-widgets/controls",
            "_view_module_version": "1.5.0",
            "_view_name": "HTMLView",
            "description": "",
            "description_tooltip": null,
            "layout": "IPY_MODEL_e007e0b5fc5148baac73db79f78e7604",
            "placeholder": "​",
            "style": "IPY_MODEL_10cf1b086dcc4b63bbbf70b92bc3ef73",
            "value": "Validation DataLoader 0: 100%"
          }
        },
        "ee30421305e741dfbe54fc784208c420": {
          "model_module": "@jupyter-widgets/controls",
          "model_module_version": "1.5.0",
          "model_name": "FloatProgressModel",
          "state": {
            "_dom_classes": [],
            "_model_module": "@jupyter-widgets/controls",
            "_model_module_version": "1.5.0",
            "_model_name": "FloatProgressModel",
            "_view_count": null,
            "_view_module": "@jupyter-widgets/controls",
            "_view_module_version": "1.5.0",
            "_view_name": "ProgressView",
            "bar_style": "",
            "description": "",
            "description_tooltip": null,
            "layout": "IPY_MODEL_95f7fce342014f5aae835e47bb16c1d4",
            "max": 12,
            "min": 0,
            "orientation": "horizontal",
            "style": "IPY_MODEL_075602950cbc49bb9347e3c6753cbba3",
            "value": 12
          }
        },
        "f82d9e800ea34059a4e2e398e7359959": {
          "model_module": "@jupyter-widgets/controls",
          "model_module_version": "1.5.0",
          "model_name": "FloatProgressModel",
          "state": {
            "_dom_classes": [],
            "_model_module": "@jupyter-widgets/controls",
            "_model_module_version": "1.5.0",
            "_model_name": "FloatProgressModel",
            "_view_count": null,
            "_view_module": "@jupyter-widgets/controls",
            "_view_module_version": "1.5.0",
            "_view_name": "ProgressView",
            "bar_style": "",
            "description": "",
            "description_tooltip": null,
            "layout": "IPY_MODEL_63bac08082554004b454f58465b1374a",
            "max": 12,
            "min": 0,
            "orientation": "horizontal",
            "style": "IPY_MODEL_1407dbef15c048aa84cf2dea6c9a2ea2",
            "value": 12
          }
        },
        "f95b2fd1ad3d49088121d41fd8c91245": {
          "model_module": "@jupyter-widgets/controls",
          "model_module_version": "1.5.0",
          "model_name": "HTMLModel",
          "state": {
            "_dom_classes": [],
            "_model_module": "@jupyter-widgets/controls",
            "_model_module_version": "1.5.0",
            "_model_name": "HTMLModel",
            "_view_count": null,
            "_view_module": "@jupyter-widgets/controls",
            "_view_module_version": "1.5.0",
            "_view_name": "HTMLView",
            "description": "",
            "description_tooltip": null,
            "layout": "IPY_MODEL_bf73d1e4efb9483b87a63de72361850e",
            "placeholder": "​",
            "style": "IPY_MODEL_c4e988db0c12404db5162ac25dda5f54",
            "value": " 12/12 [00:35&lt;00:00,  0.33it/s]"
          }
        },
        "f9d173484a1548c0b0a8a3d595c8bfdc": {
          "model_module": "@jupyter-widgets/base",
          "model_module_version": "1.2.0",
          "model_name": "LayoutModel",
          "state": {
            "_model_module": "@jupyter-widgets/base",
            "_model_module_version": "1.2.0",
            "_model_name": "LayoutModel",
            "_view_count": null,
            "_view_module": "@jupyter-widgets/base",
            "_view_module_version": "1.2.0",
            "_view_name": "LayoutView",
            "align_content": null,
            "align_items": null,
            "align_self": null,
            "border": null,
            "bottom": null,
            "display": "inline-flex",
            "flex": null,
            "flex_flow": "row wrap",
            "grid_area": null,
            "grid_auto_columns": null,
            "grid_auto_flow": null,
            "grid_auto_rows": null,
            "grid_column": null,
            "grid_gap": null,
            "grid_row": null,
            "grid_template_areas": null,
            "grid_template_columns": null,
            "grid_template_rows": null,
            "height": null,
            "justify_content": null,
            "justify_items": null,
            "left": null,
            "margin": null,
            "max_height": null,
            "max_width": null,
            "min_height": null,
            "min_width": null,
            "object_fit": null,
            "object_position": null,
            "order": null,
            "overflow": null,
            "overflow_x": null,
            "overflow_y": null,
            "padding": null,
            "right": null,
            "top": null,
            "visibility": "hidden",
            "width": "100%"
          }
        },
        "fa7bd2cb83d74232887a72c0649c72a7": {
          "model_module": "@jupyter-widgets/controls",
          "model_module_version": "1.5.0",
          "model_name": "HBoxModel",
          "state": {
            "_dom_classes": [],
            "_model_module": "@jupyter-widgets/controls",
            "_model_module_version": "1.5.0",
            "_model_name": "HBoxModel",
            "_view_count": null,
            "_view_module": "@jupyter-widgets/controls",
            "_view_module_version": "1.5.0",
            "_view_name": "HBoxView",
            "box_style": "",
            "children": [
              "IPY_MODEL_083c702266a24b28be23d490ab7c231a",
              "IPY_MODEL_a1913512cdaa4045853229a09a7ab6ca",
              "IPY_MODEL_bf09ccf935e641a2b5e26e9862bc1686"
            ],
            "layout": "IPY_MODEL_2e09d3b4580a4207b2c0fc818bdc4d0e"
          }
        },
        "fc43853c34ec4eb88e0d6bc626104c43": {
          "model_module": "@jupyter-widgets/base",
          "model_module_version": "1.2.0",
          "model_name": "LayoutModel",
          "state": {
            "_model_module": "@jupyter-widgets/base",
            "_model_module_version": "1.2.0",
            "_model_name": "LayoutModel",
            "_view_count": null,
            "_view_module": "@jupyter-widgets/base",
            "_view_module_version": "1.2.0",
            "_view_name": "LayoutView",
            "align_content": null,
            "align_items": null,
            "align_self": null,
            "border": null,
            "bottom": null,
            "display": null,
            "flex": null,
            "flex_flow": null,
            "grid_area": null,
            "grid_auto_columns": null,
            "grid_auto_flow": null,
            "grid_auto_rows": null,
            "grid_column": null,
            "grid_gap": null,
            "grid_row": null,
            "grid_template_areas": null,
            "grid_template_columns": null,
            "grid_template_rows": null,
            "height": null,
            "justify_content": null,
            "justify_items": null,
            "left": null,
            "margin": null,
            "max_height": null,
            "max_width": null,
            "min_height": null,
            "min_width": null,
            "object_fit": null,
            "object_position": null,
            "order": null,
            "overflow": null,
            "overflow_x": null,
            "overflow_y": null,
            "padding": null,
            "right": null,
            "top": null,
            "visibility": null,
            "width": null
          }
        }
      }
    }
  },
  "nbformat": 4,
  "nbformat_minor": 0
}
