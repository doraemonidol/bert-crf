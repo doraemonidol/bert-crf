{
  "cells": [
    {
      "cell_type": "markdown",
      "metadata": {
        "colab_type": "text",
        "id": "view-in-github"
      },
      "source": [
        "<a href=\"https://colab.research.google.com/github/doraemonidol/bert-crf/blob/master/punktuation_ner_2k.ipynb\" target=\"_parent\"><img src=\"https://colab.research.google.com/assets/colab-badge.svg\" alt=\"Open In Colab\"/></a>"
      ]
    },
    {
      "cell_type": "code",
      "execution_count": 1,
      "metadata": {
        "colab": {
          "base_uri": "https://localhost:8080/"
        },
        "id": "PcxV9bgteVTS",
        "outputId": "3fc3c034-8442-4127-f659-31456a0eb2b1"
      },
      "outputs": [
        {
          "name": "stdout",
          "output_type": "stream",
          "text": [
            "Mounted at /content/gdrive/\n"
          ]
        }
      ],
      "source": [
        "from google.colab import drive\n",
        "drive.mount('/content/gdrive/')"
      ]
    },
    {
      "cell_type": "code",
      "execution_count": 2,
      "metadata": {
        "id": "d2ZcDs9WeYC1"
      },
      "outputs": [],
      "source": [
        "# import sys\n",
        "# sys.path.append('/content/gdrive/MyDrive/Colab/punktuation-ner')"
      ]
    },
    {
      "cell_type": "code",
      "execution_count": 4,
      "metadata": {
        "colab": {
          "base_uri": "https://localhost:8080/"
        },
        "id": "y-Sxoj2-vLk1",
        "outputId": "30834559-900a-429c-9dbf-ebf2a07cf776"
      },
      "outputs": [
        {
          "name": "stdout",
          "output_type": "stream",
          "text": [
            "Requirement already satisfied: forgebox==0.4.18.5 in c:\\users\\nhat hung\\appdata\\local\\programs\\orange\\lib\\site-packages (0.4.18.5)\n",
            "Requirement already satisfied: pytorch_lightning in c:\\users\\nhat hung\\appdata\\local\\programs\\orange\\lib\\site-packages (2.4.0)\n",
            "Requirement already satisfied: torch>=2.1.0 in c:\\users\\nhat hung\\appdata\\local\\programs\\orange\\lib\\site-packages (from pytorch_lightning) (2.4.0+cu121)\n",
            "Requirement already satisfied: tqdm>=4.57.0 in c:\\users\\nhat hung\\appdata\\local\\programs\\orange\\lib\\site-packages (from pytorch_lightning) (4.66.4)\n",
            "Requirement already satisfied: PyYAML>=5.4 in c:\\users\\nhat hung\\appdata\\local\\programs\\orange\\lib\\site-packages (from pytorch_lightning) (6.0.1)\n",
            "Requirement already satisfied: fsspec>=2022.5.0 in c:\\users\\nhat hung\\appdata\\local\\programs\\orange\\lib\\site-packages (from fsspec[http]>=2022.5.0->pytorch_lightning) (2024.6.1)\n",
            "Requirement already satisfied: torchmetrics>=0.7.0 in c:\\users\\nhat hung\\appdata\\local\\programs\\orange\\lib\\site-packages (from pytorch_lightning) (1.4.1)\n",
            "Requirement already satisfied: packaging>=20.0 in c:\\users\\nhat hung\\appdata\\local\\programs\\orange\\lib\\site-packages (from pytorch_lightning) (23.2)\n",
            "Requirement already satisfied: typing-extensions>=4.4.0 in c:\\users\\nhat hung\\appdata\\local\\programs\\orange\\lib\\site-packages (from pytorch_lightning) (4.12.2)\n",
            "Requirement already satisfied: lightning-utilities>=0.10.0 in c:\\users\\nhat hung\\appdata\\local\\programs\\orange\\lib\\site-packages (from pytorch_lightning) (0.11.6)\n",
            "Requirement already satisfied: aiohttp!=4.0.0a0,!=4.0.0a1 in c:\\users\\nhat hung\\appdata\\local\\programs\\orange\\lib\\site-packages (from fsspec[http]>=2022.5.0->pytorch_lightning) (3.10.4)\n",
            "Requirement already satisfied: setuptools in c:\\users\\nhat hung\\appdata\\local\\programs\\orange\\lib\\site-packages (from lightning-utilities>=0.10.0->pytorch_lightning) (68.2.2)\n",
            "Requirement already satisfied: filelock in c:\\users\\nhat hung\\appdata\\local\\programs\\orange\\lib\\site-packages (from torch>=2.1.0->pytorch_lightning) (3.15.4)\n",
            "Requirement already satisfied: sympy in c:\\users\\nhat hung\\appdata\\local\\programs\\orange\\lib\\site-packages (from torch>=2.1.0->pytorch_lightning) (1.13.2)\n",
            "Requirement already satisfied: networkx in c:\\users\\nhat hung\\appdata\\local\\programs\\orange\\lib\\site-packages (from torch>=2.1.0->pytorch_lightning) (3.2.1)\n",
            "Requirement already satisfied: jinja2 in c:\\users\\nhat hung\\appdata\\local\\programs\\orange\\lib\\site-packages (from torch>=2.1.0->pytorch_lightning) (3.1.4)\n",
            "Requirement already satisfied: numpy>1.20.0 in c:\\users\\nhat hung\\appdata\\local\\programs\\orange\\lib\\site-packages (from torchmetrics>=0.7.0->pytorch_lightning) (1.24.4)\n",
            "Requirement already satisfied: colorama in c:\\users\\nhat hung\\appdata\\local\\programs\\orange\\lib\\site-packages (from tqdm>=4.57.0->pytorch_lightning) (0.4.6)\n",
            "Requirement already satisfied: aiohappyeyeballs>=2.3.0 in c:\\users\\nhat hung\\appdata\\local\\programs\\orange\\lib\\site-packages (from aiohttp!=4.0.0a0,!=4.0.0a1->fsspec[http]>=2022.5.0->pytorch_lightning) (2.3.7)\n",
            "Requirement already satisfied: aiosignal>=1.1.2 in c:\\users\\nhat hung\\appdata\\local\\programs\\orange\\lib\\site-packages (from aiohttp!=4.0.0a0,!=4.0.0a1->fsspec[http]>=2022.5.0->pytorch_lightning) (1.3.1)\n",
            "Requirement already satisfied: attrs>=17.3.0 in c:\\users\\nhat hung\\appdata\\local\\programs\\orange\\lib\\site-packages (from aiohttp!=4.0.0a0,!=4.0.0a1->fsspec[http]>=2022.5.0->pytorch_lightning) (23.2.0)\n",
            "Requirement already satisfied: frozenlist>=1.1.1 in c:\\users\\nhat hung\\appdata\\local\\programs\\orange\\lib\\site-packages (from aiohttp!=4.0.0a0,!=4.0.0a1->fsspec[http]>=2022.5.0->pytorch_lightning) (1.4.1)\n",
            "Requirement already satisfied: multidict<7.0,>=4.5 in c:\\users\\nhat hung\\appdata\\local\\programs\\orange\\lib\\site-packages (from aiohttp!=4.0.0a0,!=4.0.0a1->fsspec[http]>=2022.5.0->pytorch_lightning) (6.0.5)\n",
            "Requirement already satisfied: yarl<2.0,>=1.0 in c:\\users\\nhat hung\\appdata\\local\\programs\\orange\\lib\\site-packages (from aiohttp!=4.0.0a0,!=4.0.0a1->fsspec[http]>=2022.5.0->pytorch_lightning) (1.9.4)\n",
            "Requirement already satisfied: async-timeout<5.0,>=4.0 in c:\\users\\nhat hung\\appdata\\local\\programs\\orange\\lib\\site-packages (from aiohttp!=4.0.0a0,!=4.0.0a1->fsspec[http]>=2022.5.0->pytorch_lightning) (4.0.3)\n",
            "Requirement already satisfied: MarkupSafe>=2.0 in c:\\users\\nhat hung\\appdata\\local\\programs\\orange\\lib\\site-packages (from jinja2->torch>=2.1.0->pytorch_lightning) (2.1.5)\n",
            "Requirement already satisfied: mpmath<1.4,>=1.1.0 in c:\\users\\nhat hung\\appdata\\local\\programs\\orange\\lib\\site-packages (from sympy->torch>=2.1.0->pytorch_lightning) (1.3.0)\n",
            "Requirement already satisfied: idna>=2.0 in c:\\users\\nhat hung\\appdata\\local\\programs\\orange\\lib\\site-packages (from yarl<2.0,>=1.0->aiohttp!=4.0.0a0,!=4.0.0a1->fsspec[http]>=2022.5.0->pytorch_lightning) (3.6)\n",
            "Note: you may need to restart the kernel to use updated packages.\n"
          ]
        }
      ],
      "source": [
        "%pip install forgebox==0.4.18.5 pytorch_lightning"
      ]
    },
    {
      "cell_type": "code",
      "execution_count": null,
      "metadata": {},
      "outputs": [],
      "source": [
        "import os\n",
        "import sys\n",
        "import numpy as np\n",
        "import pandas as pd"
      ]
    },
    {
      "cell_type": "code",
      "execution_count": null,
      "metadata": {},
      "outputs": [],
      "source": [
        "def load_data_for_split(file_path):\n",
        "    texts, labels = [], []\n",
        "    with open(file_path, 'r', encoding='utf-8') as file:\n",
        "        for line in file:\n",
        "            line = line.strip()\n",
        "            text = line.replace(' ', '')\n",
        "            label = []\n",
        "            i = 0\n",
        "            while (i < len(text)):\n",
        "                if text[i] in ['，', '。', '？', '！']:\n",
        "                    label.append('1')\n",
        "                else:\n",
        "                    label.append('0')\n",
        "                i += 1\n",
        "            text_list = list(text)\n",
        "            # label[-1] = 2\n",
        "            # print(text, label)\n",
        "            # break\n",
        "            texts.append(text_list)\n",
        "            labels.append(''.join(label))\n",
        "\n",
        "            if (len(text_list) != len(label)):\n",
        "                print('Error:', text, label)\n",
        "    return texts, labels"
      ]
    },
    {
      "cell_type": "code",
      "execution_count": null,
      "metadata": {},
      "outputs": [],
      "source": [
        "from sklearn.model_selection import train_test_split\n",
        "\n",
        "def recursive_split(data, n_splits, idx=0):\n",
        "    print(f'Splitting data_{idx} with {len(data)} samples')\n",
        "    if idx >= n_splits:\n",
        "        with open(f'data/split6/data_{idx - n_splits}.txt', 'w', encoding='utf-8') as file:\n",
        "            for text in data['sentence'].to_list():\n",
        "                file.write(''.join(text) + '\\n')\n",
        "        return\n",
        "    train_data, test_data = train_test_split(data, test_size=0.5, random_state=42, stratify=data['label'])\n",
        "    # print(f'Lenght of train_data: {len(train_data)}')\n",
        "    # print(f'Lenght of test_data: {len(test_data)}')\n",
        "    recursive_split(train_data, n_splits, idx * 2)\n",
        "    recursive_split(test_data, n_splits, idx * 2 + 1)"
      ]
    },
    {
      "cell_type": "code",
      "execution_count": null,
      "metadata": {},
      "outputs": [],
      "source": [
        "sentences, labels = load_data_for_split('data/train_large_2.txt')\n",
        "\n",
        "data = pd.DataFrame({'sentence': sentences, 'label': labels})"
      ]
    },
    {
      "cell_type": "code",
      "execution_count": null,
      "metadata": {},
      "outputs": [],
      "source": [
        "label_counts = data['label'].value_counts()\n",
        "valid_labels = label_counts[label_counts >= 4096].index\n",
        "filtered_data = data[data['label'].isin(valid_labels)]"
      ]
    },
    {
      "cell_type": "code",
      "execution_count": null,
      "metadata": {},
      "outputs": [],
      "source": [
        "print(f'Original data with {len(data)} samples')\n",
        "print(f'Filtered data with {len(filtered_data)} samples')"
      ]
    },
    {
      "cell_type": "code",
      "execution_count": null,
      "metadata": {},
      "outputs": [],
      "source": [
        "recursive_split(filtered_data, 4096, 1)"
      ]
    },
    {
      "cell_type": "markdown",
      "metadata": {
        "id": "GW2xYPCQsdjq"
      },
      "source": [
        "# Punctuation NER"
      ]
    },
    {
      "cell_type": "code",
      "execution_count": 32,
      "metadata": {
        "id": "-nAfO_Zxsdjr"
      },
      "outputs": [],
      "source": [
        "# Forgebox Imports\n",
        "from forgebox.imports import *\n",
        "from forgebox.category import Category\n",
        "import pytorch_lightning as pl\n",
        "from transformers import AutoTokenizer, BertForTokenClassification, BertModel\n",
        "from transformers import pipeline\n",
        "from typing import List\n",
        "import re\n",
        "from torch.utils.data import DataLoader, Dataset"
      ]
    },
    {
      "cell_type": "code",
      "execution_count": 33,
      "metadata": {
        "id": "tK0e6KrmvyOv"
      },
      "outputs": [],
      "source": [
        "# DATA = r'/content/gdrive/MyDrive/Colab/punktuation-ner/data'\n",
        "DATA = r'C:\\Users\\Nhat Hung\\Documents\\GitHub\\bert-crf\\data\\split6'"
      ]
    },
    {
      "cell_type": "markdown",
      "metadata": {
        "id": "TcHShB4Asdjs"
      },
      "source": [
        "## Read Metadata"
      ]
    },
    {
      "cell_type": "code",
      "execution_count": 34,
      "metadata": {},
      "outputs": [
        {
          "name": "stdout",
          "output_type": "stream",
          "text": [
            "['data_0.txt', 'data_1.txt', 'data_10.txt', 'data_100.txt', 'data_1000.txt', 'data_1001.txt', 'data_1002.txt', 'data_1003.txt', 'data_1004.txt', 'data_1005.txt', 'data_1006.txt', 'data_1007.txt', 'data_1008.txt', 'data_1009.txt', 'data_101.txt', 'data_1010.txt', 'data_1011.txt', 'data_1012.txt', 'data_1013.txt', 'data_1014.txt', 'data_1015.txt', 'data_1016.txt', 'data_1017.txt', 'data_1018.txt', 'data_1019.txt', 'data_102.txt', 'data_1020.txt', 'data_1021.txt', 'data_1022.txt', 'data_1023.txt', 'data_1024.txt', 'data_1025.txt', 'data_1026.txt', 'data_1027.txt', 'data_1028.txt', 'data_1029.txt', 'data_103.txt', 'data_1030.txt', 'data_1031.txt', 'data_1032.txt', 'data_1033.txt', 'data_1034.txt', 'data_1035.txt', 'data_1036.txt', 'data_1037.txt', 'data_1038.txt', 'data_1039.txt', 'data_104.txt', 'data_1040.txt', 'data_1041.txt', 'data_1042.txt', 'data_1043.txt', 'data_1044.txt', 'data_1045.txt', 'data_1046.txt', 'data_1047.txt', 'data_1048.txt', 'data_1049.txt', 'data_105.txt', 'data_1050.txt', 'data_1051.txt', 'data_1052.txt', 'data_1053.txt', 'data_1054.txt', 'data_1055.txt', 'data_1056.txt', 'data_1057.txt', 'data_1058.txt', 'data_1059.txt', 'data_106.txt', 'data_1060.txt', 'data_1061.txt', 'data_1062.txt', 'data_1063.txt', 'data_1064.txt', 'data_1065.txt', 'data_1066.txt', 'data_1067.txt', 'data_1068.txt', 'data_1069.txt', 'data_107.txt', 'data_1070.txt', 'data_1071.txt', 'data_1072.txt', 'data_1073.txt', 'data_1074.txt', 'data_1075.txt', 'data_1076.txt', 'data_1077.txt', 'data_1078.txt', 'data_1079.txt', 'data_108.txt', 'data_1080.txt', 'data_1081.txt', 'data_1082.txt', 'data_1083.txt', 'data_1084.txt', 'data_1085.txt', 'data_1086.txt', 'data_1087.txt', 'data_1088.txt', 'data_1089.txt', 'data_109.txt', 'data_1090.txt', 'data_1091.txt', 'data_1092.txt', 'data_1093.txt', 'data_1094.txt', 'data_1095.txt', 'data_1096.txt', 'data_1097.txt', 'data_1098.txt', 'data_1099.txt', 'data_11.txt', 'data_110.txt', 'data_1100.txt', 'data_1101.txt', 'data_1102.txt', 'data_1103.txt', 'data_1104.txt', 'data_1105.txt', 'data_1106.txt', 'data_1107.txt', 'data_1108.txt', 'data_1109.txt', 'data_111.txt', 'data_1110.txt', 'data_1111.txt', 'data_1112.txt', 'data_1113.txt', 'data_1114.txt', 'data_1115.txt', 'data_1116.txt', 'data_1117.txt', 'data_1118.txt', 'data_1119.txt', 'data_112.txt', 'data_1120.txt', 'data_1121.txt', 'data_1122.txt', 'data_1123.txt', 'data_1124.txt', 'data_1125.txt', 'data_1126.txt', 'data_1127.txt', 'data_1128.txt', 'data_1129.txt', 'data_113.txt', 'data_1130.txt', 'data_1131.txt', 'data_1132.txt', 'data_1133.txt', 'data_1134.txt', 'data_1135.txt', 'data_1136.txt', 'data_1137.txt', 'data_1138.txt', 'data_1139.txt', 'data_114.txt', 'data_1140.txt', 'data_1141.txt', 'data_1142.txt', 'data_1143.txt', 'data_1144.txt', 'data_1145.txt', 'data_1146.txt', 'data_1147.txt', 'data_1148.txt', 'data_1149.txt', 'data_115.txt', 'data_1150.txt', 'data_1151.txt', 'data_1152.txt', 'data_1153.txt', 'data_1154.txt', 'data_1155.txt', 'data_1156.txt', 'data_1157.txt', 'data_1158.txt', 'data_1159.txt', 'data_116.txt', 'data_1160.txt', 'data_1161.txt', 'data_1162.txt', 'data_1163.txt', 'data_1164.txt', 'data_1165.txt', 'data_1166.txt', 'data_1167.txt', 'data_1168.txt', 'data_1169.txt', 'data_117.txt', 'data_1170.txt', 'data_1171.txt', 'data_1172.txt', 'data_1173.txt', 'data_1174.txt', 'data_1175.txt', 'data_1176.txt', 'data_1177.txt', 'data_1178.txt', 'data_1179.txt', 'data_118.txt', 'data_1180.txt', 'data_1181.txt', 'data_1182.txt', 'data_1183.txt', 'data_1184.txt', 'data_1185.txt', 'data_1186.txt', 'data_1187.txt', 'data_1188.txt', 'data_1189.txt', 'data_119.txt', 'data_1190.txt', 'data_1191.txt', 'data_1192.txt', 'data_1193.txt', 'data_1194.txt', 'data_1195.txt', 'data_1196.txt', 'data_1197.txt', 'data_1198.txt', 'data_1199.txt', 'data_12.txt', 'data_120.txt', 'data_1200.txt', 'data_1201.txt', 'data_1202.txt', 'data_1203.txt', 'data_1204.txt', 'data_1205.txt', 'data_1206.txt', 'data_1207.txt', 'data_1208.txt', 'data_1209.txt', 'data_121.txt', 'data_1210.txt', 'data_1211.txt', 'data_1212.txt', 'data_1213.txt', 'data_1214.txt', 'data_1215.txt', 'data_1216.txt', 'data_1217.txt', 'data_1218.txt', 'data_1219.txt', 'data_122.txt', 'data_1220.txt', 'data_1221.txt', 'data_1222.txt', 'data_1223.txt', 'data_1224.txt', 'data_1225.txt', 'data_1226.txt', 'data_1227.txt', 'data_1228.txt', 'data_1229.txt', 'data_123.txt', 'data_1230.txt', 'data_1231.txt', 'data_1232.txt', 'data_1233.txt', 'data_1234.txt', 'data_1235.txt', 'data_1236.txt', 'data_1237.txt', 'data_1238.txt', 'data_1239.txt', 'data_124.txt', 'data_1240.txt', 'data_1241.txt', 'data_1242.txt', 'data_1243.txt', 'data_1244.txt', 'data_1245.txt', 'data_1246.txt', 'data_1247.txt', 'data_1248.txt', 'data_1249.txt', 'data_125.txt', 'data_1250.txt', 'data_1251.txt', 'data_1252.txt', 'data_1253.txt', 'data_1254.txt', 'data_1255.txt', 'data_1256.txt', 'data_1257.txt', 'data_1258.txt', 'data_1259.txt', 'data_126.txt', 'data_1260.txt', 'data_1261.txt', 'data_1262.txt', 'data_1263.txt', 'data_1264.txt', 'data_1265.txt', 'data_1266.txt', 'data_1267.txt', 'data_1268.txt', 'data_1269.txt', 'data_127.txt', 'data_1270.txt', 'data_1271.txt', 'data_1272.txt', 'data_1273.txt', 'data_1274.txt', 'data_1275.txt', 'data_1276.txt', 'data_1277.txt', 'data_1278.txt', 'data_1279.txt', 'data_128.txt', 'data_1280.txt', 'data_1281.txt', 'data_1282.txt', 'data_1283.txt', 'data_1284.txt', 'data_1285.txt', 'data_1286.txt', 'data_1287.txt', 'data_1288.txt', 'data_1289.txt', 'data_129.txt', 'data_1290.txt', 'data_1291.txt', 'data_1292.txt', 'data_1293.txt', 'data_1294.txt', 'data_1295.txt', 'data_1296.txt', 'data_1297.txt', 'data_1298.txt', 'data_1299.txt', 'data_13.txt', 'data_130.txt', 'data_1300.txt', 'data_1301.txt', 'data_1302.txt', 'data_1303.txt', 'data_1304.txt', 'data_1305.txt', 'data_1306.txt', 'data_1307.txt', 'data_1308.txt', 'data_1309.txt', 'data_131.txt', 'data_1310.txt', 'data_1311.txt', 'data_1312.txt', 'data_1313.txt', 'data_1314.txt', 'data_1315.txt', 'data_1316.txt', 'data_1317.txt', 'data_1318.txt', 'data_1319.txt', 'data_132.txt', 'data_1320.txt', 'data_1321.txt', 'data_1322.txt', 'data_1323.txt', 'data_1324.txt', 'data_1325.txt', 'data_1326.txt', 'data_1327.txt', 'data_1328.txt', 'data_1329.txt', 'data_133.txt', 'data_1330.txt', 'data_1331.txt', 'data_1332.txt', 'data_1333.txt', 'data_1334.txt', 'data_1335.txt', 'data_1336.txt', 'data_1337.txt', 'data_1338.txt', 'data_1339.txt', 'data_134.txt', 'data_1340.txt', 'data_1341.txt', 'data_1342.txt', 'data_1343.txt', 'data_1344.txt', 'data_1345.txt', 'data_1346.txt', 'data_1347.txt', 'data_1348.txt', 'data_1349.txt', 'data_135.txt', 'data_1350.txt', 'data_1351.txt', 'data_1352.txt', 'data_1353.txt', 'data_1354.txt', 'data_1355.txt', 'data_1356.txt', 'data_1357.txt', 'data_1358.txt', 'data_1359.txt', 'data_136.txt', 'data_1360.txt', 'data_1361.txt', 'data_1362.txt', 'data_1363.txt', 'data_1364.txt', 'data_1365.txt', 'data_1366.txt', 'data_1367.txt', 'data_1368.txt', 'data_1369.txt', 'data_137.txt', 'data_1370.txt', 'data_1371.txt', 'data_1372.txt', 'data_1373.txt', 'data_1374.txt', 'data_1375.txt', 'data_1376.txt', 'data_1377.txt', 'data_1378.txt', 'data_1379.txt', 'data_138.txt', 'data_1380.txt', 'data_1381.txt', 'data_1382.txt', 'data_1383.txt', 'data_1384.txt', 'data_1385.txt', 'data_1386.txt', 'data_1387.txt', 'data_1388.txt', 'data_1389.txt', 'data_139.txt', 'data_1390.txt', 'data_1391.txt', 'data_1392.txt', 'data_1393.txt', 'data_1394.txt', 'data_1395.txt', 'data_1396.txt', 'data_1397.txt', 'data_1398.txt', 'data_1399.txt', 'data_14.txt', 'data_140.txt', 'data_1400.txt', 'data_1401.txt', 'data_1402.txt', 'data_1403.txt', 'data_1404.txt', 'data_1405.txt', 'data_1406.txt', 'data_1407.txt', 'data_1408.txt', 'data_1409.txt', 'data_141.txt', 'data_1410.txt', 'data_1411.txt', 'data_1412.txt', 'data_1413.txt', 'data_1414.txt', 'data_1415.txt', 'data_1416.txt', 'data_1417.txt', 'data_1418.txt', 'data_1419.txt', 'data_142.txt', 'data_1420.txt', 'data_1421.txt', 'data_1422.txt', 'data_1423.txt', 'data_1424.txt', 'data_1425.txt', 'data_1426.txt', 'data_1427.txt', 'data_1428.txt', 'data_1429.txt', 'data_143.txt', 'data_1430.txt', 'data_1431.txt', 'data_1432.txt', 'data_1433.txt', 'data_1434.txt', 'data_1435.txt', 'data_1436.txt', 'data_1437.txt', 'data_1438.txt', 'data_1439.txt', 'data_144.txt', 'data_1440.txt', 'data_1441.txt', 'data_1442.txt', 'data_1443.txt', 'data_1444.txt', 'data_1445.txt', 'data_1446.txt', 'data_1447.txt', 'data_1448.txt', 'data_1449.txt', 'data_145.txt', 'data_1450.txt', 'data_1451.txt', 'data_1452.txt', 'data_1453.txt', 'data_1454.txt', 'data_1455.txt', 'data_1456.txt', 'data_1457.txt', 'data_1458.txt', 'data_1459.txt', 'data_146.txt', 'data_1460.txt', 'data_1461.txt', 'data_1462.txt', 'data_1463.txt', 'data_1464.txt', 'data_1465.txt', 'data_1466.txt', 'data_1467.txt', 'data_1468.txt', 'data_1469.txt', 'data_147.txt', 'data_1470.txt', 'data_1471.txt', 'data_1472.txt', 'data_1473.txt', 'data_1474.txt', 'data_1475.txt', 'data_1476.txt', 'data_1477.txt', 'data_1478.txt', 'data_1479.txt', 'data_148.txt', 'data_1480.txt', 'data_1481.txt', 'data_1482.txt', 'data_1483.txt', 'data_1484.txt', 'data_1485.txt', 'data_1486.txt', 'data_1487.txt', 'data_1488.txt', 'data_1489.txt', 'data_149.txt', 'data_1490.txt', 'data_1491.txt', 'data_1492.txt', 'data_1493.txt', 'data_1494.txt', 'data_1495.txt', 'data_1496.txt', 'data_1497.txt', 'data_1498.txt', 'data_1499.txt', 'data_15.txt', 'data_150.txt', 'data_1500.txt', 'data_1501.txt', 'data_1502.txt', 'data_1503.txt', 'data_1504.txt', 'data_1505.txt', 'data_1506.txt', 'data_1507.txt', 'data_1508.txt', 'data_1509.txt', 'data_151.txt', 'data_1510.txt', 'data_1511.txt', 'data_1512.txt', 'data_1513.txt', 'data_1514.txt', 'data_1515.txt', 'data_1516.txt', 'data_1517.txt', 'data_1518.txt', 'data_1519.txt', 'data_152.txt', 'data_1520.txt', 'data_1521.txt', 'data_1522.txt', 'data_1523.txt', 'data_1524.txt', 'data_1525.txt', 'data_1526.txt', 'data_1527.txt', 'data_1528.txt', 'data_1529.txt', 'data_153.txt', 'data_1530.txt', 'data_1531.txt', 'data_1532.txt', 'data_1533.txt', 'data_1534.txt', 'data_1535.txt', 'data_1536.txt', 'data_1537.txt', 'data_1538.txt', 'data_1539.txt', 'data_154.txt', 'data_1540.txt', 'data_1541.txt', 'data_1542.txt', 'data_1543.txt', 'data_1544.txt', 'data_1545.txt', 'data_1546.txt', 'data_1547.txt', 'data_1548.txt', 'data_1549.txt', 'data_155.txt', 'data_1550.txt', 'data_1551.txt', 'data_1552.txt', 'data_1553.txt', 'data_1554.txt', 'data_1555.txt', 'data_1556.txt', 'data_1557.txt', 'data_1558.txt', 'data_1559.txt', 'data_156.txt', 'data_1560.txt', 'data_1561.txt', 'data_1562.txt', 'data_1563.txt', 'data_1564.txt', 'data_1565.txt', 'data_1566.txt', 'data_1567.txt', 'data_1568.txt', 'data_1569.txt', 'data_157.txt', 'data_1570.txt', 'data_1571.txt', 'data_1572.txt', 'data_1573.txt', 'data_1574.txt', 'data_1575.txt', 'data_1576.txt', 'data_1577.txt', 'data_1578.txt', 'data_1579.txt', 'data_158.txt', 'data_1580.txt', 'data_1581.txt', 'data_1582.txt', 'data_1583.txt', 'data_1584.txt', 'data_1585.txt', 'data_1586.txt', 'data_1587.txt', 'data_1588.txt', 'data_1589.txt', 'data_159.txt', 'data_1590.txt', 'data_1591.txt', 'data_1592.txt', 'data_1593.txt', 'data_1594.txt', 'data_1595.txt', 'data_1596.txt', 'data_1597.txt', 'data_1598.txt', 'data_1599.txt', 'data_16.txt', 'data_160.txt', 'data_1600.txt', 'data_1601.txt', 'data_1602.txt', 'data_1603.txt', 'data_1604.txt', 'data_1605.txt', 'data_1606.txt', 'data_1607.txt', 'data_1608.txt', 'data_1609.txt', 'data_161.txt', 'data_1610.txt', 'data_1611.txt', 'data_1612.txt', 'data_1613.txt', 'data_1614.txt', 'data_1615.txt', 'data_1616.txt', 'data_1617.txt', 'data_1618.txt', 'data_1619.txt', 'data_162.txt', 'data_1620.txt', 'data_1621.txt', 'data_1622.txt', 'data_1623.txt', 'data_1624.txt', 'data_1625.txt', 'data_1626.txt', 'data_1627.txt', 'data_1628.txt', 'data_1629.txt', 'data_163.txt', 'data_1630.txt', 'data_1631.txt', 'data_1632.txt', 'data_1633.txt', 'data_1634.txt', 'data_1635.txt', 'data_1636.txt', 'data_1637.txt', 'data_1638.txt', 'data_1639.txt', 'data_164.txt', 'data_1640.txt', 'data_1641.txt', 'data_1642.txt', 'data_1643.txt', 'data_1644.txt', 'data_1645.txt', 'data_1646.txt', 'data_1647.txt', 'data_1648.txt', 'data_1649.txt', 'data_165.txt', 'data_1650.txt', 'data_1651.txt', 'data_1652.txt', 'data_1653.txt', 'data_1654.txt', 'data_1655.txt', 'data_1656.txt', 'data_1657.txt', 'data_1658.txt', 'data_1659.txt', 'data_166.txt', 'data_1660.txt', 'data_1661.txt', 'data_1662.txt', 'data_1663.txt', 'data_1664.txt', 'data_1665.txt', 'data_1666.txt', 'data_1667.txt', 'data_1668.txt', 'data_1669.txt', 'data_167.txt', 'data_1670.txt', 'data_1671.txt', 'data_1672.txt', 'data_1673.txt', 'data_1674.txt', 'data_1675.txt', 'data_1676.txt', 'data_1677.txt', 'data_1678.txt', 'data_1679.txt', 'data_168.txt', 'data_1680.txt', 'data_1681.txt', 'data_1682.txt', 'data_1683.txt', 'data_1684.txt', 'data_1685.txt', 'data_1686.txt', 'data_1687.txt', 'data_1688.txt', 'data_1689.txt', 'data_169.txt', 'data_1690.txt', 'data_1691.txt', 'data_1692.txt', 'data_1693.txt', 'data_1694.txt', 'data_1695.txt', 'data_1696.txt', 'data_1697.txt', 'data_1698.txt', 'data_1699.txt', 'data_17.txt', 'data_170.txt', 'data_1700.txt', 'data_1701.txt', 'data_1702.txt', 'data_1703.txt', 'data_1704.txt', 'data_1705.txt', 'data_1706.txt', 'data_1707.txt', 'data_1708.txt', 'data_1709.txt', 'data_171.txt', 'data_1710.txt', 'data_1711.txt', 'data_1712.txt', 'data_1713.txt', 'data_1714.txt', 'data_1715.txt', 'data_1716.txt', 'data_1717.txt', 'data_1718.txt', 'data_1719.txt', 'data_172.txt', 'data_1720.txt', 'data_1721.txt', 'data_1722.txt', 'data_1723.txt', 'data_1724.txt', 'data_1725.txt', 'data_1726.txt', 'data_1727.txt', 'data_1728.txt', 'data_1729.txt', 'data_173.txt', 'data_1730.txt', 'data_1731.txt', 'data_1732.txt', 'data_1733.txt', 'data_1734.txt', 'data_1735.txt', 'data_1736.txt', 'data_1737.txt', 'data_1738.txt', 'data_1739.txt', 'data_174.txt', 'data_1740.txt', 'data_1741.txt', 'data_1742.txt', 'data_1743.txt', 'data_1744.txt', 'data_1745.txt', 'data_1746.txt', 'data_1747.txt', 'data_1748.txt', 'data_1749.txt', 'data_175.txt', 'data_1750.txt', 'data_1751.txt', 'data_1752.txt', 'data_1753.txt', 'data_1754.txt', 'data_1755.txt', 'data_1756.txt', 'data_1757.txt', 'data_1758.txt', 'data_1759.txt', 'data_176.txt', 'data_1760.txt', 'data_1761.txt', 'data_1762.txt', 'data_1763.txt', 'data_1764.txt', 'data_1765.txt', 'data_1766.txt', 'data_1767.txt', 'data_1768.txt', 'data_1769.txt', 'data_177.txt', 'data_1770.txt', 'data_1771.txt', 'data_1772.txt', 'data_1773.txt', 'data_1774.txt', 'data_1775.txt', 'data_1776.txt', 'data_1777.txt', 'data_1778.txt', 'data_1779.txt', 'data_178.txt', 'data_1780.txt', 'data_1781.txt', 'data_1782.txt', 'data_1783.txt', 'data_1784.txt', 'data_1785.txt', 'data_1786.txt', 'data_1787.txt', 'data_1788.txt', 'data_1789.txt', 'data_179.txt', 'data_1790.txt', 'data_1791.txt', 'data_1792.txt', 'data_1793.txt', 'data_1794.txt', 'data_1795.txt', 'data_1796.txt', 'data_1797.txt', 'data_1798.txt', 'data_1799.txt', 'data_18.txt', 'data_180.txt', 'data_1800.txt', 'data_1801.txt', 'data_1802.txt', 'data_1803.txt', 'data_1804.txt', 'data_1805.txt', 'data_1806.txt', 'data_1807.txt', 'data_1808.txt', 'data_1809.txt', 'data_181.txt', 'data_1810.txt', 'data_1811.txt', 'data_1812.txt', 'data_1813.txt', 'data_1814.txt', 'data_1815.txt', 'data_1816.txt', 'data_1817.txt', 'data_1818.txt', 'data_1819.txt', 'data_182.txt', 'data_1820.txt', 'data_1821.txt', 'data_1822.txt', 'data_1823.txt', 'data_1824.txt', 'data_1825.txt', 'data_1826.txt', 'data_1827.txt', 'data_1828.txt', 'data_1829.txt', 'data_183.txt', 'data_1830.txt', 'data_1831.txt', 'data_1832.txt', 'data_1833.txt', 'data_1834.txt', 'data_1835.txt', 'data_1836.txt', 'data_1837.txt', 'data_1838.txt', 'data_1839.txt', 'data_184.txt', 'data_1840.txt', 'data_1841.txt', 'data_1842.txt', 'data_1843.txt', 'data_1844.txt', 'data_1845.txt', 'data_1846.txt', 'data_1847.txt', 'data_1848.txt', 'data_1849.txt', 'data_185.txt', 'data_1850.txt', 'data_1851.txt', 'data_1852.txt', 'data_1853.txt', 'data_1854.txt', 'data_1855.txt', 'data_1856.txt', 'data_1857.txt', 'data_1858.txt', 'data_1859.txt', 'data_186.txt', 'data_1860.txt', 'data_1861.txt', 'data_1862.txt', 'data_1863.txt', 'data_1864.txt', 'data_1865.txt', 'data_1866.txt', 'data_1867.txt', 'data_1868.txt', 'data_1869.txt', 'data_187.txt', 'data_1870.txt', 'data_1871.txt', 'data_1872.txt', 'data_1873.txt', 'data_1874.txt', 'data_1875.txt', 'data_1876.txt', 'data_1877.txt', 'data_1878.txt', 'data_1879.txt', 'data_188.txt', 'data_1880.txt', 'data_1881.txt', 'data_1882.txt', 'data_1883.txt', 'data_1884.txt', 'data_1885.txt', 'data_1886.txt', 'data_1887.txt', 'data_1888.txt', 'data_1889.txt', 'data_189.txt', 'data_1890.txt', 'data_1891.txt', 'data_1892.txt', 'data_1893.txt', 'data_1894.txt', 'data_1895.txt', 'data_1896.txt', 'data_1897.txt', 'data_1898.txt', 'data_1899.txt', 'data_19.txt', 'data_190.txt', 'data_1900.txt', 'data_1901.txt', 'data_1902.txt', 'data_1903.txt', 'data_1904.txt', 'data_1905.txt', 'data_1906.txt', 'data_1907.txt', 'data_1908.txt', 'data_1909.txt', 'data_191.txt', 'data_1910.txt', 'data_1911.txt', 'data_1912.txt', 'data_1913.txt', 'data_1914.txt', 'data_1915.txt', 'data_1916.txt', 'data_1917.txt', 'data_1918.txt', 'data_1919.txt', 'data_192.txt', 'data_1920.txt', 'data_1921.txt', 'data_1922.txt', 'data_1923.txt', 'data_1924.txt', 'data_1925.txt', 'data_1926.txt', 'data_1927.txt', 'data_1928.txt', 'data_1929.txt', 'data_193.txt', 'data_1930.txt', 'data_1931.txt', 'data_1932.txt', 'data_1933.txt', 'data_1934.txt', 'data_1935.txt', 'data_1936.txt', 'data_1937.txt', 'data_1938.txt', 'data_1939.txt', 'data_194.txt', 'data_1940.txt', 'data_1941.txt', 'data_1942.txt', 'data_1943.txt', 'data_1944.txt', 'data_1945.txt', 'data_1946.txt', 'data_1947.txt', 'data_1948.txt', 'data_1949.txt', 'data_195.txt', 'data_1950.txt', 'data_1951.txt', 'data_1952.txt', 'data_1953.txt', 'data_1954.txt', 'data_1955.txt', 'data_1956.txt', 'data_1957.txt', 'data_1958.txt', 'data_1959.txt', 'data_196.txt', 'data_1960.txt', 'data_1961.txt', 'data_1962.txt', 'data_1963.txt', 'data_1964.txt', 'data_1965.txt', 'data_1966.txt', 'data_1967.txt', 'data_1968.txt', 'data_1969.txt', 'data_197.txt', 'data_1970.txt', 'data_1971.txt', 'data_1972.txt', 'data_1973.txt', 'data_1974.txt', 'data_1975.txt', 'data_1976.txt', 'data_1977.txt', 'data_1978.txt', 'data_1979.txt', 'data_198.txt', 'data_1980.txt', 'data_1981.txt', 'data_1982.txt', 'data_1983.txt', 'data_1984.txt', 'data_1985.txt', 'data_1986.txt', 'data_1987.txt', 'data_1988.txt', 'data_1989.txt', 'data_199.txt', 'data_1990.txt', 'data_1991.txt', 'data_1992.txt', 'data_1993.txt', 'data_1994.txt', 'data_1995.txt', 'data_1996.txt', 'data_1997.txt', 'data_1998.txt', 'data_1999.txt', 'data_2.txt', 'data_20.txt', 'data_200.txt', 'data_2000.txt', 'data_2001.txt', 'data_2002.txt', 'data_2003.txt', 'data_2004.txt', 'data_2005.txt', 'data_2006.txt', 'data_2007.txt', 'data_2008.txt', 'data_2009.txt', 'data_201.txt', 'data_2010.txt', 'data_2011.txt', 'data_2012.txt', 'data_2013.txt', 'data_2014.txt', 'data_2015.txt', 'data_2016.txt', 'data_2017.txt', 'data_2018.txt', 'data_2019.txt', 'data_202.txt', 'data_2020.txt', 'data_2021.txt', 'data_2022.txt', 'data_2023.txt', 'data_2024.txt', 'data_2025.txt', 'data_2026.txt', 'data_2027.txt', 'data_2028.txt', 'data_2029.txt', 'data_203.txt', 'data_2030.txt', 'data_2031.txt', 'data_2032.txt', 'data_2033.txt', 'data_2034.txt', 'data_2035.txt', 'data_2036.txt', 'data_2037.txt', 'data_2038.txt', 'data_2039.txt', 'data_204.txt', 'data_2040.txt', 'data_2041.txt', 'data_2042.txt', 'data_2043.txt', 'data_2044.txt', 'data_2045.txt', 'data_2046.txt', 'data_2047.txt', 'data_2048.txt', 'data_2049.txt', 'data_205.txt', 'data_2050.txt', 'data_2051.txt', 'data_2052.txt', 'data_2053.txt', 'data_2054.txt', 'data_2055.txt', 'data_2056.txt', 'data_2057.txt', 'data_2058.txt', 'data_2059.txt', 'data_206.txt', 'data_2060.txt', 'data_2061.txt', 'data_2062.txt', 'data_2063.txt', 'data_2064.txt', 'data_2065.txt', 'data_2066.txt', 'data_2067.txt', 'data_2068.txt', 'data_2069.txt', 'data_207.txt', 'data_2070.txt', 'data_2071.txt', 'data_2072.txt', 'data_2073.txt', 'data_2074.txt', 'data_2075.txt', 'data_2076.txt', 'data_2077.txt', 'data_2078.txt', 'data_2079.txt', 'data_208.txt', 'data_2080.txt', 'data_2081.txt', 'data_2082.txt', 'data_2083.txt', 'data_2084.txt', 'data_2085.txt', 'data_2086.txt', 'data_2087.txt', 'data_2088.txt', 'data_2089.txt', 'data_209.txt', 'data_2090.txt', 'data_2091.txt', 'data_2092.txt', 'data_2093.txt', 'data_2094.txt', 'data_2095.txt', 'data_2096.txt', 'data_2097.txt', 'data_2098.txt', 'data_2099.txt', 'data_21.txt', 'data_210.txt', 'data_2100.txt', 'data_2101.txt', 'data_2102.txt', 'data_2103.txt', 'data_2104.txt', 'data_2105.txt', 'data_2106.txt', 'data_2107.txt', 'data_2108.txt', 'data_2109.txt', 'data_211.txt', 'data_2110.txt', 'data_2111.txt', 'data_2112.txt', 'data_2113.txt', 'data_2114.txt', 'data_2115.txt', 'data_2116.txt', 'data_2117.txt', 'data_2118.txt', 'data_2119.txt', 'data_212.txt', 'data_2120.txt', 'data_2121.txt', 'data_2122.txt', 'data_2123.txt', 'data_2124.txt', 'data_2125.txt', 'data_2126.txt', 'data_2127.txt', 'data_2128.txt', 'data_2129.txt', 'data_213.txt', 'data_2130.txt', 'data_2131.txt', 'data_2132.txt', 'data_2133.txt', 'data_2134.txt', 'data_2135.txt', 'data_2136.txt', 'data_2137.txt', 'data_2138.txt', 'data_2139.txt', 'data_214.txt', 'data_2140.txt', 'data_2141.txt', 'data_2142.txt', 'data_2143.txt', 'data_2144.txt', 'data_2145.txt', 'data_2146.txt', 'data_2147.txt', 'data_2148.txt', 'data_2149.txt', 'data_215.txt', 'data_2150.txt', 'data_2151.txt', 'data_2152.txt', 'data_2153.txt', 'data_2154.txt', 'data_2155.txt', 'data_2156.txt', 'data_2157.txt', 'data_2158.txt', 'data_2159.txt', 'data_216.txt', 'data_2160.txt', 'data_2161.txt', 'data_2162.txt', 'data_2163.txt', 'data_2164.txt', 'data_2165.txt', 'data_2166.txt', 'data_2167.txt', 'data_2168.txt', 'data_2169.txt', 'data_217.txt', 'data_2170.txt', 'data_2171.txt', 'data_2172.txt', 'data_2173.txt', 'data_2174.txt', 'data_2175.txt', 'data_2176.txt', 'data_2177.txt', 'data_2178.txt', 'data_2179.txt', 'data_218.txt', 'data_2180.txt', 'data_2181.txt', 'data_2182.txt', 'data_2183.txt', 'data_2184.txt', 'data_2185.txt', 'data_2186.txt', 'data_2187.txt', 'data_2188.txt', 'data_2189.txt', 'data_219.txt', 'data_2190.txt', 'data_2191.txt', 'data_2192.txt', 'data_2193.txt', 'data_2194.txt', 'data_2195.txt', 'data_2196.txt', 'data_2197.txt', 'data_2198.txt', 'data_2199.txt', 'data_22.txt', 'data_220.txt', 'data_2200.txt', 'data_2201.txt', 'data_2202.txt', 'data_2203.txt', 'data_2204.txt', 'data_2205.txt', 'data_2206.txt', 'data_2207.txt', 'data_2208.txt', 'data_2209.txt', 'data_221.txt', 'data_2210.txt', 'data_2211.txt', 'data_2212.txt', 'data_2213.txt', 'data_2214.txt', 'data_2215.txt', 'data_2216.txt', 'data_2217.txt', 'data_2218.txt', 'data_2219.txt', 'data_222.txt', 'data_2220.txt', 'data_2221.txt', 'data_2222.txt', 'data_2223.txt', 'data_2224.txt', 'data_2225.txt', 'data_2226.txt', 'data_2227.txt', 'data_2228.txt', 'data_2229.txt', 'data_223.txt', 'data_2230.txt', 'data_2231.txt', 'data_2232.txt', 'data_2233.txt', 'data_2234.txt', 'data_2235.txt', 'data_2236.txt', 'data_2237.txt', 'data_2238.txt', 'data_2239.txt', 'data_224.txt', 'data_2240.txt', 'data_2241.txt', 'data_2242.txt', 'data_2243.txt', 'data_2244.txt', 'data_2245.txt', 'data_2246.txt', 'data_2247.txt', 'data_2248.txt', 'data_2249.txt', 'data_225.txt', 'data_2250.txt', 'data_2251.txt', 'data_2252.txt', 'data_2253.txt', 'data_2254.txt', 'data_2255.txt', 'data_2256.txt', 'data_2257.txt', 'data_2258.txt', 'data_2259.txt', 'data_226.txt', 'data_2260.txt', 'data_2261.txt', 'data_2262.txt', 'data_2263.txt', 'data_2264.txt', 'data_2265.txt', 'data_2266.txt', 'data_2267.txt', 'data_2268.txt', 'data_2269.txt', 'data_227.txt', 'data_2270.txt', 'data_2271.txt', 'data_2272.txt', 'data_2273.txt', 'data_2274.txt', 'data_2275.txt', 'data_2276.txt', 'data_2277.txt', 'data_2278.txt', 'data_2279.txt', 'data_228.txt', 'data_2280.txt', 'data_2281.txt', 'data_2282.txt', 'data_2283.txt', 'data_2284.txt', 'data_2285.txt', 'data_2286.txt', 'data_2287.txt', 'data_2288.txt', 'data_2289.txt', 'data_229.txt', 'data_2290.txt', 'data_2291.txt', 'data_2292.txt', 'data_2293.txt', 'data_2294.txt', 'data_2295.txt', 'data_2296.txt', 'data_2297.txt', 'data_2298.txt', 'data_2299.txt', 'data_23.txt', 'data_230.txt', 'data_2300.txt', 'data_2301.txt', 'data_2302.txt', 'data_2303.txt', 'data_2304.txt', 'data_2305.txt', 'data_2306.txt', 'data_2307.txt', 'data_2308.txt', 'data_2309.txt', 'data_231.txt', 'data_2310.txt', 'data_2311.txt', 'data_2312.txt', 'data_2313.txt', 'data_2314.txt', 'data_2315.txt', 'data_2316.txt', 'data_2317.txt', 'data_2318.txt', 'data_2319.txt', 'data_232.txt', 'data_2320.txt', 'data_2321.txt', 'data_2322.txt', 'data_2323.txt', 'data_2324.txt', 'data_2325.txt', 'data_2326.txt', 'data_2327.txt', 'data_2328.txt', 'data_2329.txt', 'data_233.txt', 'data_2330.txt', 'data_2331.txt', 'data_2332.txt', 'data_2333.txt', 'data_2334.txt', 'data_2335.txt', 'data_2336.txt', 'data_2337.txt', 'data_2338.txt', 'data_2339.txt', 'data_234.txt', 'data_2340.txt', 'data_2341.txt', 'data_2342.txt', 'data_2343.txt', 'data_2344.txt', 'data_2345.txt', 'data_2346.txt', 'data_2347.txt', 'data_2348.txt', 'data_2349.txt', 'data_235.txt', 'data_2350.txt', 'data_2351.txt', 'data_2352.txt', 'data_2353.txt', 'data_2354.txt', 'data_2355.txt', 'data_2356.txt', 'data_2357.txt', 'data_2358.txt', 'data_2359.txt', 'data_236.txt', 'data_2360.txt', 'data_2361.txt', 'data_2362.txt', 'data_2363.txt', 'data_2364.txt', 'data_2365.txt', 'data_2366.txt', 'data_2367.txt', 'data_2368.txt', 'data_2369.txt', 'data_237.txt', 'data_2370.txt', 'data_2371.txt', 'data_2372.txt', 'data_2373.txt', 'data_2374.txt', 'data_2375.txt', 'data_2376.txt', 'data_2377.txt', 'data_2378.txt', 'data_2379.txt', 'data_238.txt', 'data_2380.txt', 'data_2381.txt', 'data_2382.txt', 'data_2383.txt', 'data_2384.txt', 'data_2385.txt', 'data_2386.txt', 'data_2387.txt', 'data_2388.txt', 'data_2389.txt', 'data_239.txt', 'data_2390.txt', 'data_2391.txt', 'data_2392.txt', 'data_2393.txt', 'data_2394.txt', 'data_2395.txt', 'data_2396.txt', 'data_2397.txt', 'data_2398.txt', 'data_2399.txt', 'data_24.txt', 'data_240.txt', 'data_2400.txt', 'data_2401.txt', 'data_2402.txt', 'data_2403.txt', 'data_2404.txt', 'data_2405.txt', 'data_2406.txt', 'data_2407.txt', 'data_2408.txt', 'data_2409.txt', 'data_241.txt', 'data_2410.txt', 'data_2411.txt', 'data_2412.txt', 'data_2413.txt', 'data_2414.txt', 'data_2415.txt', 'data_2416.txt', 'data_2417.txt', 'data_2418.txt', 'data_2419.txt', 'data_242.txt', 'data_2420.txt', 'data_2421.txt', 'data_2422.txt', 'data_2423.txt', 'data_2424.txt', 'data_2425.txt', 'data_2426.txt', 'data_2427.txt', 'data_2428.txt', 'data_2429.txt', 'data_243.txt', 'data_2430.txt', 'data_2431.txt', 'data_2432.txt', 'data_2433.txt', 'data_2434.txt', 'data_2435.txt', 'data_2436.txt', 'data_2437.txt', 'data_2438.txt', 'data_2439.txt', 'data_244.txt', 'data_2440.txt', 'data_2441.txt', 'data_2442.txt', 'data_2443.txt', 'data_2444.txt', 'data_2445.txt', 'data_2446.txt', 'data_2447.txt', 'data_2448.txt', 'data_2449.txt', 'data_245.txt', 'data_2450.txt', 'data_2451.txt', 'data_2452.txt', 'data_2453.txt', 'data_2454.txt', 'data_2455.txt', 'data_2456.txt', 'data_2457.txt', 'data_2458.txt', 'data_2459.txt', 'data_246.txt', 'data_2460.txt', 'data_2461.txt', 'data_2462.txt', 'data_2463.txt', 'data_2464.txt', 'data_2465.txt', 'data_2466.txt', 'data_2467.txt', 'data_2468.txt', 'data_2469.txt', 'data_247.txt', 'data_2470.txt', 'data_2471.txt', 'data_2472.txt', 'data_2473.txt', 'data_2474.txt', 'data_2475.txt', 'data_2476.txt', 'data_2477.txt', 'data_2478.txt', 'data_2479.txt', 'data_248.txt', 'data_2480.txt', 'data_2481.txt', 'data_2482.txt', 'data_2483.txt', 'data_2484.txt', 'data_2485.txt', 'data_2486.txt', 'data_2487.txt', 'data_2488.txt', 'data_2489.txt', 'data_249.txt', 'data_2490.txt', 'data_2491.txt', 'data_2492.txt', 'data_2493.txt', 'data_2494.txt', 'data_2495.txt', 'data_2496.txt', 'data_2497.txt', 'data_2498.txt', 'data_2499.txt', 'data_25.txt', 'data_250.txt', 'data_2500.txt', 'data_2501.txt', 'data_2502.txt', 'data_2503.txt', 'data_2504.txt', 'data_2505.txt', 'data_2506.txt', 'data_2507.txt', 'data_2508.txt', 'data_2509.txt', 'data_251.txt', 'data_2510.txt', 'data_2511.txt', 'data_2512.txt', 'data_2513.txt', 'data_2514.txt', 'data_2515.txt', 'data_2516.txt', 'data_2517.txt', 'data_2518.txt', 'data_2519.txt', 'data_252.txt', 'data_2520.txt', 'data_2521.txt', 'data_2522.txt', 'data_2523.txt', 'data_2524.txt', 'data_2525.txt', 'data_2526.txt', 'data_2527.txt', 'data_2528.txt', 'data_2529.txt', 'data_253.txt', 'data_2530.txt', 'data_2531.txt', 'data_2532.txt', 'data_2533.txt', 'data_2534.txt', 'data_2535.txt', 'data_2536.txt', 'data_2537.txt', 'data_2538.txt', 'data_2539.txt', 'data_254.txt', 'data_2540.txt', 'data_2541.txt', 'data_2542.txt', 'data_2543.txt', 'data_2544.txt', 'data_2545.txt', 'data_2546.txt', 'data_2547.txt', 'data_2548.txt', 'data_2549.txt', 'data_255.txt', 'data_2550.txt', 'data_2551.txt', 'data_2552.txt', 'data_2553.txt', 'data_2554.txt', 'data_2555.txt', 'data_2556.txt', 'data_2557.txt', 'data_2558.txt', 'data_2559.txt', 'data_256.txt', 'data_2560.txt', 'data_2561.txt', 'data_2562.txt', 'data_2563.txt', 'data_2564.txt', 'data_2565.txt', 'data_2566.txt', 'data_2567.txt', 'data_2568.txt', 'data_2569.txt', 'data_257.txt', 'data_2570.txt', 'data_2571.txt', 'data_2572.txt', 'data_2573.txt', 'data_2574.txt', 'data_2575.txt', 'data_2576.txt', 'data_2577.txt', 'data_2578.txt', 'data_2579.txt', 'data_258.txt', 'data_2580.txt', 'data_2581.txt', 'data_2582.txt', 'data_2583.txt', 'data_2584.txt', 'data_2585.txt', 'data_2586.txt', 'data_2587.txt', 'data_2588.txt', 'data_2589.txt', 'data_259.txt', 'data_2590.txt', 'data_2591.txt', 'data_2592.txt', 'data_2593.txt', 'data_2594.txt', 'data_2595.txt', 'data_2596.txt', 'data_2597.txt', 'data_2598.txt', 'data_2599.txt', 'data_26.txt', 'data_260.txt', 'data_2600.txt', 'data_2601.txt', 'data_2602.txt', 'data_2603.txt', 'data_2604.txt', 'data_2605.txt', 'data_2606.txt', 'data_2607.txt', 'data_2608.txt', 'data_2609.txt', 'data_261.txt', 'data_2610.txt', 'data_2611.txt', 'data_2612.txt', 'data_2613.txt', 'data_2614.txt', 'data_2615.txt', 'data_2616.txt', 'data_2617.txt', 'data_2618.txt', 'data_2619.txt', 'data_262.txt', 'data_2620.txt', 'data_2621.txt', 'data_2622.txt', 'data_2623.txt', 'data_2624.txt', 'data_2625.txt', 'data_2626.txt', 'data_2627.txt', 'data_2628.txt', 'data_2629.txt', 'data_263.txt', 'data_2630.txt', 'data_2631.txt', 'data_2632.txt', 'data_2633.txt', 'data_2634.txt', 'data_2635.txt', 'data_2636.txt', 'data_2637.txt', 'data_2638.txt', 'data_2639.txt', 'data_264.txt', 'data_2640.txt', 'data_2641.txt', 'data_2642.txt', 'data_2643.txt', 'data_2644.txt', 'data_2645.txt', 'data_2646.txt', 'data_2647.txt', 'data_2648.txt', 'data_2649.txt', 'data_265.txt', 'data_2650.txt', 'data_2651.txt', 'data_2652.txt', 'data_2653.txt', 'data_2654.txt', 'data_2655.txt', 'data_2656.txt', 'data_2657.txt', 'data_2658.txt', 'data_2659.txt', 'data_266.txt', 'data_2660.txt', 'data_2661.txt', 'data_2662.txt', 'data_2663.txt', 'data_2664.txt', 'data_2665.txt', 'data_2666.txt', 'data_2667.txt', 'data_2668.txt', 'data_2669.txt', 'data_267.txt', 'data_2670.txt', 'data_2671.txt', 'data_2672.txt', 'data_2673.txt', 'data_2674.txt', 'data_2675.txt', 'data_2676.txt', 'data_2677.txt', 'data_2678.txt', 'data_2679.txt', 'data_268.txt', 'data_2680.txt', 'data_2681.txt', 'data_2682.txt', 'data_2683.txt', 'data_2684.txt', 'data_2685.txt', 'data_2686.txt', 'data_2687.txt', 'data_2688.txt', 'data_2689.txt', 'data_269.txt', 'data_2690.txt', 'data_2691.txt', 'data_2692.txt', 'data_2693.txt', 'data_2694.txt', 'data_2695.txt', 'data_2696.txt', 'data_2697.txt', 'data_2698.txt', 'data_2699.txt', 'data_27.txt', 'data_270.txt', 'data_2700.txt', 'data_2701.txt', 'data_2702.txt', 'data_2703.txt', 'data_2704.txt', 'data_2705.txt', 'data_2706.txt', 'data_2707.txt', 'data_2708.txt', 'data_2709.txt', 'data_271.txt', 'data_2710.txt', 'data_2711.txt', 'data_2712.txt', 'data_2713.txt', 'data_2714.txt', 'data_2715.txt', 'data_2716.txt', 'data_2717.txt', 'data_2718.txt', 'data_2719.txt', 'data_272.txt', 'data_2720.txt', 'data_2721.txt', 'data_2722.txt', 'data_2723.txt', 'data_2724.txt', 'data_2725.txt', 'data_2726.txt', 'data_2727.txt', 'data_2728.txt', 'data_2729.txt', 'data_273.txt', 'data_2730.txt', 'data_2731.txt', 'data_2732.txt', 'data_2733.txt', 'data_2734.txt', 'data_2735.txt', 'data_2736.txt', 'data_2737.txt', 'data_2738.txt', 'data_2739.txt', 'data_274.txt', 'data_2740.txt', 'data_2741.txt', 'data_2742.txt', 'data_2743.txt', 'data_2744.txt', 'data_2745.txt', 'data_2746.txt', 'data_2747.txt', 'data_2748.txt', 'data_2749.txt', 'data_275.txt', 'data_2750.txt', 'data_2751.txt', 'data_2752.txt', 'data_2753.txt', 'data_2754.txt', 'data_2755.txt', 'data_2756.txt', 'data_2757.txt', 'data_2758.txt', 'data_2759.txt', 'data_276.txt', 'data_2760.txt', 'data_2761.txt', 'data_2762.txt', 'data_2763.txt', 'data_2764.txt', 'data_2765.txt', 'data_2766.txt', 'data_2767.txt', 'data_2768.txt', 'data_2769.txt', 'data_277.txt', 'data_2770.txt', 'data_2771.txt', 'data_2772.txt', 'data_2773.txt', 'data_2774.txt', 'data_2775.txt', 'data_2776.txt', 'data_2777.txt', 'data_2778.txt', 'data_2779.txt', 'data_278.txt', 'data_2780.txt', 'data_2781.txt', 'data_2782.txt', 'data_2783.txt', 'data_2784.txt', 'data_2785.txt', 'data_2786.txt', 'data_2787.txt', 'data_2788.txt', 'data_2789.txt', 'data_279.txt', 'data_2790.txt', 'data_2791.txt', 'data_2792.txt', 'data_2793.txt', 'data_2794.txt', 'data_2795.txt', 'data_2796.txt', 'data_2797.txt', 'data_2798.txt', 'data_2799.txt', 'data_28.txt', 'data_280.txt', 'data_2800.txt', 'data_2801.txt', 'data_2802.txt', 'data_2803.txt', 'data_2804.txt', 'data_2805.txt', 'data_2806.txt', 'data_2807.txt', 'data_2808.txt', 'data_2809.txt', 'data_281.txt', 'data_2810.txt', 'data_2811.txt', 'data_2812.txt', 'data_2813.txt', 'data_2814.txt', 'data_2815.txt', 'data_2816.txt', 'data_2817.txt', 'data_2818.txt', 'data_2819.txt', 'data_282.txt', 'data_2820.txt', 'data_2821.txt', 'data_2822.txt', 'data_2823.txt', 'data_2824.txt', 'data_2825.txt', 'data_2826.txt', 'data_2827.txt', 'data_2828.txt', 'data_2829.txt', 'data_283.txt', 'data_2830.txt', 'data_2831.txt', 'data_2832.txt', 'data_2833.txt', 'data_2834.txt', 'data_2835.txt', 'data_2836.txt', 'data_2837.txt', 'data_2838.txt', 'data_2839.txt', 'data_284.txt', 'data_2840.txt', 'data_2841.txt', 'data_2842.txt', 'data_2843.txt', 'data_2844.txt', 'data_2845.txt', 'data_2846.txt', 'data_2847.txt', 'data_2848.txt', 'data_2849.txt', 'data_285.txt', 'data_2850.txt', 'data_2851.txt', 'data_2852.txt', 'data_2853.txt', 'data_2854.txt', 'data_2855.txt', 'data_2856.txt', 'data_2857.txt', 'data_2858.txt', 'data_2859.txt', 'data_286.txt', 'data_2860.txt', 'data_2861.txt', 'data_2862.txt', 'data_2863.txt', 'data_2864.txt', 'data_2865.txt', 'data_2866.txt', 'data_2867.txt', 'data_2868.txt', 'data_2869.txt', 'data_287.txt', 'data_2870.txt', 'data_2871.txt', 'data_2872.txt', 'data_2873.txt', 'data_2874.txt', 'data_2875.txt', 'data_2876.txt', 'data_2877.txt', 'data_2878.txt', 'data_2879.txt', 'data_288.txt', 'data_2880.txt', 'data_2881.txt', 'data_2882.txt', 'data_2883.txt', 'data_2884.txt', 'data_2885.txt', 'data_2886.txt', 'data_2887.txt', 'data_2888.txt', 'data_2889.txt', 'data_289.txt', 'data_2890.txt', 'data_2891.txt', 'data_2892.txt', 'data_2893.txt', 'data_2894.txt', 'data_2895.txt', 'data_2896.txt', 'data_2897.txt', 'data_2898.txt', 'data_2899.txt', 'data_29.txt', 'data_290.txt', 'data_2900.txt', 'data_2901.txt', 'data_2902.txt', 'data_2903.txt', 'data_2904.txt', 'data_2905.txt', 'data_2906.txt', 'data_2907.txt', 'data_2908.txt', 'data_2909.txt', 'data_291.txt', 'data_2910.txt', 'data_2911.txt', 'data_2912.txt', 'data_2913.txt', 'data_2914.txt', 'data_2915.txt', 'data_2916.txt', 'data_2917.txt', 'data_2918.txt', 'data_2919.txt', 'data_292.txt', 'data_2920.txt', 'data_2921.txt', 'data_2922.txt', 'data_2923.txt', 'data_2924.txt', 'data_2925.txt', 'data_2926.txt', 'data_2927.txt', 'data_2928.txt', 'data_2929.txt', 'data_293.txt', 'data_2930.txt', 'data_2931.txt', 'data_2932.txt', 'data_2933.txt', 'data_2934.txt', 'data_2935.txt', 'data_2936.txt', 'data_2937.txt', 'data_2938.txt', 'data_2939.txt', 'data_294.txt', 'data_2940.txt', 'data_2941.txt', 'data_2942.txt', 'data_2943.txt', 'data_2944.txt', 'data_2945.txt', 'data_2946.txt', 'data_2947.txt', 'data_2948.txt', 'data_2949.txt', 'data_295.txt', 'data_2950.txt', 'data_2951.txt', 'data_2952.txt', 'data_2953.txt', 'data_2954.txt', 'data_2955.txt', 'data_2956.txt', 'data_2957.txt', 'data_2958.txt', 'data_2959.txt', 'data_296.txt', 'data_2960.txt', 'data_2961.txt', 'data_2962.txt', 'data_2963.txt', 'data_2964.txt', 'data_2965.txt', 'data_2966.txt', 'data_2967.txt', 'data_2968.txt', 'data_2969.txt', 'data_297.txt', 'data_2970.txt', 'data_2971.txt', 'data_2972.txt', 'data_2973.txt', 'data_2974.txt', 'data_2975.txt', 'data_2976.txt', 'data_2977.txt', 'data_2978.txt', 'data_2979.txt', 'data_298.txt', 'data_2980.txt', 'data_2981.txt', 'data_2982.txt', 'data_2983.txt', 'data_2984.txt', 'data_2985.txt', 'data_2986.txt', 'data_2987.txt', 'data_2988.txt', 'data_2989.txt', 'data_299.txt', 'data_2990.txt', 'data_2991.txt', 'data_2992.txt', 'data_2993.txt', 'data_2994.txt', 'data_2995.txt', 'data_2996.txt', 'data_2997.txt', 'data_2998.txt', 'data_2999.txt', 'data_3.txt', 'data_30.txt', 'data_300.txt', 'data_3000.txt', 'data_3001.txt', 'data_3002.txt', 'data_3003.txt', 'data_3004.txt', 'data_3005.txt', 'data_3006.txt', 'data_3007.txt', 'data_3008.txt', 'data_3009.txt', 'data_301.txt', 'data_3010.txt', 'data_3011.txt', 'data_3012.txt', 'data_3013.txt', 'data_3014.txt', 'data_3015.txt', 'data_3016.txt', 'data_3017.txt', 'data_3018.txt', 'data_3019.txt', 'data_302.txt', 'data_3020.txt', 'data_3021.txt', 'data_3022.txt', 'data_3023.txt', 'data_3024.txt', 'data_3025.txt', 'data_3026.txt', 'data_3027.txt', 'data_3028.txt', 'data_3029.txt', 'data_303.txt', 'data_3030.txt', 'data_3031.txt', 'data_3032.txt', 'data_3033.txt', 'data_3034.txt', 'data_3035.txt', 'data_3036.txt', 'data_3037.txt', 'data_3038.txt', 'data_3039.txt', 'data_304.txt', 'data_3040.txt', 'data_3041.txt', 'data_3042.txt', 'data_3043.txt', 'data_3044.txt', 'data_3045.txt', 'data_3046.txt', 'data_3047.txt', 'data_3048.txt', 'data_3049.txt', 'data_305.txt', 'data_3050.txt', 'data_3051.txt', 'data_3052.txt', 'data_3053.txt', 'data_3054.txt', 'data_3055.txt', 'data_3056.txt', 'data_3057.txt', 'data_3058.txt', 'data_3059.txt', 'data_306.txt', 'data_3060.txt', 'data_3061.txt', 'data_3062.txt', 'data_3063.txt', 'data_3064.txt', 'data_3065.txt', 'data_3066.txt', 'data_3067.txt', 'data_3068.txt', 'data_3069.txt', 'data_307.txt', 'data_3070.txt', 'data_3071.txt', 'data_3072.txt', 'data_3073.txt', 'data_3074.txt', 'data_3075.txt', 'data_3076.txt', 'data_3077.txt', 'data_3078.txt', 'data_3079.txt', 'data_308.txt', 'data_3080.txt', 'data_3081.txt', 'data_3082.txt', 'data_3083.txt', 'data_3084.txt', 'data_3085.txt', 'data_3086.txt', 'data_3087.txt', 'data_3088.txt', 'data_3089.txt', 'data_309.txt', 'data_3090.txt', 'data_3091.txt', 'data_3092.txt', 'data_3093.txt', 'data_3094.txt', 'data_3095.txt', 'data_3096.txt', 'data_3097.txt', 'data_3098.txt', 'data_3099.txt', 'data_31.txt', 'data_310.txt', 'data_3100.txt', 'data_3101.txt', 'data_3102.txt', 'data_3103.txt', 'data_3104.txt', 'data_3105.txt', 'data_3106.txt', 'data_3107.txt', 'data_3108.txt', 'data_3109.txt', 'data_311.txt', 'data_3110.txt', 'data_3111.txt', 'data_3112.txt', 'data_3113.txt', 'data_3114.txt', 'data_3115.txt', 'data_3116.txt', 'data_3117.txt', 'data_3118.txt', 'data_3119.txt', 'data_312.txt', 'data_3120.txt', 'data_3121.txt', 'data_3122.txt', 'data_3123.txt', 'data_3124.txt', 'data_3125.txt', 'data_3126.txt', 'data_3127.txt', 'data_3128.txt', 'data_3129.txt', 'data_313.txt', 'data_3130.txt', 'data_3131.txt', 'data_3132.txt', 'data_3133.txt', 'data_3134.txt', 'data_3135.txt', 'data_3136.txt', 'data_3137.txt', 'data_3138.txt', 'data_3139.txt', 'data_314.txt', 'data_3140.txt', 'data_3141.txt', 'data_3142.txt', 'data_3143.txt', 'data_3144.txt', 'data_3145.txt', 'data_3146.txt', 'data_3147.txt', 'data_3148.txt', 'data_3149.txt', 'data_315.txt', 'data_3150.txt', 'data_3151.txt', 'data_3152.txt', 'data_3153.txt', 'data_3154.txt', 'data_3155.txt', 'data_3156.txt', 'data_3157.txt', 'data_3158.txt', 'data_3159.txt', 'data_316.txt', 'data_3160.txt', 'data_3161.txt', 'data_3162.txt', 'data_3163.txt', 'data_3164.txt', 'data_3165.txt', 'data_3166.txt', 'data_3167.txt', 'data_3168.txt', 'data_3169.txt', 'data_317.txt', 'data_3170.txt', 'data_3171.txt', 'data_3172.txt', 'data_3173.txt', 'data_3174.txt', 'data_3175.txt', 'data_3176.txt', 'data_3177.txt', 'data_3178.txt', 'data_3179.txt', 'data_318.txt', 'data_3180.txt', 'data_3181.txt', 'data_3182.txt', 'data_3183.txt', 'data_3184.txt', 'data_3185.txt', 'data_3186.txt', 'data_3187.txt', 'data_3188.txt', 'data_3189.txt', 'data_319.txt', 'data_3190.txt', 'data_3191.txt', 'data_3192.txt', 'data_3193.txt', 'data_3194.txt', 'data_3195.txt', 'data_3196.txt', 'data_3197.txt', 'data_3198.txt', 'data_3199.txt', 'data_32.txt', 'data_320.txt', 'data_3200.txt', 'data_3201.txt', 'data_3202.txt', 'data_3203.txt', 'data_3204.txt', 'data_3205.txt', 'data_3206.txt', 'data_3207.txt', 'data_3208.txt', 'data_3209.txt', 'data_321.txt', 'data_3210.txt', 'data_3211.txt', 'data_3212.txt', 'data_3213.txt', 'data_3214.txt', 'data_3215.txt', 'data_3216.txt', 'data_3217.txt', 'data_3218.txt', 'data_3219.txt', 'data_322.txt', 'data_3220.txt', 'data_3221.txt', 'data_3222.txt', 'data_3223.txt', 'data_3224.txt', 'data_3225.txt', 'data_3226.txt', 'data_3227.txt', 'data_3228.txt', 'data_3229.txt', 'data_323.txt', 'data_3230.txt', 'data_3231.txt', 'data_3232.txt', 'data_3233.txt', 'data_3234.txt', 'data_3235.txt', 'data_3236.txt', 'data_3237.txt', 'data_3238.txt', 'data_3239.txt', 'data_324.txt', 'data_3240.txt', 'data_3241.txt', 'data_3242.txt', 'data_3243.txt', 'data_3244.txt', 'data_3245.txt', 'data_3246.txt', 'data_3247.txt', 'data_3248.txt', 'data_3249.txt', 'data_325.txt', 'data_3250.txt', 'data_3251.txt', 'data_3252.txt', 'data_3253.txt', 'data_3254.txt', 'data_3255.txt', 'data_3256.txt', 'data_3257.txt', 'data_3258.txt', 'data_3259.txt', 'data_326.txt', 'data_3260.txt', 'data_3261.txt', 'data_3262.txt', 'data_3263.txt', 'data_3264.txt', 'data_3265.txt', 'data_3266.txt', 'data_3267.txt', 'data_3268.txt', 'data_3269.txt', 'data_327.txt', 'data_3270.txt', 'data_3271.txt', 'data_3272.txt', 'data_3273.txt', 'data_3274.txt', 'data_3275.txt', 'data_3276.txt', 'data_3277.txt', 'data_3278.txt', 'data_3279.txt', 'data_328.txt', 'data_3280.txt', 'data_3281.txt', 'data_3282.txt', 'data_3283.txt', 'data_3284.txt', 'data_3285.txt', 'data_3286.txt', 'data_3287.txt', 'data_3288.txt', 'data_3289.txt', 'data_329.txt', 'data_3290.txt', 'data_3291.txt', 'data_3292.txt', 'data_3293.txt', 'data_3294.txt', 'data_3295.txt', 'data_3296.txt', 'data_3297.txt', 'data_3298.txt', 'data_3299.txt', 'data_33.txt', 'data_330.txt', 'data_3300.txt', 'data_3301.txt', 'data_3302.txt', 'data_3303.txt', 'data_3304.txt', 'data_3305.txt', 'data_3306.txt', 'data_3307.txt', 'data_3308.txt', 'data_3309.txt', 'data_331.txt', 'data_3310.txt', 'data_3311.txt', 'data_3312.txt', 'data_3313.txt', 'data_3314.txt', 'data_3315.txt', 'data_3316.txt', 'data_3317.txt', 'data_3318.txt', 'data_3319.txt', 'data_332.txt', 'data_3320.txt', 'data_3321.txt', 'data_3322.txt', 'data_3323.txt', 'data_3324.txt', 'data_3325.txt', 'data_3326.txt', 'data_3327.txt', 'data_3328.txt', 'data_3329.txt', 'data_333.txt', 'data_3330.txt', 'data_3331.txt', 'data_3332.txt', 'data_3333.txt', 'data_3334.txt', 'data_3335.txt', 'data_3336.txt', 'data_3337.txt', 'data_3338.txt', 'data_3339.txt', 'data_334.txt', 'data_3340.txt', 'data_3341.txt', 'data_3342.txt', 'data_3343.txt', 'data_3344.txt', 'data_3345.txt', 'data_3346.txt', 'data_3347.txt', 'data_3348.txt', 'data_3349.txt', 'data_335.txt', 'data_3350.txt', 'data_3351.txt', 'data_3352.txt', 'data_3353.txt', 'data_3354.txt', 'data_3355.txt', 'data_3356.txt', 'data_3357.txt', 'data_3358.txt', 'data_3359.txt', 'data_336.txt', 'data_3360.txt', 'data_3361.txt', 'data_3362.txt', 'data_3363.txt', 'data_3364.txt', 'data_3365.txt', 'data_3366.txt', 'data_3367.txt', 'data_3368.txt', 'data_3369.txt', 'data_337.txt', 'data_3370.txt', 'data_3371.txt', 'data_3372.txt', 'data_3373.txt', 'data_3374.txt', 'data_3375.txt', 'data_3376.txt', 'data_3377.txt', 'data_3378.txt', 'data_3379.txt', 'data_338.txt', 'data_3380.txt', 'data_3381.txt', 'data_3382.txt', 'data_3383.txt', 'data_3384.txt', 'data_3385.txt', 'data_3386.txt', 'data_3387.txt', 'data_3388.txt', 'data_3389.txt', 'data_339.txt', 'data_3390.txt', 'data_3391.txt', 'data_3392.txt', 'data_3393.txt', 'data_3394.txt', 'data_3395.txt', 'data_3396.txt', 'data_3397.txt', 'data_3398.txt', 'data_3399.txt', 'data_34.txt', 'data_340.txt', 'data_3400.txt', 'data_3401.txt', 'data_3402.txt', 'data_3403.txt', 'data_3404.txt', 'data_3405.txt', 'data_3406.txt', 'data_3407.txt', 'data_3408.txt', 'data_3409.txt', 'data_341.txt', 'data_3410.txt', 'data_3411.txt', 'data_3412.txt', 'data_3413.txt', 'data_3414.txt', 'data_3415.txt', 'data_3416.txt', 'data_3417.txt', 'data_3418.txt', 'data_3419.txt', 'data_342.txt', 'data_3420.txt', 'data_3421.txt', 'data_3422.txt', 'data_3423.txt', 'data_3424.txt', 'data_3425.txt', 'data_3426.txt', 'data_3427.txt', 'data_3428.txt', 'data_3429.txt', 'data_343.txt', 'data_3430.txt', 'data_3431.txt', 'data_3432.txt', 'data_3433.txt', 'data_3434.txt', 'data_3435.txt', 'data_3436.txt', 'data_3437.txt', 'data_3438.txt', 'data_3439.txt', 'data_344.txt', 'data_3440.txt', 'data_3441.txt', 'data_3442.txt', 'data_3443.txt', 'data_3444.txt', 'data_3445.txt', 'data_3446.txt', 'data_3447.txt', 'data_3448.txt', 'data_3449.txt', 'data_345.txt', 'data_3450.txt', 'data_3451.txt', 'data_3452.txt', 'data_3453.txt', 'data_3454.txt', 'data_3455.txt', 'data_3456.txt', 'data_3457.txt', 'data_3458.txt', 'data_3459.txt', 'data_346.txt', 'data_3460.txt', 'data_3461.txt', 'data_3462.txt', 'data_3463.txt', 'data_3464.txt', 'data_3465.txt', 'data_3466.txt', 'data_3467.txt', 'data_3468.txt', 'data_3469.txt', 'data_347.txt', 'data_3470.txt', 'data_3471.txt', 'data_3472.txt', 'data_3473.txt', 'data_3474.txt', 'data_3475.txt', 'data_3476.txt', 'data_3477.txt', 'data_3478.txt', 'data_3479.txt', 'data_348.txt', 'data_3480.txt', 'data_3481.txt', 'data_3482.txt', 'data_3483.txt', 'data_3484.txt', 'data_3485.txt', 'data_3486.txt', 'data_3487.txt', 'data_3488.txt', 'data_3489.txt', 'data_349.txt', 'data_3490.txt', 'data_3491.txt', 'data_3492.txt', 'data_3493.txt', 'data_3494.txt', 'data_3495.txt', 'data_3496.txt', 'data_3497.txt', 'data_3498.txt', 'data_3499.txt', 'data_35.txt', 'data_350.txt', 'data_3500.txt', 'data_3501.txt', 'data_3502.txt', 'data_3503.txt', 'data_3504.txt', 'data_3505.txt', 'data_3506.txt', 'data_3507.txt', 'data_3508.txt', 'data_3509.txt', 'data_351.txt', 'data_3510.txt', 'data_3511.txt', 'data_3512.txt', 'data_3513.txt', 'data_3514.txt', 'data_3515.txt', 'data_3516.txt', 'data_3517.txt', 'data_3518.txt', 'data_3519.txt', 'data_352.txt', 'data_3520.txt', 'data_3521.txt', 'data_3522.txt', 'data_3523.txt', 'data_3524.txt', 'data_3525.txt', 'data_3526.txt', 'data_3527.txt', 'data_3528.txt', 'data_3529.txt', 'data_353.txt', 'data_3530.txt', 'data_3531.txt', 'data_3532.txt', 'data_3533.txt', 'data_3534.txt', 'data_3535.txt', 'data_3536.txt', 'data_3537.txt', 'data_3538.txt', 'data_3539.txt', 'data_354.txt', 'data_3540.txt', 'data_3541.txt', 'data_3542.txt', 'data_3543.txt', 'data_3544.txt', 'data_3545.txt', 'data_3546.txt', 'data_3547.txt', 'data_3548.txt', 'data_3549.txt', 'data_355.txt', 'data_3550.txt', 'data_3551.txt', 'data_3552.txt', 'data_3553.txt', 'data_3554.txt', 'data_3555.txt', 'data_3556.txt', 'data_3557.txt', 'data_3558.txt', 'data_3559.txt', 'data_356.txt', 'data_3560.txt', 'data_3561.txt', 'data_3562.txt', 'data_3563.txt', 'data_3564.txt', 'data_3565.txt', 'data_3566.txt', 'data_3567.txt', 'data_3568.txt', 'data_3569.txt', 'data_357.txt', 'data_3570.txt', 'data_3571.txt', 'data_3572.txt', 'data_3573.txt', 'data_3574.txt', 'data_3575.txt', 'data_3576.txt', 'data_3577.txt', 'data_3578.txt', 'data_3579.txt', 'data_358.txt', 'data_3580.txt', 'data_3581.txt', 'data_3582.txt', 'data_3583.txt', 'data_3584.txt', 'data_3585.txt', 'data_3586.txt', 'data_3587.txt', 'data_3588.txt', 'data_3589.txt', 'data_359.txt', 'data_3590.txt', 'data_3591.txt', 'data_3592.txt', 'data_3593.txt', 'data_3594.txt', 'data_3595.txt', 'data_3596.txt', 'data_3597.txt', 'data_3598.txt', 'data_3599.txt', 'data_36.txt', 'data_360.txt', 'data_3600.txt', 'data_3601.txt', 'data_3602.txt', 'data_3603.txt', 'data_3604.txt', 'data_3605.txt', 'data_3606.txt', 'data_3607.txt', 'data_3608.txt', 'data_3609.txt', 'data_361.txt', 'data_3610.txt', 'data_3611.txt', 'data_3612.txt', 'data_3613.txt', 'data_3614.txt', 'data_3615.txt', 'data_3616.txt', 'data_3617.txt', 'data_3618.txt', 'data_3619.txt', 'data_362.txt', 'data_3620.txt', 'data_3621.txt', 'data_3622.txt', 'data_3623.txt', 'data_3624.txt', 'data_3625.txt', 'data_3626.txt', 'data_3627.txt', 'data_3628.txt', 'data_3629.txt', 'data_363.txt', 'data_3630.txt', 'data_3631.txt', 'data_3632.txt', 'data_3633.txt', 'data_3634.txt', 'data_3635.txt', 'data_3636.txt', 'data_3637.txt', 'data_3638.txt', 'data_3639.txt', 'data_364.txt', 'data_3640.txt', 'data_3641.txt', 'data_3642.txt', 'data_3643.txt', 'data_3644.txt', 'data_3645.txt', 'data_3646.txt', 'data_3647.txt', 'data_3648.txt', 'data_3649.txt', 'data_365.txt', 'data_3650.txt', 'data_3651.txt', 'data_3652.txt', 'data_3653.txt', 'data_3654.txt', 'data_3655.txt', 'data_3656.txt', 'data_3657.txt', 'data_3658.txt', 'data_3659.txt', 'data_366.txt', 'data_3660.txt', 'data_3661.txt', 'data_3662.txt', 'data_3663.txt', 'data_3664.txt', 'data_3665.txt', 'data_3666.txt', 'data_3667.txt', 'data_3668.txt', 'data_3669.txt', 'data_367.txt', 'data_3670.txt', 'data_3671.txt', 'data_3672.txt', 'data_3673.txt', 'data_3674.txt', 'data_3675.txt', 'data_3676.txt', 'data_3677.txt', 'data_3678.txt', 'data_3679.txt', 'data_368.txt', 'data_3680.txt', 'data_3681.txt', 'data_3682.txt', 'data_3683.txt', 'data_3684.txt', 'data_3685.txt', 'data_3686.txt', 'data_3687.txt', 'data_3688.txt', 'data_3689.txt', 'data_369.txt', 'data_3690.txt', 'data_3691.txt', 'data_3692.txt', 'data_3693.txt', 'data_3694.txt', 'data_3695.txt', 'data_3696.txt', 'data_3697.txt', 'data_3698.txt', 'data_3699.txt', 'data_37.txt', 'data_370.txt', 'data_3700.txt', 'data_3701.txt', 'data_3702.txt', 'data_3703.txt', 'data_3704.txt', 'data_3705.txt', 'data_3706.txt', 'data_3707.txt', 'data_3708.txt', 'data_3709.txt', 'data_371.txt', 'data_3710.txt', 'data_3711.txt', 'data_3712.txt', 'data_3713.txt', 'data_3714.txt', 'data_3715.txt', 'data_3716.txt', 'data_3717.txt', 'data_3718.txt', 'data_3719.txt', 'data_372.txt', 'data_3720.txt', 'data_3721.txt', 'data_3722.txt', 'data_3723.txt', 'data_3724.txt', 'data_3725.txt', 'data_3726.txt', 'data_3727.txt', 'data_3728.txt', 'data_3729.txt', 'data_373.txt', 'data_3730.txt', 'data_3731.txt', 'data_3732.txt', 'data_3733.txt', 'data_3734.txt', 'data_3735.txt', 'data_3736.txt', 'data_3737.txt', 'data_3738.txt', 'data_3739.txt', 'data_374.txt', 'data_3740.txt', 'data_3741.txt', 'data_3742.txt', 'data_3743.txt', 'data_3744.txt', 'data_3745.txt', 'data_3746.txt', 'data_3747.txt', 'data_3748.txt', 'data_3749.txt', 'data_375.txt', 'data_3750.txt', 'data_3751.txt', 'data_3752.txt', 'data_3753.txt', 'data_3754.txt', 'data_3755.txt', 'data_3756.txt', 'data_3757.txt', 'data_3758.txt', 'data_3759.txt', 'data_376.txt', 'data_3760.txt', 'data_3761.txt', 'data_3762.txt', 'data_3763.txt', 'data_3764.txt', 'data_3765.txt', 'data_3766.txt', 'data_3767.txt', 'data_3768.txt', 'data_3769.txt', 'data_377.txt', 'data_3770.txt', 'data_3771.txt', 'data_3772.txt', 'data_3773.txt', 'data_3774.txt', 'data_3775.txt', 'data_3776.txt', 'data_3777.txt', 'data_3778.txt', 'data_3779.txt', 'data_378.txt', 'data_3780.txt', 'data_3781.txt', 'data_3782.txt', 'data_3783.txt', 'data_3784.txt', 'data_3785.txt', 'data_3786.txt', 'data_3787.txt', 'data_3788.txt', 'data_3789.txt', 'data_379.txt', 'data_3790.txt', 'data_3791.txt', 'data_3792.txt', 'data_3793.txt', 'data_3794.txt', 'data_3795.txt', 'data_3796.txt', 'data_3797.txt', 'data_3798.txt', 'data_3799.txt', 'data_38.txt', 'data_380.txt', 'data_3800.txt', 'data_3801.txt', 'data_3802.txt', 'data_3803.txt', 'data_3804.txt', 'data_3805.txt', 'data_3806.txt', 'data_3807.txt', 'data_3808.txt', 'data_3809.txt', 'data_381.txt', 'data_3810.txt', 'data_3811.txt', 'data_3812.txt', 'data_3813.txt', 'data_3814.txt', 'data_3815.txt', 'data_3816.txt', 'data_3817.txt', 'data_3818.txt', 'data_3819.txt', 'data_382.txt', 'data_3820.txt', 'data_3821.txt', 'data_3822.txt', 'data_3823.txt', 'data_3824.txt', 'data_3825.txt', 'data_3826.txt', 'data_3827.txt', 'data_3828.txt', 'data_3829.txt', 'data_383.txt', 'data_3830.txt', 'data_3831.txt', 'data_3832.txt', 'data_3833.txt', 'data_3834.txt', 'data_3835.txt', 'data_3836.txt', 'data_3837.txt', 'data_3838.txt', 'data_3839.txt', 'data_384.txt', 'data_3840.txt', 'data_3841.txt', 'data_3842.txt', 'data_3843.txt', 'data_3844.txt', 'data_3845.txt', 'data_3846.txt', 'data_3847.txt', 'data_3848.txt', 'data_3849.txt', 'data_385.txt', 'data_3850.txt', 'data_3851.txt', 'data_3852.txt', 'data_3853.txt', 'data_3854.txt', 'data_3855.txt', 'data_3856.txt', 'data_3857.txt', 'data_3858.txt', 'data_3859.txt', 'data_386.txt', 'data_3860.txt', 'data_3861.txt', 'data_3862.txt', 'data_3863.txt', 'data_3864.txt', 'data_3865.txt', 'data_3866.txt', 'data_3867.txt', 'data_3868.txt', 'data_3869.txt', 'data_387.txt', 'data_3870.txt', 'data_3871.txt', 'data_3872.txt', 'data_3873.txt', 'data_3874.txt', 'data_3875.txt', 'data_3876.txt', 'data_3877.txt', 'data_3878.txt', 'data_3879.txt', 'data_388.txt', 'data_3880.txt', 'data_3881.txt', 'data_3882.txt', 'data_3883.txt', 'data_3884.txt', 'data_3885.txt', 'data_3886.txt', 'data_3887.txt', 'data_3888.txt', 'data_3889.txt', 'data_389.txt', 'data_3890.txt', 'data_3891.txt', 'data_3892.txt', 'data_3893.txt', 'data_3894.txt', 'data_3895.txt', 'data_3896.txt', 'data_3897.txt', 'data_3898.txt', 'data_3899.txt', 'data_39.txt', 'data_390.txt', 'data_3900.txt', 'data_3901.txt', 'data_3902.txt', 'data_3903.txt', 'data_3904.txt', 'data_3905.txt', 'data_3906.txt', 'data_3907.txt', 'data_3908.txt', 'data_3909.txt', 'data_391.txt', 'data_3910.txt', 'data_3911.txt', 'data_3912.txt', 'data_3913.txt', 'data_3914.txt', 'data_3915.txt', 'data_3916.txt', 'data_3917.txt', 'data_3918.txt', 'data_3919.txt', 'data_392.txt', 'data_3920.txt', 'data_3921.txt', 'data_3922.txt', 'data_3923.txt', 'data_3924.txt', 'data_3925.txt', 'data_3926.txt', 'data_3927.txt', 'data_3928.txt', 'data_3929.txt', 'data_393.txt', 'data_3930.txt', 'data_3931.txt', 'data_3932.txt', 'data_3933.txt', 'data_3934.txt', 'data_3935.txt', 'data_3936.txt', 'data_3937.txt', 'data_3938.txt', 'data_3939.txt', 'data_394.txt', 'data_3940.txt', 'data_3941.txt', 'data_3942.txt', 'data_3943.txt', 'data_3944.txt', 'data_3945.txt', 'data_3946.txt', 'data_3947.txt', 'data_3948.txt', 'data_3949.txt', 'data_395.txt', 'data_3950.txt', 'data_3951.txt', 'data_3952.txt', 'data_3953.txt', 'data_3954.txt', 'data_3955.txt', 'data_3956.txt', 'data_3957.txt', 'data_3958.txt', 'data_3959.txt', 'data_396.txt', 'data_3960.txt', 'data_3961.txt', 'data_3962.txt', 'data_3963.txt', 'data_3964.txt', 'data_3965.txt', 'data_3966.txt', 'data_3967.txt', 'data_3968.txt', 'data_3969.txt', 'data_397.txt', 'data_3970.txt', 'data_3971.txt', 'data_3972.txt', 'data_3973.txt', 'data_3974.txt', 'data_3975.txt', 'data_3976.txt', 'data_3977.txt', 'data_3978.txt', 'data_3979.txt', 'data_398.txt', 'data_3980.txt', 'data_3981.txt', 'data_3982.txt', 'data_3983.txt', 'data_3984.txt', 'data_3985.txt', 'data_3986.txt', 'data_3987.txt', 'data_3988.txt', 'data_3989.txt', 'data_399.txt', 'data_3990.txt', 'data_3991.txt', 'data_3992.txt', 'data_3993.txt', 'data_3994.txt', 'data_3995.txt', 'data_3996.txt', 'data_3997.txt', 'data_3998.txt', 'data_3999.txt', 'data_4.txt', 'data_40.txt', 'data_400.txt', 'data_4000.txt', 'data_4001.txt', 'data_4002.txt', 'data_4003.txt', 'data_4004.txt', 'data_4005.txt', 'data_4006.txt', 'data_4007.txt', 'data_4008.txt', 'data_4009.txt', 'data_401.txt', 'data_4010.txt', 'data_4011.txt', 'data_4012.txt', 'data_4013.txt', 'data_4014.txt', 'data_4015.txt', 'data_4016.txt', 'data_4017.txt', 'data_4018.txt', 'data_4019.txt', 'data_402.txt', 'data_4020.txt', 'data_4021.txt', 'data_4022.txt', 'data_4023.txt', 'data_4024.txt', 'data_4025.txt', 'data_4026.txt', 'data_4027.txt', 'data_4028.txt', 'data_4029.txt', 'data_403.txt', 'data_4030.txt', 'data_4031.txt', 'data_4032.txt', 'data_4033.txt', 'data_4034.txt', 'data_4035.txt', 'data_4036.txt', 'data_4037.txt', 'data_4038.txt', 'data_4039.txt', 'data_404.txt', 'data_4040.txt', 'data_4041.txt', 'data_4042.txt', 'data_4043.txt', 'data_4044.txt', 'data_4045.txt', 'data_4046.txt', 'data_4047.txt', 'data_4048.txt', 'data_4049.txt', 'data_405.txt', 'data_4050.txt', 'data_4051.txt', 'data_4052.txt', 'data_4053.txt', 'data_4054.txt', 'data_4055.txt', 'data_4056.txt', 'data_4057.txt', 'data_4058.txt', 'data_4059.txt', 'data_406.txt', 'data_4060.txt', 'data_4061.txt', 'data_4062.txt', 'data_4063.txt', 'data_4064.txt', 'data_4065.txt', 'data_4066.txt', 'data_4067.txt', 'data_4068.txt', 'data_4069.txt', 'data_407.txt', 'data_4070.txt', 'data_4071.txt', 'data_4072.txt', 'data_4073.txt', 'data_4074.txt', 'data_4075.txt', 'data_4076.txt', 'data_4077.txt', 'data_4078.txt', 'data_4079.txt', 'data_408.txt', 'data_4080.txt', 'data_4081.txt', 'data_4082.txt', 'data_4083.txt', 'data_4084.txt', 'data_4085.txt', 'data_4086.txt', 'data_4087.txt', 'data_4088.txt', 'data_4089.txt', 'data_409.txt', 'data_4090.txt', 'data_4091.txt', 'data_4092.txt', 'data_4093.txt', 'data_4094.txt', 'data_4095.txt', 'data_41.txt', 'data_410.txt', 'data_411.txt', 'data_412.txt', 'data_413.txt', 'data_414.txt', 'data_415.txt', 'data_416.txt', 'data_417.txt', 'data_418.txt', 'data_419.txt', 'data_42.txt', 'data_420.txt', 'data_421.txt', 'data_422.txt', 'data_423.txt', 'data_424.txt', 'data_425.txt', 'data_426.txt', 'data_427.txt', 'data_428.txt', 'data_429.txt', 'data_43.txt', 'data_430.txt', 'data_431.txt', 'data_432.txt', 'data_433.txt', 'data_434.txt', 'data_435.txt', 'data_436.txt', 'data_437.txt', 'data_438.txt', 'data_439.txt', 'data_44.txt', 'data_440.txt', 'data_441.txt', 'data_442.txt', 'data_443.txt', 'data_444.txt', 'data_445.txt', 'data_446.txt', 'data_447.txt', 'data_448.txt', 'data_449.txt', 'data_45.txt', 'data_450.txt', 'data_451.txt', 'data_452.txt', 'data_453.txt', 'data_454.txt', 'data_455.txt', 'data_456.txt', 'data_457.txt', 'data_458.txt', 'data_459.txt', 'data_46.txt', 'data_460.txt', 'data_461.txt', 'data_462.txt', 'data_463.txt', 'data_464.txt', 'data_465.txt', 'data_466.txt', 'data_467.txt', 'data_468.txt', 'data_469.txt', 'data_47.txt', 'data_470.txt', 'data_471.txt', 'data_472.txt', 'data_473.txt', 'data_474.txt', 'data_475.txt', 'data_476.txt', 'data_477.txt', 'data_478.txt', 'data_479.txt', 'data_48.txt', 'data_480.txt', 'data_481.txt', 'data_482.txt', 'data_483.txt', 'data_484.txt', 'data_485.txt', 'data_486.txt', 'data_487.txt', 'data_488.txt', 'data_489.txt', 'data_49.txt', 'data_490.txt', 'data_491.txt', 'data_492.txt', 'data_493.txt', 'data_494.txt', 'data_495.txt', 'data_496.txt', 'data_497.txt', 'data_498.txt', 'data_499.txt', 'data_5.txt', 'data_50.txt', 'data_500.txt', 'data_501.txt', 'data_502.txt', 'data_503.txt', 'data_504.txt', 'data_505.txt', 'data_506.txt', 'data_507.txt', 'data_508.txt', 'data_509.txt', 'data_51.txt', 'data_510.txt', 'data_511.txt', 'data_512.txt', 'data_513.txt', 'data_514.txt', 'data_515.txt', 'data_516.txt', 'data_517.txt', 'data_518.txt', 'data_519.txt', 'data_52.txt', 'data_520.txt', 'data_521.txt', 'data_522.txt', 'data_523.txt', 'data_524.txt', 'data_525.txt', 'data_526.txt', 'data_527.txt', 'data_528.txt', 'data_529.txt', 'data_53.txt', 'data_530.txt', 'data_531.txt', 'data_532.txt', 'data_533.txt', 'data_534.txt', 'data_535.txt', 'data_536.txt', 'data_537.txt', 'data_538.txt', 'data_539.txt', 'data_54.txt', 'data_540.txt', 'data_541.txt', 'data_542.txt', 'data_543.txt', 'data_544.txt', 'data_545.txt', 'data_546.txt', 'data_547.txt', 'data_548.txt', 'data_549.txt', 'data_55.txt', 'data_550.txt', 'data_551.txt', 'data_552.txt', 'data_553.txt', 'data_554.txt', 'data_555.txt', 'data_556.txt', 'data_557.txt', 'data_558.txt', 'data_559.txt', 'data_56.txt', 'data_560.txt', 'data_561.txt', 'data_562.txt', 'data_563.txt', 'data_564.txt', 'data_565.txt', 'data_566.txt', 'data_567.txt', 'data_568.txt', 'data_569.txt', 'data_57.txt', 'data_570.txt', 'data_571.txt', 'data_572.txt', 'data_573.txt', 'data_574.txt', 'data_575.txt', 'data_576.txt', 'data_577.txt', 'data_578.txt', 'data_579.txt', 'data_58.txt', 'data_580.txt', 'data_581.txt', 'data_582.txt', 'data_583.txt', 'data_584.txt', 'data_585.txt', 'data_586.txt', 'data_587.txt', 'data_588.txt', 'data_589.txt', 'data_59.txt', 'data_590.txt', 'data_591.txt', 'data_592.txt', 'data_593.txt', 'data_594.txt', 'data_595.txt', 'data_596.txt', 'data_597.txt', 'data_598.txt', 'data_599.txt', 'data_6.txt', 'data_60.txt', 'data_600.txt', 'data_601.txt', 'data_602.txt', 'data_603.txt', 'data_604.txt', 'data_605.txt', 'data_606.txt', 'data_607.txt', 'data_608.txt', 'data_609.txt', 'data_61.txt', 'data_610.txt', 'data_611.txt', 'data_612.txt', 'data_613.txt', 'data_614.txt', 'data_615.txt', 'data_616.txt', 'data_617.txt', 'data_618.txt', 'data_619.txt', 'data_62.txt', 'data_620.txt', 'data_621.txt', 'data_622.txt', 'data_623.txt', 'data_624.txt', 'data_625.txt', 'data_626.txt', 'data_627.txt', 'data_628.txt', 'data_629.txt', 'data_63.txt', 'data_630.txt', 'data_631.txt', 'data_632.txt', 'data_633.txt', 'data_634.txt', 'data_635.txt', 'data_636.txt', 'data_637.txt', 'data_638.txt', 'data_639.txt', 'data_64.txt', 'data_640.txt', 'data_641.txt', 'data_642.txt', 'data_643.txt', 'data_644.txt', 'data_645.txt', 'data_646.txt', 'data_647.txt', 'data_648.txt', 'data_649.txt', 'data_65.txt', 'data_650.txt', 'data_651.txt', 'data_652.txt', 'data_653.txt', 'data_654.txt', 'data_655.txt', 'data_656.txt', 'data_657.txt', 'data_658.txt', 'data_659.txt', 'data_66.txt', 'data_660.txt', 'data_661.txt', 'data_662.txt', 'data_663.txt', 'data_664.txt', 'data_665.txt', 'data_666.txt', 'data_667.txt', 'data_668.txt', 'data_669.txt', 'data_67.txt', 'data_670.txt', 'data_671.txt', 'data_672.txt', 'data_673.txt', 'data_674.txt', 'data_675.txt', 'data_676.txt', 'data_677.txt', 'data_678.txt', 'data_679.txt', 'data_68.txt', 'data_680.txt', 'data_681.txt', 'data_682.txt', 'data_683.txt', 'data_684.txt', 'data_685.txt', 'data_686.txt', 'data_687.txt', 'data_688.txt', 'data_689.txt', 'data_69.txt', 'data_690.txt', 'data_691.txt', 'data_692.txt', 'data_693.txt', 'data_694.txt', 'data_695.txt', 'data_696.txt', 'data_697.txt', 'data_698.txt', 'data_699.txt', 'data_7.txt', 'data_70.txt', 'data_700.txt', 'data_701.txt', 'data_702.txt', 'data_703.txt', 'data_704.txt', 'data_705.txt', 'data_706.txt', 'data_707.txt', 'data_708.txt', 'data_709.txt', 'data_71.txt', 'data_710.txt', 'data_711.txt', 'data_712.txt', 'data_713.txt', 'data_714.txt', 'data_715.txt', 'data_716.txt', 'data_717.txt', 'data_718.txt', 'data_719.txt', 'data_72.txt', 'data_720.txt', 'data_721.txt', 'data_722.txt', 'data_723.txt', 'data_724.txt', 'data_725.txt', 'data_726.txt', 'data_727.txt', 'data_728.txt', 'data_729.txt', 'data_73.txt', 'data_730.txt', 'data_731.txt', 'data_732.txt', 'data_733.txt', 'data_734.txt', 'data_735.txt', 'data_736.txt', 'data_737.txt', 'data_738.txt', 'data_739.txt', 'data_74.txt', 'data_740.txt', 'data_741.txt', 'data_742.txt', 'data_743.txt', 'data_744.txt', 'data_745.txt', 'data_746.txt', 'data_747.txt', 'data_748.txt', 'data_749.txt', 'data_75.txt', 'data_750.txt', 'data_751.txt', 'data_752.txt', 'data_753.txt', 'data_754.txt', 'data_755.txt', 'data_756.txt', 'data_757.txt', 'data_758.txt', 'data_759.txt', 'data_76.txt', 'data_760.txt', 'data_761.txt', 'data_762.txt', 'data_763.txt', 'data_764.txt', 'data_765.txt', 'data_766.txt', 'data_767.txt', 'data_768.txt', 'data_769.txt', 'data_77.txt', 'data_770.txt', 'data_771.txt', 'data_772.txt', 'data_773.txt', 'data_774.txt', 'data_775.txt', 'data_776.txt', 'data_777.txt', 'data_778.txt', 'data_779.txt', 'data_78.txt', 'data_780.txt', 'data_781.txt', 'data_782.txt', 'data_783.txt', 'data_784.txt', 'data_785.txt', 'data_786.txt', 'data_787.txt', 'data_788.txt', 'data_789.txt', 'data_79.txt', 'data_790.txt', 'data_791.txt', 'data_792.txt', 'data_793.txt', 'data_794.txt', 'data_795.txt', 'data_796.txt', 'data_797.txt', 'data_798.txt', 'data_799.txt', 'data_8.txt', 'data_80.txt', 'data_800.txt', 'data_801.txt', 'data_802.txt', 'data_803.txt', 'data_804.txt', 'data_805.txt', 'data_806.txt', 'data_807.txt', 'data_808.txt', 'data_809.txt', 'data_81.txt', 'data_810.txt', 'data_811.txt', 'data_812.txt', 'data_813.txt', 'data_814.txt', 'data_815.txt', 'data_816.txt', 'data_817.txt', 'data_818.txt', 'data_819.txt', 'data_82.txt', 'data_820.txt', 'data_821.txt', 'data_822.txt', 'data_823.txt', 'data_824.txt', 'data_825.txt', 'data_826.txt', 'data_827.txt', 'data_828.txt', 'data_829.txt', 'data_83.txt', 'data_830.txt', 'data_831.txt', 'data_832.txt', 'data_833.txt', 'data_834.txt', 'data_835.txt', 'data_836.txt', 'data_837.txt', 'data_838.txt', 'data_839.txt', 'data_84.txt', 'data_840.txt', 'data_841.txt', 'data_842.txt', 'data_843.txt', 'data_844.txt', 'data_845.txt', 'data_846.txt', 'data_847.txt', 'data_848.txt', 'data_849.txt', 'data_85.txt', 'data_850.txt', 'data_851.txt', 'data_852.txt', 'data_853.txt', 'data_854.txt', 'data_855.txt', 'data_856.txt', 'data_857.txt', 'data_858.txt', 'data_859.txt', 'data_86.txt', 'data_860.txt', 'data_861.txt', 'data_862.txt', 'data_863.txt', 'data_864.txt', 'data_865.txt', 'data_866.txt', 'data_867.txt', 'data_868.txt', 'data_869.txt', 'data_87.txt', 'data_870.txt', 'data_871.txt', 'data_872.txt', 'data_873.txt', 'data_874.txt', 'data_875.txt', 'data_876.txt', 'data_877.txt', 'data_878.txt', 'data_879.txt', 'data_88.txt', 'data_880.txt', 'data_881.txt', 'data_882.txt', 'data_883.txt', 'data_884.txt', 'data_885.txt', 'data_886.txt', 'data_887.txt', 'data_888.txt', 'data_889.txt', 'data_89.txt', 'data_890.txt', 'data_891.txt', 'data_892.txt', 'data_893.txt', 'data_894.txt', 'data_895.txt', 'data_896.txt', 'data_897.txt', 'data_898.txt', 'data_899.txt', 'data_9.txt', 'data_90.txt', 'data_900.txt', 'data_901.txt', 'data_902.txt', 'data_903.txt', 'data_904.txt', 'data_905.txt', 'data_906.txt', 'data_907.txt', 'data_908.txt', 'data_909.txt', 'data_91.txt', 'data_910.txt', 'data_911.txt', 'data_912.txt', 'data_913.txt', 'data_914.txt', 'data_915.txt', 'data_916.txt', 'data_917.txt', 'data_918.txt', 'data_919.txt', 'data_92.txt', 'data_920.txt', 'data_921.txt', 'data_922.txt', 'data_923.txt', 'data_924.txt', 'data_925.txt', 'data_926.txt', 'data_927.txt', 'data_928.txt', 'data_929.txt', 'data_93.txt', 'data_930.txt', 'data_931.txt', 'data_932.txt', 'data_933.txt', 'data_934.txt', 'data_935.txt', 'data_936.txt', 'data_937.txt', 'data_938.txt', 'data_939.txt', 'data_94.txt', 'data_940.txt', 'data_941.txt', 'data_942.txt', 'data_943.txt', 'data_944.txt', 'data_945.txt', 'data_946.txt', 'data_947.txt', 'data_948.txt', 'data_949.txt', 'data_95.txt', 'data_950.txt', 'data_951.txt', 'data_952.txt', 'data_953.txt', 'data_954.txt', 'data_955.txt', 'data_956.txt', 'data_957.txt', 'data_958.txt', 'data_959.txt', 'data_96.txt', 'data_960.txt', 'data_961.txt', 'data_962.txt', 'data_963.txt', 'data_964.txt', 'data_965.txt', 'data_966.txt', 'data_967.txt', 'data_968.txt', 'data_969.txt', 'data_97.txt', 'data_970.txt', 'data_971.txt', 'data_972.txt', 'data_973.txt', 'data_974.txt', 'data_975.txt', 'data_976.txt', 'data_977.txt', 'data_978.txt', 'data_979.txt', 'data_98.txt', 'data_980.txt', 'data_981.txt', 'data_982.txt', 'data_983.txt', 'data_984.txt', 'data_985.txt', 'data_986.txt', 'data_987.txt', 'data_988.txt', 'data_989.txt', 'data_99.txt', 'data_990.txt', 'data_991.txt', 'data_992.txt', 'data_993.txt', 'data_994.txt', 'data_995.txt', 'data_996.txt', 'data_997.txt', 'data_998.txt', 'data_999.txt']\n"
          ]
        }
      ],
      "source": [
        "# From DATA, list all the files in the directory ending with .txt\n",
        "LABELS = [f.name for f in Path(DATA).rglob(\"*.txt\")]\n",
        "print(LABELS)"
      ]
    },
    {
      "cell_type": "code",
      "execution_count": 14,
      "metadata": {
        "id": "jIixirHhsdjs"
      },
      "outputs": [
        {
          "name": "stdout",
          "output_type": "stream",
          "text": [
            "1024\n"
          ]
        }
      ],
      "source": [
        "DATA_SIZE = 0\n",
        "for label in LABELS:\n",
        "    DATA_SIZE += len(open(DATA + '/' + label, 'r').readlines())\n",
        "    break\n",
        "print(DATA_SIZE)"
      ]
    },
    {
      "cell_type": "code",
      "execution_count": 18,
      "metadata": {
        "id": "RnvKgkzysdjs"
      },
      "outputs": [],
      "source": [
        "punkt_regex = r'[^\\w\\s]'\n",
        "\n",
        "def position_of_all_punctuation(x):\n",
        "    return [m.start() for m in re.finditer(punkt_regex, x)]\n",
        "\n",
        "# simplify the punctuation\n",
        "eng_punkt_to_cn_dict = {\n",
        "    \".\": \"。\",\n",
        "    \",\": \"，\",\n",
        "    \":\": \"：\",\n",
        "    \";\": \"；\",\n",
        "    \"?\": \"？\",\n",
        "    \"!\": \"！\",\n",
        "    \"“\": \"\\\"\",\n",
        "    \"”\": \"\\\"\",\n",
        "    \"‘\": \"\\'\",\n",
        "    \"’\": \"\\'\",\n",
        "    \"「\": \"（\",\n",
        "    \"」\": \"）\",\n",
        "    \"『\": \"\\\"\",\n",
        "    \"』\": \"\\\"\",\n",
        "    \"（\": \"（\",\n",
        "    \"）\": \"）\",\n",
        "    \"《\": \"【\",\n",
        "    \"》\": \"】\",\n",
        "    \"［\": \"【\",\n",
        "    \"］\": \"】\",\n",
        "    }\n",
        "\n",
        "def translate_eng_punkt_to_cn(char):\n",
        "    if char == \"O\":\n",
        "        return char\n",
        "    if char in eng_punkt_to_cn_dict.values():\n",
        "        return char\n",
        "    result = eng_punkt_to_cn_dict.get(char)\n",
        "    if result is None:\n",
        "        return \"。\"\n",
        "    return result\n",
        "\n",
        "def punct_ner_pair(sentence):\n",
        "    positions = position_of_all_punctuation(sentence)\n",
        "    x = re.sub(punkt_regex, '', sentence)\n",
        "    y = list(\"O\"*len(x))\n",
        "\n",
        "    for i, p in enumerate(positions):\n",
        "        y[p-i-1] = sentence[p]\n",
        "    p_df = pd.DataFrame({\"x\":list(x), \"y\":y})\n",
        "    p_df[\"y\"] = p_df[\"y\"].apply(translate_eng_punkt_to_cn)\n",
        "    return p_df"
      ]
    },
    {
      "cell_type": "code",
      "execution_count": 19,
      "metadata": {
        "id": "-rLuqkoJsdjt"
      },
      "outputs": [],
      "source": [
        "ALL_LABELS = [\"O\",]+list(eng_punkt_to_cn_dict.values())"
      ]
    },
    {
      "cell_type": "code",
      "execution_count": 20,
      "metadata": {
        "id": "igm2oCW6sdjt"
      },
      "outputs": [],
      "source": [
        "cates = Category(ALL_LABELS)"
      ]
    },
    {
      "cell_type": "code",
      "execution_count": 28,
      "metadata": {
        "code_folding": [
          0
        ],
        "id": "_yR7bwAbsdjt"
      },
      "outputs": [],
      "source": [
        "import random\n",
        "\n",
        "\n",
        "class PunctDataset(Dataset):\n",
        "    def __init__(\n",
        "        self,\n",
        "        data_dir: Path,\n",
        "        filelist: List[str],\n",
        "        num_threads: int = 8,\n",
        "        length: int = 1000,\n",
        "        size: int = 540\n",
        "    ):\n",
        "        \"\"\"\n",
        "        Args:\n",
        "            - filelist: list of file names\n",
        "            - The dataset will open ```num_threads``` files, and hold\n",
        "                in memory simoultaneously.\n",
        "            - num_threads: number of threads to read files,\n",
        "            - length: number of sentences per batch\n",
        "            - size: number of characters per sentence\n",
        "        \"\"\"\n",
        "        self.data_dir = Path(data_dir)\n",
        "        self.filelist = filelist\n",
        "        self.num_threads = num_threads\n",
        "        self.length = length\n",
        "        # open file strings, index is mod of num_threads\n",
        "        self.current_files = dict(enumerate([\"\"]*length))\n",
        "        self.string_index = dict(enumerate([0]*length))\n",
        "        self.to_open_idx = 0\n",
        "        self.size = size\n",
        "        self.get_counter = 0\n",
        "        self.return_string = False\n",
        "\n",
        "    def __len__(self):\n",
        "        return self.length\n",
        "\n",
        "    def __repr__(self):\n",
        "        return f\"PunctDataset: {len(self)}, on {len(self.filelist)} files\"\n",
        "\n",
        "    def new_file(self, idx_mod):\n",
        "        filename = self.filelist[self.to_open_idx]\n",
        "        with open(self.data_dir/filename, \"r\", encoding=\"utf-8\") as f:\n",
        "            self.current_files[idx_mod] = f.read()\n",
        "\n",
        "        self.to_open_idx += 1\n",
        "\n",
        "        # reset to open article file index\n",
        "        if self.to_open_idx >= len(self.filelist):\n",
        "            self.to_open_idx = 0\n",
        "\n",
        "        # reset string_index within new article file\n",
        "        self.string_index[idx_mod] = 0\n",
        "\n",
        "        # if self.to_open_idx % 500 == 0:\n",
        "        #     print(f\"went through files:\\t{self.to_open_idx}\")\n",
        "\n",
        "    def __getitem__(self, idx):\n",
        "        idx_mod = self.get_counter % self. num_threads\n",
        "\n",
        "        if self.string_index[idx_mod] >= len(self.current_files[idx_mod]):\n",
        "            self.new_file(idx_mod)\n",
        "        string_idx = self.string_index[idx_mod]\n",
        "\n",
        "        # slicing a sentence\n",
        "        sentence = self.current_files[idx_mod][string_idx:string_idx+self.size]\n",
        "\n",
        "        # move the string_index within current article file\n",
        "        self.string_index[idx_mod] += self.size\n",
        "\n",
        "        # move the get_counter\n",
        "        self.get_counter += 1\n",
        "        p_df = punct_ner_pair(sentence)\n",
        "        return list(p_df.x), list(p_df.y)\n",
        "\n",
        "    def align_offsets(\n",
        "        self,\n",
        "        inputs,\n",
        "        text_labels: List[List[str]],\n",
        "        words: List[List[str]]\n",
        "    ):\n",
        "        \"\"\"\n",
        "        inputs: output if tokenizer\n",
        "        text_labels: labels in form of list of list of strings\n",
        "        words: words in form of list of list of strings\n",
        "        \"\"\"\n",
        "        labels = torch.zeros_like(inputs.input_ids).long()\n",
        "        labels -= 100\n",
        "        text_lables_array = np.empty(labels.shape, dtype=object)\n",
        "        words_array = np.empty(labels.shape, dtype=object)\n",
        "        max_len = inputs.input_ids.shape[1]\n",
        "\n",
        "        # print(\"Input_ids: \", inputs.input_ids)\n",
        "\n",
        "        # print(\"Max Len: \", max_len)\n",
        "\n",
        "        # print(\"Text Labels: \", text_labels)\n",
        "\n",
        "        for row_id, input_ids in enumerate(inputs.input_ids):\n",
        "            word_pos = inputs.word_ids(row_id)\n",
        "            # print(\"Word Pos: \", word_pos)\n",
        "            for idx, pos in enumerate(word_pos):\n",
        "                # print(\"index: \", idx)\n",
        "                if pos is None:\n",
        "                    # print(\"Pos is None\")\n",
        "                    continue\n",
        "                labels[row_id, idx] = self.cates.c2i[text_labels[row_id][pos]]\n",
        "                if self.return_string:\n",
        "                    text_lables_array[row_id,\n",
        "                                        idx] = text_labels[row_id][pos]\n",
        "                    words_array[row_id, idx] = words[row_id][pos]\n",
        "\n",
        "        inputs['labels'] = labels\n",
        "\n",
        "        if self.return_string:\n",
        "            inputs['text_labels'] = text_lables_array.tolist()\n",
        "            inputs['word'] = words_array.tolist()\n",
        "\n",
        "        # for input_id in inputs['input_ids']:\n",
        "        #     print(\"InPuT_iD: \", input_id)\n",
        "        #     print(\"Word: \", self.tokenizer.convert_ids_to_tokens(input_id))\n",
        "        #     print(\"Word Pos: \", inputs.word_ids(0))\n",
        "        # for label in inputs['labels']:\n",
        "        #     print(\"Label: \", label)\n",
        "\n",
        "        return inputs\n",
        "\n",
        "    def collate_fn(self, data):\n",
        "        \"\"\"\n",
        "        data: list of tuple\n",
        "        \"\"\"\n",
        "        words, text_labels = zip(*data)\n",
        "\n",
        "        inputs = self.tokenizer(\n",
        "            list(words),\n",
        "            return_tensors='pt',\n",
        "            padding=True,\n",
        "            truncation=True,\n",
        "            max_length=self.max_len,\n",
        "            is_split_into_words=True,\n",
        "            return_offsets_mapping=True,\n",
        "            add_special_tokens=False,\n",
        "        )\n",
        "\n",
        "        # print(\"Original words\", words)\n",
        "\n",
        "        return self.align_offsets(inputs, text_labels, words)\n",
        "\n",
        "    def dataloaders(self, tokenizer, cates, max_len: int = 512, batch_size: int = 32):\n",
        "        self.tokenizer = tokenizer\n",
        "        self.cates = cates\n",
        "        self.max_len = max_len\n",
        "        return DataLoader(\n",
        "            self,\n",
        "            batch_size=batch_size,\n",
        "            shuffle=False,\n",
        "            collate_fn=self.collate_fn,\n",
        "        )\n",
        "\n",
        "    def split(self, ratio: float = 0.9):\n",
        "\n",
        "        self.length = (self.length // DATA_SIZE + (1 if self.length % DATA_SIZE != 0 else 0)) * DATA_SIZE\n",
        "        fileCount = self.length // DATA_SIZE\n",
        "\n",
        "        print(fileCount)\n",
        "\n",
        "        self.filelist = self.filelist[:fileCount]\n",
        "\n",
        "        filelist = self.filelist\n",
        "        random.shuffle(filelist)\n",
        "        train_filelist = filelist[:int(len(filelist)*ratio)]\n",
        "        valid_filelist = filelist[int(len(filelist)*ratio):]\n",
        "\n",
        "        print(f\"Train files: {' '.join(train_filelist)}\")\n",
        "        print(f\"Valid files: {' '.join(valid_filelist)}\")\n",
        "\n",
        "        valid_dataset = PunctDataset(\n",
        "            self.data_dir,\n",
        "            valid_filelist,\n",
        "            num_threads=self.num_threads,\n",
        "            length=int(self.length * (1 - ratio)),\n",
        "            size=self.size,\n",
        "        )\n",
        "        train_dataset = PunctDataset(\n",
        "            self.data_dir,\n",
        "            train_filelist,\n",
        "            num_threads=self.num_threads,\n",
        "            length=int(self.length * ratio),\n",
        "            size=self.size,\n",
        "        )\n",
        "        return train_dataset, valid_dataset"
      ]
    },
    {
      "cell_type": "markdown",
      "metadata": {
        "id": "MkKOiGZgsdju"
      },
      "source": [
        "Create dataset object\n",
        "\n",
        "* Length is the length of the epoch\n",
        "* Size: is the sequence length\n",
        "* num_threads: num of files that is opening at the same time"
      ]
    },
    {
      "cell_type": "code",
      "execution_count": 29,
      "metadata": {
        "id": "j30XzwXRsdju"
      },
      "outputs": [
        {
          "name": "stdout",
          "output_type": "stream",
          "text": [
            "10\n",
            "Train files: data_101.txt data_0.txt data_1.txt data_100.txt data_103.txt data_106.txt data_10.txt data_102.txt\n",
            "Valid files: data_104.txt data_105.txt\n"
          ]
        }
      ],
      "source": [
        "ds = PunctDataset(DATA + '/split', LABELS, num_threads=1, length=10240, size=512)\n",
        "train_ds, valid_ds = ds.split(0.8)"
      ]
    },
    {
      "cell_type": "markdown",
      "metadata": {
        "id": "_OsERZ2Msdju"
      },
      "source": [
        "### lightning data module"
      ]
    },
    {
      "cell_type": "code",
      "execution_count": 30,
      "metadata": {
        "id": "zCAlLXadsdju"
      },
      "outputs": [],
      "source": [
        "class PunctDataModule(pl.LightningDataModule):\n",
        "    def __init__(self, train_ds, valid_ds, tokenizer, cates,\n",
        "    max_len=512, batch_size=32):\n",
        "        super().__init__()\n",
        "        self.train_ds, self.valid_ds = train_ds, valid_ds\n",
        "        self.tokenizer = tokenizer\n",
        "        self.cates = cates\n",
        "        self.max_len = max_len\n",
        "        self.batch_size = batch_size\n",
        "\n",
        "    def split_data(self):\n",
        "\n",
        "        return train_ds, valid_ds\n",
        "\n",
        "    def train_dataloader(self):\n",
        "        return self.train_ds.dataloaders(\n",
        "            self.tokenizer,\n",
        "            self.cates,\n",
        "            self.max_len,\n",
        "            self.batch_size,\n",
        "        )\n",
        "\n",
        "    def val_dataloader(self):\n",
        "        return self.valid_ds.dataloaders(\n",
        "            self.tokenizer,\n",
        "            self.cates,\n",
        "            self.max_len,\n",
        "            self.batch_size*4)"
      ]
    },
    {
      "cell_type": "markdown",
      "metadata": {
        "id": "DQwWK9Vzsdju"
      },
      "source": [
        "## Load Pretrained"
      ]
    },
    {
      "cell_type": "code",
      "execution_count": 31,
      "metadata": {
        "colab": {
          "base_uri": "https://localhost:8080/",
          "height": 321,
          "referenced_widgets": [
            "cbff040efb8f40948c7f048361e22a96",
            "7a42da38b9ce46f1b46bc4588f9b0130",
            "4bf7b18ebe6848e0b8858870947e3b53",
            "429e5ebf075944d381b8c7c898b04503",
            "4574a494422240cf9337123e6d9cc2cc",
            "b6277b156ede4ac98e54d73d2cb65116",
            "fa950e34767c4d4c9261708ec63c92f3",
            "446ce94cea8d4c1895105f204b0bb87e",
            "633fd3b8da214eada1a356063f433209",
            "a7e1cb9ef75c4d96a07a51936418328c",
            "366ee124c5f445cc8d51f7a77171953d",
            "fc08dd7378de46318d2462f97c065ce5",
            "27da726eef614c72b21ad82dd0f7df19",
            "b8198f71b7644e42aa4877c8f601f1d7",
            "bcf83f3f1f6645c8877ea28278ef4299",
            "0e7e5ff63d9546c79813631c2e6012fd",
            "771c10e0575043fc92a0db8614248655",
            "26750e48aa544ee28f55322b3d2776e3",
            "5d9cb6d40a42430fa7e7aeb569c0cd58",
            "0061d919d93a46f3acefa38b2c1919f4",
            "1a60e9dbf9774c8db2a9bda93bff88fb",
            "5eb0e9036906423896a5c9e60278f30d",
            "329d438fa88d412daad11eed2fa7778f",
            "e1a73b8d2da24f8d9c092ec30b53b07a",
            "d6a4108797314fb1b9e24840d74607f0",
            "8ca8b336ea494a42875b4ee9a09bfef5",
            "5720ee65db414132994096c5112f504a",
            "a9f428cd763e4142bbc88631a0f7ae7e",
            "9d57a625eecc4fa087f06631ad8d9e18",
            "630a3bc4b9244dc8a78f8e415d664003",
            "69e3e04eb00b45bf8d012fb6b4addc9e",
            "7265f6de61964ca38ce65154955f452b",
            "8af93daa7dc242248505664fa8ea409b",
            "3c2f0291093c45018cb2503be69064aa",
            "8b3d396543d54d7dbb8ed4f565f84bf3",
            "feec962202794c74b730bdfc47e0bffb",
            "b4cee5ee0c0e49b6883fc8e77ca09a09",
            "b9ef7846bc3440ba96de813b2f0a9ef1",
            "dfc98b905909478dae9d3c00ec7005d3",
            "de32e441cb3e43d59db32c7064440ccf",
            "97fe2d313c894062b426929a54d84352",
            "2d693c20e33a4e7a9827391305eb24a0",
            "ec59a5e9108c4743af7ea34d50ccc612",
            "45c9fd2864d847e4bc9a011909289b58"
          ]
        },
        "id": "naBrxECesdju",
        "outputId": "e81499a0-c6c0-420f-a208-ff5c1cec6513"
      },
      "outputs": [],
      "source": [
        "tokenizer = AutoTokenizer.from_pretrained(\"bert-base-chinese\")"
      ]
    },
    {
      "cell_type": "code",
      "execution_count": 16,
      "metadata": {
        "id": "Bv9N_Ywzsdju"
      },
      "outputs": [],
      "source": [
        "from forgebox.thunder.callbacks import DataFrameMetricsCallback\n",
        "from forgebox.hf.train import NERModule"
      ]
    },
    {
      "cell_type": "code",
      "execution_count": 17,
      "metadata": {
        "id": "gpQCUifXsdju"
      },
      "outputs": [],
      "source": [
        "\n",
        "\n",
        "# Define BERT-CRF Model using PyTorch Lightning\n",
        "class BERT_CRF(pl.LightningModule):\n",
        "    def __init__(self, model, num_labels, learning_rate=1e-5):\n",
        "        super().__init__()\n",
        "        self.save_hyperparameters(ignore=['model'])\n",
        "\n",
        "        self.model = model\n",
        "        self.crf = CRF(num_labels, batch_first=True)\n",
        "        self.dropout = nn.Dropout(0.1)\n",
        "        self.fc = nn.Linear(self.model.config.hidden_size, num_labels)\n",
        "        self.lr = learning_rate\n",
        "\n",
        "    def forward(self, input_ids, attention_mask, labels=None):\n",
        "        output = self.model(\n",
        "            input_ids,\n",
        "            attention_mask=attention_mask,\n",
        "            labels=labels\n",
        "        )\n",
        "        sequence_output = output.last_hidden_state\n",
        "        sequence_output = self.dropout(sequence_output)\n",
        "        logits = self.fc(sequence_output)\n",
        "        if labels is not None:\n",
        "            loss = -self.crf(logits, labels, mask=attention_mask.bool(), reduction='mean')\n",
        "            return {\"loss\": loss, \"logits\": logits}\n",
        "        else:\n",
        "            return {\"logits\": logits}\n",
        "\n",
        "    def training_step(self, batch, batch_idx):\n",
        "        input_ids = batch['input_ids']\n",
        "        attention_mask = batch['attention_mask']\n",
        "        labels = batch['labels']\n",
        "        loss, logits = self(input_ids, attention_mask, labels)\n",
        "        self.log('train_loss', loss)\n",
        "        self.log('train_acc', self.crf.accuracy(logits, labels, attention_mask.byte()))\n",
        "        return loss\n",
        "\n",
        "    def validation_step(self, batch, batch_idx):\n",
        "        input_ids = batch['input_ids']\n",
        "        attention_mask = batch['attention_mask']\n",
        "        labels = batch['labels']\n",
        "        loss, logits = self(input_ids, attention_mask, labels)\n",
        "        self.log('val_loss', loss)\n",
        "        self.log('val_acc', self.crf.accuracy(logits, labels, attention_mask.byte()))\n",
        "        return loss\n",
        "\n",
        "    def configure_optimizers(self):\n",
        "        optimizer = torch.optim.AdamW(self.parameters(), lr=self.lr)\n",
        "        return optimizer\n"
      ]
    },
    {
      "cell_type": "markdown",
      "metadata": {
        "id": "SROrDVf5sdjv"
      },
      "source": [
        "Load pretrained model with proper num of categories"
      ]
    },
    {
      "cell_type": "code",
      "execution_count": 18,
      "metadata": {
        "colab": {
          "base_uri": "https://localhost:8080/",
          "height": 121,
          "referenced_widgets": [
            "ad743911b1114d2a8de210ffd3c81b07",
            "bf73cd3a905b42bb863c3aefb2a096d3",
            "b0aa6527691945ab87d29315bc18810c",
            "cb8befdee9fd486abd9ac53e0d2fcdb3",
            "fe6f00101cf1418ab331dd65f21510c5",
            "ae30d3adfd1d4b3a8df122ebaafdd787",
            "126f7a12eb824e4092c61aedbe344ce4",
            "553680c291e040f1abb3d9bbc85edc9e",
            "72e1ff6f5db2430cba2c616bca793a3d",
            "65f44bb2d0c2402f85e9fe0330ce1371",
            "38e6776d3db045cfa8eb1b44f7c806be"
          ]
        },
        "id": "pyjCirgLsdjv",
        "outputId": "7f15fc05-fa2d-4356-cb9f-c4324e833606"
      },
      "outputs": [
        {
          "data": {
            "application/vnd.jupyter.widget-view+json": {
              "model_id": "ad743911b1114d2a8de210ffd3c81b07",
              "version_major": 2,
              "version_minor": 0
            },
            "text/plain": [
              "model.safetensors:   0%|          | 0.00/412M [00:00<?, ?B/s]"
            ]
          },
          "metadata": {},
          "output_type": "display_data"
        },
        {
          "name": "stderr",
          "output_type": "stream",
          "text": [
            "Some weights of BertForTokenClassification were not initialized from the model checkpoint at bert-base-chinese and are newly initialized: ['classifier.bias', 'classifier.weight']\n",
            "You should probably TRAIN this model on a down-stream task to be able to use it for predictions and inference.\n"
          ]
        }
      ],
      "source": [
        "model = BertForTokenClassification.from_pretrained(\"bert-base-chinese\", num_labels=len(cates),)"
      ]
    },
    {
      "cell_type": "code",
      "execution_count": 19,
      "metadata": {
        "colab": {
          "base_uri": "https://localhost:8080/"
        },
        "id": "Xf15wg66sdjv",
        "outputId": "ae2e3eba-288a-4b50-c784-6f522ad61d80"
      },
      "outputs": [
        {
          "name": "stdout",
          "output_type": "stream",
          "text": [
            "3200\n",
            "799\n"
          ]
        }
      ],
      "source": [
        "print(train_ds.length)\n",
        "print(valid_ds.length)"
      ]
    },
    {
      "cell_type": "code",
      "execution_count": 20,
      "metadata": {
        "id": "LroOwXvEsdjv"
      },
      "outputs": [],
      "source": [
        "data_module = PunctDataModule(train_ds, valid_ds, tokenizer, cates,\n",
        "                              batch_size=32,)"
      ]
    },
    {
      "cell_type": "markdown",
      "metadata": {
        "id": "L4qvb_1Lsdjv"
      },
      "source": [
        "### Run data pipeline"
      ]
    },
    {
      "cell_type": "code",
      "execution_count": 21,
      "metadata": {
        "colab": {
          "base_uri": "https://localhost:8080/"
        },
        "id": "ILg2XCnAsdjv",
        "outputId": "29b249c5-9d0d-41a2-cc20-d7fb09539091"
      },
      "outputs": [
        {
          "name": "stdout",
          "output_type": "stream",
          "text": [
            "tensor([[3189, 4212, 7198,  ...,    0,    0,    0],\n",
            "        [6843, 4242, 1898,  ...,    0,    0,    0],\n",
            "        [7412, 5782, 2255,  ..., 7491,    0,    0],\n",
            "        ...,\n",
            "        [3717,  756, 5682,  ..., 7414,    0,    0],\n",
            "        [6816,  881,  782,  ...,    0,    0,    0],\n",
            "        [4080, 3958, 3726,  ...,    0,    0,    0]])\n"
          ]
        }
      ],
      "source": [
        "inputs = next(iter(data_module.val_dataloader()))\n",
        "print(inputs.input_ids)"
      ]
    },
    {
      "cell_type": "code",
      "execution_count": 22,
      "metadata": {
        "colab": {
          "base_uri": "https://localhost:8080/"
        },
        "id": "ZUWK6mJksdjv",
        "outputId": "91763868-9fd3-4972-8a66-e05380889ab1"
      },
      "outputs": [
        {
          "data": {
            "text/plain": [
              "torch.Size([128, 439])"
            ]
          },
          "execution_count": 22,
          "metadata": {},
          "output_type": "execute_result"
        }
      ],
      "source": [
        "inputs.input_ids.shape"
      ]
    },
    {
      "cell_type": "code",
      "execution_count": 23,
      "metadata": {
        "colab": {
          "base_uri": "https://localhost:8080/"
        },
        "id": "wctE5zlAsdjv",
        "outputId": "04c9dab3-0e76-42a6-c1e3-39bc428b51cc"
      },
      "outputs": [
        {
          "data": {
            "text/plain": [
              "torch.Size([128, 439])"
            ]
          },
          "execution_count": 23,
          "metadata": {},
          "output_type": "execute_result"
        }
      ],
      "source": [
        "inputs.labels.shape"
      ]
    },
    {
      "cell_type": "markdown",
      "metadata": {
        "id": "SDBPGQi9sdjv"
      },
      "source": [
        "## NER tranining module"
      ]
    },
    {
      "cell_type": "code",
      "execution_count": 24,
      "metadata": {
        "id": "MI-Bbrg8sdjv"
      },
      "outputs": [],
      "source": [
        "module = NERModule(model)"
      ]
    },
    {
      "cell_type": "code",
      "execution_count": 25,
      "metadata": {
        "id": "uzOnN4e-sdjv"
      },
      "outputs": [],
      "source": [
        "save_callback = pl.callbacks.ModelCheckpoint(\n",
        "    dirpath=f\"{DATA}/ckpoint\",\n",
        "    save_top_k=1,\n",
        "    verbose=True,\n",
        "    monitor='val_loss',\n",
        "    mode='min',\n",
        ")\n",
        "df_show = DataFrameMetricsCallback()"
      ]
    },
    {
      "cell_type": "markdown",
      "metadata": {
        "id": "rF1Wy_dysdjv"
      },
      "source": [
        "Reset the configure_optimizers function"
      ]
    },
    {
      "cell_type": "code",
      "execution_count": 26,
      "metadata": {
        "id": "D7_Lg0Uasdjv"
      },
      "outputs": [],
      "source": [
        "def configure_optimizers(self):\n",
        "        # discriminative learning rate\n",
        "    param_groups = [\n",
        "            {'params': self.model.bert.parameters(), 'lr': 5e-6},\n",
        "            {'params': self.model.classifier.parameters(), 'lr': 1e-3},\n",
        "        ]\n",
        "    optimizer = torch.optim.Adam(param_groups, lr=1e-3)\n",
        "    return optimizer\n",
        "\n",
        "NERModule.configure_optimizers = configure_optimizers"
      ]
    },
    {
      "cell_type": "code",
      "execution_count": 27,
      "metadata": {
        "colab": {
          "base_uri": "https://localhost:8080/"
        },
        "id": "cBa18c_Hsdjw",
        "outputId": "116e52e4-efe1-4ddb-c143-6233c0a0cde6"
      },
      "outputs": [
        {
          "name": "stdout",
          "output_type": "stream",
          "text": [
            "False\n"
          ]
        }
      ],
      "source": [
        "import torch\n",
        "print(torch.cuda.is_available())"
      ]
    },
    {
      "cell_type": "markdown",
      "metadata": {
        "id": "QrRWPrHSsdjw"
      },
      "source": [
        "Trainer"
      ]
    },
    {
      "cell_type": "code",
      "execution_count": 28,
      "metadata": {
        "colab": {
          "base_uri": "https://localhost:8080/",
          "height": 408
        },
        "id": "s7S2ZyqJsdjw",
        "outputId": "23da30af-d71b-464e-9687-1dd88c203db1"
      },
      "outputs": [
        {
          "ename": "MisconfigurationException",
          "evalue": "No supported gpu backend found!",
          "output_type": "error",
          "traceback": [
            "\u001b[0;31m---------------------------------------------------------------------------\u001b[0m",
            "\u001b[0;31mMisconfigurationException\u001b[0m                 Traceback (most recent call last)",
            "\u001b[0;32m<ipython-input-28-5884bca2756c>\u001b[0m in \u001b[0;36m<cell line: 1>\u001b[0;34m()\u001b[0m\n\u001b[0;32m----> 1\u001b[0;31m trainer = pl.Trainer(\n\u001b[0m\u001b[1;32m      2\u001b[0m     \u001b[0maccelerator\u001b[0m\u001b[0;34m=\u001b[0m\u001b[0;34m'gpu'\u001b[0m\u001b[0;34m,\u001b[0m\u001b[0;34m\u001b[0m\u001b[0;34m\u001b[0m\u001b[0m\n\u001b[1;32m      3\u001b[0m     \u001b[0mdevices\u001b[0m\u001b[0;34m=\u001b[0m\u001b[0;36m1\u001b[0m\u001b[0;34m,\u001b[0m\u001b[0;34m\u001b[0m\u001b[0;34m\u001b[0m\u001b[0m\n\u001b[1;32m      4\u001b[0m     \u001b[0mmax_epochs\u001b[0m\u001b[0;34m=\u001b[0m\u001b[0;36m30\u001b[0m\u001b[0;34m,\u001b[0m\u001b[0;34m\u001b[0m\u001b[0;34m\u001b[0m\u001b[0m\n\u001b[1;32m      5\u001b[0m     \u001b[0mcallbacks\u001b[0m\u001b[0;34m=\u001b[0m\u001b[0;34m[\u001b[0m\u001b[0mdf_show\u001b[0m\u001b[0;34m,\u001b[0m \u001b[0msave_callback\u001b[0m\u001b[0;34m]\u001b[0m\u001b[0;34m,\u001b[0m\u001b[0;34m\u001b[0m\u001b[0;34m\u001b[0m\u001b[0m\n",
            "\u001b[0;32m/usr/local/lib/python3.10/dist-packages/pytorch_lightning/utilities/argparse.py\u001b[0m in \u001b[0;36minsert_env_defaults\u001b[0;34m(self, *args, **kwargs)\u001b[0m\n\u001b[1;32m     68\u001b[0m \u001b[0;34m\u001b[0m\u001b[0m\n\u001b[1;32m     69\u001b[0m         \u001b[0;31m# all args were already moved to kwargs\u001b[0m\u001b[0;34m\u001b[0m\u001b[0;34m\u001b[0m\u001b[0m\n\u001b[0;32m---> 70\u001b[0;31m         \u001b[0;32mreturn\u001b[0m \u001b[0mfn\u001b[0m\u001b[0;34m(\u001b[0m\u001b[0mself\u001b[0m\u001b[0;34m,\u001b[0m \u001b[0;34m**\u001b[0m\u001b[0mkwargs\u001b[0m\u001b[0;34m)\u001b[0m\u001b[0;34m\u001b[0m\u001b[0;34m\u001b[0m\u001b[0m\n\u001b[0m\u001b[1;32m     71\u001b[0m \u001b[0;34m\u001b[0m\u001b[0m\n\u001b[1;32m     72\u001b[0m     \u001b[0;32mreturn\u001b[0m \u001b[0mcast\u001b[0m\u001b[0;34m(\u001b[0m\u001b[0m_T\u001b[0m\u001b[0;34m,\u001b[0m \u001b[0minsert_env_defaults\u001b[0m\u001b[0;34m)\u001b[0m\u001b[0;34m\u001b[0m\u001b[0;34m\u001b[0m\u001b[0m\n",
            "\u001b[0;32m/usr/local/lib/python3.10/dist-packages/pytorch_lightning/trainer/trainer.py\u001b[0m in \u001b[0;36m__init__\u001b[0;34m(self, accelerator, strategy, devices, num_nodes, precision, logger, callbacks, fast_dev_run, max_epochs, min_epochs, max_steps, min_steps, max_time, limit_train_batches, limit_val_batches, limit_test_batches, limit_predict_batches, overfit_batches, val_check_interval, check_val_every_n_epoch, num_sanity_val_steps, log_every_n_steps, enable_checkpointing, enable_progress_bar, enable_model_summary, accumulate_grad_batches, gradient_clip_val, gradient_clip_algorithm, deterministic, benchmark, inference_mode, use_distributed_sampler, profiler, detect_anomaly, barebones, plugins, sync_batchnorm, reload_dataloaders_every_n_epochs, default_root_dir)\u001b[0m\n\u001b[1;32m    393\u001b[0m         \u001b[0mself\u001b[0m\u001b[0;34m.\u001b[0m\u001b[0m_data_connector\u001b[0m \u001b[0;34m=\u001b[0m \u001b[0m_DataConnector\u001b[0m\u001b[0;34m(\u001b[0m\u001b[0mself\u001b[0m\u001b[0;34m)\u001b[0m\u001b[0;34m\u001b[0m\u001b[0;34m\u001b[0m\u001b[0m\n\u001b[1;32m    394\u001b[0m \u001b[0;34m\u001b[0m\u001b[0m\n\u001b[0;32m--> 395\u001b[0;31m         self._accelerator_connector = _AcceleratorConnector(\n\u001b[0m\u001b[1;32m    396\u001b[0m             \u001b[0mdevices\u001b[0m\u001b[0;34m=\u001b[0m\u001b[0mdevices\u001b[0m\u001b[0;34m,\u001b[0m\u001b[0;34m\u001b[0m\u001b[0;34m\u001b[0m\u001b[0m\n\u001b[1;32m    397\u001b[0m             \u001b[0maccelerator\u001b[0m\u001b[0;34m=\u001b[0m\u001b[0maccelerator\u001b[0m\u001b[0;34m,\u001b[0m\u001b[0;34m\u001b[0m\u001b[0;34m\u001b[0m\u001b[0m\n",
            "\u001b[0;32m/usr/local/lib/python3.10/dist-packages/pytorch_lightning/trainer/connectors/accelerator_connector.py\u001b[0m in \u001b[0;36m__init__\u001b[0;34m(self, devices, num_nodes, accelerator, strategy, plugins, precision, sync_batchnorm, benchmark, use_distributed_sampler, deterministic)\u001b[0m\n\u001b[1;32m    141\u001b[0m             \u001b[0mself\u001b[0m\u001b[0;34m.\u001b[0m\u001b[0m_accelerator_flag\u001b[0m \u001b[0;34m=\u001b[0m \u001b[0mself\u001b[0m\u001b[0;34m.\u001b[0m\u001b[0m_choose_auto_accelerator\u001b[0m\u001b[0;34m(\u001b[0m\u001b[0;34m)\u001b[0m\u001b[0;34m\u001b[0m\u001b[0;34m\u001b[0m\u001b[0m\n\u001b[1;32m    142\u001b[0m         \u001b[0;32melif\u001b[0m \u001b[0mself\u001b[0m\u001b[0;34m.\u001b[0m\u001b[0m_accelerator_flag\u001b[0m \u001b[0;34m==\u001b[0m \u001b[0;34m\"gpu\"\u001b[0m\u001b[0;34m:\u001b[0m\u001b[0;34m\u001b[0m\u001b[0;34m\u001b[0m\u001b[0m\n\u001b[0;32m--> 143\u001b[0;31m             \u001b[0mself\u001b[0m\u001b[0;34m.\u001b[0m\u001b[0m_accelerator_flag\u001b[0m \u001b[0;34m=\u001b[0m \u001b[0mself\u001b[0m\u001b[0;34m.\u001b[0m\u001b[0m_choose_gpu_accelerator_backend\u001b[0m\u001b[0;34m(\u001b[0m\u001b[0;34m)\u001b[0m\u001b[0;34m\u001b[0m\u001b[0;34m\u001b[0m\u001b[0m\n\u001b[0m\u001b[1;32m    144\u001b[0m \u001b[0;34m\u001b[0m\u001b[0m\n\u001b[1;32m    145\u001b[0m         \u001b[0mself\u001b[0m\u001b[0;34m.\u001b[0m\u001b[0m_check_device_config_and_set_final_flags\u001b[0m\u001b[0;34m(\u001b[0m\u001b[0mdevices\u001b[0m\u001b[0;34m=\u001b[0m\u001b[0mdevices\u001b[0m\u001b[0;34m,\u001b[0m \u001b[0mnum_nodes\u001b[0m\u001b[0;34m=\u001b[0m\u001b[0mnum_nodes\u001b[0m\u001b[0;34m)\u001b[0m\u001b[0;34m\u001b[0m\u001b[0;34m\u001b[0m\u001b[0m\n",
            "\u001b[0;32m/usr/local/lib/python3.10/dist-packages/pytorch_lightning/trainer/connectors/accelerator_connector.py\u001b[0m in \u001b[0;36m_choose_gpu_accelerator_backend\u001b[0;34m()\u001b[0m\n\u001b[1;32m    351\u001b[0m         \u001b[0;32mif\u001b[0m \u001b[0mCUDAAccelerator\u001b[0m\u001b[0;34m.\u001b[0m\u001b[0mis_available\u001b[0m\u001b[0;34m(\u001b[0m\u001b[0;34m)\u001b[0m\u001b[0;34m:\u001b[0m\u001b[0;34m\u001b[0m\u001b[0;34m\u001b[0m\u001b[0m\n\u001b[1;32m    352\u001b[0m             \u001b[0;32mreturn\u001b[0m \u001b[0;34m\"cuda\"\u001b[0m\u001b[0;34m\u001b[0m\u001b[0;34m\u001b[0m\u001b[0m\n\u001b[0;32m--> 353\u001b[0;31m         \u001b[0;32mraise\u001b[0m \u001b[0mMisconfigurationException\u001b[0m\u001b[0;34m(\u001b[0m\u001b[0;34m\"No supported gpu backend found!\"\u001b[0m\u001b[0;34m)\u001b[0m\u001b[0;34m\u001b[0m\u001b[0;34m\u001b[0m\u001b[0m\n\u001b[0m\u001b[1;32m    354\u001b[0m \u001b[0;34m\u001b[0m\u001b[0m\n\u001b[1;32m    355\u001b[0m     \u001b[0;32mdef\u001b[0m \u001b[0m_set_parallel_devices_and_init_accelerator\u001b[0m\u001b[0;34m(\u001b[0m\u001b[0mself\u001b[0m\u001b[0;34m)\u001b[0m \u001b[0;34m->\u001b[0m \u001b[0;32mNone\u001b[0m\u001b[0;34m:\u001b[0m\u001b[0;34m\u001b[0m\u001b[0;34m\u001b[0m\u001b[0m\n",
            "\u001b[0;31mMisconfigurationException\u001b[0m: No supported gpu backend found!"
          ]
        }
      ],
      "source": [
        "trainer = pl.Trainer(\n",
        "    accelerator='gpu',\n",
        "    devices=1,\n",
        "    max_epochs=30,\n",
        "    callbacks=[df_show, save_callback],\n",
        "    )"
      ]
    },
    {
      "cell_type": "code",
      "execution_count": null,
      "metadata": {
        "id": "iJ9HK7-osdjw"
      },
      "outputs": [],
      "source": [
        "trainer.fit(module, datamodule=data_module)"
      ]
    },
    {
      "cell_type": "markdown",
      "metadata": {
        "id": "U4D61WzHsdjw"
      },
      "source": [
        "## Load the best model"
      ]
    },
    {
      "cell_type": "code",
      "execution_count": null,
      "metadata": {
        "id": "1jNl0oe8sdjw"
      },
      "outputs": [],
      "source": [
        "module = NERModule.load_from_checkpoint(save_callback.best_model_path, model=model)"
      ]
    },
    {
      "cell_type": "code",
      "execution_count": null,
      "metadata": {
        "id": "7Mv3Xb1Usdjw"
      },
      "outputs": [],
      "source": [
        "module.model.config.id2label = dict(enumerate(cates.i2c))\n",
        "module.model.config.label2id = cates.c2i.dict"
      ]
    },
    {
      "cell_type": "code",
      "execution_count": null,
      "metadata": {
        "id": "2p9Qis9isdj1"
      },
      "outputs": [],
      "source": [
        "from transformers import pipeline"
      ]
    },
    {
      "cell_type": "code",
      "execution_count": null,
      "metadata": {
        "id": "fgmMa7TDsdj1"
      },
      "outputs": [],
      "source": [
        "module.model = module.model.eval()\n",
        "module.model = module.model.cpu()"
      ]
    },
    {
      "cell_type": "code",
      "execution_count": null,
      "metadata": {
        "id": "ftvX_cZswbBh"
      },
      "outputs": [],
      "source": [
        "# prompt: Store the model\n",
        "\n",
        "torch.save(module.model, '/content/gdrive/MyDrive/Colab/punktuation-ner/best_ckpoint/punct_model_2.pth')\n"
      ]
    },
    {
      "cell_type": "code",
      "execution_count": null,
      "metadata": {
        "id": "ZCzuBXI_sdj1"
      },
      "outputs": [],
      "source": [
        "ner = pipeline(\"ner\",module.model,tokenizer=tokenizer)"
      ]
    },
    {
      "cell_type": "code",
      "execution_count": null,
      "metadata": {
        "id": "fO9PhdmLsdj1"
      },
      "outputs": [],
      "source": [
        "def mark_sentence(x: str):\n",
        "    outputs = ner(x)\n",
        "    print(outputs)\n",
        "    print(\"hello\")\n",
        "    x_list = list(x)\n",
        "    for i, output in enumerate(outputs):\n",
        "        x_list.insert(output['end']+i, output['entity'])\n",
        "    return \"\".join(x_list)"
      ]
    },
    {
      "cell_type": "code",
      "execution_count": null,
      "metadata": {
        "id": "tEtCNB18sdj1"
      },
      "outputs": [],
      "source": [
        "mark_sentence(\"洛水神龜單應兆天數九地數九九九八十一數數數混成三大道道合元始天尊一成有感\")"
      ]
    },
    {
      "cell_type": "code",
      "execution_count": null,
      "metadata": {
        "id": "PGGOgoY9sdj1"
      },
      "outputs": [],
      "source": [
        "mark_sentence(\"\"\"郡邑置夫子庙于学以嵗时释奠盖自唐贞观以来未之或改我宋有天下因其制而损益之姑苏当浙右要区规模尤大更建炎戎马荡然无遗虽修学宫于荆榛瓦砾之余独殿宇未遑议也每春秋展礼于斋庐已则置不问殆为阙典今寳文阁直学士括苍梁公来牧之明年实绍兴十有一禩也二月上丁修祀既毕乃愓然自咎揖诸生而告之曰天子不以汝嘉为不肖俾再守兹土顾治民事神皆守之职惟是夫子之祀教化所基尤宜严且谨而拜跪荐祭之地卑陋乃尔其何以掲防妥灵汝嘉不敢避其责曩常去此弥年若有所负尚安得以罢輭自恕复累后人乎他日或克就绪愿与诸君落之于是谋之僚吏搜故府得遗材千枚取赢资以给其费鸠工庀役各举其任嵗月讫工民不与知像设礼器百用具修至于堂室廊序门牖垣墙皆一新之\"\"\")"
      ]
    },
    {
      "cell_type": "code",
      "execution_count": null,
      "metadata": {
        "id": "0krTpEd3sdj2"
      },
      "outputs": [],
      "source": [
        "# import pandas as pd\n",
        "# df = pd.read_csv('test.txt', sep='\\t')\n",
        "\n",
        "# text_list = df['input'].tolist()[0:]\n",
        "# predicted = []\n",
        "# for text in text_list:\n",
        "#     predicted.append(mark_sentence(text))\n",
        "\n",
        "# # predicted save to csv\n",
        "# df2 = pd.DataFrame(predicted)\n",
        "# # output to csv but ignore header\n",
        "# df2.to_csv('predicted.txt', index=False, header=False)\n",
        "# df2 = pd.read_csv('predicted.txt', sep='\\t', header=None)\n",
        "# df2.columns = ['predicted']\n",
        "\n",
        "# punctuation = ['，', '。', '！', '？', '；', '：', '、', '「', '」', '『', '』', '（', '）', '〔', '〕', '【', '】', '《', '》', '〈', '〉', '﹏', '＿', '～', '—', '…', '‥', '﹑', '﹔', '﹖', '﹪', '﹙', '﹚', '﹛', '﹜', '﹟', '﹠', '﹡', '﹢', '﹣', '﹤', '﹥', '﹦', '﹨', '﹩', '﹪', '﹫', '＃', '＄', '％', '＆', '＊', '＋', '－', '／', '＜', '＝', '＞', '＠', '＾', '＿', '｀', '｜', '～', '∕', '∥']\n",
        "\n",
        "# predicted_parsed = []\n",
        "# for text in df2['predicted']:\n",
        "#     i = 0\n",
        "#     line = []\n",
        "#     while i < len(text) - 1:\n",
        "#         if text[i + 1] in punctuation:\n",
        "#             line.append(1)\n",
        "#             i += 1\n",
        "#         else:\n",
        "#             line.append(0)\n",
        "#         i += 1\n",
        "#     if line[-1] != 1:\n",
        "#         line.append(1)\n",
        "#     predicted_parsed.append(' - '.join([str(x) for x in line]))\n",
        "\n",
        "# df3 = pd.DataFrame(predicted_parsed)\n",
        "# df3.to_csv('predicted_parsed.txt', index=False, header=False)"
      ]
    }
  ],
  "metadata": {
    "accelerator": "GPU",
    "colab": {
      "gpuType": "T4",
      "include_colab_link": true,
      "provenance": []
    },
    "kernelspec": {
      "display_name": "Python 3",
      "name": "python3"
    },
    "language_info": {
      "codemirror_mode": {
        "name": "ipython",
        "version": 3
      },
      "file_extension": ".py",
      "mimetype": "text/x-python",
      "name": "python",
      "nbconvert_exporter": "python",
      "pygments_lexer": "ipython3",
      "version": "3.9.12"
    },
    "toc": {
      "base_numbering": 1,
      "nav_menu": {},
      "number_sections": true,
      "sideBar": true,
      "skip_h1_title": false,
      "title_cell": "Table of Contents",
      "title_sidebar": "Contents",
      "toc_cell": false,
      "toc_position": {},
      "toc_section_display": true,
      "toc_window_display": true
    },
    "widgets": {
      "application/vnd.jupyter.widget-state+json": {
        "0061d919d93a46f3acefa38b2c1919f4": {
          "model_module": "@jupyter-widgets/controls",
          "model_module_version": "1.5.0",
          "model_name": "ProgressStyleModel",
          "state": {
            "_model_module": "@jupyter-widgets/controls",
            "_model_module_version": "1.5.0",
            "_model_name": "ProgressStyleModel",
            "_view_count": null,
            "_view_module": "@jupyter-widgets/base",
            "_view_module_version": "1.2.0",
            "_view_name": "StyleView",
            "bar_color": null,
            "description_width": ""
          }
        },
        "0e7e5ff63d9546c79813631c2e6012fd": {
          "model_module": "@jupyter-widgets/base",
          "model_module_version": "1.2.0",
          "model_name": "LayoutModel",
          "state": {
            "_model_module": "@jupyter-widgets/base",
            "_model_module_version": "1.2.0",
            "_model_name": "LayoutModel",
            "_view_count": null,
            "_view_module": "@jupyter-widgets/base",
            "_view_module_version": "1.2.0",
            "_view_name": "LayoutView",
            "align_content": null,
            "align_items": null,
            "align_self": null,
            "border": null,
            "bottom": null,
            "display": null,
            "flex": null,
            "flex_flow": null,
            "grid_area": null,
            "grid_auto_columns": null,
            "grid_auto_flow": null,
            "grid_auto_rows": null,
            "grid_column": null,
            "grid_gap": null,
            "grid_row": null,
            "grid_template_areas": null,
            "grid_template_columns": null,
            "grid_template_rows": null,
            "height": null,
            "justify_content": null,
            "justify_items": null,
            "left": null,
            "margin": null,
            "max_height": null,
            "max_width": null,
            "min_height": null,
            "min_width": null,
            "object_fit": null,
            "object_position": null,
            "order": null,
            "overflow": null,
            "overflow_x": null,
            "overflow_y": null,
            "padding": null,
            "right": null,
            "top": null,
            "visibility": null,
            "width": null
          }
        },
        "126f7a12eb824e4092c61aedbe344ce4": {
          "model_module": "@jupyter-widgets/controls",
          "model_module_version": "1.5.0",
          "model_name": "DescriptionStyleModel",
          "state": {
            "_model_module": "@jupyter-widgets/controls",
            "_model_module_version": "1.5.0",
            "_model_name": "DescriptionStyleModel",
            "_view_count": null,
            "_view_module": "@jupyter-widgets/base",
            "_view_module_version": "1.2.0",
            "_view_name": "StyleView",
            "description_width": ""
          }
        },
        "1a60e9dbf9774c8db2a9bda93bff88fb": {
          "model_module": "@jupyter-widgets/base",
          "model_module_version": "1.2.0",
          "model_name": "LayoutModel",
          "state": {
            "_model_module": "@jupyter-widgets/base",
            "_model_module_version": "1.2.0",
            "_model_name": "LayoutModel",
            "_view_count": null,
            "_view_module": "@jupyter-widgets/base",
            "_view_module_version": "1.2.0",
            "_view_name": "LayoutView",
            "align_content": null,
            "align_items": null,
            "align_self": null,
            "border": null,
            "bottom": null,
            "display": null,
            "flex": null,
            "flex_flow": null,
            "grid_area": null,
            "grid_auto_columns": null,
            "grid_auto_flow": null,
            "grid_auto_rows": null,
            "grid_column": null,
            "grid_gap": null,
            "grid_row": null,
            "grid_template_areas": null,
            "grid_template_columns": null,
            "grid_template_rows": null,
            "height": null,
            "justify_content": null,
            "justify_items": null,
            "left": null,
            "margin": null,
            "max_height": null,
            "max_width": null,
            "min_height": null,
            "min_width": null,
            "object_fit": null,
            "object_position": null,
            "order": null,
            "overflow": null,
            "overflow_x": null,
            "overflow_y": null,
            "padding": null,
            "right": null,
            "top": null,
            "visibility": null,
            "width": null
          }
        },
        "26750e48aa544ee28f55322b3d2776e3": {
          "model_module": "@jupyter-widgets/controls",
          "model_module_version": "1.5.0",
          "model_name": "DescriptionStyleModel",
          "state": {
            "_model_module": "@jupyter-widgets/controls",
            "_model_module_version": "1.5.0",
            "_model_name": "DescriptionStyleModel",
            "_view_count": null,
            "_view_module": "@jupyter-widgets/base",
            "_view_module_version": "1.2.0",
            "_view_name": "StyleView",
            "description_width": ""
          }
        },
        "27da726eef614c72b21ad82dd0f7df19": {
          "model_module": "@jupyter-widgets/controls",
          "model_module_version": "1.5.0",
          "model_name": "HTMLModel",
          "state": {
            "_dom_classes": [],
            "_model_module": "@jupyter-widgets/controls",
            "_model_module_version": "1.5.0",
            "_model_name": "HTMLModel",
            "_view_count": null,
            "_view_module": "@jupyter-widgets/controls",
            "_view_module_version": "1.5.0",
            "_view_name": "HTMLView",
            "description": "",
            "description_tooltip": null,
            "layout": "IPY_MODEL_771c10e0575043fc92a0db8614248655",
            "placeholder": "​",
            "style": "IPY_MODEL_26750e48aa544ee28f55322b3d2776e3",
            "value": "config.json: 100%"
          }
        },
        "2d693c20e33a4e7a9827391305eb24a0": {
          "model_module": "@jupyter-widgets/controls",
          "model_module_version": "1.5.0",
          "model_name": "ProgressStyleModel",
          "state": {
            "_model_module": "@jupyter-widgets/controls",
            "_model_module_version": "1.5.0",
            "_model_name": "ProgressStyleModel",
            "_view_count": null,
            "_view_module": "@jupyter-widgets/base",
            "_view_module_version": "1.2.0",
            "_view_name": "StyleView",
            "bar_color": null,
            "description_width": ""
          }
        },
        "329d438fa88d412daad11eed2fa7778f": {
          "model_module": "@jupyter-widgets/controls",
          "model_module_version": "1.5.0",
          "model_name": "HBoxModel",
          "state": {
            "_dom_classes": [],
            "_model_module": "@jupyter-widgets/controls",
            "_model_module_version": "1.5.0",
            "_model_name": "HBoxModel",
            "_view_count": null,
            "_view_module": "@jupyter-widgets/controls",
            "_view_module_version": "1.5.0",
            "_view_name": "HBoxView",
            "box_style": "",
            "children": [
              "IPY_MODEL_e1a73b8d2da24f8d9c092ec30b53b07a",
              "IPY_MODEL_d6a4108797314fb1b9e24840d74607f0",
              "IPY_MODEL_8ca8b336ea494a42875b4ee9a09bfef5"
            ],
            "layout": "IPY_MODEL_5720ee65db414132994096c5112f504a"
          }
        },
        "366ee124c5f445cc8d51f7a77171953d": {
          "model_module": "@jupyter-widgets/controls",
          "model_module_version": "1.5.0",
          "model_name": "DescriptionStyleModel",
          "state": {
            "_model_module": "@jupyter-widgets/controls",
            "_model_module_version": "1.5.0",
            "_model_name": "DescriptionStyleModel",
            "_view_count": null,
            "_view_module": "@jupyter-widgets/base",
            "_view_module_version": "1.2.0",
            "_view_name": "StyleView",
            "description_width": ""
          }
        },
        "38e6776d3db045cfa8eb1b44f7c806be": {
          "model_module": "@jupyter-widgets/controls",
          "model_module_version": "1.5.0",
          "model_name": "DescriptionStyleModel",
          "state": {
            "_model_module": "@jupyter-widgets/controls",
            "_model_module_version": "1.5.0",
            "_model_name": "DescriptionStyleModel",
            "_view_count": null,
            "_view_module": "@jupyter-widgets/base",
            "_view_module_version": "1.2.0",
            "_view_name": "StyleView",
            "description_width": ""
          }
        },
        "3c2f0291093c45018cb2503be69064aa": {
          "model_module": "@jupyter-widgets/controls",
          "model_module_version": "1.5.0",
          "model_name": "HBoxModel",
          "state": {
            "_dom_classes": [],
            "_model_module": "@jupyter-widgets/controls",
            "_model_module_version": "1.5.0",
            "_model_name": "HBoxModel",
            "_view_count": null,
            "_view_module": "@jupyter-widgets/controls",
            "_view_module_version": "1.5.0",
            "_view_name": "HBoxView",
            "box_style": "",
            "children": [
              "IPY_MODEL_8b3d396543d54d7dbb8ed4f565f84bf3",
              "IPY_MODEL_feec962202794c74b730bdfc47e0bffb",
              "IPY_MODEL_b4cee5ee0c0e49b6883fc8e77ca09a09"
            ],
            "layout": "IPY_MODEL_b9ef7846bc3440ba96de813b2f0a9ef1"
          }
        },
        "429e5ebf075944d381b8c7c898b04503": {
          "model_module": "@jupyter-widgets/controls",
          "model_module_version": "1.5.0",
          "model_name": "HTMLModel",
          "state": {
            "_dom_classes": [],
            "_model_module": "@jupyter-widgets/controls",
            "_model_module_version": "1.5.0",
            "_model_name": "HTMLModel",
            "_view_count": null,
            "_view_module": "@jupyter-widgets/controls",
            "_view_module_version": "1.5.0",
            "_view_name": "HTMLView",
            "description": "",
            "description_tooltip": null,
            "layout": "IPY_MODEL_a7e1cb9ef75c4d96a07a51936418328c",
            "placeholder": "​",
            "style": "IPY_MODEL_366ee124c5f445cc8d51f7a77171953d",
            "value": " 49.0/49.0 [00:00&lt;00:00, 628B/s]"
          }
        },
        "446ce94cea8d4c1895105f204b0bb87e": {
          "model_module": "@jupyter-widgets/base",
          "model_module_version": "1.2.0",
          "model_name": "LayoutModel",
          "state": {
            "_model_module": "@jupyter-widgets/base",
            "_model_module_version": "1.2.0",
            "_model_name": "LayoutModel",
            "_view_count": null,
            "_view_module": "@jupyter-widgets/base",
            "_view_module_version": "1.2.0",
            "_view_name": "LayoutView",
            "align_content": null,
            "align_items": null,
            "align_self": null,
            "border": null,
            "bottom": null,
            "display": null,
            "flex": null,
            "flex_flow": null,
            "grid_area": null,
            "grid_auto_columns": null,
            "grid_auto_flow": null,
            "grid_auto_rows": null,
            "grid_column": null,
            "grid_gap": null,
            "grid_row": null,
            "grid_template_areas": null,
            "grid_template_columns": null,
            "grid_template_rows": null,
            "height": null,
            "justify_content": null,
            "justify_items": null,
            "left": null,
            "margin": null,
            "max_height": null,
            "max_width": null,
            "min_height": null,
            "min_width": null,
            "object_fit": null,
            "object_position": null,
            "order": null,
            "overflow": null,
            "overflow_x": null,
            "overflow_y": null,
            "padding": null,
            "right": null,
            "top": null,
            "visibility": null,
            "width": null
          }
        },
        "4574a494422240cf9337123e6d9cc2cc": {
          "model_module": "@jupyter-widgets/base",
          "model_module_version": "1.2.0",
          "model_name": "LayoutModel",
          "state": {
            "_model_module": "@jupyter-widgets/base",
            "_model_module_version": "1.2.0",
            "_model_name": "LayoutModel",
            "_view_count": null,
            "_view_module": "@jupyter-widgets/base",
            "_view_module_version": "1.2.0",
            "_view_name": "LayoutView",
            "align_content": null,
            "align_items": null,
            "align_self": null,
            "border": null,
            "bottom": null,
            "display": null,
            "flex": null,
            "flex_flow": null,
            "grid_area": null,
            "grid_auto_columns": null,
            "grid_auto_flow": null,
            "grid_auto_rows": null,
            "grid_column": null,
            "grid_gap": null,
            "grid_row": null,
            "grid_template_areas": null,
            "grid_template_columns": null,
            "grid_template_rows": null,
            "height": null,
            "justify_content": null,
            "justify_items": null,
            "left": null,
            "margin": null,
            "max_height": null,
            "max_width": null,
            "min_height": null,
            "min_width": null,
            "object_fit": null,
            "object_position": null,
            "order": null,
            "overflow": null,
            "overflow_x": null,
            "overflow_y": null,
            "padding": null,
            "right": null,
            "top": null,
            "visibility": null,
            "width": null
          }
        },
        "45c9fd2864d847e4bc9a011909289b58": {
          "model_module": "@jupyter-widgets/controls",
          "model_module_version": "1.5.0",
          "model_name": "DescriptionStyleModel",
          "state": {
            "_model_module": "@jupyter-widgets/controls",
            "_model_module_version": "1.5.0",
            "_model_name": "DescriptionStyleModel",
            "_view_count": null,
            "_view_module": "@jupyter-widgets/base",
            "_view_module_version": "1.2.0",
            "_view_name": "StyleView",
            "description_width": ""
          }
        },
        "4bf7b18ebe6848e0b8858870947e3b53": {
          "model_module": "@jupyter-widgets/controls",
          "model_module_version": "1.5.0",
          "model_name": "FloatProgressModel",
          "state": {
            "_dom_classes": [],
            "_model_module": "@jupyter-widgets/controls",
            "_model_module_version": "1.5.0",
            "_model_name": "FloatProgressModel",
            "_view_count": null,
            "_view_module": "@jupyter-widgets/controls",
            "_view_module_version": "1.5.0",
            "_view_name": "ProgressView",
            "bar_style": "success",
            "description": "",
            "description_tooltip": null,
            "layout": "IPY_MODEL_446ce94cea8d4c1895105f204b0bb87e",
            "max": 49,
            "min": 0,
            "orientation": "horizontal",
            "style": "IPY_MODEL_633fd3b8da214eada1a356063f433209",
            "value": 49
          }
        },
        "553680c291e040f1abb3d9bbc85edc9e": {
          "model_module": "@jupyter-widgets/base",
          "model_module_version": "1.2.0",
          "model_name": "LayoutModel",
          "state": {
            "_model_module": "@jupyter-widgets/base",
            "_model_module_version": "1.2.0",
            "_model_name": "LayoutModel",
            "_view_count": null,
            "_view_module": "@jupyter-widgets/base",
            "_view_module_version": "1.2.0",
            "_view_name": "LayoutView",
            "align_content": null,
            "align_items": null,
            "align_self": null,
            "border": null,
            "bottom": null,
            "display": null,
            "flex": null,
            "flex_flow": null,
            "grid_area": null,
            "grid_auto_columns": null,
            "grid_auto_flow": null,
            "grid_auto_rows": null,
            "grid_column": null,
            "grid_gap": null,
            "grid_row": null,
            "grid_template_areas": null,
            "grid_template_columns": null,
            "grid_template_rows": null,
            "height": null,
            "justify_content": null,
            "justify_items": null,
            "left": null,
            "margin": null,
            "max_height": null,
            "max_width": null,
            "min_height": null,
            "min_width": null,
            "object_fit": null,
            "object_position": null,
            "order": null,
            "overflow": null,
            "overflow_x": null,
            "overflow_y": null,
            "padding": null,
            "right": null,
            "top": null,
            "visibility": null,
            "width": null
          }
        },
        "5720ee65db414132994096c5112f504a": {
          "model_module": "@jupyter-widgets/base",
          "model_module_version": "1.2.0",
          "model_name": "LayoutModel",
          "state": {
            "_model_module": "@jupyter-widgets/base",
            "_model_module_version": "1.2.0",
            "_model_name": "LayoutModel",
            "_view_count": null,
            "_view_module": "@jupyter-widgets/base",
            "_view_module_version": "1.2.0",
            "_view_name": "LayoutView",
            "align_content": null,
            "align_items": null,
            "align_self": null,
            "border": null,
            "bottom": null,
            "display": null,
            "flex": null,
            "flex_flow": null,
            "grid_area": null,
            "grid_auto_columns": null,
            "grid_auto_flow": null,
            "grid_auto_rows": null,
            "grid_column": null,
            "grid_gap": null,
            "grid_row": null,
            "grid_template_areas": null,
            "grid_template_columns": null,
            "grid_template_rows": null,
            "height": null,
            "justify_content": null,
            "justify_items": null,
            "left": null,
            "margin": null,
            "max_height": null,
            "max_width": null,
            "min_height": null,
            "min_width": null,
            "object_fit": null,
            "object_position": null,
            "order": null,
            "overflow": null,
            "overflow_x": null,
            "overflow_y": null,
            "padding": null,
            "right": null,
            "top": null,
            "visibility": null,
            "width": null
          }
        },
        "5d9cb6d40a42430fa7e7aeb569c0cd58": {
          "model_module": "@jupyter-widgets/base",
          "model_module_version": "1.2.0",
          "model_name": "LayoutModel",
          "state": {
            "_model_module": "@jupyter-widgets/base",
            "_model_module_version": "1.2.0",
            "_model_name": "LayoutModel",
            "_view_count": null,
            "_view_module": "@jupyter-widgets/base",
            "_view_module_version": "1.2.0",
            "_view_name": "LayoutView",
            "align_content": null,
            "align_items": null,
            "align_self": null,
            "border": null,
            "bottom": null,
            "display": null,
            "flex": null,
            "flex_flow": null,
            "grid_area": null,
            "grid_auto_columns": null,
            "grid_auto_flow": null,
            "grid_auto_rows": null,
            "grid_column": null,
            "grid_gap": null,
            "grid_row": null,
            "grid_template_areas": null,
            "grid_template_columns": null,
            "grid_template_rows": null,
            "height": null,
            "justify_content": null,
            "justify_items": null,
            "left": null,
            "margin": null,
            "max_height": null,
            "max_width": null,
            "min_height": null,
            "min_width": null,
            "object_fit": null,
            "object_position": null,
            "order": null,
            "overflow": null,
            "overflow_x": null,
            "overflow_y": null,
            "padding": null,
            "right": null,
            "top": null,
            "visibility": null,
            "width": null
          }
        },
        "5eb0e9036906423896a5c9e60278f30d": {
          "model_module": "@jupyter-widgets/controls",
          "model_module_version": "1.5.0",
          "model_name": "DescriptionStyleModel",
          "state": {
            "_model_module": "@jupyter-widgets/controls",
            "_model_module_version": "1.5.0",
            "_model_name": "DescriptionStyleModel",
            "_view_count": null,
            "_view_module": "@jupyter-widgets/base",
            "_view_module_version": "1.2.0",
            "_view_name": "StyleView",
            "description_width": ""
          }
        },
        "630a3bc4b9244dc8a78f8e415d664003": {
          "model_module": "@jupyter-widgets/base",
          "model_module_version": "1.2.0",
          "model_name": "LayoutModel",
          "state": {
            "_model_module": "@jupyter-widgets/base",
            "_model_module_version": "1.2.0",
            "_model_name": "LayoutModel",
            "_view_count": null,
            "_view_module": "@jupyter-widgets/base",
            "_view_module_version": "1.2.0",
            "_view_name": "LayoutView",
            "align_content": null,
            "align_items": null,
            "align_self": null,
            "border": null,
            "bottom": null,
            "display": null,
            "flex": null,
            "flex_flow": null,
            "grid_area": null,
            "grid_auto_columns": null,
            "grid_auto_flow": null,
            "grid_auto_rows": null,
            "grid_column": null,
            "grid_gap": null,
            "grid_row": null,
            "grid_template_areas": null,
            "grid_template_columns": null,
            "grid_template_rows": null,
            "height": null,
            "justify_content": null,
            "justify_items": null,
            "left": null,
            "margin": null,
            "max_height": null,
            "max_width": null,
            "min_height": null,
            "min_width": null,
            "object_fit": null,
            "object_position": null,
            "order": null,
            "overflow": null,
            "overflow_x": null,
            "overflow_y": null,
            "padding": null,
            "right": null,
            "top": null,
            "visibility": null,
            "width": null
          }
        },
        "633fd3b8da214eada1a356063f433209": {
          "model_module": "@jupyter-widgets/controls",
          "model_module_version": "1.5.0",
          "model_name": "ProgressStyleModel",
          "state": {
            "_model_module": "@jupyter-widgets/controls",
            "_model_module_version": "1.5.0",
            "_model_name": "ProgressStyleModel",
            "_view_count": null,
            "_view_module": "@jupyter-widgets/base",
            "_view_module_version": "1.2.0",
            "_view_name": "StyleView",
            "bar_color": null,
            "description_width": ""
          }
        },
        "65f44bb2d0c2402f85e9fe0330ce1371": {
          "model_module": "@jupyter-widgets/base",
          "model_module_version": "1.2.0",
          "model_name": "LayoutModel",
          "state": {
            "_model_module": "@jupyter-widgets/base",
            "_model_module_version": "1.2.0",
            "_model_name": "LayoutModel",
            "_view_count": null,
            "_view_module": "@jupyter-widgets/base",
            "_view_module_version": "1.2.0",
            "_view_name": "LayoutView",
            "align_content": null,
            "align_items": null,
            "align_self": null,
            "border": null,
            "bottom": null,
            "display": null,
            "flex": null,
            "flex_flow": null,
            "grid_area": null,
            "grid_auto_columns": null,
            "grid_auto_flow": null,
            "grid_auto_rows": null,
            "grid_column": null,
            "grid_gap": null,
            "grid_row": null,
            "grid_template_areas": null,
            "grid_template_columns": null,
            "grid_template_rows": null,
            "height": null,
            "justify_content": null,
            "justify_items": null,
            "left": null,
            "margin": null,
            "max_height": null,
            "max_width": null,
            "min_height": null,
            "min_width": null,
            "object_fit": null,
            "object_position": null,
            "order": null,
            "overflow": null,
            "overflow_x": null,
            "overflow_y": null,
            "padding": null,
            "right": null,
            "top": null,
            "visibility": null,
            "width": null
          }
        },
        "69e3e04eb00b45bf8d012fb6b4addc9e": {
          "model_module": "@jupyter-widgets/controls",
          "model_module_version": "1.5.0",
          "model_name": "ProgressStyleModel",
          "state": {
            "_model_module": "@jupyter-widgets/controls",
            "_model_module_version": "1.5.0",
            "_model_name": "ProgressStyleModel",
            "_view_count": null,
            "_view_module": "@jupyter-widgets/base",
            "_view_module_version": "1.2.0",
            "_view_name": "StyleView",
            "bar_color": null,
            "description_width": ""
          }
        },
        "7265f6de61964ca38ce65154955f452b": {
          "model_module": "@jupyter-widgets/base",
          "model_module_version": "1.2.0",
          "model_name": "LayoutModel",
          "state": {
            "_model_module": "@jupyter-widgets/base",
            "_model_module_version": "1.2.0",
            "_model_name": "LayoutModel",
            "_view_count": null,
            "_view_module": "@jupyter-widgets/base",
            "_view_module_version": "1.2.0",
            "_view_name": "LayoutView",
            "align_content": null,
            "align_items": null,
            "align_self": null,
            "border": null,
            "bottom": null,
            "display": null,
            "flex": null,
            "flex_flow": null,
            "grid_area": null,
            "grid_auto_columns": null,
            "grid_auto_flow": null,
            "grid_auto_rows": null,
            "grid_column": null,
            "grid_gap": null,
            "grid_row": null,
            "grid_template_areas": null,
            "grid_template_columns": null,
            "grid_template_rows": null,
            "height": null,
            "justify_content": null,
            "justify_items": null,
            "left": null,
            "margin": null,
            "max_height": null,
            "max_width": null,
            "min_height": null,
            "min_width": null,
            "object_fit": null,
            "object_position": null,
            "order": null,
            "overflow": null,
            "overflow_x": null,
            "overflow_y": null,
            "padding": null,
            "right": null,
            "top": null,
            "visibility": null,
            "width": null
          }
        },
        "72e1ff6f5db2430cba2c616bca793a3d": {
          "model_module": "@jupyter-widgets/controls",
          "model_module_version": "1.5.0",
          "model_name": "ProgressStyleModel",
          "state": {
            "_model_module": "@jupyter-widgets/controls",
            "_model_module_version": "1.5.0",
            "_model_name": "ProgressStyleModel",
            "_view_count": null,
            "_view_module": "@jupyter-widgets/base",
            "_view_module_version": "1.2.0",
            "_view_name": "StyleView",
            "bar_color": null,
            "description_width": ""
          }
        },
        "771c10e0575043fc92a0db8614248655": {
          "model_module": "@jupyter-widgets/base",
          "model_module_version": "1.2.0",
          "model_name": "LayoutModel",
          "state": {
            "_model_module": "@jupyter-widgets/base",
            "_model_module_version": "1.2.0",
            "_model_name": "LayoutModel",
            "_view_count": null,
            "_view_module": "@jupyter-widgets/base",
            "_view_module_version": "1.2.0",
            "_view_name": "LayoutView",
            "align_content": null,
            "align_items": null,
            "align_self": null,
            "border": null,
            "bottom": null,
            "display": null,
            "flex": null,
            "flex_flow": null,
            "grid_area": null,
            "grid_auto_columns": null,
            "grid_auto_flow": null,
            "grid_auto_rows": null,
            "grid_column": null,
            "grid_gap": null,
            "grid_row": null,
            "grid_template_areas": null,
            "grid_template_columns": null,
            "grid_template_rows": null,
            "height": null,
            "justify_content": null,
            "justify_items": null,
            "left": null,
            "margin": null,
            "max_height": null,
            "max_width": null,
            "min_height": null,
            "min_width": null,
            "object_fit": null,
            "object_position": null,
            "order": null,
            "overflow": null,
            "overflow_x": null,
            "overflow_y": null,
            "padding": null,
            "right": null,
            "top": null,
            "visibility": null,
            "width": null
          }
        },
        "7a42da38b9ce46f1b46bc4588f9b0130": {
          "model_module": "@jupyter-widgets/controls",
          "model_module_version": "1.5.0",
          "model_name": "HTMLModel",
          "state": {
            "_dom_classes": [],
            "_model_module": "@jupyter-widgets/controls",
            "_model_module_version": "1.5.0",
            "_model_name": "HTMLModel",
            "_view_count": null,
            "_view_module": "@jupyter-widgets/controls",
            "_view_module_version": "1.5.0",
            "_view_name": "HTMLView",
            "description": "",
            "description_tooltip": null,
            "layout": "IPY_MODEL_b6277b156ede4ac98e54d73d2cb65116",
            "placeholder": "​",
            "style": "IPY_MODEL_fa950e34767c4d4c9261708ec63c92f3",
            "value": "tokenizer_config.json: 100%"
          }
        },
        "8af93daa7dc242248505664fa8ea409b": {
          "model_module": "@jupyter-widgets/controls",
          "model_module_version": "1.5.0",
          "model_name": "DescriptionStyleModel",
          "state": {
            "_model_module": "@jupyter-widgets/controls",
            "_model_module_version": "1.5.0",
            "_model_name": "DescriptionStyleModel",
            "_view_count": null,
            "_view_module": "@jupyter-widgets/base",
            "_view_module_version": "1.2.0",
            "_view_name": "StyleView",
            "description_width": ""
          }
        },
        "8b3d396543d54d7dbb8ed4f565f84bf3": {
          "model_module": "@jupyter-widgets/controls",
          "model_module_version": "1.5.0",
          "model_name": "HTMLModel",
          "state": {
            "_dom_classes": [],
            "_model_module": "@jupyter-widgets/controls",
            "_model_module_version": "1.5.0",
            "_model_name": "HTMLModel",
            "_view_count": null,
            "_view_module": "@jupyter-widgets/controls",
            "_view_module_version": "1.5.0",
            "_view_name": "HTMLView",
            "description": "",
            "description_tooltip": null,
            "layout": "IPY_MODEL_dfc98b905909478dae9d3c00ec7005d3",
            "placeholder": "​",
            "style": "IPY_MODEL_de32e441cb3e43d59db32c7064440ccf",
            "value": "tokenizer.json: 100%"
          }
        },
        "8ca8b336ea494a42875b4ee9a09bfef5": {
          "model_module": "@jupyter-widgets/controls",
          "model_module_version": "1.5.0",
          "model_name": "HTMLModel",
          "state": {
            "_dom_classes": [],
            "_model_module": "@jupyter-widgets/controls",
            "_model_module_version": "1.5.0",
            "_model_name": "HTMLModel",
            "_view_count": null,
            "_view_module": "@jupyter-widgets/controls",
            "_view_module_version": "1.5.0",
            "_view_name": "HTMLView",
            "description": "",
            "description_tooltip": null,
            "layout": "IPY_MODEL_7265f6de61964ca38ce65154955f452b",
            "placeholder": "​",
            "style": "IPY_MODEL_8af93daa7dc242248505664fa8ea409b",
            "value": " 110k/110k [00:00&lt;00:00, 874kB/s]"
          }
        },
        "97fe2d313c894062b426929a54d84352": {
          "model_module": "@jupyter-widgets/base",
          "model_module_version": "1.2.0",
          "model_name": "LayoutModel",
          "state": {
            "_model_module": "@jupyter-widgets/base",
            "_model_module_version": "1.2.0",
            "_model_name": "LayoutModel",
            "_view_count": null,
            "_view_module": "@jupyter-widgets/base",
            "_view_module_version": "1.2.0",
            "_view_name": "LayoutView",
            "align_content": null,
            "align_items": null,
            "align_self": null,
            "border": null,
            "bottom": null,
            "display": null,
            "flex": null,
            "flex_flow": null,
            "grid_area": null,
            "grid_auto_columns": null,
            "grid_auto_flow": null,
            "grid_auto_rows": null,
            "grid_column": null,
            "grid_gap": null,
            "grid_row": null,
            "grid_template_areas": null,
            "grid_template_columns": null,
            "grid_template_rows": null,
            "height": null,
            "justify_content": null,
            "justify_items": null,
            "left": null,
            "margin": null,
            "max_height": null,
            "max_width": null,
            "min_height": null,
            "min_width": null,
            "object_fit": null,
            "object_position": null,
            "order": null,
            "overflow": null,
            "overflow_x": null,
            "overflow_y": null,
            "padding": null,
            "right": null,
            "top": null,
            "visibility": null,
            "width": null
          }
        },
        "9d57a625eecc4fa087f06631ad8d9e18": {
          "model_module": "@jupyter-widgets/controls",
          "model_module_version": "1.5.0",
          "model_name": "DescriptionStyleModel",
          "state": {
            "_model_module": "@jupyter-widgets/controls",
            "_model_module_version": "1.5.0",
            "_model_name": "DescriptionStyleModel",
            "_view_count": null,
            "_view_module": "@jupyter-widgets/base",
            "_view_module_version": "1.2.0",
            "_view_name": "StyleView",
            "description_width": ""
          }
        },
        "a7e1cb9ef75c4d96a07a51936418328c": {
          "model_module": "@jupyter-widgets/base",
          "model_module_version": "1.2.0",
          "model_name": "LayoutModel",
          "state": {
            "_model_module": "@jupyter-widgets/base",
            "_model_module_version": "1.2.0",
            "_model_name": "LayoutModel",
            "_view_count": null,
            "_view_module": "@jupyter-widgets/base",
            "_view_module_version": "1.2.0",
            "_view_name": "LayoutView",
            "align_content": null,
            "align_items": null,
            "align_self": null,
            "border": null,
            "bottom": null,
            "display": null,
            "flex": null,
            "flex_flow": null,
            "grid_area": null,
            "grid_auto_columns": null,
            "grid_auto_flow": null,
            "grid_auto_rows": null,
            "grid_column": null,
            "grid_gap": null,
            "grid_row": null,
            "grid_template_areas": null,
            "grid_template_columns": null,
            "grid_template_rows": null,
            "height": null,
            "justify_content": null,
            "justify_items": null,
            "left": null,
            "margin": null,
            "max_height": null,
            "max_width": null,
            "min_height": null,
            "min_width": null,
            "object_fit": null,
            "object_position": null,
            "order": null,
            "overflow": null,
            "overflow_x": null,
            "overflow_y": null,
            "padding": null,
            "right": null,
            "top": null,
            "visibility": null,
            "width": null
          }
        },
        "a9f428cd763e4142bbc88631a0f7ae7e": {
          "model_module": "@jupyter-widgets/base",
          "model_module_version": "1.2.0",
          "model_name": "LayoutModel",
          "state": {
            "_model_module": "@jupyter-widgets/base",
            "_model_module_version": "1.2.0",
            "_model_name": "LayoutModel",
            "_view_count": null,
            "_view_module": "@jupyter-widgets/base",
            "_view_module_version": "1.2.0",
            "_view_name": "LayoutView",
            "align_content": null,
            "align_items": null,
            "align_self": null,
            "border": null,
            "bottom": null,
            "display": null,
            "flex": null,
            "flex_flow": null,
            "grid_area": null,
            "grid_auto_columns": null,
            "grid_auto_flow": null,
            "grid_auto_rows": null,
            "grid_column": null,
            "grid_gap": null,
            "grid_row": null,
            "grid_template_areas": null,
            "grid_template_columns": null,
            "grid_template_rows": null,
            "height": null,
            "justify_content": null,
            "justify_items": null,
            "left": null,
            "margin": null,
            "max_height": null,
            "max_width": null,
            "min_height": null,
            "min_width": null,
            "object_fit": null,
            "object_position": null,
            "order": null,
            "overflow": null,
            "overflow_x": null,
            "overflow_y": null,
            "padding": null,
            "right": null,
            "top": null,
            "visibility": null,
            "width": null
          }
        },
        "ad743911b1114d2a8de210ffd3c81b07": {
          "model_module": "@jupyter-widgets/controls",
          "model_module_version": "1.5.0",
          "model_name": "HBoxModel",
          "state": {
            "_dom_classes": [],
            "_model_module": "@jupyter-widgets/controls",
            "_model_module_version": "1.5.0",
            "_model_name": "HBoxModel",
            "_view_count": null,
            "_view_module": "@jupyter-widgets/controls",
            "_view_module_version": "1.5.0",
            "_view_name": "HBoxView",
            "box_style": "",
            "children": [
              "IPY_MODEL_bf73cd3a905b42bb863c3aefb2a096d3",
              "IPY_MODEL_b0aa6527691945ab87d29315bc18810c",
              "IPY_MODEL_cb8befdee9fd486abd9ac53e0d2fcdb3"
            ],
            "layout": "IPY_MODEL_fe6f00101cf1418ab331dd65f21510c5"
          }
        },
        "ae30d3adfd1d4b3a8df122ebaafdd787": {
          "model_module": "@jupyter-widgets/base",
          "model_module_version": "1.2.0",
          "model_name": "LayoutModel",
          "state": {
            "_model_module": "@jupyter-widgets/base",
            "_model_module_version": "1.2.0",
            "_model_name": "LayoutModel",
            "_view_count": null,
            "_view_module": "@jupyter-widgets/base",
            "_view_module_version": "1.2.0",
            "_view_name": "LayoutView",
            "align_content": null,
            "align_items": null,
            "align_self": null,
            "border": null,
            "bottom": null,
            "display": null,
            "flex": null,
            "flex_flow": null,
            "grid_area": null,
            "grid_auto_columns": null,
            "grid_auto_flow": null,
            "grid_auto_rows": null,
            "grid_column": null,
            "grid_gap": null,
            "grid_row": null,
            "grid_template_areas": null,
            "grid_template_columns": null,
            "grid_template_rows": null,
            "height": null,
            "justify_content": null,
            "justify_items": null,
            "left": null,
            "margin": null,
            "max_height": null,
            "max_width": null,
            "min_height": null,
            "min_width": null,
            "object_fit": null,
            "object_position": null,
            "order": null,
            "overflow": null,
            "overflow_x": null,
            "overflow_y": null,
            "padding": null,
            "right": null,
            "top": null,
            "visibility": null,
            "width": null
          }
        },
        "b0aa6527691945ab87d29315bc18810c": {
          "model_module": "@jupyter-widgets/controls",
          "model_module_version": "1.5.0",
          "model_name": "FloatProgressModel",
          "state": {
            "_dom_classes": [],
            "_model_module": "@jupyter-widgets/controls",
            "_model_module_version": "1.5.0",
            "_model_name": "FloatProgressModel",
            "_view_count": null,
            "_view_module": "@jupyter-widgets/controls",
            "_view_module_version": "1.5.0",
            "_view_name": "ProgressView",
            "bar_style": "success",
            "description": "",
            "description_tooltip": null,
            "layout": "IPY_MODEL_553680c291e040f1abb3d9bbc85edc9e",
            "max": 411553788,
            "min": 0,
            "orientation": "horizontal",
            "style": "IPY_MODEL_72e1ff6f5db2430cba2c616bca793a3d",
            "value": 411553788
          }
        },
        "b4cee5ee0c0e49b6883fc8e77ca09a09": {
          "model_module": "@jupyter-widgets/controls",
          "model_module_version": "1.5.0",
          "model_name": "HTMLModel",
          "state": {
            "_dom_classes": [],
            "_model_module": "@jupyter-widgets/controls",
            "_model_module_version": "1.5.0",
            "_model_name": "HTMLModel",
            "_view_count": null,
            "_view_module": "@jupyter-widgets/controls",
            "_view_module_version": "1.5.0",
            "_view_name": "HTMLView",
            "description": "",
            "description_tooltip": null,
            "layout": "IPY_MODEL_ec59a5e9108c4743af7ea34d50ccc612",
            "placeholder": "​",
            "style": "IPY_MODEL_45c9fd2864d847e4bc9a011909289b58",
            "value": " 269k/269k [00:00&lt;00:00, 2.29MB/s]"
          }
        },
        "b6277b156ede4ac98e54d73d2cb65116": {
          "model_module": "@jupyter-widgets/base",
          "model_module_version": "1.2.0",
          "model_name": "LayoutModel",
          "state": {
            "_model_module": "@jupyter-widgets/base",
            "_model_module_version": "1.2.0",
            "_model_name": "LayoutModel",
            "_view_count": null,
            "_view_module": "@jupyter-widgets/base",
            "_view_module_version": "1.2.0",
            "_view_name": "LayoutView",
            "align_content": null,
            "align_items": null,
            "align_self": null,
            "border": null,
            "bottom": null,
            "display": null,
            "flex": null,
            "flex_flow": null,
            "grid_area": null,
            "grid_auto_columns": null,
            "grid_auto_flow": null,
            "grid_auto_rows": null,
            "grid_column": null,
            "grid_gap": null,
            "grid_row": null,
            "grid_template_areas": null,
            "grid_template_columns": null,
            "grid_template_rows": null,
            "height": null,
            "justify_content": null,
            "justify_items": null,
            "left": null,
            "margin": null,
            "max_height": null,
            "max_width": null,
            "min_height": null,
            "min_width": null,
            "object_fit": null,
            "object_position": null,
            "order": null,
            "overflow": null,
            "overflow_x": null,
            "overflow_y": null,
            "padding": null,
            "right": null,
            "top": null,
            "visibility": null,
            "width": null
          }
        },
        "b8198f71b7644e42aa4877c8f601f1d7": {
          "model_module": "@jupyter-widgets/controls",
          "model_module_version": "1.5.0",
          "model_name": "FloatProgressModel",
          "state": {
            "_dom_classes": [],
            "_model_module": "@jupyter-widgets/controls",
            "_model_module_version": "1.5.0",
            "_model_name": "FloatProgressModel",
            "_view_count": null,
            "_view_module": "@jupyter-widgets/controls",
            "_view_module_version": "1.5.0",
            "_view_name": "ProgressView",
            "bar_style": "success",
            "description": "",
            "description_tooltip": null,
            "layout": "IPY_MODEL_5d9cb6d40a42430fa7e7aeb569c0cd58",
            "max": 624,
            "min": 0,
            "orientation": "horizontal",
            "style": "IPY_MODEL_0061d919d93a46f3acefa38b2c1919f4",
            "value": 624
          }
        },
        "b9ef7846bc3440ba96de813b2f0a9ef1": {
          "model_module": "@jupyter-widgets/base",
          "model_module_version": "1.2.0",
          "model_name": "LayoutModel",
          "state": {
            "_model_module": "@jupyter-widgets/base",
            "_model_module_version": "1.2.0",
            "_model_name": "LayoutModel",
            "_view_count": null,
            "_view_module": "@jupyter-widgets/base",
            "_view_module_version": "1.2.0",
            "_view_name": "LayoutView",
            "align_content": null,
            "align_items": null,
            "align_self": null,
            "border": null,
            "bottom": null,
            "display": null,
            "flex": null,
            "flex_flow": null,
            "grid_area": null,
            "grid_auto_columns": null,
            "grid_auto_flow": null,
            "grid_auto_rows": null,
            "grid_column": null,
            "grid_gap": null,
            "grid_row": null,
            "grid_template_areas": null,
            "grid_template_columns": null,
            "grid_template_rows": null,
            "height": null,
            "justify_content": null,
            "justify_items": null,
            "left": null,
            "margin": null,
            "max_height": null,
            "max_width": null,
            "min_height": null,
            "min_width": null,
            "object_fit": null,
            "object_position": null,
            "order": null,
            "overflow": null,
            "overflow_x": null,
            "overflow_y": null,
            "padding": null,
            "right": null,
            "top": null,
            "visibility": null,
            "width": null
          }
        },
        "bcf83f3f1f6645c8877ea28278ef4299": {
          "model_module": "@jupyter-widgets/controls",
          "model_module_version": "1.5.0",
          "model_name": "HTMLModel",
          "state": {
            "_dom_classes": [],
            "_model_module": "@jupyter-widgets/controls",
            "_model_module_version": "1.5.0",
            "_model_name": "HTMLModel",
            "_view_count": null,
            "_view_module": "@jupyter-widgets/controls",
            "_view_module_version": "1.5.0",
            "_view_name": "HTMLView",
            "description": "",
            "description_tooltip": null,
            "layout": "IPY_MODEL_1a60e9dbf9774c8db2a9bda93bff88fb",
            "placeholder": "​",
            "style": "IPY_MODEL_5eb0e9036906423896a5c9e60278f30d",
            "value": " 624/624 [00:00&lt;00:00, 2.78kB/s]"
          }
        },
        "bf73cd3a905b42bb863c3aefb2a096d3": {
          "model_module": "@jupyter-widgets/controls",
          "model_module_version": "1.5.0",
          "model_name": "HTMLModel",
          "state": {
            "_dom_classes": [],
            "_model_module": "@jupyter-widgets/controls",
            "_model_module_version": "1.5.0",
            "_model_name": "HTMLModel",
            "_view_count": null,
            "_view_module": "@jupyter-widgets/controls",
            "_view_module_version": "1.5.0",
            "_view_name": "HTMLView",
            "description": "",
            "description_tooltip": null,
            "layout": "IPY_MODEL_ae30d3adfd1d4b3a8df122ebaafdd787",
            "placeholder": "​",
            "style": "IPY_MODEL_126f7a12eb824e4092c61aedbe344ce4",
            "value": "model.safetensors: 100%"
          }
        },
        "cb8befdee9fd486abd9ac53e0d2fcdb3": {
          "model_module": "@jupyter-widgets/controls",
          "model_module_version": "1.5.0",
          "model_name": "HTMLModel",
          "state": {
            "_dom_classes": [],
            "_model_module": "@jupyter-widgets/controls",
            "_model_module_version": "1.5.0",
            "_model_name": "HTMLModel",
            "_view_count": null,
            "_view_module": "@jupyter-widgets/controls",
            "_view_module_version": "1.5.0",
            "_view_name": "HTMLView",
            "description": "",
            "description_tooltip": null,
            "layout": "IPY_MODEL_65f44bb2d0c2402f85e9fe0330ce1371",
            "placeholder": "​",
            "style": "IPY_MODEL_38e6776d3db045cfa8eb1b44f7c806be",
            "value": " 412M/412M [00:05&lt;00:00, 81.1MB/s]"
          }
        },
        "cbff040efb8f40948c7f048361e22a96": {
          "model_module": "@jupyter-widgets/controls",
          "model_module_version": "1.5.0",
          "model_name": "HBoxModel",
          "state": {
            "_dom_classes": [],
            "_model_module": "@jupyter-widgets/controls",
            "_model_module_version": "1.5.0",
            "_model_name": "HBoxModel",
            "_view_count": null,
            "_view_module": "@jupyter-widgets/controls",
            "_view_module_version": "1.5.0",
            "_view_name": "HBoxView",
            "box_style": "",
            "children": [
              "IPY_MODEL_7a42da38b9ce46f1b46bc4588f9b0130",
              "IPY_MODEL_4bf7b18ebe6848e0b8858870947e3b53",
              "IPY_MODEL_429e5ebf075944d381b8c7c898b04503"
            ],
            "layout": "IPY_MODEL_4574a494422240cf9337123e6d9cc2cc"
          }
        },
        "d6a4108797314fb1b9e24840d74607f0": {
          "model_module": "@jupyter-widgets/controls",
          "model_module_version": "1.5.0",
          "model_name": "FloatProgressModel",
          "state": {
            "_dom_classes": [],
            "_model_module": "@jupyter-widgets/controls",
            "_model_module_version": "1.5.0",
            "_model_name": "FloatProgressModel",
            "_view_count": null,
            "_view_module": "@jupyter-widgets/controls",
            "_view_module_version": "1.5.0",
            "_view_name": "ProgressView",
            "bar_style": "success",
            "description": "",
            "description_tooltip": null,
            "layout": "IPY_MODEL_630a3bc4b9244dc8a78f8e415d664003",
            "max": 109540,
            "min": 0,
            "orientation": "horizontal",
            "style": "IPY_MODEL_69e3e04eb00b45bf8d012fb6b4addc9e",
            "value": 109540
          }
        },
        "de32e441cb3e43d59db32c7064440ccf": {
          "model_module": "@jupyter-widgets/controls",
          "model_module_version": "1.5.0",
          "model_name": "DescriptionStyleModel",
          "state": {
            "_model_module": "@jupyter-widgets/controls",
            "_model_module_version": "1.5.0",
            "_model_name": "DescriptionStyleModel",
            "_view_count": null,
            "_view_module": "@jupyter-widgets/base",
            "_view_module_version": "1.2.0",
            "_view_name": "StyleView",
            "description_width": ""
          }
        },
        "dfc98b905909478dae9d3c00ec7005d3": {
          "model_module": "@jupyter-widgets/base",
          "model_module_version": "1.2.0",
          "model_name": "LayoutModel",
          "state": {
            "_model_module": "@jupyter-widgets/base",
            "_model_module_version": "1.2.0",
            "_model_name": "LayoutModel",
            "_view_count": null,
            "_view_module": "@jupyter-widgets/base",
            "_view_module_version": "1.2.0",
            "_view_name": "LayoutView",
            "align_content": null,
            "align_items": null,
            "align_self": null,
            "border": null,
            "bottom": null,
            "display": null,
            "flex": null,
            "flex_flow": null,
            "grid_area": null,
            "grid_auto_columns": null,
            "grid_auto_flow": null,
            "grid_auto_rows": null,
            "grid_column": null,
            "grid_gap": null,
            "grid_row": null,
            "grid_template_areas": null,
            "grid_template_columns": null,
            "grid_template_rows": null,
            "height": null,
            "justify_content": null,
            "justify_items": null,
            "left": null,
            "margin": null,
            "max_height": null,
            "max_width": null,
            "min_height": null,
            "min_width": null,
            "object_fit": null,
            "object_position": null,
            "order": null,
            "overflow": null,
            "overflow_x": null,
            "overflow_y": null,
            "padding": null,
            "right": null,
            "top": null,
            "visibility": null,
            "width": null
          }
        },
        "e1a73b8d2da24f8d9c092ec30b53b07a": {
          "model_module": "@jupyter-widgets/controls",
          "model_module_version": "1.5.0",
          "model_name": "HTMLModel",
          "state": {
            "_dom_classes": [],
            "_model_module": "@jupyter-widgets/controls",
            "_model_module_version": "1.5.0",
            "_model_name": "HTMLModel",
            "_view_count": null,
            "_view_module": "@jupyter-widgets/controls",
            "_view_module_version": "1.5.0",
            "_view_name": "HTMLView",
            "description": "",
            "description_tooltip": null,
            "layout": "IPY_MODEL_a9f428cd763e4142bbc88631a0f7ae7e",
            "placeholder": "​",
            "style": "IPY_MODEL_9d57a625eecc4fa087f06631ad8d9e18",
            "value": "vocab.txt: 100%"
          }
        },
        "ec59a5e9108c4743af7ea34d50ccc612": {
          "model_module": "@jupyter-widgets/base",
          "model_module_version": "1.2.0",
          "model_name": "LayoutModel",
          "state": {
            "_model_module": "@jupyter-widgets/base",
            "_model_module_version": "1.2.0",
            "_model_name": "LayoutModel",
            "_view_count": null,
            "_view_module": "@jupyter-widgets/base",
            "_view_module_version": "1.2.0",
            "_view_name": "LayoutView",
            "align_content": null,
            "align_items": null,
            "align_self": null,
            "border": null,
            "bottom": null,
            "display": null,
            "flex": null,
            "flex_flow": null,
            "grid_area": null,
            "grid_auto_columns": null,
            "grid_auto_flow": null,
            "grid_auto_rows": null,
            "grid_column": null,
            "grid_gap": null,
            "grid_row": null,
            "grid_template_areas": null,
            "grid_template_columns": null,
            "grid_template_rows": null,
            "height": null,
            "justify_content": null,
            "justify_items": null,
            "left": null,
            "margin": null,
            "max_height": null,
            "max_width": null,
            "min_height": null,
            "min_width": null,
            "object_fit": null,
            "object_position": null,
            "order": null,
            "overflow": null,
            "overflow_x": null,
            "overflow_y": null,
            "padding": null,
            "right": null,
            "top": null,
            "visibility": null,
            "width": null
          }
        },
        "fa950e34767c4d4c9261708ec63c92f3": {
          "model_module": "@jupyter-widgets/controls",
          "model_module_version": "1.5.0",
          "model_name": "DescriptionStyleModel",
          "state": {
            "_model_module": "@jupyter-widgets/controls",
            "_model_module_version": "1.5.0",
            "_model_name": "DescriptionStyleModel",
            "_view_count": null,
            "_view_module": "@jupyter-widgets/base",
            "_view_module_version": "1.2.0",
            "_view_name": "StyleView",
            "description_width": ""
          }
        },
        "fc08dd7378de46318d2462f97c065ce5": {
          "model_module": "@jupyter-widgets/controls",
          "model_module_version": "1.5.0",
          "model_name": "HBoxModel",
          "state": {
            "_dom_classes": [],
            "_model_module": "@jupyter-widgets/controls",
            "_model_module_version": "1.5.0",
            "_model_name": "HBoxModel",
            "_view_count": null,
            "_view_module": "@jupyter-widgets/controls",
            "_view_module_version": "1.5.0",
            "_view_name": "HBoxView",
            "box_style": "",
            "children": [
              "IPY_MODEL_27da726eef614c72b21ad82dd0f7df19",
              "IPY_MODEL_b8198f71b7644e42aa4877c8f601f1d7",
              "IPY_MODEL_bcf83f3f1f6645c8877ea28278ef4299"
            ],
            "layout": "IPY_MODEL_0e7e5ff63d9546c79813631c2e6012fd"
          }
        },
        "fe6f00101cf1418ab331dd65f21510c5": {
          "model_module": "@jupyter-widgets/base",
          "model_module_version": "1.2.0",
          "model_name": "LayoutModel",
          "state": {
            "_model_module": "@jupyter-widgets/base",
            "_model_module_version": "1.2.0",
            "_model_name": "LayoutModel",
            "_view_count": null,
            "_view_module": "@jupyter-widgets/base",
            "_view_module_version": "1.2.0",
            "_view_name": "LayoutView",
            "align_content": null,
            "align_items": null,
            "align_self": null,
            "border": null,
            "bottom": null,
            "display": null,
            "flex": null,
            "flex_flow": null,
            "grid_area": null,
            "grid_auto_columns": null,
            "grid_auto_flow": null,
            "grid_auto_rows": null,
            "grid_column": null,
            "grid_gap": null,
            "grid_row": null,
            "grid_template_areas": null,
            "grid_template_columns": null,
            "grid_template_rows": null,
            "height": null,
            "justify_content": null,
            "justify_items": null,
            "left": null,
            "margin": null,
            "max_height": null,
            "max_width": null,
            "min_height": null,
            "min_width": null,
            "object_fit": null,
            "object_position": null,
            "order": null,
            "overflow": null,
            "overflow_x": null,
            "overflow_y": null,
            "padding": null,
            "right": null,
            "top": null,
            "visibility": null,
            "width": null
          }
        },
        "feec962202794c74b730bdfc47e0bffb": {
          "model_module": "@jupyter-widgets/controls",
          "model_module_version": "1.5.0",
          "model_name": "FloatProgressModel",
          "state": {
            "_dom_classes": [],
            "_model_module": "@jupyter-widgets/controls",
            "_model_module_version": "1.5.0",
            "_model_name": "FloatProgressModel",
            "_view_count": null,
            "_view_module": "@jupyter-widgets/controls",
            "_view_module_version": "1.5.0",
            "_view_name": "ProgressView",
            "bar_style": "success",
            "description": "",
            "description_tooltip": null,
            "layout": "IPY_MODEL_97fe2d313c894062b426929a54d84352",
            "max": 268943,
            "min": 0,
            "orientation": "horizontal",
            "style": "IPY_MODEL_2d693c20e33a4e7a9827391305eb24a0",
            "value": 268943
          }
        }
      }
    }
  },
  "nbformat": 4,
  "nbformat_minor": 0
}
