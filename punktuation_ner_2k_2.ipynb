{
  "cells": [
    {
      "cell_type": "markdown",
      "metadata": {
        "colab_type": "text",
        "id": "view-in-github"
      },
      "source": [
        "<a href=\"https://colab.research.google.com/github/doraemonidol/bert-crf/blob/master/punktuation_ner_2k_2.ipynb\" target=\"_parent\"><img src=\"https://colab.research.google.com/assets/colab-badge.svg\" alt=\"Open In Colab\"/></a>"
      ]
    },
    {
      "cell_type": "code",
      "execution_count": null,
      "metadata": {
        "colab": {
          "base_uri": "https://localhost:8080/"
        },
        "id": "PcxV9bgteVTS",
        "outputId": "84453d58-1902-4ca0-db63-c0e171d5943b"
      },
      "outputs": [],
      "source": [
        "from google.colab import drive\n",
        "drive.mount('/content/gdrive/')"
      ]
    },
    {
      "cell_type": "code",
      "execution_count": null,
      "metadata": {
        "id": "d2ZcDs9WeYC1"
      },
      "outputs": [],
      "source": [
        "# import sys\n",
        "# sys.path.append('/content/gdrive/MyDrive/Colab/punktuation-ner')"
      ]
    },
    {
      "cell_type": "code",
      "execution_count": null,
      "metadata": {
        "colab": {
          "base_uri": "https://localhost:8080/"
        },
        "id": "y-Sxoj2-vLk1",
        "outputId": "948f976d-b660-43d6-9278-3419cfc599f8"
      },
      "outputs": [],
      "source": [
        "!pip install forgebox==0.4.18.5 pytorch_lightning sklearn-model"
      ]
    },
    {
      "cell_type": "markdown",
      "metadata": {
        "id": "GW2xYPCQsdjq"
      },
      "source": [
        "# Punctuation NER"
      ]
    },
    {
      "cell_type": "code",
      "execution_count": 5,
      "metadata": {
        "id": "-nAfO_Zxsdjr"
      },
      "outputs": [],
      "source": [
        "# Forgebox Imports\n",
        "from forgebox.imports import *\n",
        "from forgebox.category import Category\n",
        "import pytorch_lightning as pl\n",
        "from transformers import AutoTokenizer, BertForTokenClassification, BertModel\n",
        "from transformers import pipeline\n",
        "from typing import List\n",
        "import re\n",
        "from torch.utils.data import DataLoader, Dataset"
      ]
    },
    {
      "cell_type": "code",
      "execution_count": 6,
      "metadata": {
        "id": "tK0e6KrmvyOv"
      },
      "outputs": [],
      "source": [
        "DATA = r'/content/gdrive/MyDrive/Colab/punktuation-ner/data'"
      ]
    },
    {
      "cell_type": "code",
      "execution_count": null,
      "metadata": {
        "colab": {
          "base_uri": "https://localhost:8080/"
        },
        "id": "XXq-WPgBZxrH",
        "outputId": "c6e18c55-536e-401e-d126-19f046bebd2a"
      },
      "outputs": [],
      "source": [
        "# In data/couplets/Chinese_couplet_dataset_sample_2K.tsv, the format is as follows:\n",
        "# first,second,label\n",
        "# 明 有 通 人 著 赤 雅                                                                            ,汉 称 孝 子 褒 黄 香,0000000\n",
        "# 栖 霞 山 上 栖 霞 寺                                                                            ,建 业 城 中 建 业 人,0000000\n",
        "# 修 身 如 执 玉                                                                                  ,行 善 胜 遗 金,00000\n",
        "# 闲 云 归 岫 连 峰 暗                                                                            ,飞 瀑 垂 空 漱 石 凉,0000000\n",
        "# 雪 寂 春 薄 ， 谁 怜 取 寒 香 一 抹                                                             ,夜 深 人 静 ， 伊 独 饮 醉 苦 千 般,000010000000\n",
        "\n",
        "# Load the data and use train_test_split to split the data into training and validation sets, save the data to the data folder\n",
        "import pandas as pd\n",
        "from sklearn.model_selection import train_test_split\n",
        "\n",
        "df = pd.read_csv(f\"{DATA}/Chinese_couplet_dataset_sample_2K.tsv\", encoding=\"utf-8\", sep=\",\")\n",
        "\n",
        "# Remove the space in the first, second\n",
        "df[\"first\"] = df[\"first\"].apply(lambda x: x.replace(\" \", \"\"))\n",
        "df[\"second\"] = df[\"second\"].apply(lambda x: x.replace(\" \", \"\"))\n",
        "\n",
        "print(\"Length before: \" + str(len(df)))\n",
        "df = df.groupby('label').filter(lambda x: len(x) > 1)\n",
        "print(\"Length after: \" + str(len(df)))\n",
        "\n",
        "# # Combine the first and second columns into a new column text\n",
        "df[\"text\"] = df[\"first\"] + '\\n' + df[\"second\"]\n",
        "\n",
        "# # Remove the first, second columns\n",
        "df = df.drop(columns=[\"first\", \"second\"])\n",
        "\n",
        "df_train, df_val = train_test_split(df, test_size=0.1, random_state=42, stratify=df['label'])\n",
        "\n",
        "with open(f\"{DATA}/split/train.txt\", \"w\") as f:\n",
        "    for text in df_train[\"text\"]:\n",
        "        f.write(text + \"\\n\")\n",
        "\n",
        "with open(f\"{DATA}/split/valid.txt\", \"w\") as f:\n",
        "    for text in df_val[\"text\"]:\n",
        "        f.write(text + \"\\n\")"
      ]
    },
    {
      "cell_type": "code",
      "execution_count": 10,
      "metadata": {
        "id": "qMdAR9tl3yPF"
      },
      "outputs": [],
      "source": [
        "# In data/train-fixed.txt, the format is as follows:\n",
        "# input\toutput\n",
        "# 年年月月動動儉儉積積撒撒家家富富裕裕\t年年月月,動動,儉儉,積積,撒撒,家家,富富,裕裕\n",
        "# 去去來來取取存存角角元元户户歡歡欣欣\t去去來來,取取,存存,角角,元元,户户,歡歡,欣欣\n",
        "\n",
        "# Only get the output columns, give each row a label by a define functions. Load the data and use train_test_split to split the data into training and validation sets, save the data to the data folder.\n",
        "import pandas as pd\n",
        "from sklearn.model_selection import train_test_split\n",
        "\n",
        "def label(x):\n",
        "    punctuations = [\"，\", \"。\", \"！\", \"？\", \"、\", \"：\", \"；\", \"「\", \"」\", \"『\", \"』\", \"（\", \"）\", \"《\", \"》\", \"〈\", \"〉\", \"【\", \"】\", \"〔\", \"〕\", \"［\", \"］\", \"｛\", \"｝\", \"﹙\", \"﹚\", \"﹛\", \"﹜\", \"﹝\", \"﹞\", \"‘\", \"’\", \"“\", \"”\", \"〝\", \"〞\", \"‵\", \"′\", \"〃\", \"‶\", \"‷\", \"﹁\", \"﹂\", \"﹃\", \"﹄\", \"《\", \"》\", \"〈\", \"〉\", \"「\", \"」\", \"『\", \"』\", \"〖\", \"〗\", \"【\", \"】\", \"±\", \"×\", \"÷\", \"∶\", \"∣\", \"∥\", \"∧\", \"∨\", \"∩\", \"∪\", \"∫\", \"∮\", \"∝\", \"∞\", \"∠\", \"∟\", \"∥\", \"∧\", \"∨\", \"∩\", \"∪\", \"∫\", \"∮\", \"∝\", \"∞\", \"∠\", \"∟\", \"∥\", \"∧\", \"∨\", \"∩\", \"∪\", \"∫\", \"∮\", \"∝\", \"∞\", \"∠\", \"∟\", \"∥\", \"∧\", \"∨\", \"∩\", \"∪\", \"∫\", \"∮\", \"∝\", \"∞\", \"∠\", \"∟\", \"∥\", \"∧\", \"∨\", \"∩\", \"∪\", \"∫\", \"∮\", \"∝\", \"∞\", \"∠\", \"∟\", \"∥\", \"∧\", \"∨\", \"∩\", \"∪\", \"∫\", \"∮\", \"∝\", \"∞\", \"∠\", \"∟\", \"∥\", \"∧\",]\n",
        "    label = []\n",
        "    for punctuation in punctuations:\n",
        "        if punctuation in x:\n",
        "            label.append(\"1\")\n",
        "        else:\n",
        "            label.append(\"0\")\n",
        "    return \"\".join(label)\n",
        "\n",
        "df = pd.read_csv(f\"{DATA}/train-fixed.txt\", encoding=\"utf-8\", sep=\"\\t\")\n",
        "df.drop(columns=[\"input\"], inplace=True)\n",
        "df[\"label\"] = df[\"output\"].apply(label)\n",
        "\n",
        "label_counts = df['label'].value_counts()\n",
        "valid_labels = label_counts[label_counts >= 2].index\n",
        "filtered_df = df[df['label'].isin(valid_labels)]\n",
        "\n",
        "df_train, df_val = train_test_split(filtered_df, test_size=0.2, random_state=42, stratify=filtered_df['label'])\n",
        "\n",
        "with open(f\"{DATA}/split/train.txt\", \"w\") as f:\n",
        "    for text in df_train[\"output\"]:\n",
        "        f.write(text + \"\\n\")\n",
        "\n",
        "with open(f\"{DATA}/split/valid.txt\", \"w\") as f:\n",
        "    for text in df_val[\"output\"]:\n",
        "        f.write(text + \"\\n\")"
      ]
    },
    {
      "cell_type": "markdown",
      "metadata": {
        "id": "TcHShB4Asdjs"
      },
      "source": [
        "## Read Metadata"
      ]
    },
    {
      "cell_type": "code",
      "execution_count": null,
      "metadata": {
        "id": "P0cfYEFzsdjs"
      },
      "outputs": [],
      "source": [
        "# META = pd.read_csv(DATA/\"meta.csv\")"
      ]
    },
    {
      "cell_type": "code",
      "execution_count": 11,
      "metadata": {
        "id": "jIixirHhsdjs"
      },
      "outputs": [],
      "source": [
        "LABELS = ['train.txt', 'valid.txt']"
      ]
    },
    {
      "cell_type": "code",
      "execution_count": 12,
      "metadata": {
        "id": "RnvKgkzysdjs"
      },
      "outputs": [],
      "source": [
        "punkt_regex = r'[^\\w\\s]'\n",
        "\n",
        "def position_of_all_punctuation(x):\n",
        "    return [m.start() for m in re.finditer(punkt_regex, x)]\n",
        "\n",
        "# simplify the punctuation\n",
        "eng_punkt_to_cn_dict = {\n",
        "    \".\": \"1\",\n",
        "    \",\": \"1\",\n",
        "    \":\": \"1\",\n",
        "    \";\": \"1\",\n",
        "    \"?\": \"1\",\n",
        "    \"!\": \"1\",\n",
        "    \"“\": \"1\",\n",
        "    \"”\": \"1\",\n",
        "    \"‘\": \"1\",\n",
        "    \"’\": \"1\",\n",
        "    \"「\": \"1\",\n",
        "    \"」\": \"1\",\n",
        "    \"『\": \"1\",\n",
        "    \"』\": \"1\",\n",
        "    \"（\": \"1\",\n",
        "    \"）\": \"1\",\n",
        "    \"《\": \"1\",\n",
        "    \"》\": \"1\",\n",
        "    \"［\": \"1\",\n",
        "    \"］\": \"1\",\n",
        "    }\n",
        "\n",
        "def translate_eng_punkt_to_cn(char):\n",
        "    if char == \"0\":\n",
        "        return char\n",
        "    if char in eng_punkt_to_cn_dict.values():\n",
        "        return char\n",
        "    result = eng_punkt_to_cn_dict.get(char)\n",
        "    if result is None:\n",
        "        return \"1\"\n",
        "    return result\n",
        "\n",
        "def punct_ner_pair(sentence):\n",
        "    positions = position_of_all_punctuation(sentence)\n",
        "    x = re.sub(punkt_regex, '', sentence)\n",
        "    y = list(\"0\"*len(x))\n",
        "\n",
        "    for i, p in enumerate(positions):\n",
        "        y[p-i-1] = sentence[p]\n",
        "    p_df = pd.DataFrame({\"x\":list(x), \"y\":y})\n",
        "    p_df[\"y\"] = p_df[\"y\"].apply(translate_eng_punkt_to_cn)\n",
        "    return p_df"
      ]
    },
    {
      "cell_type": "code",
      "execution_count": 13,
      "metadata": {
        "id": "-rLuqkoJsdjt"
      },
      "outputs": [],
      "source": [
        "ALL_LABELS = [\"0\", \"1\"] #+list(eng_punkt_to_cn_dict.values())"
      ]
    },
    {
      "cell_type": "code",
      "execution_count": null,
      "metadata": {
        "colab": {
          "base_uri": "https://localhost:8080/"
        },
        "id": "fnxEnvuFqOXF",
        "outputId": "ab8c8f03-52e6-44b9-8931-017d656deb13"
      },
      "outputs": [],
      "source": [
        "print(ALL_LABELS)"
      ]
    },
    {
      "cell_type": "code",
      "execution_count": 15,
      "metadata": {
        "id": "igm2oCW6sdjt"
      },
      "outputs": [],
      "source": [
        "cates = Category(ALL_LABELS)"
      ]
    },
    {
      "cell_type": "code",
      "execution_count": 16,
      "metadata": {
        "code_folding": [
          0
        ],
        "id": "_yR7bwAbsdjt"
      },
      "outputs": [],
      "source": [
        "class PunctDataset(Dataset):\n",
        "    def __init__(\n",
        "        self,\n",
        "        data_dir: Path,\n",
        "        filelist: List[str],\n",
        "        num_threads: int = 8,\n",
        "        length: int = 1000,\n",
        "        size: int = 540\n",
        "    ):\n",
        "        \"\"\"\n",
        "        Args:\n",
        "            - filelist: list of file names\n",
        "            - The dataset will open ```num_threads``` files, and hold\n",
        "                in memory simoultaneously.\n",
        "            - num_threads: number of threads to read files,\n",
        "            - length: number of sentences per batch\n",
        "            - size: number of characters per sentence\n",
        "        \"\"\"\n",
        "        self.data_dir = Path(data_dir)\n",
        "        self.filelist = filelist\n",
        "        self.num_threads = num_threads\n",
        "        self.length = length\n",
        "        # open file strings, index is mod of num_threads\n",
        "        self.current_files = dict(enumerate([\"\"]*length))\n",
        "        self.string_index = dict(enumerate([0]*length))\n",
        "        self.to_open_idx = 0\n",
        "        self.size = size\n",
        "        self.get_counter = 0\n",
        "        self.return_string = False\n",
        "\n",
        "    def __len__(self):\n",
        "        return self.length\n",
        "\n",
        "    def __repr__(self):\n",
        "        return f\"PunctDataset: {len(self)}, on {len(self.filelist)} files\"\n",
        "\n",
        "    def new_file(self, idx_mod):\n",
        "        filename = self.filelist[self.to_open_idx]\n",
        "        with open(self.data_dir/filename, \"r\", encoding=\"utf-8\") as f:\n",
        "            self.current_files[idx_mod] = f.read()\n",
        "\n",
        "        self.to_open_idx += 1\n",
        "\n",
        "        # reset to open article file index\n",
        "        if self.to_open_idx >= len(self.filelist):\n",
        "            self.to_open_idx = 0\n",
        "\n",
        "        # reset string_index within new article file\n",
        "        self.string_index[idx_mod] = 0\n",
        "\n",
        "        # if self.to_open_idx % 500 == 0:\n",
        "        #     print(f\"went through files:\\t{self.to_open_idx}\")\n",
        "\n",
        "    def __getitem__(self, idx):\n",
        "        idx_mod = self.get_counter % self. num_threads\n",
        "\n",
        "        if self.string_index[idx_mod] >= len(self.current_files[idx_mod]):\n",
        "            self.new_file(idx_mod)\n",
        "        string_idx = self.string_index[idx_mod]\n",
        "\n",
        "        # slicing a sentence\n",
        "        sentence = self.current_files[idx_mod][string_idx:string_idx+self.size]\n",
        "\n",
        "        # move the string_index within current article file\n",
        "        self.string_index[idx_mod] += self.size\n",
        "\n",
        "        # move the get_counter\n",
        "        self.get_counter += 1\n",
        "        p_df = punct_ner_pair(sentence)\n",
        "        return list(p_df.x), list(p_df.y)\n",
        "\n",
        "    def align_offsets(\n",
        "        self,\n",
        "        inputs,\n",
        "        text_labels: List[List[str]],\n",
        "        words: List[List[str]]\n",
        "    ):\n",
        "        \"\"\"\n",
        "        inputs: output if tokenizer\n",
        "        text_labels: labels in form of list of list of strings\n",
        "        words: words in form of list of list of strings\n",
        "        \"\"\"\n",
        "        labels = torch.zeros_like(inputs.input_ids).long()\n",
        "        labels -= 100\n",
        "        text_lables_array = np.empty(labels.shape, dtype=object)\n",
        "        words_array = np.empty(labels.shape, dtype=object)\n",
        "        max_len = inputs.input_ids.shape[1]\n",
        "\n",
        "        # print(\"Input_ids: \", inputs.input_ids)\n",
        "\n",
        "        # print(\"Max Len: \", max_len)\n",
        "\n",
        "        # print(\"Text Labels: \", text_labels)\n",
        "\n",
        "        for row_id, input_ids in enumerate(inputs.input_ids):\n",
        "            word_pos = inputs.word_ids(row_id)\n",
        "            # print(\"Word Pos: \", word_pos)\n",
        "            for idx, pos in enumerate(word_pos):\n",
        "                # print(\"index: \", idx)\n",
        "                if pos is None:\n",
        "                    # print(\"Pos is None\")\n",
        "                    continue\n",
        "                labels[row_id, idx] = self.cates.c2i[text_labels[row_id][pos]]\n",
        "                if self.return_string:\n",
        "                    text_lables_array[row_id,\n",
        "                                        idx] = text_labels[row_id][pos]\n",
        "                    words_array[row_id, idx] = words[row_id][pos]\n",
        "\n",
        "        inputs['labels'] = labels\n",
        "\n",
        "        if self.return_string:\n",
        "            inputs['text_labels'] = text_lables_array.tolist()\n",
        "            inputs['word'] = words_array.tolist()\n",
        "\n",
        "        # for input_id in inputs['input_ids']:\n",
        "        #     print(\"InPuT_iD: \", input_id)\n",
        "        #     print(\"Word: \", self.tokenizer.convert_ids_to_tokens(input_id))\n",
        "        #     print(\"Word Pos: \", inputs.word_ids(0))\n",
        "        # for label in inputs['labels']:\n",
        "        #     print(\"Label: \", label)\n",
        "\n",
        "        return inputs\n",
        "\n",
        "    def collate_fn(self, data):\n",
        "        \"\"\"\n",
        "        data: list of tuple\n",
        "        \"\"\"\n",
        "        words, text_labels = zip(*data)\n",
        "\n",
        "        inputs = self.tokenizer(\n",
        "            list(words),\n",
        "            return_tensors='pt',\n",
        "            padding=True,\n",
        "            truncation=True,\n",
        "            max_length=self.max_len,\n",
        "            is_split_into_words=True,\n",
        "            return_offsets_mapping=True,\n",
        "            add_special_tokens=False,\n",
        "        )\n",
        "\n",
        "        # print(\"Original words\", words)\n",
        "\n",
        "        return self.align_offsets(inputs, text_labels, words)\n",
        "\n",
        "    def dataloaders(self, tokenizer, cates, max_len: int = 512, batch_size: int = 32):\n",
        "        self.tokenizer = tokenizer\n",
        "        self.cates = cates\n",
        "        self.max_len = max_len\n",
        "        return DataLoader(\n",
        "            self,\n",
        "            batch_size=batch_size,\n",
        "            shuffle=False,\n",
        "            collate_fn=self.collate_fn,\n",
        "        )\n",
        "\n",
        "    def split(self, ratio: float = 0.9, n_splits: int = 5):\n",
        "      \"\"\"\n",
        "      Split the dataset into train and valid using StratifiedKFold\n",
        "      \"\"\"\n",
        "\n",
        "      train_filelist = [\"train.txt\"]\n",
        "      valid_filelist = [\"valid.txt\"]\n",
        "\n",
        "      train_dataset = PunctDataset(\n",
        "          self.data_dir,\n",
        "          train_filelist,\n",
        "          num_threads=self.num_threads,\n",
        "          length=int(self.length * ratio),\n",
        "          size=self.size,\n",
        "      )\n",
        "      valid_dataset = PunctDataset(\n",
        "          self.data_dir,\n",
        "          valid_filelist,\n",
        "          num_threads=self.num_threads,\n",
        "          length=int(self.length * (1 - ratio)),\n",
        "          size=self.size,\n",
        "      )\n",
        "      return train_dataset, valid_dataset"
      ]
    },
    {
      "cell_type": "markdown",
      "metadata": {
        "id": "MkKOiGZgsdju"
      },
      "source": [
        "Create dataset object\n",
        "\n",
        "* Length is the length of the epoch\n",
        "* Size: is the sequence length\n",
        "* num_threads: num of files that is opening at the same time"
      ]
    },
    {
      "cell_type": "code",
      "execution_count": 26,
      "metadata": {
        "id": "j30XzwXRsdju"
      },
      "outputs": [],
      "source": [
        "ds = PunctDataset(DATA + '/split', LABELS, num_threads=1, length=7271, size=512)\n",
        "train_ds, valid_ds = ds.split(0.8)"
      ]
    },
    {
      "cell_type": "markdown",
      "metadata": {
        "id": "_OsERZ2Msdju"
      },
      "source": [
        "### lightning data module"
      ]
    },
    {
      "cell_type": "code",
      "execution_count": 27,
      "metadata": {
        "id": "zCAlLXadsdju"
      },
      "outputs": [],
      "source": [
        "class PunctDataModule(pl.LightningDataModule):\n",
        "    def __init__(self, train_ds, valid_ds, tokenizer, cates,\n",
        "    max_len=512, batch_size=32):\n",
        "        super().__init__()\n",
        "        self.train_ds, self.valid_ds = train_ds, valid_ds\n",
        "        self.tokenizer = tokenizer\n",
        "        self.cates = cates\n",
        "        self.max_len = max_len\n",
        "        self.batch_size = batch_size\n",
        "\n",
        "    def split_data(self):\n",
        "\n",
        "        return train_ds, valid_ds\n",
        "\n",
        "    def train_dataloader(self):\n",
        "        return self.train_ds.dataloaders(\n",
        "            self.tokenizer,\n",
        "            self.cates,\n",
        "            self.max_len,\n",
        "            self.batch_size,\n",
        "        )\n",
        "\n",
        "    def val_dataloader(self):\n",
        "        return self.valid_ds.dataloaders(\n",
        "            self.tokenizer,\n",
        "            self.cates,\n",
        "            self.max_len,\n",
        "            self.batch_size*4)"
      ]
    },
    {
      "cell_type": "markdown",
      "metadata": {
        "id": "DQwWK9Vzsdju"
      },
      "source": [
        "## Load Pretrained"
      ]
    },
    {
      "cell_type": "code",
      "execution_count": 28,
      "metadata": {
        "id": "naBrxECesdju"
      },
      "outputs": [],
      "source": [
        "tokenizer = AutoTokenizer.from_pretrained(\"bert-base-chinese\")"
      ]
    },
    {
      "cell_type": "code",
      "execution_count": 29,
      "metadata": {
        "id": "Bv9N_Ywzsdju"
      },
      "outputs": [],
      "source": [
        "from forgebox.thunder.callbacks import DataFrameMetricsCallback\n",
        "from forgebox.hf.train import NERModule"
      ]
    },
    {
      "cell_type": "code",
      "execution_count": 30,
      "metadata": {
        "id": "gpQCUifXsdju"
      },
      "outputs": [],
      "source": [
        "\n",
        "\n",
        "# Define BERT-CRF Model using PyTorch Lightning\n",
        "class BERT_CRF(pl.LightningModule):\n",
        "    def __init__(self, model, num_labels, learning_rate=1e-5):\n",
        "        super().__init__()\n",
        "        self.save_hyperparameters(ignore=['model'])\n",
        "\n",
        "        self.model = model\n",
        "        self.crf = CRF(num_labels, batch_first=True)\n",
        "        self.dropout = nn.Dropout(0.1)\n",
        "        self.fc = nn.Linear(self.model.config.hidden_size, num_labels)\n",
        "        self.lr = learning_rate\n",
        "\n",
        "    def forward(self, input_ids, attention_mask, labels=None):\n",
        "        output = self.model(\n",
        "            input_ids,\n",
        "            attention_mask=attention_mask,\n",
        "            labels=labels\n",
        "        )\n",
        "        sequence_output = output.last_hidden_state\n",
        "        sequence_output = self.dropout(sequence_output)\n",
        "        logits = self.fc(sequence_output)\n",
        "        if labels is not None:\n",
        "            loss = -self.crf(logits, labels, mask=attention_mask.bool(), reduction='mean')\n",
        "            return {\"loss\": loss, \"logits\": logits}\n",
        "        else:\n",
        "            return {\"logits\": logits}\n",
        "\n",
        "    def training_step(self, batch, batch_idx):\n",
        "        input_ids = batch['input_ids']\n",
        "        attention_mask = batch['attention_mask']\n",
        "        labels = batch['labels']\n",
        "        loss, logits = self(input_ids, attention_mask, labels)\n",
        "        self.log('train_loss', loss)\n",
        "        self.log('train_acc', self.crf.accuracy(logits, labels, attention_mask.byte()))\n",
        "        return loss\n",
        "\n",
        "    def validation_step(self, batch, batch_idx):\n",
        "        input_ids = batch['input_ids']\n",
        "        attention_mask = batch['attention_mask']\n",
        "        labels = batch['labels']\n",
        "        loss, logits = self(input_ids, attention_mask, labels)\n",
        "        self.log('val_loss', loss)\n",
        "        self.log('val_acc', self.crf.accuracy(logits, labels, attention_mask.byte()))\n",
        "        return loss\n",
        "\n",
        "    def configure_optimizers(self):\n",
        "        optimizer = torch.optim.AdamW(self.parameters(), lr=self.lr)\n",
        "        return optimizer\n"
      ]
    },
    {
      "cell_type": "markdown",
      "metadata": {
        "id": "SROrDVf5sdjv"
      },
      "source": [
        "Load pretrained model with proper num of categories"
      ]
    },
    {
      "cell_type": "code",
      "execution_count": null,
      "metadata": {
        "colab": {
          "base_uri": "https://localhost:8080/"
        },
        "id": "pyjCirgLsdjv",
        "outputId": "bd0c47af-bd80-49f5-bcc6-dadbc9a5af98"
      },
      "outputs": [],
      "source": [
        "model = BertForTokenClassification.from_pretrained(\"bert-base-chinese\", num_labels=len(cates),)"
      ]
    },
    {
      "cell_type": "code",
      "execution_count": null,
      "metadata": {
        "colab": {
          "base_uri": "https://localhost:8080/"
        },
        "id": "Xf15wg66sdjv",
        "outputId": "ed525cd4-6208-44ec-b07b-4eb7dc78f1f6"
      },
      "outputs": [],
      "source": [
        "print(train_ds.length)\n",
        "print(valid_ds.length)"
      ]
    },
    {
      "cell_type": "code",
      "execution_count": 33,
      "metadata": {
        "id": "LroOwXvEsdjv"
      },
      "outputs": [],
      "source": [
        "data_module = PunctDataModule(train_ds, valid_ds, tokenizer, cates,\n",
        "                              batch_size=32,)"
      ]
    },
    {
      "cell_type": "markdown",
      "metadata": {
        "id": "L4qvb_1Lsdjv"
      },
      "source": [
        "### Run data pipeline"
      ]
    },
    {
      "cell_type": "code",
      "execution_count": null,
      "metadata": {
        "colab": {
          "base_uri": "https://localhost:8080/"
        },
        "id": "ILg2XCnAsdjv",
        "outputId": "9a27cfbe-2f4a-4a1e-fb68-45add99caae1"
      },
      "outputs": [],
      "source": [
        "inputs = next(iter(data_module.val_dataloader()))\n",
        "print(inputs.input_ids)"
      ]
    },
    {
      "cell_type": "code",
      "execution_count": null,
      "metadata": {
        "colab": {
          "base_uri": "https://localhost:8080/"
        },
        "id": "ZUWK6mJksdjv",
        "outputId": "3edbba71-0fb1-40d9-8b98-58b2911cf9a3"
      },
      "outputs": [],
      "source": [
        "inputs.input_ids.shape"
      ]
    },
    {
      "cell_type": "code",
      "execution_count": null,
      "metadata": {
        "colab": {
          "base_uri": "https://localhost:8080/"
        },
        "id": "wctE5zlAsdjv",
        "outputId": "d83ac0ac-ef8d-4ae3-cb1b-1e8abe34ebcf"
      },
      "outputs": [],
      "source": [
        "inputs.labels.shape"
      ]
    },
    {
      "cell_type": "markdown",
      "metadata": {
        "id": "SDBPGQi9sdjv"
      },
      "source": [
        "## NER tranining module"
      ]
    },
    {
      "cell_type": "code",
      "execution_count": 37,
      "metadata": {
        "id": "MI-Bbrg8sdjv"
      },
      "outputs": [],
      "source": [
        "module = NERModule(model)"
      ]
    },
    {
      "cell_type": "code",
      "execution_count": 38,
      "metadata": {
        "id": "uzOnN4e-sdjv"
      },
      "outputs": [],
      "source": [
        "save_callback = pl.callbacks.ModelCheckpoint(\n",
        "    dirpath=f\"/content/gdrive/MyDrive/Colab/punktuation-ner/ckpoint\",\n",
        "    save_top_k=1,\n",
        "    verbose=True,\n",
        "    monitor='val_loss',\n",
        "    mode='min',\n",
        ")\n",
        "df_show = DataFrameMetricsCallback()"
      ]
    },
    {
      "cell_type": "markdown",
      "metadata": {
        "id": "rF1Wy_dysdjv"
      },
      "source": [
        "Reset the configure_optimizers function"
      ]
    },
    {
      "cell_type": "code",
      "execution_count": 39,
      "metadata": {
        "id": "D7_Lg0Uasdjv"
      },
      "outputs": [],
      "source": [
        "def configure_optimizers(self):\n",
        "        # discriminative learning rate\n",
        "    param_groups = [\n",
        "            {'params': self.model.bert.parameters(), 'lr': 5e-6},\n",
        "            {'params': self.model.classifier.parameters(), 'lr': 1e-3},\n",
        "        ]\n",
        "    optimizer = torch.optim.Adam(param_groups, lr=1e-3)\n",
        "    return optimizer\n",
        "\n",
        "NERModule.configure_optimizers = configure_optimizers"
      ]
    },
    {
      "cell_type": "code",
      "execution_count": null,
      "metadata": {
        "colab": {
          "base_uri": "https://localhost:8080/"
        },
        "id": "cBa18c_Hsdjw",
        "outputId": "3f1e8996-dcb6-4ed2-b2b7-ab599ffaec50"
      },
      "outputs": [],
      "source": [
        "import torch\n",
        "print(torch.cuda.is_available())"
      ]
    },
    {
      "cell_type": "markdown",
      "metadata": {
        "id": "QrRWPrHSsdjw"
      },
      "source": [
        "Trainer"
      ]
    },
    {
      "cell_type": "code",
      "execution_count": null,
      "metadata": {
        "colab": {
          "base_uri": "https://localhost:8080/"
        },
        "id": "s7S2ZyqJsdjw",
        "outputId": "1117a321-0a2c-4f85-a69f-dd5a64eb2a78"
      },
      "outputs": [],
      "source": [
        "trainer = pl.Trainer(\n",
        "    accelerator='gpu',\n",
        "    devices=1,\n",
        "    max_epochs=30,\n",
        "    callbacks=[df_show, save_callback],\n",
        "    )"
      ]
    },
    {
      "cell_type": "code",
      "execution_count": null,
      "metadata": {
        "colab": {
          "base_uri": "https://localhost:8080/",
          "height": 965,
          "referenced_widgets": [
            "4a1cadf962594cc78415362d0db2d3e6",
            "a1a4e7f8048d48dd9c5f92f68d750db3",
            "e80449c034c346719c0c021ebf548ff0",
            "22a0395721dc41f985102a5ba87ec7d1",
            "3937c2fc22bf4b9fa79aec68bee7a0a2",
            "9b42b066a04f49f8b36a914e5041c5d4",
            "e5fbc2f6a7534cc88c964391ab60443d",
            "e5c65188a332462291088786cda4e68a",
            "b2ffc2b2403b4f65a81dd657dd7cac55",
            "b90b5e556b824e72887cb2b8ad9dbf11",
            "31aa5f85a01c42cba73b0027db8bc3e6",
            "7ef50a03c9c14055b633163b752c0950",
            "5f44a8f1ae2b4edcb6db370ee2bf2294",
            "557a83c76d7145edaeb296a468abc91e",
            "e149022d068a44e38d786dd331d873f6",
            "80c5ab8b8792449b98824d017c1e46ee",
            "7364567106a946cab98fc939a99dc554",
            "069ad12d2e1a43f59956cb6bd6691121",
            "08af5b735862478584bdfc46da061c8a",
            "881f2877805d4fbe982bfede6a64894d",
            "37251014265b42699c62debabaabffe7",
            "04f4c502dcf74c889d207e127c07cbdb",
            "baab120fe07740668b343f942908ff4a",
            "f45d902db0114b0f8c4b9586393428c4",
            "f296f47663fd432db541e65534de707a",
            "0e93cc581d0c4b4bb6c185dee1c764cc",
            "a1d13bf9752d4d7589630454f3d60fd8",
            "0acc1059612d4bf891bde9362bb46f3d",
            "327d88e77e3d451c9b325c36b4b9ded6",
            "4c1b46b1fea54fb5bf26417ec5325e25",
            "dcebf37542ea40ca922fa51f6778852f",
            "44fc1d750ac840fea00919515341de2d",
            "ce96598a45404f5abd5fb14a9a16a1fe",
            "186a79df64584729aaeaf6cf350935be",
            "e30d8b2329f94aca9368a6d61960cc97",
            "2877e9204b1e437b85e0433198fcea5d",
            "ff76087f03ee4bc585bd78f04f64f3b7",
            "9ba42773b5254725bbe2d793e625e9bd",
            "7b9599b8119a4a029f090019a0273caf",
            "82bf8cf1ee9e48d8a7b7cac05125a155",
            "08bfaca823014a3e853b6cebbd96ee63",
            "fdf20b6b67994cf88f31e1b71dd6097c",
            "cef72d309ec74d29b55483199593d633",
            "7a915572ee1042e1a2ae85cd922beeec",
            "c45e8985b3f244ec8d128eda4b259094",
            "c2be2270ec0f4e4ab2958c738b9c16f3",
            "a7a698ef5937452d92906d4ef6e6b095",
            "3e749bbd6cda43c18da550c1f5f6fca3",
            "2ba14cedcb544e16819cf1d0471885a7",
            "293eb112704347268e6c82046c80fd4f",
            "8cdcb62a6bb74926843347948718d2c8",
            "3389a1f6504f49a6bd4d3c617b59ae87",
            "444b5a12775543968c7001d58c5a278c",
            "68ae3975a3204426b668f93607c9ffa3",
            "08c9f741cdf546b5a2b6581800b229a8",
            "b0ad7d5074b344aca50a5f94aab0eb49",
            "9c6576ee96fd42e5b73db0c22c60eb94"
          ]
        },
        "id": "iJ9HK7-osdjw",
        "outputId": "7369fcc6-34e0-412b-f0fb-1dc54339180b"
      },
      "outputs": [],
      "source": [
        "trainer.fit(module, datamodule=data_module)"
      ]
    },
    {
      "cell_type": "markdown",
      "metadata": {
        "id": "U4D61WzHsdjw"
      },
      "source": [
        "## Load the best model"
      ]
    },
    {
      "cell_type": "code",
      "execution_count": null,
      "metadata": {
        "id": "1jNl0oe8sdjw"
      },
      "outputs": [],
      "source": [
        "module = NERModule.load_from_checkpoint(save_callback.best_model_path, model=model)"
      ]
    },
    {
      "cell_type": "code",
      "execution_count": null,
      "metadata": {
        "id": "7Mv3Xb1Usdjw"
      },
      "outputs": [],
      "source": [
        "module.model.config.id2label = dict(enumerate(cates.i2c))\n",
        "module.model.config.label2id = cates.c2i.dict"
      ]
    },
    {
      "cell_type": "code",
      "execution_count": null,
      "metadata": {
        "id": "2p9Qis9isdj1"
      },
      "outputs": [],
      "source": [
        "from transformers import pipeline"
      ]
    },
    {
      "cell_type": "code",
      "execution_count": null,
      "metadata": {
        "id": "fgmMa7TDsdj1"
      },
      "outputs": [],
      "source": [
        "module.model = module.model.eval()\n",
        "module.model = module.model.cpu()"
      ]
    },
    {
      "cell_type": "code",
      "execution_count": null,
      "metadata": {
        "id": "ftvX_cZswbBh"
      },
      "outputs": [],
      "source": [
        "# prompt: Store the model\n",
        "\n",
        "torch.save(module.model, '/content/gdrive/MyDrive/Colab/punktuation-ner/best_ckpoint/punct_model_2.pth')\n"
      ]
    },
    {
      "cell_type": "code",
      "execution_count": null,
      "metadata": {
        "id": "ZCzuBXI_sdj1"
      },
      "outputs": [],
      "source": [
        "ner = pipeline(\"ner\",module.model,tokenizer=tokenizer)"
      ]
    },
    {
      "cell_type": "code",
      "execution_count": null,
      "metadata": {
        "id": "fO9PhdmLsdj1"
      },
      "outputs": [],
      "source": [
        "def mark_sentence(x: str):\n",
        "    outputs = ner(x)\n",
        "    print(outputs)\n",
        "    print(\"hello\")\n",
        "    x_list = list(x)\n",
        "    for i, output in enumerate(outputs):\n",
        "        x_list.insert(output['end']+i, output['entity'])\n",
        "    return \"\".join(x_list)"
      ]
    },
    {
      "cell_type": "code",
      "execution_count": null,
      "metadata": {
        "id": "tEtCNB18sdj1"
      },
      "outputs": [],
      "source": [
        "mark_sentence(\"洛水神龜單應兆天數九地數九九九八十一數數數混成三大道道合元始天尊一成有感\")"
      ]
    },
    {
      "cell_type": "code",
      "execution_count": null,
      "metadata": {
        "id": "PGGOgoY9sdj1"
      },
      "outputs": [],
      "source": [
        "mark_sentence(\"\"\"郡邑置夫子庙于学以嵗时释奠盖自唐贞观以来未之或改我宋有天下因其制而损益之姑苏当浙右要区规模尤大更建炎戎马荡然无遗虽修学宫于荆榛瓦砾之余独殿宇未遑议也每春秋展礼于斋庐已则置不问殆为阙典今寳文阁直学士括苍梁公来牧之明年实绍兴十有一禩也二月上丁修祀既毕乃愓然自咎揖诸生而告之曰天子不以汝嘉为不肖俾再守兹土顾治民事神皆守之职惟是夫子之祀教化所基尤宜严且谨而拜跪荐祭之地卑陋乃尔其何以掲防妥灵汝嘉不敢避其责曩常去此弥年若有所负尚安得以罢輭自恕复累后人乎他日或克就绪愿与诸君落之于是谋之僚吏搜故府得遗材千枚取赢资以给其费鸠工庀役各举其任嵗月讫工民不与知像设礼器百用具修至于堂室廊序门牖垣墙皆一新之\"\"\")"
      ]
    },
    {
      "cell_type": "code",
      "execution_count": null,
      "metadata": {
        "id": "0krTpEd3sdj2"
      },
      "outputs": [],
      "source": [
        "# import pandas as pd\n",
        "# df = pd.read_csv('test.txt', sep='\\t')\n",
        "\n",
        "# text_list = df['input'].tolist()[0:]\n",
        "# predicted = []\n",
        "# for text in text_list:\n",
        "#     predicted.append(mark_sentence(text))\n",
        "\n",
        "# # predicted save to csv\n",
        "# df2 = pd.DataFrame(predicted)\n",
        "# # output to csv but ignore header\n",
        "# df2.to_csv('predicted.txt', index=False, header=False)\n",
        "# df2 = pd.read_csv('predicted.txt', sep='\\t', header=None)\n",
        "# df2.columns = ['predicted']\n",
        "\n",
        "# punctuation = ['，', '。', '！', '？', '；', '：', '、', '「', '」', '『', '』', '（', '）', '〔', '〕', '【', '】', '《', '》', '〈', '〉', '﹏', '＿', '～', '—', '…', '‥', '﹑', '﹔', '﹖', '﹪', '﹙', '﹚', '﹛', '﹜', '﹟', '﹠', '﹡', '﹢', '﹣', '﹤', '﹥', '﹦', '﹨', '﹩', '﹪', '﹫', '＃', '＄', '％', '＆', '＊', '＋', '－', '／', '＜', '＝', '＞', '＠', '＾', '＿', '｀', '｜', '～', '∕', '∥']\n",
        "\n",
        "# predicted_parsed = []\n",
        "# for text in df2['predicted']:\n",
        "#     i = 0\n",
        "#     line = []\n",
        "#     while i < len(text) - 1:\n",
        "#         if text[i + 1] in punctuation:\n",
        "#             line.append(1)\n",
        "#             i += 1\n",
        "#         else:\n",
        "#             line.append(0)\n",
        "#         i += 1\n",
        "#     if line[-1] != 1:\n",
        "#         line.append(1)\n",
        "#     predicted_parsed.append(' - '.join([str(x) for x in line]))\n",
        "\n",
        "# df3 = pd.DataFrame(predicted_parsed)\n",
        "# df3.to_csv('predicted_parsed.txt', index=False, header=False)"
      ]
    }
  ],
  "metadata": {
    "accelerator": "GPU",
    "colab": {
      "gpuType": "T4",
      "include_colab_link": true,
      "provenance": []
    },
    "kernelspec": {
      "display_name": "Python 3",
      "name": "python3"
    },
    "language_info": {
      "codemirror_mode": {
        "name": "ipython",
        "version": 3
      },
      "file_extension": ".py",
      "mimetype": "text/x-python",
      "name": "python",
      "nbconvert_exporter": "python",
      "pygments_lexer": "ipython3",
      "version": "3.11.5"
    },
    "toc": {
      "base_numbering": 1,
      "nav_menu": {},
      "number_sections": true,
      "sideBar": true,
      "skip_h1_title": false,
      "title_cell": "Table of Contents",
      "title_sidebar": "Contents",
      "toc_cell": false,
      "toc_position": {},
      "toc_section_display": true,
      "toc_window_display": true
    },
    "widgets": {
      "application/vnd.jupyter.widget-state+json": {
        "04f4c502dcf74c889d207e127c07cbdb": {
          "model_module": "@jupyter-widgets/controls",
          "model_module_version": "1.5.0",
          "model_name": "ProgressStyleModel",
          "state": {
            "_model_module": "@jupyter-widgets/controls",
            "_model_module_version": "1.5.0",
            "_model_name": "ProgressStyleModel",
            "_view_count": null,
            "_view_module": "@jupyter-widgets/base",
            "_view_module_version": "1.2.0",
            "_view_name": "StyleView",
            "bar_color": null,
            "description_width": ""
          }
        },
        "069ad12d2e1a43f59956cb6bd6691121": {
          "model_module": "@jupyter-widgets/base",
          "model_module_version": "1.2.0",
          "model_name": "LayoutModel",
          "state": {
            "_model_module": "@jupyter-widgets/base",
            "_model_module_version": "1.2.0",
            "_model_name": "LayoutModel",
            "_view_count": null,
            "_view_module": "@jupyter-widgets/base",
            "_view_module_version": "1.2.0",
            "_view_name": "LayoutView",
            "align_content": null,
            "align_items": null,
            "align_self": null,
            "border": null,
            "bottom": null,
            "display": "inline-flex",
            "flex": null,
            "flex_flow": "row wrap",
            "grid_area": null,
            "grid_auto_columns": null,
            "grid_auto_flow": null,
            "grid_auto_rows": null,
            "grid_column": null,
            "grid_gap": null,
            "grid_row": null,
            "grid_template_areas": null,
            "grid_template_columns": null,
            "grid_template_rows": null,
            "height": null,
            "justify_content": null,
            "justify_items": null,
            "left": null,
            "margin": null,
            "max_height": null,
            "max_width": null,
            "min_height": null,
            "min_width": null,
            "object_fit": null,
            "object_position": null,
            "order": null,
            "overflow": null,
            "overflow_x": null,
            "overflow_y": null,
            "padding": null,
            "right": null,
            "top": null,
            "visibility": null,
            "width": "100%"
          }
        },
        "08af5b735862478584bdfc46da061c8a": {
          "model_module": "@jupyter-widgets/base",
          "model_module_version": "1.2.0",
          "model_name": "LayoutModel",
          "state": {
            "_model_module": "@jupyter-widgets/base",
            "_model_module_version": "1.2.0",
            "_model_name": "LayoutModel",
            "_view_count": null,
            "_view_module": "@jupyter-widgets/base",
            "_view_module_version": "1.2.0",
            "_view_name": "LayoutView",
            "align_content": null,
            "align_items": null,
            "align_self": null,
            "border": null,
            "bottom": null,
            "display": null,
            "flex": null,
            "flex_flow": null,
            "grid_area": null,
            "grid_auto_columns": null,
            "grid_auto_flow": null,
            "grid_auto_rows": null,
            "grid_column": null,
            "grid_gap": null,
            "grid_row": null,
            "grid_template_areas": null,
            "grid_template_columns": null,
            "grid_template_rows": null,
            "height": null,
            "justify_content": null,
            "justify_items": null,
            "left": null,
            "margin": null,
            "max_height": null,
            "max_width": null,
            "min_height": null,
            "min_width": null,
            "object_fit": null,
            "object_position": null,
            "order": null,
            "overflow": null,
            "overflow_x": null,
            "overflow_y": null,
            "padding": null,
            "right": null,
            "top": null,
            "visibility": null,
            "width": null
          }
        },
        "08bfaca823014a3e853b6cebbd96ee63": {
          "model_module": "@jupyter-widgets/base",
          "model_module_version": "1.2.0",
          "model_name": "LayoutModel",
          "state": {
            "_model_module": "@jupyter-widgets/base",
            "_model_module_version": "1.2.0",
            "_model_name": "LayoutModel",
            "_view_count": null,
            "_view_module": "@jupyter-widgets/base",
            "_view_module_version": "1.2.0",
            "_view_name": "LayoutView",
            "align_content": null,
            "align_items": null,
            "align_self": null,
            "border": null,
            "bottom": null,
            "display": null,
            "flex": null,
            "flex_flow": null,
            "grid_area": null,
            "grid_auto_columns": null,
            "grid_auto_flow": null,
            "grid_auto_rows": null,
            "grid_column": null,
            "grid_gap": null,
            "grid_row": null,
            "grid_template_areas": null,
            "grid_template_columns": null,
            "grid_template_rows": null,
            "height": null,
            "justify_content": null,
            "justify_items": null,
            "left": null,
            "margin": null,
            "max_height": null,
            "max_width": null,
            "min_height": null,
            "min_width": null,
            "object_fit": null,
            "object_position": null,
            "order": null,
            "overflow": null,
            "overflow_x": null,
            "overflow_y": null,
            "padding": null,
            "right": null,
            "top": null,
            "visibility": null,
            "width": null
          }
        },
        "08c9f741cdf546b5a2b6581800b229a8": {
          "model_module": "@jupyter-widgets/controls",
          "model_module_version": "1.5.0",
          "model_name": "ProgressStyleModel",
          "state": {
            "_model_module": "@jupyter-widgets/controls",
            "_model_module_version": "1.5.0",
            "_model_name": "ProgressStyleModel",
            "_view_count": null,
            "_view_module": "@jupyter-widgets/base",
            "_view_module_version": "1.2.0",
            "_view_name": "StyleView",
            "bar_color": null,
            "description_width": ""
          }
        },
        "0acc1059612d4bf891bde9362bb46f3d": {
          "model_module": "@jupyter-widgets/controls",
          "model_module_version": "1.5.0",
          "model_name": "HTMLModel",
          "state": {
            "_dom_classes": [],
            "_model_module": "@jupyter-widgets/controls",
            "_model_module_version": "1.5.0",
            "_model_name": "HTMLModel",
            "_view_count": null,
            "_view_module": "@jupyter-widgets/controls",
            "_view_module_version": "1.5.0",
            "_view_name": "HTMLView",
            "description": "",
            "description_tooltip": null,
            "layout": "IPY_MODEL_186a79df64584729aaeaf6cf350935be",
            "placeholder": "​",
            "style": "IPY_MODEL_e30d8b2329f94aca9368a6d61960cc97",
            "value": " 12/12 [00:30&lt;00:00,  0.39it/s]"
          }
        },
        "0e93cc581d0c4b4bb6c185dee1c764cc": {
          "model_module": "@jupyter-widgets/controls",
          "model_module_version": "1.5.0",
          "model_name": "HTMLModel",
          "state": {
            "_dom_classes": [],
            "_model_module": "@jupyter-widgets/controls",
            "_model_module_version": "1.5.0",
            "_model_name": "HTMLModel",
            "_view_count": null,
            "_view_module": "@jupyter-widgets/controls",
            "_view_module_version": "1.5.0",
            "_view_name": "HTMLView",
            "description": "",
            "description_tooltip": null,
            "layout": "IPY_MODEL_4c1b46b1fea54fb5bf26417ec5325e25",
            "placeholder": "​",
            "style": "IPY_MODEL_dcebf37542ea40ca922fa51f6778852f",
            "value": "Validation DataLoader 0: 100%"
          }
        },
        "186a79df64584729aaeaf6cf350935be": {
          "model_module": "@jupyter-widgets/base",
          "model_module_version": "1.2.0",
          "model_name": "LayoutModel",
          "state": {
            "_model_module": "@jupyter-widgets/base",
            "_model_module_version": "1.2.0",
            "_model_name": "LayoutModel",
            "_view_count": null,
            "_view_module": "@jupyter-widgets/base",
            "_view_module_version": "1.2.0",
            "_view_name": "LayoutView",
            "align_content": null,
            "align_items": null,
            "align_self": null,
            "border": null,
            "bottom": null,
            "display": null,
            "flex": null,
            "flex_flow": null,
            "grid_area": null,
            "grid_auto_columns": null,
            "grid_auto_flow": null,
            "grid_auto_rows": null,
            "grid_column": null,
            "grid_gap": null,
            "grid_row": null,
            "grid_template_areas": null,
            "grid_template_columns": null,
            "grid_template_rows": null,
            "height": null,
            "justify_content": null,
            "justify_items": null,
            "left": null,
            "margin": null,
            "max_height": null,
            "max_width": null,
            "min_height": null,
            "min_width": null,
            "object_fit": null,
            "object_position": null,
            "order": null,
            "overflow": null,
            "overflow_x": null,
            "overflow_y": null,
            "padding": null,
            "right": null,
            "top": null,
            "visibility": null,
            "width": null
          }
        },
        "22a0395721dc41f985102a5ba87ec7d1": {
          "model_module": "@jupyter-widgets/controls",
          "model_module_version": "1.5.0",
          "model_name": "HTMLModel",
          "state": {
            "_dom_classes": [],
            "_model_module": "@jupyter-widgets/controls",
            "_model_module_version": "1.5.0",
            "_model_name": "HTMLModel",
            "_view_count": null,
            "_view_module": "@jupyter-widgets/controls",
            "_view_module_version": "1.5.0",
            "_view_name": "HTMLView",
            "description": "",
            "description_tooltip": null,
            "layout": "IPY_MODEL_e5c65188a332462291088786cda4e68a",
            "placeholder": "​",
            "style": "IPY_MODEL_b2ffc2b2403b4f65a81dd657dd7cac55",
            "value": "Sanity Checking DataLoader 0: 100%"
          }
        },
        "2877e9204b1e437b85e0433198fcea5d": {
          "model_module": "@jupyter-widgets/controls",
          "model_module_version": "1.5.0",
          "model_name": "HBoxModel",
          "state": {
            "_dom_classes": [],
            "_model_module": "@jupyter-widgets/controls",
            "_model_module_version": "1.5.0",
            "_model_name": "HBoxModel",
            "_view_count": null,
            "_view_module": "@jupyter-widgets/controls",
            "_view_module_version": "1.5.0",
            "_view_name": "HBoxView",
            "box_style": "",
            "children": [
              "IPY_MODEL_ff76087f03ee4bc585bd78f04f64f3b7",
              "IPY_MODEL_9ba42773b5254725bbe2d793e625e9bd",
              "IPY_MODEL_7b9599b8119a4a029f090019a0273caf"
            ],
            "layout": "IPY_MODEL_82bf8cf1ee9e48d8a7b7cac05125a155"
          }
        },
        "293eb112704347268e6c82046c80fd4f": {
          "model_module": "@jupyter-widgets/controls",
          "model_module_version": "1.5.0",
          "model_name": "HTMLModel",
          "state": {
            "_dom_classes": [],
            "_model_module": "@jupyter-widgets/controls",
            "_model_module_version": "1.5.0",
            "_model_name": "HTMLModel",
            "_view_count": null,
            "_view_module": "@jupyter-widgets/controls",
            "_view_module_version": "1.5.0",
            "_view_name": "HTMLView",
            "description": "",
            "description_tooltip": null,
            "layout": "IPY_MODEL_b0ad7d5074b344aca50a5f94aab0eb49",
            "placeholder": "​",
            "style": "IPY_MODEL_9c6576ee96fd42e5b73db0c22c60eb94",
            "value": " 12/12 [00:30&lt;00:00,  0.39it/s]"
          }
        },
        "2ba14cedcb544e16819cf1d0471885a7": {
          "model_module": "@jupyter-widgets/controls",
          "model_module_version": "1.5.0",
          "model_name": "FloatProgressModel",
          "state": {
            "_dom_classes": [],
            "_model_module": "@jupyter-widgets/controls",
            "_model_module_version": "1.5.0",
            "_model_name": "FloatProgressModel",
            "_view_count": null,
            "_view_module": "@jupyter-widgets/controls",
            "_view_module_version": "1.5.0",
            "_view_name": "ProgressView",
            "bar_style": "",
            "description": "",
            "description_tooltip": null,
            "layout": "IPY_MODEL_68ae3975a3204426b668f93607c9ffa3",
            "max": 12,
            "min": 0,
            "orientation": "horizontal",
            "style": "IPY_MODEL_08c9f741cdf546b5a2b6581800b229a8",
            "value": 12
          }
        },
        "31aa5f85a01c42cba73b0027db8bc3e6": {
          "model_module": "@jupyter-widgets/controls",
          "model_module_version": "1.5.0",
          "model_name": "ProgressStyleModel",
          "state": {
            "_model_module": "@jupyter-widgets/controls",
            "_model_module_version": "1.5.0",
            "_model_name": "ProgressStyleModel",
            "_view_count": null,
            "_view_module": "@jupyter-widgets/base",
            "_view_module_version": "1.2.0",
            "_view_name": "StyleView",
            "bar_color": null,
            "description_width": ""
          }
        },
        "327d88e77e3d451c9b325c36b4b9ded6": {
          "model_module": "@jupyter-widgets/base",
          "model_module_version": "1.2.0",
          "model_name": "LayoutModel",
          "state": {
            "_model_module": "@jupyter-widgets/base",
            "_model_module_version": "1.2.0",
            "_model_name": "LayoutModel",
            "_view_count": null,
            "_view_module": "@jupyter-widgets/base",
            "_view_module_version": "1.2.0",
            "_view_name": "LayoutView",
            "align_content": null,
            "align_items": null,
            "align_self": null,
            "border": null,
            "bottom": null,
            "display": "inline-flex",
            "flex": null,
            "flex_flow": "row wrap",
            "grid_area": null,
            "grid_auto_columns": null,
            "grid_auto_flow": null,
            "grid_auto_rows": null,
            "grid_column": null,
            "grid_gap": null,
            "grid_row": null,
            "grid_template_areas": null,
            "grid_template_columns": null,
            "grid_template_rows": null,
            "height": null,
            "justify_content": null,
            "justify_items": null,
            "left": null,
            "margin": null,
            "max_height": null,
            "max_width": null,
            "min_height": null,
            "min_width": null,
            "object_fit": null,
            "object_position": null,
            "order": null,
            "overflow": null,
            "overflow_x": null,
            "overflow_y": null,
            "padding": null,
            "right": null,
            "top": null,
            "visibility": "hidden",
            "width": "100%"
          }
        },
        "3389a1f6504f49a6bd4d3c617b59ae87": {
          "model_module": "@jupyter-widgets/base",
          "model_module_version": "1.2.0",
          "model_name": "LayoutModel",
          "state": {
            "_model_module": "@jupyter-widgets/base",
            "_model_module_version": "1.2.0",
            "_model_name": "LayoutModel",
            "_view_count": null,
            "_view_module": "@jupyter-widgets/base",
            "_view_module_version": "1.2.0",
            "_view_name": "LayoutView",
            "align_content": null,
            "align_items": null,
            "align_self": null,
            "border": null,
            "bottom": null,
            "display": null,
            "flex": null,
            "flex_flow": null,
            "grid_area": null,
            "grid_auto_columns": null,
            "grid_auto_flow": null,
            "grid_auto_rows": null,
            "grid_column": null,
            "grid_gap": null,
            "grid_row": null,
            "grid_template_areas": null,
            "grid_template_columns": null,
            "grid_template_rows": null,
            "height": null,
            "justify_content": null,
            "justify_items": null,
            "left": null,
            "margin": null,
            "max_height": null,
            "max_width": null,
            "min_height": null,
            "min_width": null,
            "object_fit": null,
            "object_position": null,
            "order": null,
            "overflow": null,
            "overflow_x": null,
            "overflow_y": null,
            "padding": null,
            "right": null,
            "top": null,
            "visibility": null,
            "width": null
          }
        },
        "37251014265b42699c62debabaabffe7": {
          "model_module": "@jupyter-widgets/base",
          "model_module_version": "1.2.0",
          "model_name": "LayoutModel",
          "state": {
            "_model_module": "@jupyter-widgets/base",
            "_model_module_version": "1.2.0",
            "_model_name": "LayoutModel",
            "_view_count": null,
            "_view_module": "@jupyter-widgets/base",
            "_view_module_version": "1.2.0",
            "_view_name": "LayoutView",
            "align_content": null,
            "align_items": null,
            "align_self": null,
            "border": null,
            "bottom": null,
            "display": null,
            "flex": "2",
            "flex_flow": null,
            "grid_area": null,
            "grid_auto_columns": null,
            "grid_auto_flow": null,
            "grid_auto_rows": null,
            "grid_column": null,
            "grid_gap": null,
            "grid_row": null,
            "grid_template_areas": null,
            "grid_template_columns": null,
            "grid_template_rows": null,
            "height": null,
            "justify_content": null,
            "justify_items": null,
            "left": null,
            "margin": null,
            "max_height": null,
            "max_width": null,
            "min_height": null,
            "min_width": null,
            "object_fit": null,
            "object_position": null,
            "order": null,
            "overflow": null,
            "overflow_x": null,
            "overflow_y": null,
            "padding": null,
            "right": null,
            "top": null,
            "visibility": null,
            "width": null
          }
        },
        "3937c2fc22bf4b9fa79aec68bee7a0a2": {
          "model_module": "@jupyter-widgets/controls",
          "model_module_version": "1.5.0",
          "model_name": "FloatProgressModel",
          "state": {
            "_dom_classes": [],
            "_model_module": "@jupyter-widgets/controls",
            "_model_module_version": "1.5.0",
            "_model_name": "FloatProgressModel",
            "_view_count": null,
            "_view_module": "@jupyter-widgets/controls",
            "_view_module_version": "1.5.0",
            "_view_name": "ProgressView",
            "bar_style": "",
            "description": "",
            "description_tooltip": null,
            "layout": "IPY_MODEL_b90b5e556b824e72887cb2b8ad9dbf11",
            "max": 2,
            "min": 0,
            "orientation": "horizontal",
            "style": "IPY_MODEL_31aa5f85a01c42cba73b0027db8bc3e6",
            "value": 2
          }
        },
        "3e749bbd6cda43c18da550c1f5f6fca3": {
          "model_module": "@jupyter-widgets/controls",
          "model_module_version": "1.5.0",
          "model_name": "HTMLModel",
          "state": {
            "_dom_classes": [],
            "_model_module": "@jupyter-widgets/controls",
            "_model_module_version": "1.5.0",
            "_model_name": "HTMLModel",
            "_view_count": null,
            "_view_module": "@jupyter-widgets/controls",
            "_view_module_version": "1.5.0",
            "_view_name": "HTMLView",
            "description": "",
            "description_tooltip": null,
            "layout": "IPY_MODEL_3389a1f6504f49a6bd4d3c617b59ae87",
            "placeholder": "​",
            "style": "IPY_MODEL_444b5a12775543968c7001d58c5a278c",
            "value": "Validation DataLoader 0: 100%"
          }
        },
        "444b5a12775543968c7001d58c5a278c": {
          "model_module": "@jupyter-widgets/controls",
          "model_module_version": "1.5.0",
          "model_name": "DescriptionStyleModel",
          "state": {
            "_model_module": "@jupyter-widgets/controls",
            "_model_module_version": "1.5.0",
            "_model_name": "DescriptionStyleModel",
            "_view_count": null,
            "_view_module": "@jupyter-widgets/base",
            "_view_module_version": "1.2.0",
            "_view_name": "StyleView",
            "description_width": ""
          }
        },
        "44fc1d750ac840fea00919515341de2d": {
          "model_module": "@jupyter-widgets/base",
          "model_module_version": "1.2.0",
          "model_name": "LayoutModel",
          "state": {
            "_model_module": "@jupyter-widgets/base",
            "_model_module_version": "1.2.0",
            "_model_name": "LayoutModel",
            "_view_count": null,
            "_view_module": "@jupyter-widgets/base",
            "_view_module_version": "1.2.0",
            "_view_name": "LayoutView",
            "align_content": null,
            "align_items": null,
            "align_self": null,
            "border": null,
            "bottom": null,
            "display": null,
            "flex": "2",
            "flex_flow": null,
            "grid_area": null,
            "grid_auto_columns": null,
            "grid_auto_flow": null,
            "grid_auto_rows": null,
            "grid_column": null,
            "grid_gap": null,
            "grid_row": null,
            "grid_template_areas": null,
            "grid_template_columns": null,
            "grid_template_rows": null,
            "height": null,
            "justify_content": null,
            "justify_items": null,
            "left": null,
            "margin": null,
            "max_height": null,
            "max_width": null,
            "min_height": null,
            "min_width": null,
            "object_fit": null,
            "object_position": null,
            "order": null,
            "overflow": null,
            "overflow_x": null,
            "overflow_y": null,
            "padding": null,
            "right": null,
            "top": null,
            "visibility": null,
            "width": null
          }
        },
        "4a1cadf962594cc78415362d0db2d3e6": {
          "model_module": "@jupyter-widgets/output",
          "model_module_version": "1.0.0",
          "model_name": "OutputModel",
          "state": {
            "_dom_classes": [],
            "_model_module": "@jupyter-widgets/output",
            "_model_module_version": "1.0.0",
            "_model_name": "OutputModel",
            "_view_count": null,
            "_view_module": "@jupyter-widgets/output",
            "_view_module_version": "1.0.0",
            "_view_name": "OutputView",
            "layout": "IPY_MODEL_a1a4e7f8048d48dd9c5f92f68d750db3",
            "msg_id": "",
            "outputs": [
              {
                "data": {
                  "application/vnd.google.colaboratory.intrinsic+json": {
                    "summary": "{\n  \"name\": \"trainer\",\n  \"rows\": 4,\n  \"fields\": [\n    {\n      \"column\": \"val_loss\",\n      \"properties\": {\n        \"dtype\": \"number\",\n        \"std\": 0.3769662226716766,\n        \"min\": 0.4703181982040405,\n        \"max\": 1.2750799655914307,\n        \"num_unique_values\": 4,\n        \"samples\": [\n          0.4703181982040405,\n          1.2750799655914307,\n          0.6518650054931641\n        ],\n        \"semantic_type\": \"\",\n        \"description\": \"\"\n      }\n    },\n    {\n      \"column\": \"val_acc\",\n      \"properties\": {\n        \"dtype\": \"number\",\n        \"std\": 0.13964600516898623,\n        \"min\": 0.5634537935256958,\n        \"max\": 0.8481864333152771,\n        \"num_unique_values\": 4,\n        \"samples\": [\n          0.8481864333152771,\n          0.8306496739387512,\n          0.5634537935256958\n        ],\n        \"semantic_type\": \"\",\n        \"description\": \"\"\n      }\n    },\n    {\n      \"column\": \"loss\",\n      \"properties\": {\n        \"dtype\": \"number\",\n        \"std\": 0.032638553157865555,\n        \"min\": 9.250247239833698e-05,\n        \"max\": 0.05672607943415642,\n        \"num_unique_values\": 3,\n        \"samples\": [\n          0.05672607943415642,\n          0.00029694620752707124,\n          9.250247239833698e-05\n        ],\n        \"semantic_type\": \"\",\n        \"description\": \"\"\n      }\n    },\n    {\n      \"column\": \"acc\",\n      \"properties\": {\n        \"dtype\": \"number\",\n        \"std\": 0.01422900895778296,\n        \"min\": 0.9642138481140137,\n        \"max\": 0.9925506711006165,\n        \"num_unique_values\": 3,\n        \"samples\": [\n          0.9642138481140137,\n          0.9761101603507996,\n          0.9925506711006165\n        ],\n        \"semantic_type\": \"\",\n        \"description\": \"\"\n      }\n    }\n  ]\n}",
                    "type": "dataframe"
                  },
                  "text/html": "\n  <div id=\"df-5789df14-059a-4542-90d2-24a81fb1a31e\" class=\"colab-df-container\">\n    <div>\n<style scoped>\n    .dataframe tbody tr th:only-of-type {\n        vertical-align: middle;\n    }\n\n    .dataframe tbody tr th {\n        vertical-align: top;\n    }\n\n    .dataframe thead th {\n        text-align: right;\n    }\n</style>\n<table border=\"1\" class=\"dataframe\">\n  <thead>\n    <tr style=\"text-align: right;\">\n      <th></th>\n      <th>val_loss</th>\n      <th>val_acc</th>\n      <th>loss</th>\n      <th>acc</th>\n    </tr>\n  </thead>\n  <tbody>\n    <tr>\n      <th>0</th>\n      <td>0.651865</td>\n      <td>0.563454</td>\n      <td>NaN</td>\n      <td>NaN</td>\n    </tr>\n    <tr>\n      <th>1</th>\n      <td>0.470318</td>\n      <td>0.848186</td>\n      <td>0.056726</td>\n      <td>0.964214</td>\n    </tr>\n    <tr>\n      <th>2</th>\n      <td>1.104545</td>\n      <td>0.847951</td>\n      <td>0.000297</td>\n      <td>0.976110</td>\n    </tr>\n    <tr>\n      <th>3</th>\n      <td>1.275080</td>\n      <td>0.830650</td>\n      <td>0.000093</td>\n      <td>0.992551</td>\n    </tr>\n  </tbody>\n</table>\n</div>\n    <div class=\"colab-df-buttons\">\n\n  <div class=\"colab-df-container\">\n    <button class=\"colab-df-convert\" onclick=\"convertToInteractive('df-5789df14-059a-4542-90d2-24a81fb1a31e')\"\n            title=\"Convert this dataframe to an interactive table.\"\n            style=\"display:none;\">\n\n  <svg xmlns=\"http://www.w3.org/2000/svg\" height=\"24px\" viewBox=\"0 -960 960 960\">\n    <path d=\"M120-120v-720h720v720H120Zm60-500h600v-160H180v160Zm220 220h160v-160H400v160Zm0 220h160v-160H400v160ZM180-400h160v-160H180v160Zm440 0h160v-160H620v160ZM180-180h160v-160H180v160Zm440 0h160v-160H620v160Z\"/>\n  </svg>\n    </button>\n\n  <style>\n    .colab-df-container {\n      display:flex;\n      gap: 12px;\n    }\n\n    .colab-df-convert {\n      background-color: #E8F0FE;\n      border: none;\n      border-radius: 50%;\n      cursor: pointer;\n      display: none;\n      fill: #1967D2;\n      height: 32px;\n      padding: 0 0 0 0;\n      width: 32px;\n    }\n\n    .colab-df-convert:hover {\n      background-color: #E2EBFA;\n      box-shadow: 0px 1px 2px rgba(60, 64, 67, 0.3), 0px 1px 3px 1px rgba(60, 64, 67, 0.15);\n      fill: #174EA6;\n    }\n\n    .colab-df-buttons div {\n      margin-bottom: 4px;\n    }\n\n    [theme=dark] .colab-df-convert {\n      background-color: #3B4455;\n      fill: #D2E3FC;\n    }\n\n    [theme=dark] .colab-df-convert:hover {\n      background-color: #434B5C;\n      box-shadow: 0px 1px 3px 1px rgba(0, 0, 0, 0.15);\n      filter: drop-shadow(0px 1px 2px rgba(0, 0, 0, 0.3));\n      fill: #FFFFFF;\n    }\n  </style>\n\n    <script>\n      const buttonEl =\n        document.querySelector('#df-5789df14-059a-4542-90d2-24a81fb1a31e button.colab-df-convert');\n      buttonEl.style.display =\n        google.colab.kernel.accessAllowed ? 'block' : 'none';\n\n      async function convertToInteractive(key) {\n        const element = document.querySelector('#df-5789df14-059a-4542-90d2-24a81fb1a31e');\n        const dataTable =\n          await google.colab.kernel.invokeFunction('convertToInteractive',\n                                                    [key], {});\n        if (!dataTable) return;\n\n        const docLinkHtml = 'Like what you see? Visit the ' +\n          '<a target=\"_blank\" href=https://colab.research.google.com/notebooks/data_table.ipynb>data table notebook</a>'\n          + ' to learn more about interactive tables.';\n        element.innerHTML = '';\n        dataTable['output_type'] = 'display_data';\n        await google.colab.output.renderOutput(dataTable, element);\n        const docLink = document.createElement('div');\n        docLink.innerHTML = docLinkHtml;\n        element.appendChild(docLink);\n      }\n    </script>\n  </div>\n\n\n<div id=\"df-47794f53-e7b8-46d3-b2dd-3e20f8beb290\">\n  <button class=\"colab-df-quickchart\" onclick=\"quickchart('df-47794f53-e7b8-46d3-b2dd-3e20f8beb290')\"\n            title=\"Suggest charts\"\n            style=\"display:none;\">\n\n<svg xmlns=\"http://www.w3.org/2000/svg\" height=\"24px\"viewBox=\"0 0 24 24\"\n     width=\"24px\">\n    <g>\n        <path d=\"M19 3H5c-1.1 0-2 .9-2 2v14c0 1.1.9 2 2 2h14c1.1 0 2-.9 2-2V5c0-1.1-.9-2-2-2zM9 17H7v-7h2v7zm4 0h-2V7h2v10zm4 0h-2v-4h2v4z\"/>\n    </g>\n</svg>\n  </button>\n\n<style>\n  .colab-df-quickchart {\n      --bg-color: #E8F0FE;\n      --fill-color: #1967D2;\n      --hover-bg-color: #E2EBFA;\n      --hover-fill-color: #174EA6;\n      --disabled-fill-color: #AAA;\n      --disabled-bg-color: #DDD;\n  }\n\n  [theme=dark] .colab-df-quickchart {\n      --bg-color: #3B4455;\n      --fill-color: #D2E3FC;\n      --hover-bg-color: #434B5C;\n      --hover-fill-color: #FFFFFF;\n      --disabled-bg-color: #3B4455;\n      --disabled-fill-color: #666;\n  }\n\n  .colab-df-quickchart {\n    background-color: var(--bg-color);\n    border: none;\n    border-radius: 50%;\n    cursor: pointer;\n    display: none;\n    fill: var(--fill-color);\n    height: 32px;\n    padding: 0;\n    width: 32px;\n  }\n\n  .colab-df-quickchart:hover {\n    background-color: var(--hover-bg-color);\n    box-shadow: 0 1px 2px rgba(60, 64, 67, 0.3), 0 1px 3px 1px rgba(60, 64, 67, 0.15);\n    fill: var(--button-hover-fill-color);\n  }\n\n  .colab-df-quickchart-complete:disabled,\n  .colab-df-quickchart-complete:disabled:hover {\n    background-color: var(--disabled-bg-color);\n    fill: var(--disabled-fill-color);\n    box-shadow: none;\n  }\n\n  .colab-df-spinner {\n    border: 2px solid var(--fill-color);\n    border-color: transparent;\n    border-bottom-color: var(--fill-color);\n    animation:\n      spin 1s steps(1) infinite;\n  }\n\n  @keyframes spin {\n    0% {\n      border-color: transparent;\n      border-bottom-color: var(--fill-color);\n      border-left-color: var(--fill-color);\n    }\n    20% {\n      border-color: transparent;\n      border-left-color: var(--fill-color);\n      border-top-color: var(--fill-color);\n    }\n    30% {\n      border-color: transparent;\n      border-left-color: var(--fill-color);\n      border-top-color: var(--fill-color);\n      border-right-color: var(--fill-color);\n    }\n    40% {\n      border-color: transparent;\n      border-right-color: var(--fill-color);\n      border-top-color: var(--fill-color);\n    }\n    60% {\n      border-color: transparent;\n      border-right-color: var(--fill-color);\n    }\n    80% {\n      border-color: transparent;\n      border-right-color: var(--fill-color);\n      border-bottom-color: var(--fill-color);\n    }\n    90% {\n      border-color: transparent;\n      border-bottom-color: var(--fill-color);\n    }\n  }\n</style>\n\n  <script>\n    async function quickchart(key) {\n      const quickchartButtonEl =\n        document.querySelector('#' + key + ' button');\n      quickchartButtonEl.disabled = true;  // To prevent multiple clicks.\n      quickchartButtonEl.classList.add('colab-df-spinner');\n      try {\n        const charts = await google.colab.kernel.invokeFunction(\n            'suggestCharts', [key], {});\n      } catch (error) {\n        console.error('Error during call to suggestCharts:', error);\n      }\n      quickchartButtonEl.classList.remove('colab-df-spinner');\n      quickchartButtonEl.classList.add('colab-df-quickchart-complete');\n    }\n    (() => {\n      let quickchartButtonEl =\n        document.querySelector('#df-47794f53-e7b8-46d3-b2dd-3e20f8beb290 button');\n      quickchartButtonEl.style.display =\n        google.colab.kernel.accessAllowed ? 'block' : 'none';\n    })();\n  </script>\n</div>\n\n    </div>\n  </div>\n",
                  "text/plain": "   val_loss   val_acc      loss       acc\n0  0.651865  0.563454       NaN       NaN\n1  0.470318  0.848186  0.056726  0.964214\n2  1.104545  0.847951  0.000297  0.976110\n3  1.275080  0.830650  0.000093  0.992551"
                },
                "metadata": {},
                "output_type": "display_data"
              }
            ]
          }
        },
        "4c1b46b1fea54fb5bf26417ec5325e25": {
          "model_module": "@jupyter-widgets/base",
          "model_module_version": "1.2.0",
          "model_name": "LayoutModel",
          "state": {
            "_model_module": "@jupyter-widgets/base",
            "_model_module_version": "1.2.0",
            "_model_name": "LayoutModel",
            "_view_count": null,
            "_view_module": "@jupyter-widgets/base",
            "_view_module_version": "1.2.0",
            "_view_name": "LayoutView",
            "align_content": null,
            "align_items": null,
            "align_self": null,
            "border": null,
            "bottom": null,
            "display": null,
            "flex": null,
            "flex_flow": null,
            "grid_area": null,
            "grid_auto_columns": null,
            "grid_auto_flow": null,
            "grid_auto_rows": null,
            "grid_column": null,
            "grid_gap": null,
            "grid_row": null,
            "grid_template_areas": null,
            "grid_template_columns": null,
            "grid_template_rows": null,
            "height": null,
            "justify_content": null,
            "justify_items": null,
            "left": null,
            "margin": null,
            "max_height": null,
            "max_width": null,
            "min_height": null,
            "min_width": null,
            "object_fit": null,
            "object_position": null,
            "order": null,
            "overflow": null,
            "overflow_x": null,
            "overflow_y": null,
            "padding": null,
            "right": null,
            "top": null,
            "visibility": null,
            "width": null
          }
        },
        "557a83c76d7145edaeb296a468abc91e": {
          "model_module": "@jupyter-widgets/controls",
          "model_module_version": "1.5.0",
          "model_name": "HBoxModel",
          "state": {
            "_dom_classes": [],
            "_model_module": "@jupyter-widgets/controls",
            "_model_module_version": "1.5.0",
            "_model_name": "HBoxModel",
            "_view_count": null,
            "_view_module": "@jupyter-widgets/controls",
            "_view_module_version": "1.5.0",
            "_view_name": "HBoxView",
            "box_style": "",
            "children": [
              "IPY_MODEL_e149022d068a44e38d786dd331d873f6",
              "IPY_MODEL_80c5ab8b8792449b98824d017c1e46ee",
              "IPY_MODEL_7364567106a946cab98fc939a99dc554"
            ],
            "layout": "IPY_MODEL_069ad12d2e1a43f59956cb6bd6691121"
          }
        },
        "5f44a8f1ae2b4edcb6db370ee2bf2294": {
          "model_module": "@jupyter-widgets/controls",
          "model_module_version": "1.5.0",
          "model_name": "DescriptionStyleModel",
          "state": {
            "_model_module": "@jupyter-widgets/controls",
            "_model_module_version": "1.5.0",
            "_model_name": "DescriptionStyleModel",
            "_view_count": null,
            "_view_module": "@jupyter-widgets/base",
            "_view_module_version": "1.2.0",
            "_view_name": "StyleView",
            "description_width": ""
          }
        },
        "68ae3975a3204426b668f93607c9ffa3": {
          "model_module": "@jupyter-widgets/base",
          "model_module_version": "1.2.0",
          "model_name": "LayoutModel",
          "state": {
            "_model_module": "@jupyter-widgets/base",
            "_model_module_version": "1.2.0",
            "_model_name": "LayoutModel",
            "_view_count": null,
            "_view_module": "@jupyter-widgets/base",
            "_view_module_version": "1.2.0",
            "_view_name": "LayoutView",
            "align_content": null,
            "align_items": null,
            "align_self": null,
            "border": null,
            "bottom": null,
            "display": null,
            "flex": "2",
            "flex_flow": null,
            "grid_area": null,
            "grid_auto_columns": null,
            "grid_auto_flow": null,
            "grid_auto_rows": null,
            "grid_column": null,
            "grid_gap": null,
            "grid_row": null,
            "grid_template_areas": null,
            "grid_template_columns": null,
            "grid_template_rows": null,
            "height": null,
            "justify_content": null,
            "justify_items": null,
            "left": null,
            "margin": null,
            "max_height": null,
            "max_width": null,
            "min_height": null,
            "min_width": null,
            "object_fit": null,
            "object_position": null,
            "order": null,
            "overflow": null,
            "overflow_x": null,
            "overflow_y": null,
            "padding": null,
            "right": null,
            "top": null,
            "visibility": null,
            "width": null
          }
        },
        "7364567106a946cab98fc939a99dc554": {
          "model_module": "@jupyter-widgets/controls",
          "model_module_version": "1.5.0",
          "model_name": "HTMLModel",
          "state": {
            "_dom_classes": [],
            "_model_module": "@jupyter-widgets/controls",
            "_model_module_version": "1.5.0",
            "_model_name": "HTMLModel",
            "_view_count": null,
            "_view_module": "@jupyter-widgets/controls",
            "_view_module_version": "1.5.0",
            "_view_name": "HTMLView",
            "description": "",
            "description_tooltip": null,
            "layout": "IPY_MODEL_baab120fe07740668b343f942908ff4a",
            "placeholder": "​",
            "style": "IPY_MODEL_f45d902db0114b0f8c4b9586393428c4",
            "value": " 0/182 [00:00&lt;?, ?it/s, v_num=0]"
          }
        },
        "7a915572ee1042e1a2ae85cd922beeec": {
          "model_module": "@jupyter-widgets/controls",
          "model_module_version": "1.5.0",
          "model_name": "ProgressStyleModel",
          "state": {
            "_model_module": "@jupyter-widgets/controls",
            "_model_module_version": "1.5.0",
            "_model_name": "ProgressStyleModel",
            "_view_count": null,
            "_view_module": "@jupyter-widgets/base",
            "_view_module_version": "1.2.0",
            "_view_name": "StyleView",
            "bar_color": null,
            "description_width": ""
          }
        },
        "7b9599b8119a4a029f090019a0273caf": {
          "model_module": "@jupyter-widgets/controls",
          "model_module_version": "1.5.0",
          "model_name": "HTMLModel",
          "state": {
            "_dom_classes": [],
            "_model_module": "@jupyter-widgets/controls",
            "_model_module_version": "1.5.0",
            "_model_name": "HTMLModel",
            "_view_count": null,
            "_view_module": "@jupyter-widgets/controls",
            "_view_module_version": "1.5.0",
            "_view_name": "HTMLView",
            "description": "",
            "description_tooltip": null,
            "layout": "IPY_MODEL_c45e8985b3f244ec8d128eda4b259094",
            "placeholder": "​",
            "style": "IPY_MODEL_c2be2270ec0f4e4ab2958c738b9c16f3",
            "value": " 12/12 [00:30&lt;00:00,  0.39it/s]"
          }
        },
        "7ef50a03c9c14055b633163b752c0950": {
          "model_module": "@jupyter-widgets/base",
          "model_module_version": "1.2.0",
          "model_name": "LayoutModel",
          "state": {
            "_model_module": "@jupyter-widgets/base",
            "_model_module_version": "1.2.0",
            "_model_name": "LayoutModel",
            "_view_count": null,
            "_view_module": "@jupyter-widgets/base",
            "_view_module_version": "1.2.0",
            "_view_name": "LayoutView",
            "align_content": null,
            "align_items": null,
            "align_self": null,
            "border": null,
            "bottom": null,
            "display": null,
            "flex": null,
            "flex_flow": null,
            "grid_area": null,
            "grid_auto_columns": null,
            "grid_auto_flow": null,
            "grid_auto_rows": null,
            "grid_column": null,
            "grid_gap": null,
            "grid_row": null,
            "grid_template_areas": null,
            "grid_template_columns": null,
            "grid_template_rows": null,
            "height": null,
            "justify_content": null,
            "justify_items": null,
            "left": null,
            "margin": null,
            "max_height": null,
            "max_width": null,
            "min_height": null,
            "min_width": null,
            "object_fit": null,
            "object_position": null,
            "order": null,
            "overflow": null,
            "overflow_x": null,
            "overflow_y": null,
            "padding": null,
            "right": null,
            "top": null,
            "visibility": null,
            "width": null
          }
        },
        "80c5ab8b8792449b98824d017c1e46ee": {
          "model_module": "@jupyter-widgets/controls",
          "model_module_version": "1.5.0",
          "model_name": "FloatProgressModel",
          "state": {
            "_dom_classes": [],
            "_model_module": "@jupyter-widgets/controls",
            "_model_module_version": "1.5.0",
            "_model_name": "FloatProgressModel",
            "_view_count": null,
            "_view_module": "@jupyter-widgets/controls",
            "_view_module_version": "1.5.0",
            "_view_name": "ProgressView",
            "bar_style": "",
            "description": "",
            "description_tooltip": null,
            "layout": "IPY_MODEL_37251014265b42699c62debabaabffe7",
            "max": 182,
            "min": 0,
            "orientation": "horizontal",
            "style": "IPY_MODEL_04f4c502dcf74c889d207e127c07cbdb",
            "value": 0
          }
        },
        "82bf8cf1ee9e48d8a7b7cac05125a155": {
          "model_module": "@jupyter-widgets/base",
          "model_module_version": "1.2.0",
          "model_name": "LayoutModel",
          "state": {
            "_model_module": "@jupyter-widgets/base",
            "_model_module_version": "1.2.0",
            "_model_name": "LayoutModel",
            "_view_count": null,
            "_view_module": "@jupyter-widgets/base",
            "_view_module_version": "1.2.0",
            "_view_name": "LayoutView",
            "align_content": null,
            "align_items": null,
            "align_self": null,
            "border": null,
            "bottom": null,
            "display": "inline-flex",
            "flex": null,
            "flex_flow": "row wrap",
            "grid_area": null,
            "grid_auto_columns": null,
            "grid_auto_flow": null,
            "grid_auto_rows": null,
            "grid_column": null,
            "grid_gap": null,
            "grid_row": null,
            "grid_template_areas": null,
            "grid_template_columns": null,
            "grid_template_rows": null,
            "height": null,
            "justify_content": null,
            "justify_items": null,
            "left": null,
            "margin": null,
            "max_height": null,
            "max_width": null,
            "min_height": null,
            "min_width": null,
            "object_fit": null,
            "object_position": null,
            "order": null,
            "overflow": null,
            "overflow_x": null,
            "overflow_y": null,
            "padding": null,
            "right": null,
            "top": null,
            "visibility": "hidden",
            "width": "100%"
          }
        },
        "881f2877805d4fbe982bfede6a64894d": {
          "model_module": "@jupyter-widgets/controls",
          "model_module_version": "1.5.0",
          "model_name": "DescriptionStyleModel",
          "state": {
            "_model_module": "@jupyter-widgets/controls",
            "_model_module_version": "1.5.0",
            "_model_name": "DescriptionStyleModel",
            "_view_count": null,
            "_view_module": "@jupyter-widgets/base",
            "_view_module_version": "1.2.0",
            "_view_name": "StyleView",
            "description_width": ""
          }
        },
        "8cdcb62a6bb74926843347948718d2c8": {
          "model_module": "@jupyter-widgets/base",
          "model_module_version": "1.2.0",
          "model_name": "LayoutModel",
          "state": {
            "_model_module": "@jupyter-widgets/base",
            "_model_module_version": "1.2.0",
            "_model_name": "LayoutModel",
            "_view_count": null,
            "_view_module": "@jupyter-widgets/base",
            "_view_module_version": "1.2.0",
            "_view_name": "LayoutView",
            "align_content": null,
            "align_items": null,
            "align_self": null,
            "border": null,
            "bottom": null,
            "display": "inline-flex",
            "flex": null,
            "flex_flow": "row wrap",
            "grid_area": null,
            "grid_auto_columns": null,
            "grid_auto_flow": null,
            "grid_auto_rows": null,
            "grid_column": null,
            "grid_gap": null,
            "grid_row": null,
            "grid_template_areas": null,
            "grid_template_columns": null,
            "grid_template_rows": null,
            "height": null,
            "justify_content": null,
            "justify_items": null,
            "left": null,
            "margin": null,
            "max_height": null,
            "max_width": null,
            "min_height": null,
            "min_width": null,
            "object_fit": null,
            "object_position": null,
            "order": null,
            "overflow": null,
            "overflow_x": null,
            "overflow_y": null,
            "padding": null,
            "right": null,
            "top": null,
            "visibility": "hidden",
            "width": "100%"
          }
        },
        "9b42b066a04f49f8b36a914e5041c5d4": {
          "model_module": "@jupyter-widgets/controls",
          "model_module_version": "1.5.0",
          "model_name": "HTMLModel",
          "state": {
            "_dom_classes": [],
            "_model_module": "@jupyter-widgets/controls",
            "_model_module_version": "1.5.0",
            "_model_name": "HTMLModel",
            "_view_count": null,
            "_view_module": "@jupyter-widgets/controls",
            "_view_module_version": "1.5.0",
            "_view_name": "HTMLView",
            "description": "",
            "description_tooltip": null,
            "layout": "IPY_MODEL_7ef50a03c9c14055b633163b752c0950",
            "placeholder": "​",
            "style": "IPY_MODEL_5f44a8f1ae2b4edcb6db370ee2bf2294",
            "value": " 2/2 [00:04&lt;00:00,  0.41it/s]"
          }
        },
        "9ba42773b5254725bbe2d793e625e9bd": {
          "model_module": "@jupyter-widgets/controls",
          "model_module_version": "1.5.0",
          "model_name": "FloatProgressModel",
          "state": {
            "_dom_classes": [],
            "_model_module": "@jupyter-widgets/controls",
            "_model_module_version": "1.5.0",
            "_model_name": "FloatProgressModel",
            "_view_count": null,
            "_view_module": "@jupyter-widgets/controls",
            "_view_module_version": "1.5.0",
            "_view_name": "ProgressView",
            "bar_style": "",
            "description": "",
            "description_tooltip": null,
            "layout": "IPY_MODEL_cef72d309ec74d29b55483199593d633",
            "max": 12,
            "min": 0,
            "orientation": "horizontal",
            "style": "IPY_MODEL_7a915572ee1042e1a2ae85cd922beeec",
            "value": 12
          }
        },
        "9c6576ee96fd42e5b73db0c22c60eb94": {
          "model_module": "@jupyter-widgets/controls",
          "model_module_version": "1.5.0",
          "model_name": "DescriptionStyleModel",
          "state": {
            "_model_module": "@jupyter-widgets/controls",
            "_model_module_version": "1.5.0",
            "_model_name": "DescriptionStyleModel",
            "_view_count": null,
            "_view_module": "@jupyter-widgets/base",
            "_view_module_version": "1.2.0",
            "_view_name": "StyleView",
            "description_width": ""
          }
        },
        "a1a4e7f8048d48dd9c5f92f68d750db3": {
          "model_module": "@jupyter-widgets/base",
          "model_module_version": "1.2.0",
          "model_name": "LayoutModel",
          "state": {
            "_model_module": "@jupyter-widgets/base",
            "_model_module_version": "1.2.0",
            "_model_name": "LayoutModel",
            "_view_count": null,
            "_view_module": "@jupyter-widgets/base",
            "_view_module_version": "1.2.0",
            "_view_name": "LayoutView",
            "align_content": null,
            "align_items": null,
            "align_self": null,
            "border": null,
            "bottom": null,
            "display": null,
            "flex": null,
            "flex_flow": null,
            "grid_area": null,
            "grid_auto_columns": null,
            "grid_auto_flow": null,
            "grid_auto_rows": null,
            "grid_column": null,
            "grid_gap": null,
            "grid_row": null,
            "grid_template_areas": null,
            "grid_template_columns": null,
            "grid_template_rows": null,
            "height": null,
            "justify_content": null,
            "justify_items": null,
            "left": null,
            "margin": null,
            "max_height": null,
            "max_width": null,
            "min_height": null,
            "min_width": null,
            "object_fit": null,
            "object_position": null,
            "order": null,
            "overflow": null,
            "overflow_x": null,
            "overflow_y": null,
            "padding": null,
            "right": null,
            "top": null,
            "visibility": null,
            "width": null
          }
        },
        "a1d13bf9752d4d7589630454f3d60fd8": {
          "model_module": "@jupyter-widgets/controls",
          "model_module_version": "1.5.0",
          "model_name": "FloatProgressModel",
          "state": {
            "_dom_classes": [],
            "_model_module": "@jupyter-widgets/controls",
            "_model_module_version": "1.5.0",
            "_model_name": "FloatProgressModel",
            "_view_count": null,
            "_view_module": "@jupyter-widgets/controls",
            "_view_module_version": "1.5.0",
            "_view_name": "ProgressView",
            "bar_style": "",
            "description": "",
            "description_tooltip": null,
            "layout": "IPY_MODEL_44fc1d750ac840fea00919515341de2d",
            "max": 12,
            "min": 0,
            "orientation": "horizontal",
            "style": "IPY_MODEL_ce96598a45404f5abd5fb14a9a16a1fe",
            "value": 12
          }
        },
        "a7a698ef5937452d92906d4ef6e6b095": {
          "model_module": "@jupyter-widgets/controls",
          "model_module_version": "1.5.0",
          "model_name": "HBoxModel",
          "state": {
            "_dom_classes": [],
            "_model_module": "@jupyter-widgets/controls",
            "_model_module_version": "1.5.0",
            "_model_name": "HBoxModel",
            "_view_count": null,
            "_view_module": "@jupyter-widgets/controls",
            "_view_module_version": "1.5.0",
            "_view_name": "HBoxView",
            "box_style": "",
            "children": [
              "IPY_MODEL_3e749bbd6cda43c18da550c1f5f6fca3",
              "IPY_MODEL_2ba14cedcb544e16819cf1d0471885a7",
              "IPY_MODEL_293eb112704347268e6c82046c80fd4f"
            ],
            "layout": "IPY_MODEL_8cdcb62a6bb74926843347948718d2c8"
          }
        },
        "b0ad7d5074b344aca50a5f94aab0eb49": {
          "model_module": "@jupyter-widgets/base",
          "model_module_version": "1.2.0",
          "model_name": "LayoutModel",
          "state": {
            "_model_module": "@jupyter-widgets/base",
            "_model_module_version": "1.2.0",
            "_model_name": "LayoutModel",
            "_view_count": null,
            "_view_module": "@jupyter-widgets/base",
            "_view_module_version": "1.2.0",
            "_view_name": "LayoutView",
            "align_content": null,
            "align_items": null,
            "align_self": null,
            "border": null,
            "bottom": null,
            "display": null,
            "flex": null,
            "flex_flow": null,
            "grid_area": null,
            "grid_auto_columns": null,
            "grid_auto_flow": null,
            "grid_auto_rows": null,
            "grid_column": null,
            "grid_gap": null,
            "grid_row": null,
            "grid_template_areas": null,
            "grid_template_columns": null,
            "grid_template_rows": null,
            "height": null,
            "justify_content": null,
            "justify_items": null,
            "left": null,
            "margin": null,
            "max_height": null,
            "max_width": null,
            "min_height": null,
            "min_width": null,
            "object_fit": null,
            "object_position": null,
            "order": null,
            "overflow": null,
            "overflow_x": null,
            "overflow_y": null,
            "padding": null,
            "right": null,
            "top": null,
            "visibility": null,
            "width": null
          }
        },
        "b2ffc2b2403b4f65a81dd657dd7cac55": {
          "model_module": "@jupyter-widgets/controls",
          "model_module_version": "1.5.0",
          "model_name": "DescriptionStyleModel",
          "state": {
            "_model_module": "@jupyter-widgets/controls",
            "_model_module_version": "1.5.0",
            "_model_name": "DescriptionStyleModel",
            "_view_count": null,
            "_view_module": "@jupyter-widgets/base",
            "_view_module_version": "1.2.0",
            "_view_name": "StyleView",
            "description_width": ""
          }
        },
        "b90b5e556b824e72887cb2b8ad9dbf11": {
          "model_module": "@jupyter-widgets/base",
          "model_module_version": "1.2.0",
          "model_name": "LayoutModel",
          "state": {
            "_model_module": "@jupyter-widgets/base",
            "_model_module_version": "1.2.0",
            "_model_name": "LayoutModel",
            "_view_count": null,
            "_view_module": "@jupyter-widgets/base",
            "_view_module_version": "1.2.0",
            "_view_name": "LayoutView",
            "align_content": null,
            "align_items": null,
            "align_self": null,
            "border": null,
            "bottom": null,
            "display": null,
            "flex": "2",
            "flex_flow": null,
            "grid_area": null,
            "grid_auto_columns": null,
            "grid_auto_flow": null,
            "grid_auto_rows": null,
            "grid_column": null,
            "grid_gap": null,
            "grid_row": null,
            "grid_template_areas": null,
            "grid_template_columns": null,
            "grid_template_rows": null,
            "height": null,
            "justify_content": null,
            "justify_items": null,
            "left": null,
            "margin": null,
            "max_height": null,
            "max_width": null,
            "min_height": null,
            "min_width": null,
            "object_fit": null,
            "object_position": null,
            "order": null,
            "overflow": null,
            "overflow_x": null,
            "overflow_y": null,
            "padding": null,
            "right": null,
            "top": null,
            "visibility": null,
            "width": null
          }
        },
        "baab120fe07740668b343f942908ff4a": {
          "model_module": "@jupyter-widgets/base",
          "model_module_version": "1.2.0",
          "model_name": "LayoutModel",
          "state": {
            "_model_module": "@jupyter-widgets/base",
            "_model_module_version": "1.2.0",
            "_model_name": "LayoutModel",
            "_view_count": null,
            "_view_module": "@jupyter-widgets/base",
            "_view_module_version": "1.2.0",
            "_view_name": "LayoutView",
            "align_content": null,
            "align_items": null,
            "align_self": null,
            "border": null,
            "bottom": null,
            "display": null,
            "flex": null,
            "flex_flow": null,
            "grid_area": null,
            "grid_auto_columns": null,
            "grid_auto_flow": null,
            "grid_auto_rows": null,
            "grid_column": null,
            "grid_gap": null,
            "grid_row": null,
            "grid_template_areas": null,
            "grid_template_columns": null,
            "grid_template_rows": null,
            "height": null,
            "justify_content": null,
            "justify_items": null,
            "left": null,
            "margin": null,
            "max_height": null,
            "max_width": null,
            "min_height": null,
            "min_width": null,
            "object_fit": null,
            "object_position": null,
            "order": null,
            "overflow": null,
            "overflow_x": null,
            "overflow_y": null,
            "padding": null,
            "right": null,
            "top": null,
            "visibility": null,
            "width": null
          }
        },
        "c2be2270ec0f4e4ab2958c738b9c16f3": {
          "model_module": "@jupyter-widgets/controls",
          "model_module_version": "1.5.0",
          "model_name": "DescriptionStyleModel",
          "state": {
            "_model_module": "@jupyter-widgets/controls",
            "_model_module_version": "1.5.0",
            "_model_name": "DescriptionStyleModel",
            "_view_count": null,
            "_view_module": "@jupyter-widgets/base",
            "_view_module_version": "1.2.0",
            "_view_name": "StyleView",
            "description_width": ""
          }
        },
        "c45e8985b3f244ec8d128eda4b259094": {
          "model_module": "@jupyter-widgets/base",
          "model_module_version": "1.2.0",
          "model_name": "LayoutModel",
          "state": {
            "_model_module": "@jupyter-widgets/base",
            "_model_module_version": "1.2.0",
            "_model_name": "LayoutModel",
            "_view_count": null,
            "_view_module": "@jupyter-widgets/base",
            "_view_module_version": "1.2.0",
            "_view_name": "LayoutView",
            "align_content": null,
            "align_items": null,
            "align_self": null,
            "border": null,
            "bottom": null,
            "display": null,
            "flex": null,
            "flex_flow": null,
            "grid_area": null,
            "grid_auto_columns": null,
            "grid_auto_flow": null,
            "grid_auto_rows": null,
            "grid_column": null,
            "grid_gap": null,
            "grid_row": null,
            "grid_template_areas": null,
            "grid_template_columns": null,
            "grid_template_rows": null,
            "height": null,
            "justify_content": null,
            "justify_items": null,
            "left": null,
            "margin": null,
            "max_height": null,
            "max_width": null,
            "min_height": null,
            "min_width": null,
            "object_fit": null,
            "object_position": null,
            "order": null,
            "overflow": null,
            "overflow_x": null,
            "overflow_y": null,
            "padding": null,
            "right": null,
            "top": null,
            "visibility": null,
            "width": null
          }
        },
        "ce96598a45404f5abd5fb14a9a16a1fe": {
          "model_module": "@jupyter-widgets/controls",
          "model_module_version": "1.5.0",
          "model_name": "ProgressStyleModel",
          "state": {
            "_model_module": "@jupyter-widgets/controls",
            "_model_module_version": "1.5.0",
            "_model_name": "ProgressStyleModel",
            "_view_count": null,
            "_view_module": "@jupyter-widgets/base",
            "_view_module_version": "1.2.0",
            "_view_name": "StyleView",
            "bar_color": null,
            "description_width": ""
          }
        },
        "cef72d309ec74d29b55483199593d633": {
          "model_module": "@jupyter-widgets/base",
          "model_module_version": "1.2.0",
          "model_name": "LayoutModel",
          "state": {
            "_model_module": "@jupyter-widgets/base",
            "_model_module_version": "1.2.0",
            "_model_name": "LayoutModel",
            "_view_count": null,
            "_view_module": "@jupyter-widgets/base",
            "_view_module_version": "1.2.0",
            "_view_name": "LayoutView",
            "align_content": null,
            "align_items": null,
            "align_self": null,
            "border": null,
            "bottom": null,
            "display": null,
            "flex": "2",
            "flex_flow": null,
            "grid_area": null,
            "grid_auto_columns": null,
            "grid_auto_flow": null,
            "grid_auto_rows": null,
            "grid_column": null,
            "grid_gap": null,
            "grid_row": null,
            "grid_template_areas": null,
            "grid_template_columns": null,
            "grid_template_rows": null,
            "height": null,
            "justify_content": null,
            "justify_items": null,
            "left": null,
            "margin": null,
            "max_height": null,
            "max_width": null,
            "min_height": null,
            "min_width": null,
            "object_fit": null,
            "object_position": null,
            "order": null,
            "overflow": null,
            "overflow_x": null,
            "overflow_y": null,
            "padding": null,
            "right": null,
            "top": null,
            "visibility": null,
            "width": null
          }
        },
        "dcebf37542ea40ca922fa51f6778852f": {
          "model_module": "@jupyter-widgets/controls",
          "model_module_version": "1.5.0",
          "model_name": "DescriptionStyleModel",
          "state": {
            "_model_module": "@jupyter-widgets/controls",
            "_model_module_version": "1.5.0",
            "_model_name": "DescriptionStyleModel",
            "_view_count": null,
            "_view_module": "@jupyter-widgets/base",
            "_view_module_version": "1.2.0",
            "_view_name": "StyleView",
            "description_width": ""
          }
        },
        "e149022d068a44e38d786dd331d873f6": {
          "model_module": "@jupyter-widgets/controls",
          "model_module_version": "1.5.0",
          "model_name": "HTMLModel",
          "state": {
            "_dom_classes": [],
            "_model_module": "@jupyter-widgets/controls",
            "_model_module_version": "1.5.0",
            "_model_name": "HTMLModel",
            "_view_count": null,
            "_view_module": "@jupyter-widgets/controls",
            "_view_module_version": "1.5.0",
            "_view_name": "HTMLView",
            "description": "",
            "description_tooltip": null,
            "layout": "IPY_MODEL_08af5b735862478584bdfc46da061c8a",
            "placeholder": "​",
            "style": "IPY_MODEL_881f2877805d4fbe982bfede6a64894d",
            "value": "Epoch 3:   0%"
          }
        },
        "e30d8b2329f94aca9368a6d61960cc97": {
          "model_module": "@jupyter-widgets/controls",
          "model_module_version": "1.5.0",
          "model_name": "DescriptionStyleModel",
          "state": {
            "_model_module": "@jupyter-widgets/controls",
            "_model_module_version": "1.5.0",
            "_model_name": "DescriptionStyleModel",
            "_view_count": null,
            "_view_module": "@jupyter-widgets/base",
            "_view_module_version": "1.2.0",
            "_view_name": "StyleView",
            "description_width": ""
          }
        },
        "e5c65188a332462291088786cda4e68a": {
          "model_module": "@jupyter-widgets/base",
          "model_module_version": "1.2.0",
          "model_name": "LayoutModel",
          "state": {
            "_model_module": "@jupyter-widgets/base",
            "_model_module_version": "1.2.0",
            "_model_name": "LayoutModel",
            "_view_count": null,
            "_view_module": "@jupyter-widgets/base",
            "_view_module_version": "1.2.0",
            "_view_name": "LayoutView",
            "align_content": null,
            "align_items": null,
            "align_self": null,
            "border": null,
            "bottom": null,
            "display": null,
            "flex": null,
            "flex_flow": null,
            "grid_area": null,
            "grid_auto_columns": null,
            "grid_auto_flow": null,
            "grid_auto_rows": null,
            "grid_column": null,
            "grid_gap": null,
            "grid_row": null,
            "grid_template_areas": null,
            "grid_template_columns": null,
            "grid_template_rows": null,
            "height": null,
            "justify_content": null,
            "justify_items": null,
            "left": null,
            "margin": null,
            "max_height": null,
            "max_width": null,
            "min_height": null,
            "min_width": null,
            "object_fit": null,
            "object_position": null,
            "order": null,
            "overflow": null,
            "overflow_x": null,
            "overflow_y": null,
            "padding": null,
            "right": null,
            "top": null,
            "visibility": null,
            "width": null
          }
        },
        "e5fbc2f6a7534cc88c964391ab60443d": {
          "model_module": "@jupyter-widgets/base",
          "model_module_version": "1.2.0",
          "model_name": "LayoutModel",
          "state": {
            "_model_module": "@jupyter-widgets/base",
            "_model_module_version": "1.2.0",
            "_model_name": "LayoutModel",
            "_view_count": null,
            "_view_module": "@jupyter-widgets/base",
            "_view_module_version": "1.2.0",
            "_view_name": "LayoutView",
            "align_content": null,
            "align_items": null,
            "align_self": null,
            "border": null,
            "bottom": null,
            "display": "inline-flex",
            "flex": null,
            "flex_flow": "row wrap",
            "grid_area": null,
            "grid_auto_columns": null,
            "grid_auto_flow": null,
            "grid_auto_rows": null,
            "grid_column": null,
            "grid_gap": null,
            "grid_row": null,
            "grid_template_areas": null,
            "grid_template_columns": null,
            "grid_template_rows": null,
            "height": null,
            "justify_content": null,
            "justify_items": null,
            "left": null,
            "margin": null,
            "max_height": null,
            "max_width": null,
            "min_height": null,
            "min_width": null,
            "object_fit": null,
            "object_position": null,
            "order": null,
            "overflow": null,
            "overflow_x": null,
            "overflow_y": null,
            "padding": null,
            "right": null,
            "top": null,
            "visibility": "hidden",
            "width": "100%"
          }
        },
        "e80449c034c346719c0c021ebf548ff0": {
          "model_module": "@jupyter-widgets/controls",
          "model_module_version": "1.5.0",
          "model_name": "HBoxModel",
          "state": {
            "_dom_classes": [],
            "_model_module": "@jupyter-widgets/controls",
            "_model_module_version": "1.5.0",
            "_model_name": "HBoxModel",
            "_view_count": null,
            "_view_module": "@jupyter-widgets/controls",
            "_view_module_version": "1.5.0",
            "_view_name": "HBoxView",
            "box_style": "",
            "children": [
              "IPY_MODEL_22a0395721dc41f985102a5ba87ec7d1",
              "IPY_MODEL_3937c2fc22bf4b9fa79aec68bee7a0a2",
              "IPY_MODEL_9b42b066a04f49f8b36a914e5041c5d4"
            ],
            "layout": "IPY_MODEL_e5fbc2f6a7534cc88c964391ab60443d"
          }
        },
        "f296f47663fd432db541e65534de707a": {
          "model_module": "@jupyter-widgets/controls",
          "model_module_version": "1.5.0",
          "model_name": "HBoxModel",
          "state": {
            "_dom_classes": [],
            "_model_module": "@jupyter-widgets/controls",
            "_model_module_version": "1.5.0",
            "_model_name": "HBoxModel",
            "_view_count": null,
            "_view_module": "@jupyter-widgets/controls",
            "_view_module_version": "1.5.0",
            "_view_name": "HBoxView",
            "box_style": "",
            "children": [
              "IPY_MODEL_0e93cc581d0c4b4bb6c185dee1c764cc",
              "IPY_MODEL_a1d13bf9752d4d7589630454f3d60fd8",
              "IPY_MODEL_0acc1059612d4bf891bde9362bb46f3d"
            ],
            "layout": "IPY_MODEL_327d88e77e3d451c9b325c36b4b9ded6"
          }
        },
        "f45d902db0114b0f8c4b9586393428c4": {
          "model_module": "@jupyter-widgets/controls",
          "model_module_version": "1.5.0",
          "model_name": "DescriptionStyleModel",
          "state": {
            "_model_module": "@jupyter-widgets/controls",
            "_model_module_version": "1.5.0",
            "_model_name": "DescriptionStyleModel",
            "_view_count": null,
            "_view_module": "@jupyter-widgets/base",
            "_view_module_version": "1.2.0",
            "_view_name": "StyleView",
            "description_width": ""
          }
        },
        "fdf20b6b67994cf88f31e1b71dd6097c": {
          "model_module": "@jupyter-widgets/controls",
          "model_module_version": "1.5.0",
          "model_name": "DescriptionStyleModel",
          "state": {
            "_model_module": "@jupyter-widgets/controls",
            "_model_module_version": "1.5.0",
            "_model_name": "DescriptionStyleModel",
            "_view_count": null,
            "_view_module": "@jupyter-widgets/base",
            "_view_module_version": "1.2.0",
            "_view_name": "StyleView",
            "description_width": ""
          }
        },
        "ff76087f03ee4bc585bd78f04f64f3b7": {
          "model_module": "@jupyter-widgets/controls",
          "model_module_version": "1.5.0",
          "model_name": "HTMLModel",
          "state": {
            "_dom_classes": [],
            "_model_module": "@jupyter-widgets/controls",
            "_model_module_version": "1.5.0",
            "_model_name": "HTMLModel",
            "_view_count": null,
            "_view_module": "@jupyter-widgets/controls",
            "_view_module_version": "1.5.0",
            "_view_name": "HTMLView",
            "description": "",
            "description_tooltip": null,
            "layout": "IPY_MODEL_08bfaca823014a3e853b6cebbd96ee63",
            "placeholder": "​",
            "style": "IPY_MODEL_fdf20b6b67994cf88f31e1b71dd6097c",
            "value": "Validation DataLoader 0: 100%"
          }
        }
      }
    }
  },
  "nbformat": 4,
  "nbformat_minor": 0
}
